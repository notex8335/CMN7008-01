{
 "cells": [
  {
   "cell_type": "markdown",
   "id": "7f2fa08d",
   "metadata": {},
   "source": [
    "# Kaggle Project"
   ]
  },
  {
   "cell_type": "markdown",
   "id": "0dac58b6",
   "metadata": {},
   "source": [
    "## Describe Your Dataset"
   ]
  },
  {
   "cell_type": "markdown",
   "id": "57dbf23c",
   "metadata": {},
   "source": [
    "#### URL: https://www.kaggle.com/datasets/utkarshsaxenadn/car-vs-bike-classification-dataset?resource=download"
   ]
  },
  {
   "cell_type": "markdown",
   "id": "8c23f283",
   "metadata": {},
   "source": [
    "#### Task: binary classification\n",
    "##### why do you do this?\n",
    "- This data set is a collection of 2,000 Bike and Car images. While collecting these images, It was made sure that all types of bikes and cars are included in the image collection. This is because of the high Intra-variety of cars and bikes. That is, there are different types of cars and bikes, which make it a little tough task for the model because the model will also have to understand the high variety of bikes and cars. But if your model is able to understand the basic structure of a car and a bike, it will be able to distinguish between both classes.<br/>\n",
    "\n",
    "##### what are you working on?\n",
    "- We are trying to solve the **binary classification problem** of cars and bikes.\n",
    "\n",
    "#### Datasets\n",
    "- There are a total of 4000 images including car and bike images. The learning proceeds by dividing it into 6:2:2 in order of train, validation, and test. From a total of 4000 images, the train dataset consists of 2400, validation dataset 800, and test dataset 800, respectively. When dividing images into train validation tests, they are randomly selected and divided.<br/>\n",
    "\n",
    "\n",
    "- Train dataset: **2400** images of cars and bikes\n",
    "- Validation dataset: **800** images of cars and bikes\n",
    "- Test dataset: **800** images of cars and bikes\n",
    "\n",
    "#### Features(x):\n",
    "- All car and bike images are in unprocessed state. So the images are of different sizes. For model learning, each image is resized and changed to a size of 224,224 before learning.<br/>\n",
    "\n",
    "\n",
    "- feature (x) size: **(224(height),224(width))**\n",
    "- feature (x) data type: torch.tensor\n",
    "- batch size: **512**\n",
    "- model input size: **(512(batch),3(channel),224(height),224(width))**\n",
    "- model output size: **(512(batch),2(num_classes)**\n",
    "\n",
    "#### Target(y):\n",
    "- This problem is binary classification. So, label the car as 0 and the bike as 1, and proceed with learning.\n",
    "- bike: 0 \n",
    "- car: 1\n",
    "- target y data type: torch.tensor\n",
    "- batch size: **512**\n",
    "- label size: **(512(batch),1(label))**\n",
    "---"
   ]
  },
  {
   "cell_type": "markdown",
   "id": "db9dfc6d",
   "metadata": {},
   "source": [
    "## Build Your Model"
   ]
  },
  {
   "cell_type": "markdown",
   "id": "d2871a11",
   "metadata": {},
   "source": [
    "### Data preprocessing"
   ]
  },
  {
   "cell_type": "markdown",
   "id": "4761aa65",
   "metadata": {},
   "source": [
    "- Car & Bike image들이 2개의 폴더에 나뉘어 저장되어 있음. 1개의 폴더로 합칠 필요가 있음.\n",
    "- Car & Bike image들의 확장자명이 다양하고 filename도 동일하게 되어 있음.\n",
    "- image들의 확장자명을 jpeg 동일하게 만들고 filename은 규칙을 만들어서 생성.<br/>\n",
    "\n",
    "---\n",
    "- 이전 결과\n",
    "<img src=\"./describe_images/car_sample_1.jpeg\" width=\"400px\" height=\"500px\" title=\"car_sample\"/>\n",
    "---\n",
    "- 이후 결과\n",
    "<img src=\"./describe_images/car_sample_2.jpeg\" width=\"400px\" height=\"500px\" title=\"car_sample\"/>\n",
    "---"
   ]
  },
  {
   "cell_type": "code",
   "execution_count": null,
   "id": "359fd146",
   "metadata": {},
   "outputs": [],
   "source": [
    "import os\n",
    "import shutil\n",
    "# Car & Bike image들이 2개의 폴더에 나뉘어 저장되어 있음. 1개의 폴더로 합치기\n",
    "# Bike image들의 확장자명들이 다양, 그 이유로 인해 확장자명을 jpeg로 통일\n",
    "before_dir = \"./Car-Bike-Dataset/Bike/\"\n",
    "Bike_name_list = os.listdir(before_dir)\n",
    "after_dir = \"./Car-Bike-Dataset/Car_and_Bike_jpeg/\"\n",
    "\n",
    "for index, filename in enumerate(Bike_name_list):\n",
    "    before_dir_filename = before_dir + filename\n",
    "    after_dir_filename = after_dir + \"Bike_\" + str(index) + \".jpeg\"\n",
    "    shutil.copyfile(before_dir_filename, after_dir_filename)\n",
    "    \n",
    "# Car image들의 확장자명들이 다양, 그 이유로 인해 확장자명을 jpeg로 통일\n",
    "before_dir = \"./Car-Bike-Dataset/Car/\"\n",
    "Bike_name_list = os.listdir(before_dir)\n",
    "after_dir = \"./Car-Bike-Dataset/Car_and_Bike_jpeg/\"\n",
    "\n",
    "for index, filename in enumerate(Bike_name_list):\n",
    "    before_dir_filename = before_dir + filename\n",
    "    after_dir_filename = after_dir + \"Car_\" + str(index) + \".jpeg\"\n",
    "    shutil.copyfile(before_dir_filename, after_dir_filename)"
   ]
  },
  {
   "cell_type": "markdown",
   "id": "7ca31f30",
   "metadata": {},
   "source": [
    "### annotation file configuration (train, validation, test)\n",
    "- dataset class를 정의하고 dataloader object를 생성하기 위해서는 annotation file이 필요함\n",
    "- annotation file은 csv file로 되어 있음. (all.csv, train.csv, validation.csv, test.csv)\n",
    "    - all.csv - 4000개 annotation\n",
    "    - train.csv - 2400개 annotation\n",
    "    - validation.csv - 800개 annotation\n",
    "    - test.csv - 800개 annotation\n",
    "    - 각각 구성되어 있음\n",
    "- 각 column은 [\"image_filename\", \"vehicle_type\", \"vehicle_label\"]로 구성되어 있음.<br/>\n",
    "\n",
    "### why make an annotation file?\n",
    "- dataset class에서 index를 통해서 annotation file에서 image filename, vehicle_label을 가져옴.\n",
    "- image filename을 기준으로 image를 읽어드린 후 tensor로 변환. 그리고 모델의 x (input)으로 사용\n",
    "- vehicle_label을 사용하여 model의 y (label) 으로 사용."
   ]
  },
  {
   "cell_type": "code",
   "execution_count": null,
   "id": "485419fc",
   "metadata": {},
   "outputs": [],
   "source": [
    "import pandas as pd\n",
    "# 학습을 진행하기 위해서 참고할만한 annotation file이 있어야 하기 때문에 annotation file 생성\n",
    "filenames = os.listdir(\"./Car-Bike-Dataset/Car_and_Bike_jpeg/\")\n",
    "annotation_df = pd.DataFrame(columns=[\"image_filename\",\"vehicle_type\",\"vehicle_label\"])\n",
    "for index, filename in enumerate(filenames):\n",
    "    if filename[0] == \"B\":\n",
    "        vehicle_type = \"Bike\"\n",
    "        vehicle_label = 0\n",
    "    elif filename[0] == \"C\":\n",
    "        vehicle_type = \"Car\"\n",
    "        vehicle_label = 1\n",
    "    tmp_df = pd.DataFrame(\n",
    "        index=[index],\n",
    "        data=[[filename,vehicle_type,vehicle_label]], \n",
    "        columns=[\"image_filename\",\"vehicle_type\",\"vehicle_label\"]\n",
    "    )\n",
    "    annotation_df = pd.concat([annotation_df,tmp_df])\n",
    "\n",
    "annotation_df = annotation_df.sample(frac=1)\n",
    "annotation_df = annotation_df.reset_index(drop=True)\n",
    "print(annotation_df)\n",
    "annotation_df.to_csv(\"./annotation_file/all.csv\", index=False)\n",
    "\n",
    "print(\"=\"*45)\n",
    "print('\\033[92m' + '\\033[1m' + \"4000개의 Car & Bike annotation all\" + '\\033[0m')\n",
    "print(annotation_df.shape)\n",
    "print(annotation_df[\"vehicle_type\"].value_counts().sort_index())\n",
    "print(\"=\"*45)\n",
    "################################################################################################\n",
    "# train & validation & test annotation split\n",
    "################################################################################################\n",
    "train_df = annotation_df.sample(n=2400)\n",
    "train_df.to_csv(\"./annotation_file/train.csv\", index=False)\n",
    "print('\\033[92m' + '\\033[1m' + \"2400개의 Car & Bike annotation train\" + '\\033[0m')\n",
    "print(train_df.shape)\n",
    "print(train_df[\"vehicle_type\"].value_counts().sort_index())\n",
    "print(\"=\"*45)\n",
    "annotation_df = annotation_df.drop(index=train_df.index)\n",
    "################################################################################################\n",
    "validation_df = annotation_df.sample(n=800)\n",
    "validation_df.to_csv(\"./annotation_file/validation.csv\", index=False)\n",
    "print('\\033[92m' + '\\033[1m' + \"800개의 Car & Bike annotation validation\" + '\\033[0m')\n",
    "print(validation_df.shape)\n",
    "print(validation_df[\"vehicle_type\"].value_counts().sort_index())\n",
    "print(\"=\"*45)\n",
    "annotation_df = annotation_df.drop(index=validation_df.index)\n",
    "################################################################################################\n",
    "test_df = annotation_df\n",
    "test_df.to_csv(\"./annotation_file/test.csv\", index=False)\n",
    "print('\\033[92m' + '\\033[1m' + \"800개의 Car & Bike annotation test\" + '\\033[0m')\n",
    "print(test_df.shape)\n",
    "print(test_df[\"vehicle_type\"].value_counts().sort_index())\n",
    "print(\"=\"*45)\n",
    "################################################################################################"
   ]
  },
  {
   "cell_type": "code",
   "execution_count": 1,
   "id": "e062afc0",
   "metadata": {},
   "outputs": [
    {
     "name": "stdout",
     "output_type": "stream",
     "text": [
      "=============================================\n",
      "\u001b[92m\u001b[1m4000개의 Car & Bike annotation all\u001b[0m\n",
      "(4000, 3)\n",
      "Bike    2000\n",
      "Car     2000\n",
      "Name: vehicle_type, dtype: int64\n",
      "=============================================\n",
      "\u001b[92m\u001b[1m2400개의 Car & Bike annotation train\u001b[0m\n",
      "(2400, 3)\n",
      "Bike    1187\n",
      "Car     1213\n",
      "Name: vehicle_type, dtype: int64\n",
      "=============================================\n",
      "\u001b[92m\u001b[1m800개의 Car & Bike annotation validation\u001b[0m\n",
      "(800, 3)\n",
      "Bike    408\n",
      "Car     392\n",
      "Name: vehicle_type, dtype: int64\n",
      "=============================================\n",
      "\u001b[92m\u001b[1m800개의 Car & Bike annotation test\u001b[0m\n",
      "(800, 3)\n",
      "Bike    405\n",
      "Car     395\n",
      "Name: vehicle_type, dtype: int64\n",
      "=============================================\n"
     ]
    }
   ],
   "source": [
    "import pandas as pd\n",
    "annotation_df = pd.read_csv(\"./annotation_file/all.csv\")\n",
    "train_df = pd.read_csv(\"./annotation_file/train.csv\")\n",
    "validation_df = pd.read_csv(\"./annotation_file/validation.csv\")\n",
    "test_df = pd.read_csv(\"./annotation_file/test.csv\")\n",
    "\n",
    "print(\"=\"*45)\n",
    "print('\\033[92m' + '\\033[1m' + \"4000개의 Car & Bike annotation all\" + '\\033[0m')\n",
    "print(annotation_df.shape)\n",
    "print(annotation_df[\"vehicle_type\"].value_counts().sort_index())\n",
    "print(\"=\"*45)\n",
    "################################################################################################\n",
    "# train & validation & test annotation split\n",
    "################################################################################################\n",
    "print('\\033[92m' + '\\033[1m' + \"2400개의 Car & Bike annotation train\" + '\\033[0m')\n",
    "print(train_df.shape)\n",
    "print(train_df[\"vehicle_type\"].value_counts().sort_index())\n",
    "print(\"=\"*45)\n",
    "################################################################################################\n",
    "print('\\033[92m' + '\\033[1m' + \"800개의 Car & Bike annotation validation\" + '\\033[0m')\n",
    "print(validation_df.shape)\n",
    "print(validation_df[\"vehicle_type\"].value_counts().sort_index())\n",
    "print(\"=\"*45)\n",
    "################################################################################################\n",
    "print('\\033[92m' + '\\033[1m' + \"800개의 Car & Bike annotation test\" + '\\033[0m')\n",
    "print(test_df.shape)\n",
    "print(test_df[\"vehicle_type\"].value_counts().sort_index())\n",
    "print(\"=\"*45)\n",
    "################################################################################################"
   ]
  },
  {
   "cell_type": "markdown",
   "id": "f3251c62",
   "metadata": {},
   "source": [
    "### Define Dataset class\n",
    "- 위에서 설명했던 바와 같이 dataset class를 정의.\n",
    "\n",
    "### annotation type\n",
    "- train, validation, test 중에서 하나를 선택하여 dataset class object를 생성할 수 있음.\n",
    "- 3가지 option 중 하나를 선택하여 dataset class object를 생성하면 option에 맞는 annotation file을 선택.\n",
    "\n",
    "### data augmentation - torchvision.transforms.AutoAugment()\n",
    "- torchvision.transforms package에는 ImageNet에서 자주 사용된 data augmentation을 자동으로 적용하여 x(input) 데이터를 생성해주는 package가 있음.\n",
    "- data가 많지 않는 상황에서 model의 일반화 성능을 올리기 위해서는 필요한 작업이라고 생각이 들어 augmenation 진행.\n",
    "- train 할 때는 data augmentation을 진행하지만 validation, test 할 때는 data augmentation을 진행하지 않음.\n",
    "\n",
    "### torchvision.transforms.Resize() & Normalize()\n",
    "- train, validation, test를 진행할 때 모델의 input size를 맞추어 주어야 함.\n",
    "- ImageNet에서 자주 사용되는 모델들의 input size가 224,224 또는 227,227 이라는 사실을 이번에 공부함.\n",
    "- 본 과제의 목적도 사물(자동차 vs 바이크) 분류 문제이기 때문에 ImageNet task의 자주 사용되는 resize와 normalize를 참고하여 제작."
   ]
  },
  {
   "cell_type": "code",
   "execution_count": 2,
   "id": "b74c976a",
   "metadata": {},
   "outputs": [],
   "source": [
    "import pandas as pd\n",
    "from torch.utils.data import Dataset\n",
    "from torchvision.io import read_image, ImageReadMode\n",
    "from torchvision import transforms\n",
    "\n",
    "class Car_vs_Bike_Classification_Dataset(Dataset):\n",
    "    def __init__(\n",
    "        self,\n",
    "        annotation_type: str, # (\"all\", \"train\", \"validation\", \"test\") 중에서 선택\n",
    "        autoaugment: bool # (\"True\", \"False\") 중에서 선택\n",
    "    ):\n",
    "        if annotation_type == \"all\":\n",
    "            self.annotation_df = pd.read_csv(\"./annotation_file/all.csv\")\n",
    "        elif annotation_type == \"train\":\n",
    "            self.annotation_df = pd.read_csv(\"./annotation_file/train.csv\")\n",
    "        elif annotation_type == \"validation\":\n",
    "            self.annotation_df = pd.read_csv(\"./annotation_file/validation.csv\")\n",
    "        elif annotation_type == \"test\":\n",
    "            self.annotation_df = pd.read_csv(\"./annotation_file/test.csv\")\n",
    "        self.image_dir = \"./Car-Bike-Dataset/Car_and_Bike_jpeg/\"\n",
    "        \n",
    "        if autoaugment == True:\n",
    "            self.autoaugment = transforms.AutoAugment()\n",
    "        elif autoaugment == False:\n",
    "            self.autoaugment = None\n",
    "            \n",
    "        self.transform = self.transform = transforms.Compose([\n",
    "            transforms.Resize(size=(224,224), antialias=True),\n",
    "            transforms.Normalize(mean=[0.485, 0.456, 0.406], std=[0.229, 0.224, 0.225])\n",
    "        ])\n",
    "        \n",
    "    def __len__(self):\n",
    "        return self.annotation_df.shape[0]\n",
    "\n",
    "    def __getitem__(self, idx):\n",
    "        item = self.annotation_df.loc[idx]\n",
    "        x = read_image(path=self.image_dir + item[\"image_filename\"], mode=ImageReadMode.RGB)\n",
    "        if self.autoaugment != None:\n",
    "            x = self.autoaugment(x.type(torch.uint8)).float()\n",
    "        x = self.transform(x.float())\n",
    "        y = torch.tensor(item[\"vehicle_label\"])\n",
    "        return x,y\n",
    "    \n",
    "train_dataset = Car_vs_Bike_Classification_Dataset(annotation_type = \"train\", autoaugment=True)\n",
    "validation_dataset = Car_vs_Bike_Classification_Dataset(annotation_type = \"validation\", autoaugment=False)\n",
    "test_dataset = Car_vs_Bike_Classification_Dataset(annotation_type = \"test\", autoaugment=False)"
   ]
  },
  {
   "cell_type": "markdown",
   "id": "898cbc83",
   "metadata": {},
   "source": [
    "### dataloader class object\n",
    "- batch size는 현재 사용 중인 RTX3060 그래픽 카드의 메모리 사이즈를 가득 채울만큼 크게 잡음.\n",
    "- batch size는 크면 클수록 성능이 좋아지는 경우도 있다고 함. 아닌 경우도 있음.\n",
    "- shuffle = True로 설정. 이유는 모델의 일반화 성능이 좋아지는 경향이 있다고 함.\n",
    "- drop_last = False로 설정. batch size로 전체 데이터를 나누면 나머지가 생기는 데 나머지를 drop 할지 아니면 그대로 진행할지를 결정."
   ]
  },
  {
   "cell_type": "code",
   "execution_count": 3,
   "id": "81b13f74",
   "metadata": {},
   "outputs": [],
   "source": [
    "from torch.utils.data import DataLoader\n",
    "\n",
    "batch_size = 512\n",
    "shuffle = True\n",
    "drop_last = False\n",
    "\n",
    "train_dataloader = DataLoader(\n",
    "    dataset = train_dataset,\n",
    "    batch_size = batch_size,\n",
    "    shuffle = shuffle,\n",
    "    drop_last = drop_last\n",
    ")\n",
    "validation_dataloader = DataLoader(\n",
    "    dataset = validation_dataset,\n",
    "    batch_size = batch_size,\n",
    "    shuffle = shuffle,\n",
    "    drop_last = drop_last\n",
    ")\n",
    "test_dataloader = DataLoader(\n",
    "    dataset = test_dataset,\n",
    "    batch_size = batch_size,\n",
    "    shuffle = shuffle,\n",
    "    drop_last = drop_last\n",
    ")"
   ]
  },
  {
   "cell_type": "markdown",
   "id": "a695e295",
   "metadata": {},
   "source": [
    "### Model Construction\n",
    "#### convolution layer construction\n",
    "- conv2d(kernel_size=3, padding=1) -> relu -> batchnorm2d -> maxpool2d(kernel_size=2) 이러한 구성을 하나의 convolution layer로 정의.\n",
    "- 총 5개의 convolution layer가 구성되어 있음.\n",
    "- 각 convolution layer의 output은 다음과 같이 구성됨.\n",
    "    - torch.Size([512(batch), 8(channel), 112(height), 112(width)])\n",
    "    - torch.Size([512, 16, 56, 56])\n",
    "    - torch.Size([512, 32, 28, 28])\n",
    "    - torch.Size([512, 64, 14, 14])\n",
    "    - torch.Size([512, 128, 7, 7])\n",
    "#### fully connected layer construction\n",
    "- fully connected layer에 input으로 사용하기 위해 flatten layer를 통해 펼쳐줌.\n",
    "    - torch.Size([512, 6272])\n",
    "- dropout(p=0.3) -> fc -> batchnorm1d -> relu 이러한 구성을 하나의 fc layer로 정의.\n",
    "- 총 3개의 fc layer가 구성되어 있음.\n",
    "- 각 fc layer의 output은 다음과 같이 구성됨.\n",
    "    - torch.Size([512, 3136])\n",
    "    - torch.Size([512, 1568])\n",
    "    - torch.Size([512, 784])\n",
    "#### fully connected layer construction (last layer)\n",
    "- dropoput(p=0.3) -> fc 마지막 fc layer로 구성.\n",
    "- 마지막 fc layer의 output은 다음과 같이 구성됨.\n",
    "    - torch.Size([512, 2])\n",
    "- car vs bike를 구분하는 문제이기 때문에 마지막 layer output은 2임.\n",
    "- output 중에서 높은 값의 index를 prediction label로 사용.\n",
    "<br/><br/>\n",
    "- 마지막 layer output을 1로 잡고 simoid를 통과한 후 threshold 0.5로 binary 문제를 풀어 보았지만 이유는 모르겠지만 학습이 안되는 현상 확인.\n",
    "- 아마도 dataset class 정의한 normalize를 하게 되면 음수의 값 또한 의미가 있는 값이기 때문에 그러지 않을까라는 생각을 해봄.\n",
    "\n",
    "#### How many models analyzed?\n",
    "- fc layer로만 구성된 모델을 사용해도 의미는 없는 듯하여 이번 과제는 convolution + fc layer로 구성된 모델만 사용."
   ]
  },
  {
   "cell_type": "code",
   "execution_count": 4,
   "id": "60cdc676",
   "metadata": {},
   "outputs": [],
   "source": [
    "import torch\n",
    "import torch.nn as nn\n",
    "\n",
    "class Convolution_Neural_Network_Model(nn.Module):\n",
    "    def __init__(self):\n",
    "        super(Convolution_Neural_Network_Model, self).__init__()\n",
    "        self.conv1 = nn.Conv2d(in_channels=3, out_channels=8, kernel_size=3, padding=1)\n",
    "        self.batchnorm2d_1 = nn.BatchNorm2d(8)\n",
    "        \n",
    "        self.conv2 = nn.Conv2d(in_channels=8, out_channels=16, kernel_size=3, padding=1)\n",
    "        self.batchnorm2d_2 = nn.BatchNorm2d(16)\n",
    "        \n",
    "        self.conv3 = nn.Conv2d(in_channels=16, out_channels=32, kernel_size=3, padding=1)\n",
    "        self.batchnorm2d_3 = nn.BatchNorm2d(32)\n",
    "        \n",
    "        self.conv4 = nn.Conv2d(in_channels=32, out_channels=64, kernel_size=3, padding=1)\n",
    "        self.batchnorm2d_4 = nn.BatchNorm2d(64)\n",
    "        \n",
    "        self.conv5 = nn.Conv2d(in_channels=64, out_channels=128, kernel_size=3, padding=1)\n",
    "        self.batchnorm2d_5 = nn.BatchNorm2d(128)\n",
    "        \n",
    "        self.relu = nn.ReLU()\n",
    "        self.max_pooling = nn.MaxPool2d(kernel_size=2)\n",
    "        \n",
    "        self.flatten = nn.Flatten()\n",
    "        \n",
    "        self.dropout = nn.Dropout(0.3)\n",
    "        self.fc1 = nn.Linear(6272, 3136)\n",
    "        self.batchnorm1d_1 = nn.BatchNorm1d(3136)\n",
    "        self.fc2 = nn.Linear(3136, 1568)\n",
    "        self.batchnorm1d_2 = nn.BatchNorm1d(1568)\n",
    "        self.fc3 = nn.Linear(1568, 784)\n",
    "        self.batchnorm1d_3 = nn.BatchNorm1d(784)\n",
    "        self.fc4 = nn.Linear(784, 2)\n",
    "        \n",
    "    def forward(self, x):\n",
    "        x = self.conv1(x)\n",
    "        x = self.batchnorm2d_1(x)\n",
    "        x = self.relu(x)\n",
    "        x = self.max_pooling(x)\n",
    "        # print(x.shape)\n",
    "        \n",
    "        x = self.conv2(x)\n",
    "        x = self.batchnorm2d_2(x)\n",
    "        x = self.relu(x)\n",
    "        x = self.max_pooling(x)\n",
    "        # print(x.shape)\n",
    "        \n",
    "        x = self.conv3(x)\n",
    "        x = self.batchnorm2d_3(x)\n",
    "        x = self.relu(x)\n",
    "        x = self.max_pooling(x)\n",
    "        # print(x.shape)\n",
    "        \n",
    "        x = self.conv4(x)\n",
    "        x = self.batchnorm2d_4(x)\n",
    "        x = self.relu(x)\n",
    "        x = self.max_pooling(x)\n",
    "        # print(x.shape)\n",
    "        \n",
    "        x = self.conv5(x)\n",
    "        x = self.batchnorm2d_5(x)\n",
    "        x = self.relu(x)\n",
    "        x = self.max_pooling(x)\n",
    "        # print(x.shape)\n",
    "        \n",
    "        x = self.flatten(x)\n",
    "        # print(x.shape)\n",
    "        \n",
    "        x = self.dropout(x)\n",
    "        x = self.fc1(x)\n",
    "        x = self.batchnorm1d_1(x)\n",
    "        x = self.relu(x)\n",
    "        # print(x.shape)\n",
    "        \n",
    "        x = self.dropout(x)\n",
    "        x = self.fc2(x)\n",
    "        x = self.batchnorm1d_2(x)\n",
    "        x = self.relu(x)\n",
    "        # print(x.shape)\n",
    "        \n",
    "        x = self.dropout(x)\n",
    "        x = self.fc3(x)\n",
    "        x = self.batchnorm1d_3(x)\n",
    "        # print(x.shape)\n",
    "        \n",
    "        x = self.dropout(x)\n",
    "        x = self.fc4(x)\n",
    "        # print(x.shape)\n",
    "        \n",
    "        x = x.squeeze().float()\n",
    "        return x"
   ]
  },
  {
   "cell_type": "markdown",
   "id": "598d2a5b",
   "metadata": {},
   "source": [
    "### check cuda\n",
    "- 학습을 진행하기 전 cuda 사용 가능 여부 확인"
   ]
  },
  {
   "cell_type": "code",
   "execution_count": 5,
   "id": "17a16ae7",
   "metadata": {},
   "outputs": [
    {
     "data": {
      "text/plain": [
       "(True, 'NVIDIA GeForce RTX 3060', 1)"
      ]
     },
     "execution_count": 5,
     "metadata": {},
     "output_type": "execute_result"
    }
   ],
   "source": [
    "import torch\n",
    "# torch cuda 사용 가능 여부 확인, gpu name 확인, 사용가능 gpu 개수 확인\n",
    "torch.cuda.is_available(), torch.cuda.get_device_name(), torch.cuda.device_count()"
   ]
  },
  {
   "cell_type": "markdown",
   "id": "74cebc73",
   "metadata": {},
   "source": [
    "### Train Model & Select Model\n",
    "- loss function으로 cross entropy loss 사용.\n",
    "- optimizer는 ImageNet task에 사용된 모델의 학습 code들을 참고해보니 adam을 가장 많이 사용하여 adam optimizer 사용.\n",
    "\n",
    "#### select model\n",
    "- validation accuracy score가 가장 높은 model을 선택하여  test 진행.\n",
    "- scikit learn package를 사용하여 accuracy score 및 log loss 측정."
   ]
  },
  {
   "cell_type": "code",
   "execution_count": 6,
   "id": "e7c8a66c",
   "metadata": {
    "scrolled": true
   },
   "outputs": [
    {
     "name": "stdout",
     "output_type": "stream",
     "text": [
      "==================================================\n",
      "start training! (epoch : 1)\n"
     ]
    },
    {
     "name": "stderr",
     "output_type": "stream",
     "text": [
      "100%|█████████████████████████████████████████████████████████████████████████████████| 5/5 [00:21<00:00,  4.27s/it]\n"
     ]
    },
    {
     "name": "stdout",
     "output_type": "stream",
     "text": [
      "training (log loss) : 18.952954407110767\n",
      "training (accuracy) : 0.4741666666666667\n",
      "end training! (epoch : 1)\n",
      "==================================================\n",
      "start validation! (epoch : 1)\n"
     ]
    },
    {
     "name": "stderr",
     "output_type": "stream",
     "text": [
      "100%|█████████████████████████████████████████████████████████████████████████████████| 2/2 [00:02<00:00,  1.23s/it]\n"
     ]
    },
    {
     "name": "stdout",
     "output_type": "stream",
     "text": [
      "validation (log loss) : 18.382263228449748\n",
      "validation (accuracy) : 0.49\n",
      "validation best accuracy :  0.49\n",
      "end validation! (epoch : 1)\n",
      "==================================================\n",
      "start training! (epoch : 2)\n"
     ]
    },
    {
     "name": "stderr",
     "output_type": "stream",
     "text": [
      "100%|█████████████████████████████████████████████████████████████████████████████████| 5/5 [00:18<00:00,  3.78s/it]\n"
     ]
    },
    {
     "name": "stdout",
     "output_type": "stream",
     "text": [
      "training (log loss) : 17.736481105228066\n",
      "training (accuracy) : 0.5079166666666667\n",
      "end training! (epoch : 2)\n",
      "==================================================\n",
      "start validation! (epoch : 2)\n"
     ]
    },
    {
     "name": "stderr",
     "output_type": "stream",
     "text": [
      "100%|█████████████████████████████████████████████████████████████████████████████████| 2/2 [00:02<00:00,  1.19s/it]\n"
     ]
    },
    {
     "name": "stdout",
     "output_type": "stream",
     "text": [
      "validation (log loss) : 18.382263228449748\n",
      "validation (accuracy) : 0.49\n",
      "validation best accuracy :  0.49\n",
      "end validation! (epoch : 2)\n",
      "==================================================\n",
      "start training! (epoch : 3)\n"
     ]
    },
    {
     "name": "stderr",
     "output_type": "stream",
     "text": [
      "100%|█████████████████████████████████████████████████████████████████████████████████| 5/5 [00:17<00:00,  3.50s/it]\n"
     ]
    },
    {
     "name": "stdout",
     "output_type": "stream",
     "text": [
      "training (log loss) : 17.961753938910046\n",
      "training (accuracy) : 0.5016666666666667\n",
      "end training! (epoch : 3)\n",
      "==================================================\n",
      "start validation! (epoch : 3)\n"
     ]
    },
    {
     "name": "stderr",
     "output_type": "stream",
     "text": [
      "100%|█████████████████████████████████████████████████████████████████████████████████| 2/2 [00:02<00:00,  1.27s/it]\n"
     ]
    },
    {
     "name": "stdout",
     "output_type": "stream",
     "text": [
      "validation (log loss) : 17.661390160667402\n",
      "validation (accuracy) : 0.51\n",
      "validation best accuracy :  0.51\n",
      "end validation! (epoch : 3)\n",
      "==================================================\n",
      "start training! (epoch : 4)\n"
     ]
    },
    {
     "name": "stderr",
     "output_type": "stream",
     "text": [
      "100%|█████████████████████████████████████████████████████████████████████████████████| 5/5 [00:18<00:00,  3.63s/it]\n"
     ]
    },
    {
     "name": "stdout",
     "output_type": "stream",
     "text": [
      "training (log loss) : 19.05808172949569\n",
      "training (accuracy) : 0.47125\n",
      "end training! (epoch : 4)\n",
      "==================================================\n",
      "start validation! (epoch : 4)\n"
     ]
    },
    {
     "name": "stderr",
     "output_type": "stream",
     "text": [
      "100%|█████████████████████████████████████████████████████████████████████████████████| 2/2 [00:02<00:00,  1.16s/it]\n"
     ]
    },
    {
     "name": "stdout",
     "output_type": "stream",
     "text": [
      "validation (log loss) : 17.661390160667406\n",
      "validation (accuracy) : 0.51\n",
      "validation best accuracy :  0.51\n",
      "end validation! (epoch : 4)\n",
      "==================================================\n",
      "start training! (epoch : 5)\n"
     ]
    },
    {
     "name": "stderr",
     "output_type": "stream",
     "text": [
      "100%|█████████████████████████████████████████████████████████████████████████████████| 5/5 [00:19<00:00,  3.86s/it]\n"
     ]
    },
    {
     "name": "stdout",
     "output_type": "stream",
     "text": [
      "training (log loss) : 18.48739055083467\n",
      "training (accuracy) : 0.4870833333333333\n",
      "end training! (epoch : 5)\n",
      "==================================================\n",
      "start validation! (epoch : 5)\n"
     ]
    },
    {
     "name": "stderr",
     "output_type": "stream",
     "text": [
      "100%|█████████████████████████████████████████████████████████████████████████████████| 2/2 [00:02<00:00,  1.20s/it]\n"
     ]
    },
    {
     "name": "stdout",
     "output_type": "stream",
     "text": [
      "validation (log loss) : 18.156990394767764\n",
      "validation (accuracy) : 0.49625\n",
      "validation best accuracy :  0.51\n",
      "end validation! (epoch : 5)\n",
      "==================================================\n",
      "start training! (epoch : 6)\n"
     ]
    },
    {
     "name": "stderr",
     "output_type": "stream",
     "text": [
      "100%|█████████████████████████████████████████████████████████████████████████████████| 5/5 [00:19<00:00,  3.81s/it]\n"
     ]
    },
    {
     "name": "stdout",
     "output_type": "stream",
     "text": [
      "training (log loss) : 17.646371971755272\n",
      "training (accuracy) : 0.5104166666666666\n",
      "end training! (epoch : 6)\n",
      "==================================================\n",
      "start validation! (epoch : 6)\n"
     ]
    },
    {
     "name": "stderr",
     "output_type": "stream",
     "text": [
      "100%|█████████████████████████████████████████████████████████████████████████████████| 2/2 [00:02<00:00,  1.20s/it]\n"
     ]
    },
    {
     "name": "stdout",
     "output_type": "stream",
     "text": [
      "validation (log loss) : 20.36466416485119\n",
      "validation (accuracy) : 0.435\n",
      "validation best accuracy :  0.51\n",
      "end validation! (epoch : 6)\n",
      "==================================================\n",
      "start training! (epoch : 7)\n"
     ]
    },
    {
     "name": "stderr",
     "output_type": "stream",
     "text": [
      "100%|█████████████████████████████████████████████████████████████████████████████████| 5/5 [00:19<00:00,  3.84s/it]\n"
     ]
    },
    {
     "name": "stdout",
     "output_type": "stream",
     "text": [
      "training (log loss) : 18.232081339328424\n",
      "training (accuracy) : 0.49416666666666664\n",
      "end training! (epoch : 7)\n",
      "==================================================\n",
      "start validation! (epoch : 7)\n"
     ]
    },
    {
     "name": "stderr",
     "output_type": "stream",
     "text": [
      "100%|█████████████████████████████████████████████████████████████████████████████████| 2/2 [00:02<00:00,  1.18s/it]\n"
     ]
    },
    {
     "name": "stdout",
     "output_type": "stream",
     "text": [
      "validation (log loss) : 16.309753158575507\n",
      "validation (accuracy) : 0.5475\n",
      "validation best accuracy :  0.5475\n",
      "end validation! (epoch : 7)\n",
      "==================================================\n",
      "start training! (epoch : 8)\n"
     ]
    },
    {
     "name": "stderr",
     "output_type": "stream",
     "text": [
      "100%|█████████████████████████████████████████████████████████████████████████████████| 5/5 [00:19<00:00,  3.83s/it]\n"
     ]
    },
    {
     "name": "stdout",
     "output_type": "stream",
     "text": [
      "training (log loss) : 18.352226850625485\n",
      "training (accuracy) : 0.49083333333333334\n",
      "end training! (epoch : 8)\n",
      "==================================================\n",
      "start validation! (epoch : 8)\n"
     ]
    },
    {
     "name": "stderr",
     "output_type": "stream",
     "text": [
      "100%|█████████████████████████████████████████████████████████████████████████████████| 2/2 [00:02<00:00,  1.18s/it]\n"
     ]
    },
    {
     "name": "stdout",
     "output_type": "stream",
     "text": [
      "validation (log loss) : 18.607536062131725\n",
      "validation (accuracy) : 0.48375\n",
      "validation best accuracy :  0.5475\n",
      "end validation! (epoch : 8)\n",
      "==================================================\n",
      "start training! (epoch : 9)\n"
     ]
    },
    {
     "name": "stderr",
     "output_type": "stream",
     "text": [
      "100%|█████████████████████████████████████████████████████████████████████████████████| 5/5 [00:18<00:00,  3.73s/it]\n"
     ]
    },
    {
     "name": "stdout",
     "output_type": "stream",
     "text": [
      "training (log loss) : 18.307172283889084\n",
      "training (accuracy) : 0.4920833333333333\n",
      "end training! (epoch : 9)\n",
      "==================================================\n",
      "start validation! (epoch : 9)\n"
     ]
    },
    {
     "name": "stderr",
     "output_type": "stream",
     "text": [
      "100%|█████████████████████████████████████████████████████████████████████████████████| 2/2 [00:02<00:00,  1.22s/it]\n"
     ]
    },
    {
     "name": "stdout",
     "output_type": "stream",
     "text": [
      "validation (log loss) : 18.382263228449748\n",
      "validation (accuracy) : 0.49\n",
      "validation best accuracy :  0.5475\n",
      "end validation! (epoch : 9)\n",
      "==================================================\n",
      "start training! (epoch : 10)\n"
     ]
    },
    {
     "name": "stderr",
     "output_type": "stream",
     "text": [
      "100%|█████████████████████████████████████████████████████████████████████████████████| 5/5 [00:20<00:00,  4.15s/it]\n"
     ]
    },
    {
     "name": "stdout",
     "output_type": "stream",
     "text": [
      "training (log loss) : 17.811572049788726\n",
      "training (accuracy) : 0.5058333333333334\n",
      "end training! (epoch : 10)\n",
      "==================================================\n",
      "start validation! (epoch : 10)\n"
     ]
    },
    {
     "name": "stderr",
     "output_type": "stream",
     "text": [
      "100%|█████████████████████████████████████████████████████████████████████████████████| 2/2 [00:02<00:00,  1.17s/it]\n"
     ]
    },
    {
     "name": "stdout",
     "output_type": "stream",
     "text": [
      "validation (log loss) : 18.06688126129497\n",
      "validation (accuracy) : 0.49875\n",
      "validation best accuracy :  0.5475\n",
      "end validation! (epoch : 10)\n",
      "==================================================\n",
      "start training! (epoch : 11)\n"
     ]
    },
    {
     "name": "stderr",
     "output_type": "stream",
     "text": [
      "100%|█████████████████████████████████████████████████████████████████████████████████| 5/5 [00:19<00:00,  3.99s/it]\n"
     ]
    },
    {
     "name": "stdout",
     "output_type": "stream",
     "text": [
      "training (log loss) : 18.27713590606482\n",
      "training (accuracy) : 0.49291666666666667\n",
      "end training! (epoch : 11)\n",
      "==================================================\n",
      "start validation! (epoch : 11)\n"
     ]
    },
    {
     "name": "stderr",
     "output_type": "stream",
     "text": [
      "100%|█████████████████████████████████████████████████████████████████████████████████| 2/2 [00:02<00:00,  1.21s/it]\n"
     ]
    },
    {
     "name": "stdout",
     "output_type": "stream",
     "text": [
      "validation (log loss) : 18.292154094976954\n",
      "validation (accuracy) : 0.4925\n",
      "validation best accuracy :  0.5475\n",
      "end validation! (epoch : 11)\n",
      "==================================================\n",
      "start training! (epoch : 12)\n"
     ]
    },
    {
     "name": "stderr",
     "output_type": "stream",
     "text": [
      "100%|█████████████████████████████████████████████████████████████████████████████████| 5/5 [00:19<00:00,  3.87s/it]\n"
     ]
    },
    {
     "name": "stdout",
     "output_type": "stream",
     "text": [
      "training (log loss) : 17.300953626776234\n",
      "training (accuracy) : 0.52\n",
      "end training! (epoch : 12)\n",
      "==================================================\n",
      "start validation! (epoch : 12)\n"
     ]
    },
    {
     "name": "stderr",
     "output_type": "stream",
     "text": [
      "100%|█████████████████████████████████████████████████████████████████████████████████| 2/2 [00:02<00:00,  1.21s/it]\n"
     ]
    },
    {
     "name": "stdout",
     "output_type": "stream",
     "text": [
      "validation (log loss) : 18.382263228449748\n",
      "validation (accuracy) : 0.49\n",
      "validation best accuracy :  0.5475\n",
      "end validation! (epoch : 12)\n",
      "==================================================\n",
      "start training! (epoch : 13)\n"
     ]
    },
    {
     "name": "stderr",
     "output_type": "stream",
     "text": [
      "100%|█████████████████████████████████████████████████████████████████████████████████| 5/5 [00:20<00:00,  4.12s/it]\n"
     ]
    },
    {
     "name": "stdout",
     "output_type": "stream",
     "text": [
      "training (log loss) : 18.05186307238284\n",
      "training (accuracy) : 0.49916666666666665\n",
      "end training! (epoch : 13)\n",
      "==================================================\n",
      "start validation! (epoch : 13)\n"
     ]
    },
    {
     "name": "stderr",
     "output_type": "stream",
     "text": [
      "100%|█████████████████████████████████████████████████████████████████████████████████| 2/2 [00:02<00:00,  1.16s/it]\n"
     ]
    },
    {
     "name": "stdout",
     "output_type": "stream",
     "text": [
      "validation (log loss) : 18.33720866171335\n",
      "validation (accuracy) : 0.49125\n",
      "validation best accuracy :  0.5475\n",
      "end validation! (epoch : 13)\n",
      "==================================================\n",
      "start training! (epoch : 14)\n"
     ]
    },
    {
     "name": "stderr",
     "output_type": "stream",
     "text": [
      "100%|█████████████████████████████████████████████████████████████████████████████████| 5/5 [00:20<00:00,  4.18s/it]\n"
     ]
    },
    {
     "name": "stdout",
     "output_type": "stream",
     "text": [
      "training (log loss) : 17.55626283828248\n",
      "training (accuracy) : 0.5129166666666667\n",
      "end training! (epoch : 14)\n",
      "==================================================\n",
      "start validation! (epoch : 14)\n"
     ]
    },
    {
     "name": "stderr",
     "output_type": "stream",
     "text": [
      "100%|█████████████████████████████████████████████████████████████████████████████████| 2/2 [00:02<00:00,  1.24s/it]\n"
     ]
    },
    {
     "name": "stdout",
     "output_type": "stream",
     "text": [
      "validation (log loss) : 17.976772127822176\n",
      "validation (accuracy) : 0.50125\n",
      "validation best accuracy :  0.5475\n",
      "end validation! (epoch : 14)\n",
      "==================================================\n",
      "start training! (epoch : 15)\n"
     ]
    },
    {
     "name": "stderr",
     "output_type": "stream",
     "text": [
      "100%|█████████████████████████████████████████████████████████████████████████████████| 5/5 [00:20<00:00,  4.19s/it]\n"
     ]
    },
    {
     "name": "stdout",
     "output_type": "stream",
     "text": [
      "training (log loss) : 17.886662994349386\n",
      "training (accuracy) : 0.50375\n",
      "end training! (epoch : 15)\n",
      "==================================================\n",
      "start validation! (epoch : 15)\n"
     ]
    },
    {
     "name": "stderr",
     "output_type": "stream",
     "text": [
      "100%|█████████████████████████████████████████████████████████████████████████████████| 2/2 [00:02<00:00,  1.20s/it]\n"
     ]
    },
    {
     "name": "stdout",
     "output_type": "stream",
     "text": [
      "validation (log loss) : 17.43611732698542\n",
      "validation (accuracy) : 0.51625\n",
      "validation best accuracy :  0.5475\n",
      "end validation! (epoch : 15)\n",
      "==================================================\n",
      "start training! (epoch : 16)\n"
     ]
    },
    {
     "name": "stderr",
     "output_type": "stream",
     "text": [
      "100%|█████████████████████████████████████████████████████████████████████████████████| 5/5 [00:18<00:00,  3.61s/it]\n"
     ]
    },
    {
     "name": "stdout",
     "output_type": "stream",
     "text": [
      "training (log loss) : 18.021826694558577\n",
      "training (accuracy) : 0.5\n",
      "end training! (epoch : 16)\n",
      "==================================================\n",
      "start validation! (epoch : 16)\n"
     ]
    },
    {
     "name": "stderr",
     "output_type": "stream",
     "text": [
      "100%|█████████████████████████████████████████████████████████████████████████████████| 2/2 [00:02<00:00,  1.19s/it]\n"
     ]
    },
    {
     "name": "stdout",
     "output_type": "stream",
     "text": [
      "validation (log loss) : 17.796553860876593\n",
      "validation (accuracy) : 0.50625\n",
      "validation best accuracy :  0.5475\n",
      "end validation! (epoch : 16)\n",
      "==================================================\n",
      "start training! (epoch : 17)\n"
     ]
    },
    {
     "name": "stderr",
     "output_type": "stream",
     "text": [
      "100%|█████████████████████████████████████████████████████████████████████████████████| 5/5 [00:17<00:00,  3.52s/it]\n"
     ]
    },
    {
     "name": "stdout",
     "output_type": "stream",
     "text": [
      "training (log loss) : 18.021826694558573\n",
      "training (accuracy) : 0.5\n",
      "end training! (epoch : 17)\n",
      "==================================================\n",
      "start validation! (epoch : 17)\n"
     ]
    },
    {
     "name": "stderr",
     "output_type": "stream",
     "text": [
      "100%|█████████████████████████████████████████████████████████████████████████████████| 2/2 [00:02<00:00,  1.22s/it]\n"
     ]
    },
    {
     "name": "stdout",
     "output_type": "stream",
     "text": [
      "validation (log loss) : 17.661390160667402\n",
      "validation (accuracy) : 0.51\n",
      "validation best accuracy :  0.5475\n",
      "end validation! (epoch : 17)\n",
      "==================================================\n",
      "start training! (epoch : 18)\n"
     ]
    },
    {
     "name": "stderr",
     "output_type": "stream",
     "text": [
      "100%|█████████████████████████████████████████████████████████████████████████████████| 5/5 [00:17<00:00,  3.42s/it]\n"
     ]
    },
    {
     "name": "stdout",
     "output_type": "stream",
     "text": [
      "training (log loss) : 18.26211771715269\n",
      "training (accuracy) : 0.49333333333333335\n",
      "end training! (epoch : 18)\n",
      "==================================================\n",
      "start validation! (epoch : 18)\n"
     ]
    },
    {
     "name": "stderr",
     "output_type": "stream",
     "text": [
      "100%|█████████████████████████████████████████████████████████████████████████████████| 2/2 [00:02<00:00,  1.18s/it]\n"
     ]
    },
    {
     "name": "stdout",
     "output_type": "stream",
     "text": [
      "validation (log loss) : 17.661390160667402\n",
      "validation (accuracy) : 0.51\n",
      "validation best accuracy :  0.5475\n",
      "end validation! (epoch : 18)\n",
      "==================================================\n",
      "start training! (epoch : 19)\n"
     ]
    },
    {
     "name": "stderr",
     "output_type": "stream",
     "text": [
      "100%|█████████████████████████████████████████████████████████████████████████████████| 5/5 [00:20<00:00,  4.09s/it]\n"
     ]
    },
    {
     "name": "stdout",
     "output_type": "stream",
     "text": [
      "training (log loss) : 17.91669937217365\n",
      "training (accuracy) : 0.5029166666666667\n",
      "end training! (epoch : 19)\n",
      "==================================================\n",
      "start validation! (epoch : 19)\n"
     ]
    },
    {
     "name": "stderr",
     "output_type": "stream",
     "text": [
      "100%|█████████████████████████████████████████████████████████████████████████████████| 2/2 [00:02<00:00,  1.17s/it]\n"
     ]
    },
    {
     "name": "stdout",
     "output_type": "stream",
     "text": [
      "validation (log loss) : 17.16578992656704\n",
      "validation (accuracy) : 0.52375\n",
      "validation best accuracy :  0.5475\n",
      "end validation! (epoch : 19)\n",
      "==================================================\n",
      "start training! (epoch : 20)\n"
     ]
    },
    {
     "name": "stderr",
     "output_type": "stream",
     "text": [
      "100%|█████████████████████████████████████████████████████████████████████████████████| 5/5 [00:20<00:00,  4.05s/it]\n"
     ]
    },
    {
     "name": "stdout",
     "output_type": "stream",
     "text": [
      "training (log loss) : 18.081899450207104\n",
      "training (accuracy) : 0.49833333333333335\n",
      "end training! (epoch : 20)\n",
      "==================================================\n",
      "start validation! (epoch : 20)\n"
     ]
    },
    {
     "name": "stderr",
     "output_type": "stream",
     "text": [
      "100%|█████████████████████████████████████████████████████████████████████████████████| 2/2 [00:02<00:00,  1.21s/it]\n"
     ]
    },
    {
     "name": "stdout",
     "output_type": "stream",
     "text": [
      "validation (log loss) : 18.382263228449748\n",
      "validation (accuracy) : 0.49\n",
      "validation best accuracy :  0.5475\n",
      "end validation! (epoch : 20)\n",
      "==================================================\n",
      "start training! (epoch : 21)\n"
     ]
    },
    {
     "name": "stderr",
     "output_type": "stream",
     "text": [
      "100%|█████████████████████████████████████████████████████████████████████████████████| 5/5 [00:19<00:00,  3.84s/it]\n"
     ]
    },
    {
     "name": "stdout",
     "output_type": "stream",
     "text": [
      "training (log loss) : 17.42109913807329\n",
      "training (accuracy) : 0.5166666666666667\n",
      "end training! (epoch : 21)\n",
      "==================================================\n",
      "start validation! (epoch : 21)\n"
     ]
    },
    {
     "name": "stderr",
     "output_type": "stream",
     "text": [
      "100%|█████████████████████████████████████████████████████████████████████████████████| 2/2 [00:02<00:00,  1.21s/it]\n"
     ]
    },
    {
     "name": "stdout",
     "output_type": "stream",
     "text": [
      "validation (log loss) : 17.30095362677623\n",
      "validation (accuracy) : 0.52\n",
      "validation best accuracy :  0.5475\n",
      "end validation! (epoch : 21)\n",
      "==================================================\n",
      "start training! (epoch : 22)\n"
     ]
    },
    {
     "name": "stderr",
     "output_type": "stream",
     "text": [
      "100%|█████████████████████████████████████████████████████████████████████████████████| 5/5 [00:17<00:00,  3.45s/it]\n"
     ]
    },
    {
     "name": "stdout",
     "output_type": "stream",
     "text": [
      "training (log loss) : 18.1269540169435\n",
      "training (accuracy) : 0.4970833333333333\n",
      "end training! (epoch : 22)\n",
      "==================================================\n",
      "start validation! (epoch : 22)\n"
     ]
    },
    {
     "name": "stderr",
     "output_type": "stream",
     "text": [
      "100%|█████████████████████████████████████████████████████████████████████████████████| 2/2 [00:02<00:00,  1.22s/it]\n"
     ]
    },
    {
     "name": "stdout",
     "output_type": "stream",
     "text": [
      "validation (log loss) : 17.661390160667402\n",
      "validation (accuracy) : 0.51\n",
      "validation best accuracy :  0.5475\n",
      "end validation! (epoch : 22)\n",
      "==================================================\n",
      "start training! (epoch : 23)\n"
     ]
    },
    {
     "name": "stderr",
     "output_type": "stream",
     "text": [
      "100%|█████████████████████████████████████████████████████████████████████████████████| 5/5 [00:18<00:00,  3.74s/it]\n"
     ]
    },
    {
     "name": "stdout",
     "output_type": "stream",
     "text": [
      "training (log loss) : 17.901681183261516\n",
      "training (accuracy) : 0.5033333333333333\n",
      "end training! (epoch : 23)\n",
      "==================================================\n",
      "start validation! (epoch : 23)\n"
     ]
    },
    {
     "name": "stderr",
     "output_type": "stream",
     "text": [
      "100%|█████████████████████████████████████████████████████████████████████████████████| 2/2 [00:02<00:00,  1.20s/it]\n"
     ]
    },
    {
     "name": "stdout",
     "output_type": "stream",
     "text": [
      "validation (log loss) : 17.61633559393101\n",
      "validation (accuracy) : 0.51125\n",
      "validation best accuracy :  0.5475\n",
      "end validation! (epoch : 23)\n",
      "==================================================\n",
      "start training! (epoch : 24)\n"
     ]
    },
    {
     "name": "stderr",
     "output_type": "stream",
     "text": [
      "100%|█████████████████████████████████████████████████████████████████████████████████| 5/5 [00:19<00:00,  3.81s/it]\n"
     ]
    },
    {
     "name": "stdout",
     "output_type": "stream",
     "text": [
      "training (log loss) : 17.931717561085783\n",
      "training (accuracy) : 0.5025\n",
      "end training! (epoch : 24)\n",
      "==================================================\n",
      "start validation! (epoch : 24)\n"
     ]
    },
    {
     "name": "stderr",
     "output_type": "stream",
     "text": [
      "100%|█████████████████████████████████████████████████████████████████████████████████| 2/2 [00:02<00:00,  1.19s/it]\n"
     ]
    },
    {
     "name": "stdout",
     "output_type": "stream",
     "text": [
      "validation (log loss) : 17.93171756108578\n",
      "validation (accuracy) : 0.5025\n",
      "validation best accuracy :  0.5475\n",
      "end validation! (epoch : 24)\n",
      "==================================================\n",
      "start training! (epoch : 25)\n"
     ]
    },
    {
     "name": "stderr",
     "output_type": "stream",
     "text": [
      "100%|█████████████████████████████████████████████████████████████████████████████████| 5/5 [00:21<00:00,  4.22s/it]\n"
     ]
    },
    {
     "name": "stdout",
     "output_type": "stream",
     "text": [
      "training (log loss) : 17.841608427612993\n",
      "training (accuracy) : 0.505\n",
      "end training! (epoch : 25)\n",
      "==================================================\n",
      "start validation! (epoch : 25)\n"
     ]
    },
    {
     "name": "stderr",
     "output_type": "stream",
     "text": [
      "100%|█████████████████████████████████████████████████████████████████████████████████| 2/2 [00:02<00:00,  1.22s/it]\n"
     ]
    },
    {
     "name": "stdout",
     "output_type": "stream",
     "text": [
      "validation (log loss) : 18.337208661713348\n",
      "validation (accuracy) : 0.49125\n",
      "validation best accuracy :  0.5475\n",
      "end validation! (epoch : 25)\n",
      "==================================================\n",
      "start training! (epoch : 26)\n"
     ]
    },
    {
     "name": "stderr",
     "output_type": "stream",
     "text": [
      "100%|█████████████████████████████████████████████████████████████████████████████████| 5/5 [00:18<00:00,  3.63s/it]\n"
     ]
    },
    {
     "name": "stdout",
     "output_type": "stream",
     "text": [
      "training (log loss) : 17.886662994349383\n",
      "training (accuracy) : 0.50375\n",
      "end training! (epoch : 26)\n",
      "==================================================\n",
      "start validation! (epoch : 26)\n"
     ]
    },
    {
     "name": "stderr",
     "output_type": "stream",
     "text": [
      "100%|█████████████████████████████████████████████████████████████████████████████████| 2/2 [00:02<00:00,  1.21s/it]\n"
     ]
    },
    {
     "name": "stdout",
     "output_type": "stream",
     "text": [
      "validation (log loss) : 17.30095362677623\n",
      "validation (accuracy) : 0.52\n",
      "validation best accuracy :  0.5475\n",
      "end validation! (epoch : 26)\n",
      "==================================================\n",
      "start training! (epoch : 27)\n"
     ]
    },
    {
     "name": "stderr",
     "output_type": "stream",
     "text": [
      "100%|█████████████████████████████████████████████████████████████████████████████████| 5/5 [00:18<00:00,  3.80s/it]\n"
     ]
    },
    {
     "name": "stdout",
     "output_type": "stream",
     "text": [
      "training (log loss) : 18.096917639119233\n",
      "training (accuracy) : 0.4979166666666667\n",
      "end training! (epoch : 27)\n",
      "==================================================\n",
      "start validation! (epoch : 27)\n"
     ]
    },
    {
     "name": "stderr",
     "output_type": "stream",
     "text": [
      "100%|█████████████████████████████████████████████████████████████████████████████████| 2/2 [00:02<00:00,  1.19s/it]\n"
     ]
    },
    {
     "name": "stdout",
     "output_type": "stream",
     "text": [
      "validation (log loss) : 17.30095362677623\n",
      "validation (accuracy) : 0.52\n",
      "validation best accuracy :  0.5475\n",
      "end validation! (epoch : 27)\n",
      "==================================================\n",
      "start training! (epoch : 28)\n"
     ]
    },
    {
     "name": "stderr",
     "output_type": "stream",
     "text": [
      "100%|█████████████████████████████████████████████████████████████████████████████████| 5/5 [00:20<00:00,  4.18s/it]\n"
     ]
    },
    {
     "name": "stdout",
     "output_type": "stream",
     "text": [
      "training (log loss) : 17.811572049788726\n",
      "training (accuracy) : 0.5058333333333334\n",
      "end training! (epoch : 28)\n",
      "==================================================\n",
      "start validation! (epoch : 28)\n"
     ]
    },
    {
     "name": "stderr",
     "output_type": "stream",
     "text": [
      "100%|█████████████████████████████████████████████████████████████████████████████████| 2/2 [00:02<00:00,  1.19s/it]\n"
     ]
    },
    {
     "name": "stdout",
     "output_type": "stream",
     "text": [
      "validation (log loss) : 18.382263228449748\n",
      "validation (accuracy) : 0.49\n",
      "validation best accuracy :  0.5475\n",
      "end validation! (epoch : 28)\n",
      "==================================================\n",
      "start training! (epoch : 29)\n"
     ]
    },
    {
     "name": "stderr",
     "output_type": "stream",
     "text": [
      "100%|█████████████████████████████████████████████████████████████████████████████████| 5/5 [00:20<00:00,  4.16s/it]\n"
     ]
    },
    {
     "name": "stdout",
     "output_type": "stream",
     "text": [
      "training (log loss) : 17.78153567196446\n",
      "training (accuracy) : 0.5066666666666667\n",
      "end training! (epoch : 29)\n",
      "==================================================\n",
      "start validation! (epoch : 29)\n"
     ]
    },
    {
     "name": "stderr",
     "output_type": "stream",
     "text": [
      "100%|█████████████████████████████████████████████████████████████████████████████████| 2/2 [00:02<00:00,  1.21s/it]\n"
     ]
    },
    {
     "name": "stdout",
     "output_type": "stream",
     "text": [
      "validation (log loss) : 17.391062760249024\n",
      "validation (accuracy) : 0.5175\n",
      "validation best accuracy :  0.5475\n",
      "end validation! (epoch : 29)\n",
      "==================================================\n",
      "start training! (epoch : 30)\n"
     ]
    },
    {
     "name": "stderr",
     "output_type": "stream",
     "text": [
      "100%|█████████████████████████████████████████████████████████████████████████████████| 5/5 [00:18<00:00,  3.69s/it]\n"
     ]
    },
    {
     "name": "stdout",
     "output_type": "stream",
     "text": [
      "training (log loss) : 18.442335984098275\n",
      "training (accuracy) : 0.48833333333333334\n",
      "end training! (epoch : 30)\n",
      "==================================================\n",
      "start validation! (epoch : 30)\n"
     ]
    },
    {
     "name": "stderr",
     "output_type": "stream",
     "text": [
      "100%|█████████████████████████████████████████████████████████████████████████████████| 2/2 [00:02<00:00,  1.21s/it]\n"
     ]
    },
    {
     "name": "stdout",
     "output_type": "stream",
     "text": [
      "validation (log loss) : 17.931717561085783\n",
      "validation (accuracy) : 0.5025\n",
      "validation best accuracy :  0.5475\n",
      "end validation! (epoch : 30)\n",
      "==================================================\n",
      "start training! (epoch : 31)\n"
     ]
    },
    {
     "name": "stderr",
     "output_type": "stream",
     "text": [
      "100%|█████████████████████████████████████████████████████████████████████████████████| 5/5 [00:19<00:00,  3.86s/it]\n"
     ]
    },
    {
     "name": "stdout",
     "output_type": "stream",
     "text": [
      "training (log loss) : 17.991790316734313\n",
      "training (accuracy) : 0.5008333333333334\n",
      "end training! (epoch : 31)\n",
      "==================================================\n",
      "start validation! (epoch : 31)\n"
     ]
    },
    {
     "name": "stderr",
     "output_type": "stream",
     "text": [
      "100%|█████████████████████████████████████████████████████████████████████████████████| 2/2 [00:02<00:00,  1.20s/it]\n"
     ]
    },
    {
     "name": "stdout",
     "output_type": "stream",
     "text": [
      "validation (log loss) : 18.382263228449748\n",
      "validation (accuracy) : 0.49\n",
      "validation best accuracy :  0.5475\n",
      "end validation! (epoch : 31)\n",
      "==================================================\n",
      "start training! (epoch : 32)\n"
     ]
    },
    {
     "name": "stderr",
     "output_type": "stream",
     "text": [
      "100%|█████████████████████████████████████████████████████████████████████████████████| 5/5 [00:19<00:00,  3.91s/it]\n"
     ]
    },
    {
     "name": "stdout",
     "output_type": "stream",
     "text": [
      "training (log loss) : 17.81157204978873\n",
      "training (accuracy) : 0.5058333333333334\n",
      "end training! (epoch : 32)\n",
      "==================================================\n",
      "start validation! (epoch : 32)\n"
     ]
    },
    {
     "name": "stderr",
     "output_type": "stream",
     "text": [
      "100%|█████████████████████████████████████████████████████████████████████████████████| 2/2 [00:02<00:00,  1.23s/it]\n"
     ]
    },
    {
     "name": "stdout",
     "output_type": "stream",
     "text": [
      "validation (log loss) : 17.661390160667406\n",
      "validation (accuracy) : 0.51\n",
      "validation best accuracy :  0.5475\n",
      "end validation! (epoch : 32)\n",
      "==================================================\n",
      "start training! (epoch : 33)\n"
     ]
    },
    {
     "name": "stderr",
     "output_type": "stream",
     "text": [
      "100%|█████████████████████████████████████████████████████████████████████████████████| 5/5 [00:19<00:00,  3.83s/it]\n"
     ]
    },
    {
     "name": "stdout",
     "output_type": "stream",
     "text": [
      "training (log loss) : 18.367245039537615\n",
      "training (accuracy) : 0.49041666666666667\n",
      "end training! (epoch : 33)\n",
      "==================================================\n",
      "start validation! (epoch : 33)\n"
     ]
    },
    {
     "name": "stderr",
     "output_type": "stream",
     "text": [
      "100%|█████████████████████████████████████████████████████████████████████████████████| 2/2 [00:02<00:00,  1.17s/it]\n"
     ]
    },
    {
     "name": "stdout",
     "output_type": "stream",
     "text": [
      "validation (log loss) : 18.517426928658935\n",
      "validation (accuracy) : 0.48625\n",
      "validation best accuracy :  0.5475\n",
      "end validation! (epoch : 33)\n",
      "==================================================\n",
      "start training! (epoch : 34)\n"
     ]
    },
    {
     "name": "stderr",
     "output_type": "stream",
     "text": [
      "100%|█████████████████████████████████████████████████████████████████████████████████| 5/5 [00:18<00:00,  3.71s/it]\n"
     ]
    },
    {
     "name": "stdout",
     "output_type": "stream",
     "text": [
      "training (log loss) : 18.187026772592027\n",
      "training (accuracy) : 0.49541666666666667\n",
      "end training! (epoch : 34)\n",
      "==================================================\n",
      "start validation! (epoch : 34)\n"
     ]
    },
    {
     "name": "stderr",
     "output_type": "stream",
     "text": [
      "100%|█████████████████████████████████████████████████████████████████████████████████| 2/2 [00:02<00:00,  1.18s/it]\n"
     ]
    },
    {
     "name": "stdout",
     "output_type": "stream",
     "text": [
      "validation (log loss) : 16.80535339267587\n",
      "validation (accuracy) : 0.53375\n",
      "validation best accuracy :  0.5475\n",
      "end validation! (epoch : 34)\n",
      "==================================================\n",
      "start training! (epoch : 35)\n"
     ]
    },
    {
     "name": "stderr",
     "output_type": "stream",
     "text": [
      "100%|█████████████████████████████████████████████████████████████████████████████████| 5/5 [00:19<00:00,  3.92s/it]\n"
     ]
    },
    {
     "name": "stdout",
     "output_type": "stream",
     "text": [
      "training (log loss) : 17.391062760249024\n",
      "training (accuracy) : 0.5175\n",
      "end training! (epoch : 35)\n",
      "==================================================\n",
      "start validation! (epoch : 35)\n"
     ]
    },
    {
     "name": "stderr",
     "output_type": "stream",
     "text": [
      "100%|█████████████████████████████████████████████████████████████████████████████████| 2/2 [00:02<00:00,  1.18s/it]\n"
     ]
    },
    {
     "name": "stdout",
     "output_type": "stream",
     "text": [
      "validation (log loss) : 18.20204496150416\n",
      "validation (accuracy) : 0.495\n",
      "validation best accuracy :  0.5475\n",
      "end validation! (epoch : 35)\n",
      "==================================================\n",
      "start training! (epoch : 36)\n"
     ]
    },
    {
     "name": "stderr",
     "output_type": "stream",
     "text": [
      "100%|█████████████████████████████████████████████████████████████████████████████████| 5/5 [00:20<00:00,  4.20s/it]\n"
     ]
    },
    {
     "name": "stdout",
     "output_type": "stream",
     "text": [
      "training (log loss) : 17.646371971755272\n",
      "training (accuracy) : 0.5104166666666666\n",
      "end training! (epoch : 36)\n",
      "==================================================\n",
      "start validation! (epoch : 36)\n"
     ]
    },
    {
     "name": "stderr",
     "output_type": "stream",
     "text": [
      "100%|█████████████████████████████████████████████████████████████████████████████████| 2/2 [00:02<00:00,  1.30s/it]\n"
     ]
    },
    {
     "name": "stdout",
     "output_type": "stream",
     "text": [
      "validation (log loss) : 17.7064447274038\n",
      "validation (accuracy) : 0.50875\n",
      "validation best accuracy :  0.5475\n",
      "end validation! (epoch : 36)\n",
      "==================================================\n",
      "start training! (epoch : 37)\n"
     ]
    },
    {
     "name": "stderr",
     "output_type": "stream",
     "text": [
      "100%|█████████████████████████████████████████████████████████████████████████████████| 5/5 [00:18<00:00,  3.69s/it]\n"
     ]
    },
    {
     "name": "stdout",
     "output_type": "stream",
     "text": [
      "training (log loss) : 18.217063150416294\n",
      "training (accuracy) : 0.4945833333333333\n",
      "end training! (epoch : 37)\n",
      "==================================================\n",
      "start validation! (epoch : 37)\n"
     ]
    },
    {
     "name": "stderr",
     "output_type": "stream",
     "text": [
      "100%|█████████████████████████████████████████████████████████████████████████████████| 2/2 [00:02<00:00,  1.22s/it]\n"
     ]
    },
    {
     "name": "stdout",
     "output_type": "stream",
     "text": [
      "validation (log loss) : 17.976772127822176\n",
      "validation (accuracy) : 0.50125\n",
      "validation best accuracy :  0.5475\n",
      "end validation! (epoch : 37)\n",
      "==================================================\n",
      "start training! (epoch : 38)\n"
     ]
    },
    {
     "name": "stderr",
     "output_type": "stream",
     "text": [
      "100%|█████████████████████████████████████████████████████████████████████████████████| 5/5 [00:18<00:00,  3.79s/it]\n"
     ]
    },
    {
     "name": "stdout",
     "output_type": "stream",
     "text": [
      "training (log loss) : 17.541244649370345\n",
      "training (accuracy) : 0.5133333333333333\n",
      "end training! (epoch : 38)\n",
      "==================================================\n",
      "start validation! (epoch : 38)\n"
     ]
    },
    {
     "name": "stderr",
     "output_type": "stream",
     "text": [
      "100%|█████████████████████████████████████████████████████████████████████████████████| 2/2 [00:02<00:00,  1.20s/it]\n"
     ]
    },
    {
     "name": "stdout",
     "output_type": "stream",
     "text": [
      "validation (log loss) : 18.382263228449744\n",
      "validation (accuracy) : 0.49\n",
      "validation best accuracy :  0.5475\n",
      "end validation! (epoch : 38)\n",
      "==================================================\n",
      "start training! (epoch : 39)\n"
     ]
    },
    {
     "name": "stderr",
     "output_type": "stream",
     "text": [
      "100%|█████████████████████████████████████████████████████████████████████████████████| 5/5 [00:19<00:00,  3.88s/it]\n"
     ]
    },
    {
     "name": "stdout",
     "output_type": "stream",
     "text": [
      "training (log loss) : 18.036844883470707\n",
      "training (accuracy) : 0.4995833333333333\n",
      "end training! (epoch : 39)\n",
      "==================================================\n",
      "start validation! (epoch : 39)\n"
     ]
    },
    {
     "name": "stderr",
     "output_type": "stream",
     "text": [
      "100%|█████████████████████████████████████████████████████████████████████████████████| 2/2 [00:02<00:00,  1.21s/it]\n"
     ]
    },
    {
     "name": "stdout",
     "output_type": "stream",
     "text": [
      "validation (log loss) : 17.7064447274038\n",
      "validation (accuracy) : 0.50875\n",
      "validation best accuracy :  0.5475\n",
      "end validation! (epoch : 39)\n",
      "==================================================\n",
      "start training! (epoch : 40)\n"
     ]
    },
    {
     "name": "stderr",
     "output_type": "stream",
     "text": [
      "100%|█████████████████████████████████████████████████████████████████████████████████| 5/5 [00:18<00:00,  3.61s/it]\n"
     ]
    },
    {
     "name": "stdout",
     "output_type": "stream",
     "text": [
      "training (log loss) : 18.322190472801218\n",
      "training (accuracy) : 0.49166666666666664\n",
      "end training! (epoch : 40)\n",
      "==================================================\n",
      "start validation! (epoch : 40)\n"
     ]
    },
    {
     "name": "stderr",
     "output_type": "stream",
     "text": [
      "100%|█████████████████████████████████████████████████████████████████████████████████| 2/2 [00:02<00:00,  1.18s/it]\n"
     ]
    },
    {
     "name": "stdout",
     "output_type": "stream",
     "text": [
      "validation (log loss) : 17.391062760249024\n",
      "validation (accuracy) : 0.5175\n",
      "validation best accuracy :  0.5475\n",
      "end validation! (epoch : 40)\n",
      "==================================================\n",
      "start training! (epoch : 41)\n"
     ]
    },
    {
     "name": "stderr",
     "output_type": "stream",
     "text": [
      "100%|█████████████████████████████████████████████████████████████████████████████████| 5/5 [00:18<00:00,  3.66s/it]\n"
     ]
    },
    {
     "name": "stdout",
     "output_type": "stream",
     "text": [
      "training (log loss) : 17.751499294140196\n",
      "training (accuracy) : 0.5075\n",
      "end training! (epoch : 41)\n",
      "==================================================\n",
      "start validation! (epoch : 41)\n"
     ]
    },
    {
     "name": "stderr",
     "output_type": "stream",
     "text": [
      "100%|█████████████████████████████████████████████████████████████████████████████████| 2/2 [00:02<00:00,  1.20s/it]\n"
     ]
    },
    {
     "name": "stdout",
     "output_type": "stream",
     "text": [
      "validation (log loss) : 17.34600819351263\n",
      "validation (accuracy) : 0.51875\n",
      "validation best accuracy :  0.5475\n",
      "end validation! (epoch : 41)\n",
      "==================================================\n",
      "start training! (epoch : 42)\n"
     ]
    },
    {
     "name": "stderr",
     "output_type": "stream",
     "text": [
      "100%|█████████████████████████████████████████████████████████████████████████████████| 5/5 [00:18<00:00,  3.77s/it]\n"
     ]
    },
    {
     "name": "stdout",
     "output_type": "stream",
     "text": [
      "training (log loss) : 18.172008583679897\n",
      "training (accuracy) : 0.49583333333333335\n",
      "end training! (epoch : 42)\n",
      "==================================================\n",
      "start validation! (epoch : 42)\n"
     ]
    },
    {
     "name": "stderr",
     "output_type": "stream",
     "text": [
      "100%|█████████████████████████████████████████████████████████████████████████████████| 2/2 [00:02<00:00,  1.18s/it]\n"
     ]
    },
    {
     "name": "stdout",
     "output_type": "stream",
     "text": [
      "validation (log loss) : 17.52622646045821\n",
      "validation (accuracy) : 0.51375\n",
      "validation best accuracy :  0.5475\n",
      "end validation! (epoch : 42)\n",
      "==================================================\n",
      "start training! (epoch : 43)\n"
     ]
    },
    {
     "name": "stderr",
     "output_type": "stream",
     "text": [
      "100%|█████████████████████████████████████████████████████████████████████████████████| 5/5 [00:17<00:00,  3.58s/it]\n"
     ]
    },
    {
     "name": "stdout",
     "output_type": "stream",
     "text": [
      "training (log loss) : 17.69142653849167\n",
      "training (accuracy) : 0.5091666666666667\n",
      "end training! (epoch : 43)\n",
      "==================================================\n",
      "start validation! (epoch : 43)\n"
     ]
    },
    {
     "name": "stderr",
     "output_type": "stream",
     "text": [
      "100%|█████████████████████████████████████████████████████████████████████████████████| 2/2 [00:02<00:00,  1.19s/it]\n"
     ]
    },
    {
     "name": "stdout",
     "output_type": "stream",
     "text": [
      "validation (log loss) : 17.61633559393101\n",
      "validation (accuracy) : 0.51125\n",
      "validation best accuracy :  0.5475\n",
      "end validation! (epoch : 43)\n",
      "==================================================\n",
      "start training! (epoch : 44)\n"
     ]
    },
    {
     "name": "stderr",
     "output_type": "stream",
     "text": [
      "100%|█████████████████████████████████████████████████████████████████████████████████| 5/5 [00:21<00:00,  4.36s/it]\n"
     ]
    },
    {
     "name": "stdout",
     "output_type": "stream",
     "text": [
      "training (log loss) : 18.066881261294974\n",
      "training (accuracy) : 0.49875\n",
      "end training! (epoch : 44)\n",
      "==================================================\n",
      "start validation! (epoch : 44)\n"
     ]
    },
    {
     "name": "stderr",
     "output_type": "stream",
     "text": [
      "100%|█████████████████████████████████████████████████████████████████████████████████| 2/2 [00:02<00:00,  1.21s/it]\n"
     ]
    },
    {
     "name": "stdout",
     "output_type": "stream",
     "text": [
      "validation (log loss) : 18.247099528240554\n",
      "validation (accuracy) : 0.49375\n",
      "validation best accuracy :  0.5475\n",
      "end validation! (epoch : 44)\n",
      "==================================================\n",
      "start training! (epoch : 45)\n"
     ]
    },
    {
     "name": "stderr",
     "output_type": "stream",
     "text": [
      "100%|█████████████████████████████████████████████████████████████████████████████████| 5/5 [00:19<00:00,  3.86s/it]\n"
     ]
    },
    {
     "name": "stdout",
     "output_type": "stream",
     "text": [
      "training (log loss) : 17.976772127822176\n",
      "training (accuracy) : 0.50125\n",
      "end training! (epoch : 45)\n",
      "==================================================\n",
      "start validation! (epoch : 45)\n"
     ]
    },
    {
     "name": "stderr",
     "output_type": "stream",
     "text": [
      "100%|█████████████████████████████████████████████████████████████████████████████████| 2/2 [00:02<00:00,  1.20s/it]\n"
     ]
    },
    {
     "name": "stdout",
     "output_type": "stream",
     "text": [
      "validation (log loss) : 18.156990394767764\n",
      "validation (accuracy) : 0.49625\n",
      "validation best accuracy :  0.5475\n",
      "end validation! (epoch : 45)\n",
      "==================================================\n",
      "start training! (epoch : 46)\n"
     ]
    },
    {
     "name": "stderr",
     "output_type": "stream",
     "text": [
      "100%|█████████████████████████████████████████████████████████████████████████████████| 5/5 [00:18<00:00,  3.68s/it]\n"
     ]
    },
    {
     "name": "stdout",
     "output_type": "stream",
     "text": [
      "training (log loss) : 17.646371971755272\n",
      "training (accuracy) : 0.5104166666666666\n",
      "end training! (epoch : 46)\n",
      "==================================================\n",
      "start validation! (epoch : 46)\n"
     ]
    },
    {
     "name": "stderr",
     "output_type": "stream",
     "text": [
      "100%|█████████████████████████████████████████████████████████████████████████████████| 2/2 [00:02<00:00,  1.18s/it]\n"
     ]
    },
    {
     "name": "stdout",
     "output_type": "stream",
     "text": [
      "validation (log loss) : 18.06688126129497\n",
      "validation (accuracy) : 0.49875\n",
      "validation best accuracy :  0.5475\n",
      "end validation! (epoch : 46)\n",
      "==================================================\n",
      "start training! (epoch : 47)\n"
     ]
    },
    {
     "name": "stderr",
     "output_type": "stream",
     "text": [
      "100%|█████████████████████████████████████████████████████████████████████████████████| 5/5 [00:19<00:00,  3.89s/it]\n"
     ]
    },
    {
     "name": "stdout",
     "output_type": "stream",
     "text": [
      "training (log loss) : 17.61633559393101\n",
      "training (accuracy) : 0.51125\n",
      "end training! (epoch : 47)\n",
      "==================================================\n",
      "start validation! (epoch : 47)\n"
     ]
    },
    {
     "name": "stderr",
     "output_type": "stream",
     "text": [
      "100%|█████████████████████████████████████████████████████████████████████████████████| 2/2 [00:02<00:00,  1.19s/it]\n"
     ]
    },
    {
     "name": "stdout",
     "output_type": "stream",
     "text": [
      "validation (log loss) : 17.616335593931005\n",
      "validation (accuracy) : 0.51125\n",
      "validation best accuracy :  0.5475\n",
      "end validation! (epoch : 47)\n",
      "==================================================\n",
      "start training! (epoch : 48)\n"
     ]
    },
    {
     "name": "stderr",
     "output_type": "stream",
     "text": [
      "100%|█████████████████████████████████████████████████████████████████████████████████| 5/5 [00:18<00:00,  3.75s/it]\n"
     ]
    },
    {
     "name": "stdout",
     "output_type": "stream",
     "text": [
      "training (log loss) : 17.961753938910046\n",
      "training (accuracy) : 0.5016666666666667\n",
      "end training! (epoch : 48)\n",
      "==================================================\n",
      "start validation! (epoch : 48)\n"
     ]
    },
    {
     "name": "stderr",
     "output_type": "stream",
     "text": [
      "100%|█████████████████████████████████████████████████████████████████████████████████| 2/2 [00:02<00:00,  1.21s/it]\n"
     ]
    },
    {
     "name": "stdout",
     "output_type": "stream",
     "text": [
      "validation (log loss) : 17.481171893721818\n",
      "validation (accuracy) : 0.515\n",
      "validation best accuracy :  0.5475\n",
      "end validation! (epoch : 48)\n",
      "==================================================\n",
      "start training! (epoch : 49)\n"
     ]
    },
    {
     "name": "stderr",
     "output_type": "stream",
     "text": [
      "100%|█████████████████████████████████████████████████████████████████████████████████| 5/5 [00:18<00:00,  3.71s/it]\n"
     ]
    },
    {
     "name": "stdout",
     "output_type": "stream",
     "text": [
      "training (log loss) : 17.76651748305233\n",
      "training (accuracy) : 0.5070833333333333\n",
      "end training! (epoch : 49)\n",
      "==================================================\n",
      "start validation! (epoch : 49)\n"
     ]
    },
    {
     "name": "stderr",
     "output_type": "stream",
     "text": [
      "100%|█████████████████████████████████████████████████████████████████████████████████| 2/2 [00:02<00:00,  1.19s/it]\n"
     ]
    },
    {
     "name": "stdout",
     "output_type": "stream",
     "text": [
      "validation (log loss) : 17.661390160667402\n",
      "validation (accuracy) : 0.51\n",
      "validation best accuracy :  0.5475\n",
      "end validation! (epoch : 49)\n",
      "==================================================\n",
      "start training! (epoch : 50)\n"
     ]
    },
    {
     "name": "stderr",
     "output_type": "stream",
     "text": [
      "100%|█████████████████████████████████████████████████████████████████████████████████| 5/5 [00:17<00:00,  3.50s/it]\n"
     ]
    },
    {
     "name": "stdout",
     "output_type": "stream",
     "text": [
      "training (log loss) : 17.330990004600494\n",
      "training (accuracy) : 0.5191666666666667\n",
      "end training! (epoch : 50)\n",
      "==================================================\n",
      "start validation! (epoch : 50)\n"
     ]
    },
    {
     "name": "stderr",
     "output_type": "stream",
     "text": [
      "100%|█████████████████████████████████████████████████████████████████████████████████| 2/2 [00:02<00:00,  1.19s/it]\n"
     ]
    },
    {
     "name": "stdout",
     "output_type": "stream",
     "text": [
      "validation (log loss) : 17.84160842761299\n",
      "validation (accuracy) : 0.505\n",
      "validation best accuracy :  0.5475\n",
      "end validation! (epoch : 50)\n",
      "==================================================\n",
      "start training! (epoch : 51)\n"
     ]
    },
    {
     "name": "stderr",
     "output_type": "stream",
     "text": [
      "100%|█████████████████████████████████████████████████████████████████████████████████| 5/5 [00:19<00:00,  3.94s/it]\n"
     ]
    },
    {
     "name": "stdout",
     "output_type": "stream",
     "text": [
      "training (log loss) : 18.111935828031367\n",
      "training (accuracy) : 0.4975\n",
      "end training! (epoch : 51)\n",
      "==================================================\n",
      "start validation! (epoch : 51)\n"
     ]
    },
    {
     "name": "stderr",
     "output_type": "stream",
     "text": [
      "100%|█████████████████████████████████████████████████████████████████████████████████| 2/2 [00:02<00:00,  1.18s/it]\n"
     ]
    },
    {
     "name": "stdout",
     "output_type": "stream",
     "text": [
      "validation (log loss) : 18.06688126129497\n",
      "validation (accuracy) : 0.49875\n",
      "validation best accuracy :  0.5475\n",
      "end validation! (epoch : 51)\n",
      "==================================================\n",
      "start training! (epoch : 52)\n"
     ]
    },
    {
     "name": "stderr",
     "output_type": "stream",
     "text": [
      "100%|█████████████████████████████████████████████████████████████████████████████████| 5/5 [00:17<00:00,  3.57s/it]\n"
     ]
    },
    {
     "name": "stdout",
     "output_type": "stream",
     "text": [
      "training (log loss) : 17.886662994349386\n",
      "training (accuracy) : 0.50375\n",
      "end training! (epoch : 52)\n",
      "==================================================\n",
      "start validation! (epoch : 52)\n"
     ]
    },
    {
     "name": "stderr",
     "output_type": "stream",
     "text": [
      "100%|█████████████████████████████████████████████████████████████████████████████████| 2/2 [00:02<00:00,  1.21s/it]\n"
     ]
    },
    {
     "name": "stdout",
     "output_type": "stream",
     "text": [
      "validation (log loss) : 18.382263228449748\n",
      "validation (accuracy) : 0.49\n",
      "validation best accuracy :  0.5475\n",
      "end validation! (epoch : 52)\n",
      "==================================================\n",
      "start training! (epoch : 53)\n"
     ]
    },
    {
     "name": "stderr",
     "output_type": "stream",
     "text": [
      "100%|█████████████████████████████████████████████████████████████████████████████████| 5/5 [00:17<00:00,  3.53s/it]\n"
     ]
    },
    {
     "name": "stdout",
     "output_type": "stream",
     "text": [
      "training (log loss) : 18.787754329077316\n",
      "training (accuracy) : 0.47875\n",
      "end training! (epoch : 53)\n",
      "==================================================\n",
      "start validation! (epoch : 53)\n"
     ]
    },
    {
     "name": "stderr",
     "output_type": "stream",
     "text": [
      "100%|█████████████████████████████████████████████████████████████████████████████████| 2/2 [00:02<00:00,  1.34s/it]\n"
     ]
    },
    {
     "name": "stdout",
     "output_type": "stream",
     "text": [
      "validation (log loss) : 18.382263228449748\n",
      "validation (accuracy) : 0.49\n",
      "validation best accuracy :  0.5475\n",
      "end validation! (epoch : 53)\n",
      "==================================================\n",
      "start training! (epoch : 54)\n"
     ]
    },
    {
     "name": "stderr",
     "output_type": "stream",
     "text": [
      "100%|█████████████████████████████████████████████████████████████████████████████████| 5/5 [00:19<00:00,  3.82s/it]\n"
     ]
    },
    {
     "name": "stdout",
     "output_type": "stream",
     "text": [
      "training (log loss) : 17.346008193512628\n",
      "training (accuracy) : 0.51875\n",
      "end training! (epoch : 54)\n",
      "==================================================\n",
      "start validation! (epoch : 54)\n"
     ]
    },
    {
     "name": "stderr",
     "output_type": "stream",
     "text": [
      "100%|█████████████████████████████████████████████████████████████████████████████████| 2/2 [00:02<00:00,  1.23s/it]\n"
     ]
    },
    {
     "name": "stdout",
     "output_type": "stream",
     "text": [
      "validation (log loss) : 18.382263228449748\n",
      "validation (accuracy) : 0.49\n",
      "validation best accuracy :  0.5475\n",
      "end validation! (epoch : 54)\n",
      "==================================================\n",
      "start training! (epoch : 55)\n"
     ]
    },
    {
     "name": "stderr",
     "output_type": "stream",
     "text": [
      "100%|█████████████████████████████████████████████████████████████████████████████████| 5/5 [00:18<00:00,  3.78s/it]\n"
     ]
    },
    {
     "name": "stdout",
     "output_type": "stream",
     "text": [
      "training (log loss) : 18.937936218198637\n",
      "training (accuracy) : 0.47458333333333336\n",
      "end training! (epoch : 55)\n",
      "==================================================\n",
      "start validation! (epoch : 55)\n"
     ]
    },
    {
     "name": "stderr",
     "output_type": "stream",
     "text": [
      "100%|█████████████████████████████████████████████████████████████████████████████████| 2/2 [00:02<00:00,  1.20s/it]\n"
     ]
    },
    {
     "name": "stdout",
     "output_type": "stream",
     "text": [
      "validation (log loss) : 18.382263228449748\n",
      "validation (accuracy) : 0.49\n",
      "validation best accuracy :  0.5475\n",
      "end validation! (epoch : 55)\n",
      "==================================================\n",
      "start training! (epoch : 56)\n"
     ]
    },
    {
     "name": "stderr",
     "output_type": "stream",
     "text": [
      "100%|█████████████████████████████████████████████████████████████████████████████████| 5/5 [00:20<00:00,  4.19s/it]\n"
     ]
    },
    {
     "name": "stdout",
     "output_type": "stream",
     "text": [
      "training (log loss) : 18.48739055083467\n",
      "training (accuracy) : 0.4870833333333333\n",
      "end training! (epoch : 56)\n",
      "==================================================\n",
      "start validation! (epoch : 56)\n"
     ]
    },
    {
     "name": "stderr",
     "output_type": "stream",
     "text": [
      "100%|█████████████████████████████████████████████████████████████████████████████████| 2/2 [00:02<00:00,  1.19s/it]\n"
     ]
    },
    {
     "name": "stdout",
     "output_type": "stream",
     "text": [
      "validation (log loss) : 17.93171756108578\n",
      "validation (accuracy) : 0.5025\n",
      "validation best accuracy :  0.5475\n",
      "end validation! (epoch : 56)\n",
      "==================================================\n",
      "start training! (epoch : 57)\n"
     ]
    },
    {
     "name": "stderr",
     "output_type": "stream",
     "text": [
      "100%|█████████████████████████████████████████████████████████████████████████████████| 5/5 [00:19<00:00,  3.98s/it]\n"
     ]
    },
    {
     "name": "stdout",
     "output_type": "stream",
     "text": [
      "training (log loss) : 18.307172283889084\n",
      "training (accuracy) : 0.4920833333333333\n",
      "end training! (epoch : 57)\n",
      "==================================================\n",
      "start validation! (epoch : 57)\n"
     ]
    },
    {
     "name": "stderr",
     "output_type": "stream",
     "text": [
      "100%|█████████████████████████████████████████████████████████████████████████████████| 2/2 [00:02<00:00,  1.18s/it]\n"
     ]
    },
    {
     "name": "stdout",
     "output_type": "stream",
     "text": [
      "validation (log loss) : 18.06688126129497\n",
      "validation (accuracy) : 0.49875\n",
      "validation best accuracy :  0.5475\n",
      "end validation! (epoch : 57)\n",
      "==================================================\n",
      "start training! (epoch : 58)\n"
     ]
    },
    {
     "name": "stderr",
     "output_type": "stream",
     "text": [
      "100%|█████████████████████████████████████████████████████████████████████████████████| 5/5 [00:17<00:00,  3.46s/it]\n"
     ]
    },
    {
     "name": "stdout",
     "output_type": "stream",
     "text": [
      "training (log loss) : 18.352226850625485\n",
      "training (accuracy) : 0.49083333333333334\n",
      "end training! (epoch : 58)\n",
      "==================================================\n",
      "start validation! (epoch : 58)\n"
     ]
    },
    {
     "name": "stderr",
     "output_type": "stream",
     "text": [
      "100%|█████████████████████████████████████████████████████████████████████████████████| 2/2 [00:02<00:00,  1.18s/it]\n"
     ]
    },
    {
     "name": "stdout",
     "output_type": "stream",
     "text": [
      "validation (log loss) : 17.57128102719461\n",
      "validation (accuracy) : 0.5125\n",
      "validation best accuracy :  0.5475\n",
      "end validation! (epoch : 58)\n",
      "==================================================\n",
      "start training! (epoch : 59)\n"
     ]
    },
    {
     "name": "stderr",
     "output_type": "stream",
     "text": [
      "100%|█████████████████████████████████████████████████████████████████████████████████| 5/5 [00:19<00:00,  3.99s/it]\n"
     ]
    },
    {
     "name": "stdout",
     "output_type": "stream",
     "text": [
      "training (log loss) : 18.26211771715269\n",
      "training (accuracy) : 0.49333333333333335\n",
      "end training! (epoch : 59)\n",
      "==================================================\n",
      "start validation! (epoch : 59)\n"
     ]
    },
    {
     "name": "stderr",
     "output_type": "stream",
     "text": [
      "100%|█████████████████████████████████████████████████████████████████████████████████| 2/2 [00:02<00:00,  1.20s/it]\n"
     ]
    },
    {
     "name": "stdout",
     "output_type": "stream",
     "text": [
      "validation (log loss) : 18.42731779518614\n",
      "validation (accuracy) : 0.48875\n",
      "validation best accuracy :  0.5475\n",
      "end validation! (epoch : 59)\n",
      "==================================================\n",
      "start training! (epoch : 60)\n"
     ]
    },
    {
     "name": "stderr",
     "output_type": "stream",
     "text": [
      "100%|█████████████████████████████████████████████████████████████████████████████████| 5/5 [00:18<00:00,  3.70s/it]\n"
     ]
    },
    {
     "name": "stdout",
     "output_type": "stream",
     "text": [
      "training (log loss) : 18.00680850564644\n",
      "training (accuracy) : 0.5004166666666666\n",
      "end training! (epoch : 60)\n",
      "==================================================\n",
      "start validation! (epoch : 60)\n"
     ]
    },
    {
     "name": "stderr",
     "output_type": "stream",
     "text": [
      "100%|█████████████████████████████████████████████████████████████████████████████████| 2/2 [00:02<00:00,  1.23s/it]\n"
     ]
    },
    {
     "name": "stdout",
     "output_type": "stream",
     "text": [
      "validation (log loss) : 18.382263228449744\n",
      "validation (accuracy) : 0.49\n",
      "validation best accuracy :  0.5475\n",
      "end validation! (epoch : 60)\n",
      "==================================================\n",
      "start training! (epoch : 61)\n"
     ]
    },
    {
     "name": "stderr",
     "output_type": "stream",
     "text": [
      "100%|█████████████████████████████████████████████████████████████████████████████████| 5/5 [00:17<00:00,  3.48s/it]\n"
     ]
    },
    {
     "name": "stdout",
     "output_type": "stream",
     "text": [
      "training (log loss) : 17.796553860876596\n",
      "training (accuracy) : 0.50625\n",
      "end training! (epoch : 61)\n",
      "==================================================\n",
      "start validation! (epoch : 61)\n"
     ]
    },
    {
     "name": "stderr",
     "output_type": "stream",
     "text": [
      "100%|█████████████████████████████████████████████████████████████████████████████████| 2/2 [00:02<00:00,  1.19s/it]\n"
     ]
    },
    {
     "name": "stdout",
     "output_type": "stream",
     "text": [
      "validation (log loss) : 17.57128102719461\n",
      "validation (accuracy) : 0.5125\n",
      "validation best accuracy :  0.5475\n",
      "end validation! (epoch : 61)\n",
      "==================================================\n",
      "start training! (epoch : 62)\n"
     ]
    },
    {
     "name": "stderr",
     "output_type": "stream",
     "text": [
      "100%|█████████████████████████████████████████████████████████████████████████████████| 5/5 [00:17<00:00,  3.59s/it]\n"
     ]
    },
    {
     "name": "stdout",
     "output_type": "stream",
     "text": [
      "training (log loss) : 17.946735749997917\n",
      "training (accuracy) : 0.5020833333333333\n",
      "end training! (epoch : 62)\n",
      "==================================================\n",
      "start validation! (epoch : 62)\n"
     ]
    },
    {
     "name": "stderr",
     "output_type": "stream",
     "text": [
      "100%|█████████████████████████████████████████████████████████████████████████████████| 2/2 [00:02<00:00,  1.19s/it]\n"
     ]
    },
    {
     "name": "stdout",
     "output_type": "stream",
     "text": [
      "validation (log loss) : 18.42731779518614\n",
      "validation (accuracy) : 0.48875\n",
      "validation best accuracy :  0.5475\n",
      "end validation! (epoch : 62)\n",
      "==================================================\n",
      "start training! (epoch : 63)\n"
     ]
    },
    {
     "name": "stderr",
     "output_type": "stream",
     "text": [
      "100%|█████████████████████████████████████████████████████████████████████████████████| 5/5 [00:19<00:00,  3.85s/it]\n"
     ]
    },
    {
     "name": "stdout",
     "output_type": "stream",
     "text": [
      "training (log loss) : 18.47237236192254\n",
      "training (accuracy) : 0.4875\n",
      "end training! (epoch : 63)\n",
      "==================================================\n",
      "start validation! (epoch : 63)\n"
     ]
    },
    {
     "name": "stderr",
     "output_type": "stream",
     "text": [
      "100%|█████████████████████████████████████████████████████████████████████████████████| 2/2 [00:02<00:00,  1.19s/it]\n"
     ]
    },
    {
     "name": "stdout",
     "output_type": "stream",
     "text": [
      "validation (log loss) : 18.382263228449748\n",
      "validation (accuracy) : 0.49\n",
      "validation best accuracy :  0.5475\n",
      "end validation! (epoch : 63)\n",
      "==================================================\n",
      "start training! (epoch : 64)\n"
     ]
    },
    {
     "name": "stderr",
     "output_type": "stream",
     "text": [
      "100%|█████████████████████████████████████████████████████████████████████████████████| 5/5 [00:17<00:00,  3.48s/it]\n"
     ]
    },
    {
     "name": "stdout",
     "output_type": "stream",
     "text": [
      "training (log loss) : 17.721462916315936\n",
      "training (accuracy) : 0.5083333333333333\n",
      "end training! (epoch : 64)\n",
      "==================================================\n",
      "start validation! (epoch : 64)\n"
     ]
    },
    {
     "name": "stderr",
     "output_type": "stream",
     "text": [
      "100%|█████████████████████████████████████████████████████████████████████████████████| 2/2 [00:02<00:00,  1.22s/it]\n"
     ]
    },
    {
     "name": "stdout",
     "output_type": "stream",
     "text": [
      "validation (log loss) : 18.382263228449748\n",
      "validation (accuracy) : 0.49\n",
      "validation best accuracy :  0.5475\n",
      "end validation! (epoch : 64)\n",
      "==================================================\n",
      "start training! (epoch : 65)\n"
     ]
    },
    {
     "name": "stderr",
     "output_type": "stream",
     "text": [
      "100%|█████████████████████████████████████████████████████████████████████████████████| 5/5 [00:17<00:00,  3.58s/it]\n"
     ]
    },
    {
     "name": "stdout",
     "output_type": "stream",
     "text": [
      "training (log loss) : 18.036844883470707\n",
      "training (accuracy) : 0.4995833333333333\n",
      "end training! (epoch : 65)\n",
      "==================================================\n",
      "start validation! (epoch : 65)\n"
     ]
    },
    {
     "name": "stderr",
     "output_type": "stream",
     "text": [
      "100%|█████████████████████████████████████████████████████████████████████████████████| 2/2 [00:02<00:00,  1.21s/it]\n"
     ]
    },
    {
     "name": "stdout",
     "output_type": "stream",
     "text": [
      "validation (log loss) : 18.42731779518614\n",
      "validation (accuracy) : 0.48875\n",
      "validation best accuracy :  0.5475\n",
      "end validation! (epoch : 65)\n",
      "==================================================\n",
      "start training! (epoch : 66)\n"
     ]
    },
    {
     "name": "stderr",
     "output_type": "stream",
     "text": [
      "100%|█████████████████████████████████████████████████████████████████████████████████| 5/5 [00:18<00:00,  3.71s/it]\n"
     ]
    },
    {
     "name": "stdout",
     "output_type": "stream",
     "text": [
      "training (log loss) : 17.766517483052326\n",
      "training (accuracy) : 0.5070833333333333\n",
      "end training! (epoch : 66)\n",
      "==================================================\n",
      "start validation! (epoch : 66)\n"
     ]
    },
    {
     "name": "stderr",
     "output_type": "stream",
     "text": [
      "100%|█████████████████████████████████████████████████████████████████████████████████| 2/2 [00:02<00:00,  1.22s/it]\n"
     ]
    },
    {
     "name": "stdout",
     "output_type": "stream",
     "text": [
      "validation (log loss) : 17.481171893721818\n",
      "validation (accuracy) : 0.515\n",
      "validation best accuracy :  0.5475\n",
      "end validation! (epoch : 66)\n",
      "==================================================\n",
      "start training! (epoch : 67)\n"
     ]
    },
    {
     "name": "stderr",
     "output_type": "stream",
     "text": [
      "100%|█████████████████████████████████████████████████████████████████████████████████| 5/5 [00:19<00:00,  3.92s/it]\n"
     ]
    },
    {
     "name": "stdout",
     "output_type": "stream",
     "text": [
      "training (log loss) : 18.667608817780255\n",
      "training (accuracy) : 0.4820833333333333\n",
      "end training! (epoch : 67)\n",
      "==================================================\n",
      "start validation! (epoch : 67)\n"
     ]
    },
    {
     "name": "stderr",
     "output_type": "stream",
     "text": [
      "100%|█████████████████████████████████████████████████████████████████████████████████| 2/2 [00:02<00:00,  1.20s/it]\n"
     ]
    },
    {
     "name": "stdout",
     "output_type": "stream",
     "text": [
      "validation (log loss) : 18.111935828031367\n",
      "validation (accuracy) : 0.4975\n",
      "validation best accuracy :  0.5475\n",
      "end validation! (epoch : 67)\n",
      "==================================================\n",
      "start training! (epoch : 68)\n"
     ]
    },
    {
     "name": "stderr",
     "output_type": "stream",
     "text": [
      "100%|█████████████████████████████████████████████████████████████████████████████████| 5/5 [00:18<00:00,  3.77s/it]\n"
     ]
    },
    {
     "name": "stdout",
     "output_type": "stream",
     "text": [
      "training (log loss) : 18.232081339328428\n",
      "training (accuracy) : 0.49416666666666664\n",
      "end training! (epoch : 68)\n",
      "==================================================\n",
      "start validation! (epoch : 68)\n"
     ]
    },
    {
     "name": "stderr",
     "output_type": "stream",
     "text": [
      "100%|█████████████████████████████████████████████████████████████████████████████████| 2/2 [00:02<00:00,  1.30s/it]\n"
     ]
    },
    {
     "name": "stdout",
     "output_type": "stream",
     "text": [
      "validation (log loss) : 18.382263228449748\n",
      "validation (accuracy) : 0.49\n",
      "validation best accuracy :  0.5475\n",
      "end validation! (epoch : 68)\n",
      "==================================================\n",
      "start training! (epoch : 69)\n"
     ]
    },
    {
     "name": "stderr",
     "output_type": "stream",
     "text": [
      "100%|█████████████████████████████████████████████████████████████████████████████████| 5/5 [00:20<00:00,  4.00s/it]\n"
     ]
    },
    {
     "name": "stdout",
     "output_type": "stream",
     "text": [
      "training (log loss) : 17.901681183261516\n",
      "training (accuracy) : 0.5033333333333333\n",
      "end training! (epoch : 69)\n",
      "==================================================\n",
      "start validation! (epoch : 69)\n"
     ]
    },
    {
     "name": "stderr",
     "output_type": "stream",
     "text": [
      "100%|█████████████████████████████████████████████████████████████████████████████████| 2/2 [00:02<00:00,  1.18s/it]\n"
     ]
    },
    {
     "name": "stdout",
     "output_type": "stream",
     "text": [
      "validation (log loss) : 17.57128102719461\n",
      "validation (accuracy) : 0.5125\n",
      "validation best accuracy :  0.5475\n",
      "end validation! (epoch : 69)\n",
      "==================================================\n",
      "start training! (epoch : 70)\n"
     ]
    },
    {
     "name": "stderr",
     "output_type": "stream",
     "text": [
      "100%|█████████████████████████████████████████████████████████████████████████████████| 5/5 [00:16<00:00,  3.40s/it]\n"
     ]
    },
    {
     "name": "stdout",
     "output_type": "stream",
     "text": [
      "training (log loss) : 18.11193582803137\n",
      "training (accuracy) : 0.4975\n",
      "end training! (epoch : 70)\n",
      "==================================================\n",
      "start validation! (epoch : 70)\n"
     ]
    },
    {
     "name": "stderr",
     "output_type": "stream",
     "text": [
      "100%|█████████████████████████████████████████████████████████████████████████████████| 2/2 [00:02<00:00,  1.31s/it]\n"
     ]
    },
    {
     "name": "stdout",
     "output_type": "stream",
     "text": [
      "validation (log loss) : 17.57128102719461\n",
      "validation (accuracy) : 0.5125\n",
      "validation best accuracy :  0.5475\n",
      "end validation! (epoch : 70)\n",
      "==================================================\n",
      "start training! (epoch : 71)\n"
     ]
    },
    {
     "name": "stderr",
     "output_type": "stream",
     "text": [
      "100%|█████████████████████████████████████████████████████████████████████████████████| 5/5 [00:20<00:00,  4.09s/it]\n"
     ]
    },
    {
     "name": "stdout",
     "output_type": "stream",
     "text": [
      "training (log loss) : 18.33720866171335\n",
      "training (accuracy) : 0.49125\n",
      "end training! (epoch : 71)\n",
      "==================================================\n",
      "start validation! (epoch : 71)\n"
     ]
    },
    {
     "name": "stderr",
     "output_type": "stream",
     "text": [
      "100%|█████████████████████████████████████████████████████████████████████████████████| 2/2 [00:02<00:00,  1.20s/it]\n"
     ]
    },
    {
     "name": "stdout",
     "output_type": "stream",
     "text": [
      "validation (log loss) : 17.255899060039834\n",
      "validation (accuracy) : 0.52125\n",
      "validation best accuracy :  0.5475\n",
      "end validation! (epoch : 71)\n",
      "==================================================\n",
      "start training! (epoch : 72)\n"
     ]
    },
    {
     "name": "stderr",
     "output_type": "stream",
     "text": [
      "100%|█████████████████████████████████████████████████████████████████████████████████| 5/5 [00:20<00:00,  4.03s/it]\n"
     ]
    },
    {
     "name": "stdout",
     "output_type": "stream",
     "text": [
      "training (log loss) : 17.82659023870086\n",
      "training (accuracy) : 0.5054166666666666\n",
      "end training! (epoch : 72)\n",
      "==================================================\n",
      "start validation! (epoch : 72)\n"
     ]
    },
    {
     "name": "stderr",
     "output_type": "stream",
     "text": [
      "100%|█████████████████████████████████████████████████████████████████████████████████| 2/2 [00:02<00:00,  1.19s/it]\n"
     ]
    },
    {
     "name": "stdout",
     "output_type": "stream",
     "text": [
      "validation (log loss) : 18.247099528240554\n",
      "validation (accuracy) : 0.49375\n",
      "validation best accuracy :  0.5475\n",
      "end validation! (epoch : 72)\n",
      "==================================================\n",
      "start training! (epoch : 73)\n"
     ]
    },
    {
     "name": "stderr",
     "output_type": "stream",
     "text": [
      "100%|█████████████████████████████████████████████████████████████████████████████████| 5/5 [00:18<00:00,  3.79s/it]\n"
     ]
    },
    {
     "name": "stdout",
     "output_type": "stream",
     "text": [
      "training (log loss) : 18.27713590606482\n",
      "training (accuracy) : 0.49291666666666667\n",
      "end training! (epoch : 73)\n",
      "==================================================\n",
      "start validation! (epoch : 73)\n"
     ]
    },
    {
     "name": "stderr",
     "output_type": "stream",
     "text": [
      "100%|█████████████████████████████████████████████████████████████████████████████████| 2/2 [00:02<00:00,  1.18s/it]\n"
     ]
    },
    {
     "name": "stdout",
     "output_type": "stream",
     "text": [
      "validation (log loss) : 18.247099528240557\n",
      "validation (accuracy) : 0.49375\n",
      "validation best accuracy :  0.5475\n",
      "end validation! (epoch : 73)\n",
      "==================================================\n",
      "start training! (epoch : 74)\n"
     ]
    },
    {
     "name": "stderr",
     "output_type": "stream",
     "text": [
      "100%|█████████████████████████████████████████████████████████████████████████████████| 5/5 [00:18<00:00,  3.66s/it]\n"
     ]
    },
    {
     "name": "stdout",
     "output_type": "stream",
     "text": [
      "training (log loss) : 18.45735417301041\n",
      "training (accuracy) : 0.48791666666666667\n",
      "end training! (epoch : 74)\n",
      "==================================================\n",
      "start validation! (epoch : 74)\n"
     ]
    },
    {
     "name": "stderr",
     "output_type": "stream",
     "text": [
      "100%|█████████████████████████████████████████████████████████████████████████████████| 2/2 [00:02<00:00,  1.20s/it]\n"
     ]
    },
    {
     "name": "stdout",
     "output_type": "stream",
     "text": [
      "validation (log loss) : 18.382263228449748\n",
      "validation (accuracy) : 0.49\n",
      "validation best accuracy :  0.5475\n",
      "end validation! (epoch : 74)\n",
      "==================================================\n",
      "start training! (epoch : 75)\n"
     ]
    },
    {
     "name": "stderr",
     "output_type": "stream",
     "text": [
      "100%|█████████████████████████████████████████████████████████████████████████████████| 5/5 [00:17<00:00,  3.46s/it]\n"
     ]
    },
    {
     "name": "stdout",
     "output_type": "stream",
     "text": [
      "training (log loss) : 17.37604457133689\n",
      "training (accuracy) : 0.5179166666666667\n",
      "end training! (epoch : 75)\n",
      "==================================================\n",
      "start validation! (epoch : 75)\n"
     ]
    },
    {
     "name": "stderr",
     "output_type": "stream",
     "text": [
      "100%|█████████████████████████████████████████████████████████████████████████████████| 2/2 [00:02<00:00,  1.19s/it]\n"
     ]
    },
    {
     "name": "stdout",
     "output_type": "stream",
     "text": [
      "validation (log loss) : 18.33720866171335\n",
      "validation (accuracy) : 0.49125\n",
      "validation best accuracy :  0.5475\n",
      "end validation! (epoch : 75)\n",
      "==================================================\n",
      "start training! (epoch : 76)\n"
     ]
    },
    {
     "name": "stderr",
     "output_type": "stream",
     "text": [
      "100%|█████████████████████████████████████████████████████████████████████████████████| 5/5 [00:18<00:00,  3.79s/it]\n"
     ]
    },
    {
     "name": "stdout",
     "output_type": "stream",
     "text": [
      "training (log loss) : 17.82659023870086\n",
      "training (accuracy) : 0.5054166666666666\n",
      "end training! (epoch : 76)\n",
      "==================================================\n",
      "start validation! (epoch : 76)\n"
     ]
    },
    {
     "name": "stderr",
     "output_type": "stream",
     "text": [
      "100%|█████████████████████████████████████████████████████████████████████████████████| 2/2 [00:02<00:00,  1.18s/it]\n"
     ]
    },
    {
     "name": "stdout",
     "output_type": "stream",
     "text": [
      "validation (log loss) : 17.346008193512628\n",
      "validation (accuracy) : 0.51875\n",
      "validation best accuracy :  0.5475\n",
      "end validation! (epoch : 76)\n",
      "==================================================\n",
      "start training! (epoch : 77)\n"
     ]
    },
    {
     "name": "stderr",
     "output_type": "stream",
     "text": [
      "100%|█████████████████████████████████████████████████████████████████████████████████| 5/5 [00:20<00:00,  4.08s/it]\n"
     ]
    },
    {
     "name": "stdout",
     "output_type": "stream",
     "text": [
      "training (log loss) : 18.47237236192254\n",
      "training (accuracy) : 0.4875\n",
      "end training! (epoch : 77)\n",
      "==================================================\n",
      "start validation! (epoch : 77)\n"
     ]
    },
    {
     "name": "stderr",
     "output_type": "stream",
     "text": [
      "100%|█████████████████████████████████████████████████████████████████████████████████| 2/2 [00:02<00:00,  1.19s/it]\n"
     ]
    },
    {
     "name": "stdout",
     "output_type": "stream",
     "text": [
      "validation (log loss) : 18.382263228449748\n",
      "validation (accuracy) : 0.49\n",
      "validation best accuracy :  0.5475\n",
      "end validation! (epoch : 77)\n",
      "==================================================\n",
      "start training! (epoch : 78)\n"
     ]
    },
    {
     "name": "stderr",
     "output_type": "stream",
     "text": [
      "100%|█████████████████████████████████████████████████████████████████████████████████| 5/5 [00:19<00:00,  3.86s/it]\n"
     ]
    },
    {
     "name": "stdout",
     "output_type": "stream",
     "text": [
      "training (log loss) : 18.066881261294974\n",
      "training (accuracy) : 0.49875\n",
      "end training! (epoch : 78)\n",
      "==================================================\n",
      "start validation! (epoch : 78)\n"
     ]
    },
    {
     "name": "stderr",
     "output_type": "stream",
     "text": [
      "100%|█████████████████████████████████████████████████████████████████████████████████| 2/2 [00:02<00:00,  1.19s/it]\n"
     ]
    },
    {
     "name": "stdout",
     "output_type": "stream",
     "text": [
      "validation (log loss) : 18.42731779518614\n",
      "validation (accuracy) : 0.48875\n",
      "validation best accuracy :  0.5475\n",
      "end validation! (epoch : 78)\n",
      "==================================================\n",
      "start training! (epoch : 79)\n"
     ]
    },
    {
     "name": "stderr",
     "output_type": "stream",
     "text": [
      "100%|█████████████████████████████████████████████████████████████████████████████████| 5/5 [00:19<00:00,  3.88s/it]\n"
     ]
    },
    {
     "name": "stdout",
     "output_type": "stream",
     "text": [
      "training (log loss) : 17.481171893721818\n",
      "training (accuracy) : 0.515\n",
      "end training! (epoch : 79)\n",
      "==================================================\n",
      "start validation! (epoch : 79)\n"
     ]
    },
    {
     "name": "stderr",
     "output_type": "stream",
     "text": [
      "100%|█████████████████████████████████████████████████████████████████████████████████| 2/2 [00:02<00:00,  1.25s/it]\n"
     ]
    },
    {
     "name": "stdout",
     "output_type": "stream",
     "text": [
      "validation (log loss) : 17.52622646045821\n",
      "validation (accuracy) : 0.51375\n",
      "validation best accuracy :  0.5475\n",
      "end validation! (epoch : 79)\n",
      "==================================================\n",
      "start training! (epoch : 80)\n"
     ]
    },
    {
     "name": "stderr",
     "output_type": "stream",
     "text": [
      "100%|█████████████████████████████████████████████████████████████████████████████████| 5/5 [00:21<00:00,  4.30s/it]\n"
     ]
    },
    {
     "name": "stdout",
     "output_type": "stream",
     "text": [
      "training (log loss) : 17.946735749997917\n",
      "training (accuracy) : 0.5020833333333333\n",
      "end training! (epoch : 80)\n",
      "==================================================\n",
      "start validation! (epoch : 80)\n"
     ]
    },
    {
     "name": "stderr",
     "output_type": "stream",
     "text": [
      "100%|█████████████████████████████████████████████████████████████████████████████████| 2/2 [00:02<00:00,  1.23s/it]\n"
     ]
    },
    {
     "name": "stdout",
     "output_type": "stream",
     "text": [
      "validation (log loss) : 18.382263228449748\n",
      "validation (accuracy) : 0.49\n",
      "validation best accuracy :  0.5475\n",
      "end validation! (epoch : 80)\n",
      "==================================================\n",
      "start training! (epoch : 81)\n"
     ]
    },
    {
     "name": "stderr",
     "output_type": "stream",
     "text": [
      "100%|█████████████████████████████████████████████████████████████████████████████████| 5/5 [00:18<00:00,  3.62s/it]\n"
     ]
    },
    {
     "name": "stdout",
     "output_type": "stream",
     "text": [
      "training (log loss) : 17.61633559393101\n",
      "training (accuracy) : 0.51125\n",
      "end training! (epoch : 81)\n",
      "==================================================\n",
      "start validation! (epoch : 81)\n"
     ]
    },
    {
     "name": "stderr",
     "output_type": "stream",
     "text": [
      "100%|█████████████████████████████████████████████████████████████████████████████████| 2/2 [00:02<00:00,  1.33s/it]\n"
     ]
    },
    {
     "name": "stdout",
     "output_type": "stream",
     "text": [
      "validation (log loss) : 18.472372361922538\n",
      "validation (accuracy) : 0.4875\n",
      "validation best accuracy :  0.5475\n",
      "end validation! (epoch : 81)\n",
      "==================================================\n",
      "start training! (epoch : 82)\n"
     ]
    },
    {
     "name": "stderr",
     "output_type": "stream",
     "text": [
      "100%|█████████████████████████████████████████████████████████████████████████████████| 5/5 [00:21<00:00,  4.20s/it]\n"
     ]
    },
    {
     "name": "stdout",
     "output_type": "stream",
     "text": [
      "training (log loss) : 17.946735749997917\n",
      "training (accuracy) : 0.5020833333333333\n",
      "end training! (epoch : 82)\n",
      "==================================================\n",
      "start validation! (epoch : 82)\n"
     ]
    },
    {
     "name": "stderr",
     "output_type": "stream",
     "text": [
      "100%|█████████████████████████████████████████████████████████████████████████████████| 2/2 [00:02<00:00,  1.20s/it]\n"
     ]
    },
    {
     "name": "stdout",
     "output_type": "stream",
     "text": [
      "validation (log loss) : 17.931717561085783\n",
      "validation (accuracy) : 0.5025\n",
      "validation best accuracy :  0.5475\n",
      "end validation! (epoch : 82)\n",
      "==================================================\n",
      "start training! (epoch : 83)\n"
     ]
    },
    {
     "name": "stderr",
     "output_type": "stream",
     "text": [
      "100%|█████████████████████████████████████████████████████████████████████████████████| 5/5 [00:19<00:00,  3.82s/it]\n"
     ]
    },
    {
     "name": "stdout",
     "output_type": "stream",
     "text": [
      "training (log loss) : 17.661390160667402\n",
      "training (accuracy) : 0.51\n",
      "end training! (epoch : 83)\n",
      "==================================================\n",
      "start validation! (epoch : 83)\n"
     ]
    },
    {
     "name": "stderr",
     "output_type": "stream",
     "text": [
      "100%|█████████████████████████████████████████████████████████████████████████████████| 2/2 [00:02<00:00,  1.19s/it]\n"
     ]
    },
    {
     "name": "stdout",
     "output_type": "stream",
     "text": [
      "validation (log loss) : 18.247099528240554\n",
      "validation (accuracy) : 0.49375\n",
      "validation best accuracy :  0.5475\n",
      "end validation! (epoch : 83)\n",
      "==================================================\n",
      "start training! (epoch : 84)\n"
     ]
    },
    {
     "name": "stderr",
     "output_type": "stream",
     "text": [
      "100%|█████████████████████████████████████████████████████████████████████████████████| 5/5 [00:19<00:00,  3.81s/it]\n"
     ]
    },
    {
     "name": "stdout",
     "output_type": "stream",
     "text": [
      "training (log loss) : 17.736481105228066\n",
      "training (accuracy) : 0.5079166666666667\n",
      "end training! (epoch : 84)\n",
      "==================================================\n",
      "start validation! (epoch : 84)\n"
     ]
    },
    {
     "name": "stderr",
     "output_type": "stream",
     "text": [
      "100%|█████████████████████████████████████████████████████████████████████████████████| 2/2 [00:02<00:00,  1.19s/it]\n"
     ]
    },
    {
     "name": "stdout",
     "output_type": "stream",
     "text": [
      "validation (log loss) : 18.382263228449748\n",
      "validation (accuracy) : 0.49\n",
      "validation best accuracy :  0.5475\n",
      "end validation! (epoch : 84)\n",
      "==================================================\n",
      "start training! (epoch : 85)\n"
     ]
    },
    {
     "name": "stderr",
     "output_type": "stream",
     "text": [
      "100%|█████████████████████████████████████████████████████████████████████████████████| 5/5 [00:18<00:00,  3.66s/it]\n"
     ]
    },
    {
     "name": "stdout",
     "output_type": "stream",
     "text": [
      "training (log loss) : 17.706444727403802\n",
      "training (accuracy) : 0.50875\n",
      "end training! (epoch : 85)\n",
      "==================================================\n",
      "start validation! (epoch : 85)\n"
     ]
    },
    {
     "name": "stderr",
     "output_type": "stream",
     "text": [
      "100%|█████████████████████████████████████████████████████████████████████████████████| 2/2 [00:02<00:00,  1.20s/it]\n"
     ]
    },
    {
     "name": "stdout",
     "output_type": "stream",
     "text": [
      "validation (log loss) : 17.616335593931005\n",
      "validation (accuracy) : 0.51125\n",
      "validation best accuracy :  0.5475\n",
      "end validation! (epoch : 85)\n",
      "==================================================\n",
      "start training! (epoch : 86)\n"
     ]
    },
    {
     "name": "stderr",
     "output_type": "stream",
     "text": [
      "100%|█████████████████████████████████████████████████████████████████████████████████| 5/5 [00:20<00:00,  4.10s/it]\n"
     ]
    },
    {
     "name": "stdout",
     "output_type": "stream",
     "text": [
      "training (log loss) : 17.856626616525123\n",
      "training (accuracy) : 0.5045833333333334\n",
      "end training! (epoch : 86)\n",
      "==================================================\n",
      "start validation! (epoch : 86)\n"
     ]
    },
    {
     "name": "stderr",
     "output_type": "stream",
     "text": [
      "100%|█████████████████████████████████████████████████████████████████████████████████| 2/2 [00:02<00:00,  1.21s/it]\n"
     ]
    },
    {
     "name": "stdout",
     "output_type": "stream",
     "text": [
      "validation (log loss) : 18.111935828031367\n",
      "validation (accuracy) : 0.4975\n",
      "validation best accuracy :  0.5475\n",
      "end validation! (epoch : 86)\n",
      "==================================================\n",
      "start training! (epoch : 87)\n"
     ]
    },
    {
     "name": "stderr",
     "output_type": "stream",
     "text": [
      "100%|█████████████████████████████████████████████████████████████████████████████████| 5/5 [00:20<00:00,  4.09s/it]\n"
     ]
    },
    {
     "name": "stdout",
     "output_type": "stream",
     "text": [
      "training (log loss) : 17.856626616525123\n",
      "training (accuracy) : 0.5045833333333334\n",
      "end training! (epoch : 87)\n",
      "==================================================\n",
      "start validation! (epoch : 87)\n"
     ]
    },
    {
     "name": "stderr",
     "output_type": "stream",
     "text": [
      "100%|█████████████████████████████████████████████████████████████████████████████████| 2/2 [00:02<00:00,  1.19s/it]\n"
     ]
    },
    {
     "name": "stdout",
     "output_type": "stream",
     "text": [
      "validation (log loss) : 18.33720866171335\n",
      "validation (accuracy) : 0.49125\n",
      "validation best accuracy :  0.5475\n",
      "end validation! (epoch : 87)\n",
      "==================================================\n",
      "start training! (epoch : 88)\n"
     ]
    },
    {
     "name": "stderr",
     "output_type": "stream",
     "text": [
      "100%|█████████████████████████████████████████████████████████████████████████████████| 5/5 [00:19<00:00,  3.97s/it]\n"
     ]
    },
    {
     "name": "stdout",
     "output_type": "stream",
     "text": [
      "training (log loss) : 17.781535671964463\n",
      "training (accuracy) : 0.5066666666666667\n",
      "end training! (epoch : 88)\n",
      "==================================================\n",
      "start validation! (epoch : 88)\n"
     ]
    },
    {
     "name": "stderr",
     "output_type": "stream",
     "text": [
      "100%|█████████████████████████████████████████████████████████████████████████████████| 2/2 [00:02<00:00,  1.18s/it]\n"
     ]
    },
    {
     "name": "stdout",
     "output_type": "stream",
     "text": [
      "validation (log loss) : 18.33720866171335\n",
      "validation (accuracy) : 0.49125\n",
      "validation best accuracy :  0.5475\n",
      "end validation! (epoch : 88)\n",
      "==================================================\n",
      "start training! (epoch : 89)\n"
     ]
    },
    {
     "name": "stderr",
     "output_type": "stream",
     "text": [
      "100%|█████████████████████████████████████████████████████████████████████████████████| 5/5 [00:17<00:00,  3.55s/it]\n"
     ]
    },
    {
     "name": "stdout",
     "output_type": "stream",
     "text": [
      "training (log loss) : 17.571281027194612\n",
      "training (accuracy) : 0.5125\n",
      "end training! (epoch : 89)\n",
      "==================================================\n",
      "start validation! (epoch : 89)\n"
     ]
    },
    {
     "name": "stderr",
     "output_type": "stream",
     "text": [
      "100%|█████████████████████████████████████████████████████████████████████████████████| 2/2 [00:02<00:00,  1.20s/it]\n"
     ]
    },
    {
     "name": "stdout",
     "output_type": "stream",
     "text": [
      "validation (log loss) : 18.20204496150416\n",
      "validation (accuracy) : 0.495\n",
      "validation best accuracy :  0.5475\n",
      "end validation! (epoch : 89)\n",
      "==================================================\n",
      "start training! (epoch : 90)\n"
     ]
    },
    {
     "name": "stderr",
     "output_type": "stream",
     "text": [
      "100%|█████████████████████████████████████████████████████████████████████████████████| 5/5 [00:19<00:00,  3.89s/it]\n"
     ]
    },
    {
     "name": "stdout",
     "output_type": "stream",
     "text": [
      "training (log loss) : 18.172008583679897\n",
      "training (accuracy) : 0.49583333333333335\n",
      "end training! (epoch : 90)\n",
      "==================================================\n",
      "start validation! (epoch : 90)\n"
     ]
    },
    {
     "name": "stderr",
     "output_type": "stream",
     "text": [
      "100%|█████████████████████████████████████████████████████████████████████████████████| 2/2 [00:02<00:00,  1.18s/it]\n"
     ]
    },
    {
     "name": "stdout",
     "output_type": "stream",
     "text": [
      "validation (log loss) : 17.93171756108578\n",
      "validation (accuracy) : 0.5025\n",
      "validation best accuracy :  0.5475\n",
      "end validation! (epoch : 90)\n",
      "==================================================\n",
      "start training! (epoch : 91)\n"
     ]
    },
    {
     "name": "stderr",
     "output_type": "stream",
     "text": [
      "100%|█████████████████████████████████████████████████████████████████████████████████| 5/5 [00:17<00:00,  3.52s/it]\n"
     ]
    },
    {
     "name": "stdout",
     "output_type": "stream",
     "text": [
      "training (log loss) : 17.69142653849167\n",
      "training (accuracy) : 0.5091666666666667\n",
      "end training! (epoch : 91)\n",
      "==================================================\n",
      "start validation! (epoch : 91)\n"
     ]
    },
    {
     "name": "stderr",
     "output_type": "stream",
     "text": [
      "100%|█████████████████████████████████████████████████████████████████████████████████| 2/2 [00:02<00:00,  1.19s/it]\n"
     ]
    },
    {
     "name": "stdout",
     "output_type": "stream",
     "text": [
      "validation (log loss) : 15.904262057947943\n",
      "validation (accuracy) : 0.55875\n",
      "validation best accuracy :  0.55875\n",
      "end validation! (epoch : 91)\n",
      "==================================================\n",
      "start training! (epoch : 92)\n"
     ]
    },
    {
     "name": "stderr",
     "output_type": "stream",
     "text": [
      "100%|█████████████████████████████████████████████████████████████████████████████████| 5/5 [00:20<00:00,  4.09s/it]\n"
     ]
    },
    {
     "name": "stdout",
     "output_type": "stream",
     "text": [
      "training (log loss) : 17.91669937217365\n",
      "training (accuracy) : 0.5029166666666667\n",
      "end training! (epoch : 92)\n",
      "==================================================\n",
      "start validation! (epoch : 92)\n"
     ]
    },
    {
     "name": "stderr",
     "output_type": "stream",
     "text": [
      "100%|█████████████████████████████████████████████████████████████████████████████████| 2/2 [00:02<00:00,  1.31s/it]\n"
     ]
    },
    {
     "name": "stdout",
     "output_type": "stream",
     "text": [
      "validation (log loss) : 17.7064447274038\n",
      "validation (accuracy) : 0.50875\n",
      "validation best accuracy :  0.55875\n",
      "end validation! (epoch : 92)\n",
      "==================================================\n",
      "start training! (epoch : 93)\n"
     ]
    },
    {
     "name": "stderr",
     "output_type": "stream",
     "text": [
      "100%|█████████████████████████████████████████████████████████████████████████████████| 5/5 [00:19<00:00,  3.96s/it]\n"
     ]
    },
    {
     "name": "stdout",
     "output_type": "stream",
     "text": [
      "training (log loss) : 17.901681183261516\n",
      "training (accuracy) : 0.5033333333333333\n",
      "end training! (epoch : 93)\n",
      "==================================================\n",
      "start validation! (epoch : 93)\n"
     ]
    },
    {
     "name": "stderr",
     "output_type": "stream",
     "text": [
      "100%|█████████████████████████████████████████████████████████████████████████████████| 2/2 [00:02<00:00,  1.18s/it]\n"
     ]
    },
    {
     "name": "stdout",
     "output_type": "stream",
     "text": [
      "validation (log loss) : 18.337208661713348\n",
      "validation (accuracy) : 0.49125\n",
      "validation best accuracy :  0.55875\n",
      "end validation! (epoch : 93)\n",
      "==================================================\n",
      "start training! (epoch : 94)\n"
     ]
    },
    {
     "name": "stderr",
     "output_type": "stream",
     "text": [
      "100%|█████████████████████████████████████████████████████████████████████████████████| 5/5 [00:17<00:00,  3.46s/it]\n"
     ]
    },
    {
     "name": "stdout",
     "output_type": "stream",
     "text": [
      "training (log loss) : 17.706444727403802\n",
      "training (accuracy) : 0.50875\n",
      "end training! (epoch : 94)\n",
      "==================================================\n",
      "start validation! (epoch : 94)\n"
     ]
    },
    {
     "name": "stderr",
     "output_type": "stream",
     "text": [
      "100%|█████████████████████████████████████████████████████████████████████████████████| 2/2 [00:02<00:00,  1.21s/it]\n"
     ]
    },
    {
     "name": "stdout",
     "output_type": "stream",
     "text": [
      "validation (log loss) : 18.337208661713348\n",
      "validation (accuracy) : 0.49125\n",
      "validation best accuracy :  0.55875\n",
      "end validation! (epoch : 94)\n",
      "==================================================\n",
      "start training! (epoch : 95)\n"
     ]
    },
    {
     "name": "stderr",
     "output_type": "stream",
     "text": [
      "100%|█████████████████████████████████████████████████████████████████████████████████| 5/5 [00:19<00:00,  3.82s/it]\n"
     ]
    },
    {
     "name": "stdout",
     "output_type": "stream",
     "text": [
      "training (log loss) : 17.99179031673431\n",
      "training (accuracy) : 0.5008333333333334\n",
      "end training! (epoch : 95)\n",
      "==================================================\n",
      "start validation! (epoch : 95)\n"
     ]
    },
    {
     "name": "stderr",
     "output_type": "stream",
     "text": [
      "100%|█████████████████████████████████████████████████████████████████████████████████| 2/2 [00:02<00:00,  1.18s/it]\n"
     ]
    },
    {
     "name": "stdout",
     "output_type": "stream",
     "text": [
      "validation (log loss) : 18.337208661713348\n",
      "validation (accuracy) : 0.49125\n",
      "validation best accuracy :  0.55875\n",
      "end validation! (epoch : 95)\n",
      "==================================================\n",
      "start training! (epoch : 96)\n"
     ]
    },
    {
     "name": "stderr",
     "output_type": "stream",
     "text": [
      "100%|█████████████████████████████████████████████████████████████████████████████████| 5/5 [00:18<00:00,  3.68s/it]\n"
     ]
    },
    {
     "name": "stdout",
     "output_type": "stream",
     "text": [
      "training (log loss) : 17.541244649370345\n",
      "training (accuracy) : 0.5133333333333333\n",
      "end training! (epoch : 96)\n",
      "==================================================\n",
      "start validation! (epoch : 96)\n"
     ]
    },
    {
     "name": "stderr",
     "output_type": "stream",
     "text": [
      "100%|█████████████████████████████████████████████████████████████████████████████████| 2/2 [00:02<00:00,  1.23s/it]\n"
     ]
    },
    {
     "name": "stdout",
     "output_type": "stream",
     "text": [
      "validation (log loss) : 18.33720866171335\n",
      "validation (accuracy) : 0.49125\n",
      "validation best accuracy :  0.55875\n",
      "end validation! (epoch : 96)\n",
      "==================================================\n",
      "start training! (epoch : 97)\n"
     ]
    },
    {
     "name": "stderr",
     "output_type": "stream",
     "text": [
      "100%|█████████████████████████████████████████████████████████████████████████████████| 5/5 [00:18<00:00,  3.71s/it]\n"
     ]
    },
    {
     "name": "stdout",
     "output_type": "stream",
     "text": [
      "training (log loss) : 17.391062760249024\n",
      "training (accuracy) : 0.5175\n",
      "end training! (epoch : 97)\n",
      "==================================================\n",
      "start validation! (epoch : 97)\n"
     ]
    },
    {
     "name": "stderr",
     "output_type": "stream",
     "text": [
      "100%|█████████████████████████████████████████████████████████████████████████████████| 2/2 [00:02<00:00,  1.23s/it]\n"
     ]
    },
    {
     "name": "stdout",
     "output_type": "stream",
     "text": [
      "validation (log loss) : 18.292154094976954\n",
      "validation (accuracy) : 0.4925\n",
      "validation best accuracy :  0.55875\n",
      "end validation! (epoch : 97)\n",
      "==================================================\n",
      "start training! (epoch : 98)\n"
     ]
    },
    {
     "name": "stderr",
     "output_type": "stream",
     "text": [
      "100%|█████████████████████████████████████████████████████████████████████████████████| 5/5 [00:18<00:00,  3.77s/it]\n"
     ]
    },
    {
     "name": "stdout",
     "output_type": "stream",
     "text": [
      "training (log loss) : 17.195826304391307\n",
      "training (accuracy) : 0.5229166666666667\n",
      "end training! (epoch : 98)\n",
      "==================================================\n",
      "start validation! (epoch : 98)\n"
     ]
    },
    {
     "name": "stderr",
     "output_type": "stream",
     "text": [
      "100%|█████████████████████████████████████████████████████████████████████████████████| 2/2 [00:02<00:00,  1.18s/it]\n"
     ]
    },
    {
     "name": "stdout",
     "output_type": "stream",
     "text": [
      "validation (log loss) : 18.247099528240554\n",
      "validation (accuracy) : 0.49375\n",
      "validation best accuracy :  0.55875\n",
      "end validation! (epoch : 98)\n",
      "==================================================\n",
      "start training! (epoch : 99)\n"
     ]
    },
    {
     "name": "stderr",
     "output_type": "stream",
     "text": [
      "100%|█████████████████████████████████████████████████████████████████████████████████| 5/5 [00:17<00:00,  3.59s/it]\n"
     ]
    },
    {
     "name": "stdout",
     "output_type": "stream",
     "text": [
      "training (log loss) : 17.49619008263395\n",
      "training (accuracy) : 0.5145833333333333\n",
      "end training! (epoch : 99)\n",
      "==================================================\n",
      "start validation! (epoch : 99)\n"
     ]
    },
    {
     "name": "stderr",
     "output_type": "stream",
     "text": [
      "100%|█████████████████████████████████████████████████████████████████████████████████| 2/2 [00:02<00:00,  1.22s/it]\n"
     ]
    },
    {
     "name": "stdout",
     "output_type": "stream",
     "text": [
      "validation (log loss) : 18.247099528240554\n",
      "validation (accuracy) : 0.49375\n",
      "validation best accuracy :  0.55875\n",
      "end validation! (epoch : 99)\n",
      "==================================================\n",
      "start training! (epoch : 100)\n"
     ]
    },
    {
     "name": "stderr",
     "output_type": "stream",
     "text": [
      "100%|█████████████████████████████████████████████████████████████████████████████████| 5/5 [00:20<00:00,  4.08s/it]\n"
     ]
    },
    {
     "name": "stdout",
     "output_type": "stream",
     "text": [
      "training (log loss) : 17.00058984853359\n",
      "training (accuracy) : 0.5283333333333333\n",
      "end training! (epoch : 100)\n",
      "==================================================\n",
      "start validation! (epoch : 100)\n"
     ]
    },
    {
     "name": "stderr",
     "output_type": "stream",
     "text": [
      "100%|█████████████████████████████████████████████████████████████████████████████████| 2/2 [00:02<00:00,  1.18s/it]\n"
     ]
    },
    {
     "name": "stdout",
     "output_type": "stream",
     "text": [
      "validation (log loss) : 18.29215409497695\n",
      "validation (accuracy) : 0.4925\n",
      "validation best accuracy :  0.55875\n",
      "end validation! (epoch : 100)\n",
      "==================================================\n",
      "start training! (epoch : 101)\n"
     ]
    },
    {
     "name": "stderr",
     "output_type": "stream",
     "text": [
      "100%|█████████████████████████████████████████████████████████████████████████████████| 5/5 [00:17<00:00,  3.51s/it]\n"
     ]
    },
    {
     "name": "stdout",
     "output_type": "stream",
     "text": [
      "training (log loss) : 17.526226460458215\n",
      "training (accuracy) : 0.51375\n",
      "end training! (epoch : 101)\n",
      "==================================================\n",
      "start validation! (epoch : 101)\n"
     ]
    },
    {
     "name": "stderr",
     "output_type": "stream",
     "text": [
      "100%|█████████████████████████████████████████████████████████████████████████████████| 2/2 [00:02<00:00,  1.20s/it]\n"
     ]
    },
    {
     "name": "stdout",
     "output_type": "stream",
     "text": [
      "validation (log loss) : 17.931717561085783\n",
      "validation (accuracy) : 0.5025\n",
      "validation best accuracy :  0.55875\n",
      "end validation! (epoch : 101)\n",
      "==================================================\n",
      "start training! (epoch : 102)\n"
     ]
    },
    {
     "name": "stderr",
     "output_type": "stream",
     "text": [
      "100%|█████████████████████████████████████████████████████████████████████████████████| 5/5 [00:20<00:00,  4.12s/it]\n"
     ]
    },
    {
     "name": "stdout",
     "output_type": "stream",
     "text": [
      "training (log loss) : 18.5474633064832\n",
      "training (accuracy) : 0.48541666666666666\n",
      "end training! (epoch : 102)\n",
      "==================================================\n",
      "start validation! (epoch : 102)\n"
     ]
    },
    {
     "name": "stderr",
     "output_type": "stream",
     "text": [
      "100%|█████████████████████████████████████████████████████████████████████████████████| 2/2 [00:02<00:00,  1.18s/it]\n"
     ]
    },
    {
     "name": "stdout",
     "output_type": "stream",
     "text": [
      "validation (log loss) : 18.337208661713348\n",
      "validation (accuracy) : 0.49125\n",
      "validation best accuracy :  0.55875\n",
      "end validation! (epoch : 102)\n",
      "==================================================\n",
      "start training! (epoch : 103)\n"
     ]
    },
    {
     "name": "stderr",
     "output_type": "stream",
     "text": [
      "100%|█████████████████████████████████████████████████████████████████████████████████| 5/5 [00:18<00:00,  3.73s/it]\n"
     ]
    },
    {
     "name": "stdout",
     "output_type": "stream",
     "text": [
      "training (log loss) : 18.232081339328428\n",
      "training (accuracy) : 0.49416666666666664\n",
      "end training! (epoch : 103)\n",
      "==================================================\n",
      "start validation! (epoch : 103)\n"
     ]
    },
    {
     "name": "stderr",
     "output_type": "stream",
     "text": [
      "100%|█████████████████████████████████████████████████████████████████████████████████| 2/2 [00:02<00:00,  1.18s/it]\n"
     ]
    },
    {
     "name": "stdout",
     "output_type": "stream",
     "text": [
      "validation (log loss) : 17.255899060039837\n",
      "validation (accuracy) : 0.52125\n",
      "validation best accuracy :  0.55875\n",
      "end validation! (epoch : 103)\n",
      "==================================================\n",
      "start training! (epoch : 104)\n"
     ]
    },
    {
     "name": "stderr",
     "output_type": "stream",
     "text": [
      "100%|█████████████████████████████████████████████████████████████████████████████████| 5/5 [00:19<00:00,  3.87s/it]\n"
     ]
    },
    {
     "name": "stdout",
     "output_type": "stream",
     "text": [
      "training (log loss) : 17.511208271546085\n",
      "training (accuracy) : 0.5141666666666667\n",
      "end training! (epoch : 104)\n",
      "==================================================\n",
      "start validation! (epoch : 104)\n"
     ]
    },
    {
     "name": "stderr",
     "output_type": "stream",
     "text": [
      "100%|█████████████████████████████████████████████████████████████████████████████████| 2/2 [00:02<00:00,  1.20s/it]\n"
     ]
    },
    {
     "name": "stdout",
     "output_type": "stream",
     "text": [
      "validation (log loss) : 17.616335593931005\n",
      "validation (accuracy) : 0.51125\n",
      "validation best accuracy :  0.55875\n",
      "end validation! (epoch : 104)\n",
      "==================================================\n",
      "start training! (epoch : 105)\n"
     ]
    },
    {
     "name": "stderr",
     "output_type": "stream",
     "text": [
      "100%|█████████████████████████████████████████████████████████████████████████████████| 5/5 [00:18<00:00,  3.68s/it]\n"
     ]
    },
    {
     "name": "stdout",
     "output_type": "stream",
     "text": [
      "training (log loss) : 17.571281027194612\n",
      "training (accuracy) : 0.5125\n",
      "end training! (epoch : 105)\n",
      "==================================================\n",
      "start validation! (epoch : 105)\n"
     ]
    },
    {
     "name": "stderr",
     "output_type": "stream",
     "text": [
      "100%|█████████████████████████████████████████████████████████████████████████████████| 2/2 [00:02<00:00,  1.19s/it]\n"
     ]
    },
    {
     "name": "stdout",
     "output_type": "stream",
     "text": [
      "validation (log loss) : 18.42731779518614\n",
      "validation (accuracy) : 0.48875\n",
      "validation best accuracy :  0.55875\n",
      "end validation! (epoch : 105)\n",
      "==================================================\n",
      "start training! (epoch : 106)\n"
     ]
    },
    {
     "name": "stderr",
     "output_type": "stream",
     "text": [
      "100%|█████████████████████████████████████████████████████████████████████████████████| 5/5 [00:19<00:00,  3.98s/it]\n"
     ]
    },
    {
     "name": "stdout",
     "output_type": "stream",
     "text": [
      "training (log loss) : 17.69142653849167\n",
      "training (accuracy) : 0.5091666666666667\n",
      "end training! (epoch : 106)\n",
      "==================================================\n",
      "start validation! (epoch : 106)\n"
     ]
    },
    {
     "name": "stderr",
     "output_type": "stream",
     "text": [
      "100%|█████████████████████████████████████████████████████████████████████████████████| 2/2 [00:02<00:00,  1.18s/it]\n"
     ]
    },
    {
     "name": "stdout",
     "output_type": "stream",
     "text": [
      "validation (log loss) : 17.346008193512628\n",
      "validation (accuracy) : 0.51875\n",
      "validation best accuracy :  0.55875\n",
      "end validation! (epoch : 106)\n",
      "==================================================\n",
      "start training! (epoch : 107)\n"
     ]
    },
    {
     "name": "stderr",
     "output_type": "stream",
     "text": [
      "100%|█████████████████████████████████████████████████████████████████████████████████| 5/5 [00:20<00:00,  4.00s/it]\n"
     ]
    },
    {
     "name": "stdout",
     "output_type": "stream",
     "text": [
      "training (log loss) : 18.307172283889084\n",
      "training (accuracy) : 0.4920833333333333\n",
      "end training! (epoch : 107)\n",
      "==================================================\n",
      "start validation! (epoch : 107)\n"
     ]
    },
    {
     "name": "stderr",
     "output_type": "stream",
     "text": [
      "100%|█████████████████████████████████████████████████████████████████████████████████| 2/2 [00:02<00:00,  1.19s/it]\n"
     ]
    },
    {
     "name": "stdout",
     "output_type": "stream",
     "text": [
      "validation (log loss) : 18.382263228449748\n",
      "validation (accuracy) : 0.49\n",
      "validation best accuracy :  0.55875\n",
      "end validation! (epoch : 107)\n",
      "==================================================\n",
      "start training! (epoch : 108)\n"
     ]
    },
    {
     "name": "stderr",
     "output_type": "stream",
     "text": [
      "100%|█████████████████████████████████████████████████████████████████████████████████| 5/5 [00:18<00:00,  3.67s/it]\n"
     ]
    },
    {
     "name": "stdout",
     "output_type": "stream",
     "text": [
      "training (log loss) : 17.43611732698542\n",
      "training (accuracy) : 0.51625\n",
      "end training! (epoch : 108)\n",
      "==================================================\n",
      "start validation! (epoch : 108)\n"
     ]
    },
    {
     "name": "stderr",
     "output_type": "stream",
     "text": [
      "100%|█████████████████████████████████████████████████████████████████████████████████| 2/2 [00:02<00:00,  1.20s/it]\n"
     ]
    },
    {
     "name": "stdout",
     "output_type": "stream",
     "text": [
      "validation (log loss) : 18.111935828031367\n",
      "validation (accuracy) : 0.4975\n",
      "validation best accuracy :  0.55875\n",
      "end validation! (epoch : 108)\n",
      "==================================================\n",
      "start training! (epoch : 109)\n"
     ]
    },
    {
     "name": "stderr",
     "output_type": "stream",
     "text": [
      "100%|█████████████████████████████████████████████████████████████████████████████████| 5/5 [00:18<00:00,  3.68s/it]\n"
     ]
    },
    {
     "name": "stdout",
     "output_type": "stream",
     "text": [
      "training (log loss) : 17.55626283828248\n",
      "training (accuracy) : 0.5129166666666667\n",
      "end training! (epoch : 109)\n",
      "==================================================\n",
      "start validation! (epoch : 109)\n"
     ]
    },
    {
     "name": "stderr",
     "output_type": "stream",
     "text": [
      "100%|█████████████████████████████████████████████████████████████████████████████████| 2/2 [00:02<00:00,  1.18s/it]\n"
     ]
    },
    {
     "name": "stdout",
     "output_type": "stream",
     "text": [
      "validation (log loss) : 18.42731779518614\n",
      "validation (accuracy) : 0.48875\n",
      "validation best accuracy :  0.55875\n",
      "end validation! (epoch : 109)\n",
      "==================================================\n",
      "start training! (epoch : 110)\n"
     ]
    },
    {
     "name": "stderr",
     "output_type": "stream",
     "text": [
      "100%|█████████████████████████████████████████████████████████████████████████████████| 5/5 [00:19<00:00,  3.92s/it]\n"
     ]
    },
    {
     "name": "stdout",
     "output_type": "stream",
     "text": [
      "training (log loss) : 17.796553860876593\n",
      "training (accuracy) : 0.50625\n",
      "end training! (epoch : 110)\n",
      "==================================================\n",
      "start validation! (epoch : 110)\n"
     ]
    },
    {
     "name": "stderr",
     "output_type": "stream",
     "text": [
      "100%|█████████████████████████████████████████████████████████████████████████████████| 2/2 [00:02<00:00,  1.18s/it]\n"
     ]
    },
    {
     "name": "stdout",
     "output_type": "stream",
     "text": [
      "validation (log loss) : 17.7064447274038\n",
      "validation (accuracy) : 0.50875\n",
      "validation best accuracy :  0.55875\n",
      "end validation! (epoch : 110)\n",
      "==================================================\n",
      "start training! (epoch : 111)\n"
     ]
    },
    {
     "name": "stderr",
     "output_type": "stream",
     "text": [
      "100%|█████████████████████████████████████████████████████████████████████████████████| 5/5 [00:19<00:00,  3.92s/it]\n"
     ]
    },
    {
     "name": "stdout",
     "output_type": "stream",
     "text": [
      "training (log loss) : 18.021826694558577\n",
      "training (accuracy) : 0.5\n",
      "end training! (epoch : 111)\n",
      "==================================================\n",
      "start validation! (epoch : 111)\n"
     ]
    },
    {
     "name": "stderr",
     "output_type": "stream",
     "text": [
      "100%|█████████████████████████████████████████████████████████████████████████████████| 2/2 [00:02<00:00,  1.21s/it]\n"
     ]
    },
    {
     "name": "stdout",
     "output_type": "stream",
     "text": [
      "validation (log loss) : 17.346008193512628\n",
      "validation (accuracy) : 0.51875\n",
      "validation best accuracy :  0.55875\n",
      "end validation! (epoch : 111)\n",
      "==================================================\n",
      "start training! (epoch : 112)\n"
     ]
    },
    {
     "name": "stderr",
     "output_type": "stream",
     "text": [
      "100%|█████████████████████████████████████████████████████████████████████████████████| 5/5 [00:18<00:00,  3.64s/it]\n"
     ]
    },
    {
     "name": "stdout",
     "output_type": "stream",
     "text": [
      "training (log loss) : 18.111935828031367\n",
      "training (accuracy) : 0.4975\n",
      "end training! (epoch : 112)\n",
      "==================================================\n",
      "start validation! (epoch : 112)\n"
     ]
    },
    {
     "name": "stderr",
     "output_type": "stream",
     "text": [
      "100%|█████████████████████████████████████████████████████████████████████████████████| 2/2 [00:02<00:00,  1.20s/it]\n"
     ]
    },
    {
     "name": "stdout",
     "output_type": "stream",
     "text": [
      "validation (log loss) : 18.42731779518614\n",
      "validation (accuracy) : 0.48875\n",
      "validation best accuracy :  0.55875\n",
      "end validation! (epoch : 112)\n",
      "==================================================\n",
      "start training! (epoch : 113)\n"
     ]
    },
    {
     "name": "stderr",
     "output_type": "stream",
     "text": [
      "100%|█████████████████████████████████████████████████████████████████████████████████| 5/5 [00:18<00:00,  3.78s/it]\n"
     ]
    },
    {
     "name": "stdout",
     "output_type": "stream",
     "text": [
      "training (log loss) : 18.397281417361878\n",
      "training (accuracy) : 0.4895833333333333\n",
      "end training! (epoch : 113)\n",
      "==================================================\n",
      "start validation! (epoch : 113)\n"
     ]
    },
    {
     "name": "stderr",
     "output_type": "stream",
     "text": [
      "100%|█████████████████████████████████████████████████████████████████████████████████| 2/2 [00:02<00:00,  1.18s/it]\n"
     ]
    },
    {
     "name": "stdout",
     "output_type": "stream",
     "text": [
      "validation (log loss) : 17.481171893721818\n",
      "validation (accuracy) : 0.515\n",
      "validation best accuracy :  0.55875\n",
      "end validation! (epoch : 113)\n",
      "==================================================\n",
      "start training! (epoch : 114)\n"
     ]
    },
    {
     "name": "stderr",
     "output_type": "stream",
     "text": [
      "100%|█████████████████████████████████████████████████████████████████████████████████| 5/5 [00:18<00:00,  3.79s/it]\n"
     ]
    },
    {
     "name": "stdout",
     "output_type": "stream",
     "text": [
      "training (log loss) : 18.322190472801218\n",
      "training (accuracy) : 0.49166666666666664\n",
      "end training! (epoch : 114)\n",
      "==================================================\n",
      "start validation! (epoch : 114)\n"
     ]
    },
    {
     "name": "stderr",
     "output_type": "stream",
     "text": [
      "100%|█████████████████████████████████████████████████████████████████████████████████| 2/2 [00:02<00:00,  1.22s/it]\n"
     ]
    },
    {
     "name": "stdout",
     "output_type": "stream",
     "text": [
      "validation (log loss) : 18.382263228449748\n",
      "validation (accuracy) : 0.49\n",
      "validation best accuracy :  0.55875\n",
      "end validation! (epoch : 114)\n",
      "==================================================\n",
      "start training! (epoch : 115)\n"
     ]
    },
    {
     "name": "stderr",
     "output_type": "stream",
     "text": [
      "100%|█████████████████████████████████████████████████████████████████████████████████| 5/5 [00:20<00:00,  4.18s/it]\n"
     ]
    },
    {
     "name": "stdout",
     "output_type": "stream",
     "text": [
      "training (log loss) : 17.90168118326152\n",
      "training (accuracy) : 0.5033333333333333\n",
      "end training! (epoch : 115)\n",
      "==================================================\n",
      "start validation! (epoch : 115)\n"
     ]
    },
    {
     "name": "stderr",
     "output_type": "stream",
     "text": [
      "100%|█████████████████████████████████████████████████████████████████████████████████| 2/2 [00:02<00:00,  1.20s/it]\n"
     ]
    },
    {
     "name": "stdout",
     "output_type": "stream",
     "text": [
      "validation (log loss) : 18.382263228449748\n",
      "validation (accuracy) : 0.49\n",
      "validation best accuracy :  0.55875\n",
      "end validation! (epoch : 115)\n",
      "==================================================\n",
      "start training! (epoch : 116)\n"
     ]
    },
    {
     "name": "stderr",
     "output_type": "stream",
     "text": [
      "100%|█████████████████████████████████████████████████████████████████████████████████| 5/5 [00:18<00:00,  3.75s/it]\n"
     ]
    },
    {
     "name": "stdout",
     "output_type": "stream",
     "text": [
      "training (log loss) : 17.886662994349386\n",
      "training (accuracy) : 0.50375\n",
      "end training! (epoch : 116)\n",
      "==================================================\n",
      "start validation! (epoch : 116)\n"
     ]
    },
    {
     "name": "stderr",
     "output_type": "stream",
     "text": [
      "100%|█████████████████████████████████████████████████████████████████████████████████| 2/2 [00:02<00:00,  1.20s/it]\n"
     ]
    },
    {
     "name": "stdout",
     "output_type": "stream",
     "text": [
      "validation (log loss) : 18.382263228449744\n",
      "validation (accuracy) : 0.49\n",
      "validation best accuracy :  0.55875\n",
      "end validation! (epoch : 116)\n",
      "==================================================\n",
      "start training! (epoch : 117)\n"
     ]
    },
    {
     "name": "stderr",
     "output_type": "stream",
     "text": [
      "100%|█████████████████████████████████████████████████████████████████████████████████| 5/5 [00:17<00:00,  3.57s/it]\n"
     ]
    },
    {
     "name": "stdout",
     "output_type": "stream",
     "text": [
      "training (log loss) : 18.1269540169435\n",
      "training (accuracy) : 0.4970833333333333\n",
      "end training! (epoch : 117)\n",
      "==================================================\n",
      "start validation! (epoch : 117)\n"
     ]
    },
    {
     "name": "stderr",
     "output_type": "stream",
     "text": [
      "100%|█████████████████████████████████████████████████████████████████████████████████| 2/2 [00:02<00:00,  1.20s/it]\n"
     ]
    },
    {
     "name": "stdout",
     "output_type": "stream",
     "text": [
      "validation (log loss) : 17.931717561085783\n",
      "validation (accuracy) : 0.5025\n",
      "validation best accuracy :  0.55875\n",
      "end validation! (epoch : 117)\n",
      "==================================================\n",
      "start training! (epoch : 118)\n"
     ]
    },
    {
     "name": "stderr",
     "output_type": "stream",
     "text": [
      "100%|█████████████████████████████████████████████████████████████████████████████████| 5/5 [00:19<00:00,  3.96s/it]\n"
     ]
    },
    {
     "name": "stdout",
     "output_type": "stream",
     "text": [
      "training (log loss) : 17.90168118326152\n",
      "training (accuracy) : 0.5033333333333333\n",
      "end training! (epoch : 118)\n",
      "==================================================\n",
      "start validation! (epoch : 118)\n"
     ]
    },
    {
     "name": "stderr",
     "output_type": "stream",
     "text": [
      "100%|█████████████████████████████████████████████████████████████████████████████████| 2/2 [00:02<00:00,  1.20s/it]\n"
     ]
    },
    {
     "name": "stdout",
     "output_type": "stream",
     "text": [
      "validation (log loss) : 18.247099528240554\n",
      "validation (accuracy) : 0.49375\n",
      "validation best accuracy :  0.55875\n",
      "end validation! (epoch : 118)\n",
      "==================================================\n",
      "start training! (epoch : 119)\n"
     ]
    },
    {
     "name": "stderr",
     "output_type": "stream",
     "text": [
      "100%|█████████████████████████████████████████████████████████████████████████████████| 5/5 [00:19<00:00,  3.82s/it]\n"
     ]
    },
    {
     "name": "stdout",
     "output_type": "stream",
     "text": [
      "training (log loss) : 17.706444727403802\n",
      "training (accuracy) : 0.50875\n",
      "end training! (epoch : 119)\n",
      "==================================================\n",
      "start validation! (epoch : 119)\n"
     ]
    },
    {
     "name": "stderr",
     "output_type": "stream",
     "text": [
      "100%|█████████████████████████████████████████████████████████████████████████████████| 2/2 [00:02<00:00,  1.19s/it]\n"
     ]
    },
    {
     "name": "stdout",
     "output_type": "stream",
     "text": [
      "validation (log loss) : 18.382263228449748\n",
      "validation (accuracy) : 0.49\n",
      "validation best accuracy :  0.55875\n",
      "end validation! (epoch : 119)\n",
      "==================================================\n",
      "start training! (epoch : 120)\n"
     ]
    },
    {
     "name": "stderr",
     "output_type": "stream",
     "text": [
      "100%|█████████████████████████████████████████████████████████████████████████████████| 5/5 [00:18<00:00,  3.74s/it]\n"
     ]
    },
    {
     "name": "stdout",
     "output_type": "stream",
     "text": [
      "training (log loss) : 17.300953626776234\n",
      "training (accuracy) : 0.52\n",
      "end training! (epoch : 120)\n",
      "==================================================\n",
      "start validation! (epoch : 120)\n"
     ]
    },
    {
     "name": "stderr",
     "output_type": "stream",
     "text": [
      "100%|█████████████████████████████████████████████████████████████████████████████████| 2/2 [00:02<00:00,  1.26s/it]\n"
     ]
    },
    {
     "name": "stdout",
     "output_type": "stream",
     "text": [
      "validation (log loss) : 17.346008193512628\n",
      "validation (accuracy) : 0.51875\n",
      "validation best accuracy :  0.55875\n",
      "end validation! (epoch : 120)\n",
      "==================================================\n",
      "start training! (epoch : 121)\n"
     ]
    },
    {
     "name": "stderr",
     "output_type": "stream",
     "text": [
      "100%|█████████████████████████████████████████████████████████████████████████████████| 5/5 [00:19<00:00,  3.97s/it]\n"
     ]
    },
    {
     "name": "stdout",
     "output_type": "stream",
     "text": [
      "training (log loss) : 17.646371971755272\n",
      "training (accuracy) : 0.5104166666666666\n",
      "end training! (epoch : 121)\n",
      "==================================================\n",
      "start validation! (epoch : 121)\n"
     ]
    },
    {
     "name": "stderr",
     "output_type": "stream",
     "text": [
      "100%|█████████████████████████████████████████████████████████████████████████████████| 2/2 [00:02<00:00,  1.20s/it]\n"
     ]
    },
    {
     "name": "stdout",
     "output_type": "stream",
     "text": [
      "validation (log loss) : 16.895462526148666\n",
      "validation (accuracy) : 0.53125\n",
      "validation best accuracy :  0.55875\n",
      "end validation! (epoch : 121)\n",
      "==================================================\n",
      "start training! (epoch : 122)\n"
     ]
    },
    {
     "name": "stderr",
     "output_type": "stream",
     "text": [
      "100%|█████████████████████████████████████████████████████████████████████████████████| 5/5 [00:17<00:00,  3.55s/it]\n"
     ]
    },
    {
     "name": "stdout",
     "output_type": "stream",
     "text": [
      "training (log loss) : 16.760298825939476\n",
      "training (accuracy) : 0.535\n",
      "end training! (epoch : 122)\n",
      "==================================================\n",
      "start validation! (epoch : 122)\n"
     ]
    },
    {
     "name": "stderr",
     "output_type": "stream",
     "text": [
      "100%|█████████████████████████████████████████████████████████████████████████████████| 2/2 [00:02<00:00,  1.23s/it]\n"
     ]
    },
    {
     "name": "stdout",
     "output_type": "stream",
     "text": [
      "validation (log loss) : 15.363607257111184\n",
      "validation (accuracy) : 0.57375\n",
      "validation best accuracy :  0.57375\n",
      "end validation! (epoch : 122)\n",
      "==================================================\n",
      "start training! (epoch : 123)\n"
     ]
    },
    {
     "name": "stderr",
     "output_type": "stream",
     "text": [
      "100%|█████████████████████████████████████████████████████████████████████████████████| 5/5 [00:19<00:00,  3.91s/it]\n"
     ]
    },
    {
     "name": "stdout",
     "output_type": "stream",
     "text": [
      "training (log loss) : 16.685207881378812\n",
      "training (accuracy) : 0.5370833333333334\n",
      "end training! (epoch : 123)\n",
      "==================================================\n",
      "start validation! (epoch : 123)\n"
     ]
    },
    {
     "name": "stderr",
     "output_type": "stream",
     "text": [
      "100%|█████████████████████████████████████████████████████████████████████████████████| 2/2 [00:02<00:00,  1.20s/it]\n"
     ]
    },
    {
     "name": "stdout",
     "output_type": "stream",
     "text": [
      "validation (log loss) : 16.129534891629923\n",
      "validation (accuracy) : 0.5525\n",
      "validation best accuracy :  0.57375\n",
      "end validation! (epoch : 123)\n",
      "==================================================\n",
      "start training! (epoch : 124)\n"
     ]
    },
    {
     "name": "stderr",
     "output_type": "stream",
     "text": [
      "100%|█████████████████████████████████████████████████████████████████████████████████| 5/5 [00:20<00:00,  4.11s/it]\n"
     ]
    },
    {
     "name": "stdout",
     "output_type": "stream",
     "text": [
      "training (log loss) : 17.075680793094254\n",
      "training (accuracy) : 0.52625\n",
      "end training! (epoch : 124)\n",
      "==================================================\n",
      "start validation! (epoch : 124)\n"
     ]
    },
    {
     "name": "stderr",
     "output_type": "stream",
     "text": [
      "100%|█████████████████████████████████████████████████████████████████████████████████| 2/2 [00:02<00:00,  1.20s/it]\n"
     ]
    },
    {
     "name": "stdout",
     "output_type": "stream",
     "text": [
      "validation (log loss) : 14.327352222174067\n",
      "validation (accuracy) : 0.6025\n",
      "validation best accuracy :  0.6025\n",
      "end validation! (epoch : 124)\n",
      "==================================================\n",
      "start training! (epoch : 125)\n"
     ]
    },
    {
     "name": "stderr",
     "output_type": "stream",
     "text": [
      "100%|█████████████████████████████████████████████████████████████████████████████████| 5/5 [00:18<00:00,  3.78s/it]\n"
     ]
    },
    {
     "name": "stdout",
     "output_type": "stream",
     "text": [
      "training (log loss) : 16.910480715060793\n",
      "training (accuracy) : 0.5308333333333334\n",
      "end training! (epoch : 125)\n",
      "==================================================\n",
      "start validation! (epoch : 125)\n"
     ]
    },
    {
     "name": "stderr",
     "output_type": "stream",
     "text": [
      "100%|█████████████████████████████████████████████████████████████████████████████████| 2/2 [00:02<00:00,  1.21s/it]\n"
     ]
    },
    {
     "name": "stdout",
     "output_type": "stream",
     "text": [
      "validation (log loss) : 14.822952456274429\n",
      "validation (accuracy) : 0.58875\n",
      "validation best accuracy :  0.6025\n",
      "end validation! (epoch : 125)\n",
      "==================================================\n",
      "start training! (epoch : 126)\n"
     ]
    },
    {
     "name": "stderr",
     "output_type": "stream",
     "text": [
      "100%|█████████████████████████████████████████████████████████████████████████████████| 5/5 [00:18<00:00,  3.61s/it]\n"
     ]
    },
    {
     "name": "stdout",
     "output_type": "stream",
     "text": [
      "training (log loss) : 16.97055347070933\n",
      "training (accuracy) : 0.5291666666666667\n",
      "end training! (epoch : 126)\n",
      "==================================================\n",
      "start validation! (epoch : 126)\n"
     ]
    },
    {
     "name": "stderr",
     "output_type": "stream",
     "text": [
      "100%|█████████████████████████████████████████████████████████████████████████████████| 2/2 [00:02<00:00,  1.20s/it]\n"
     ]
    },
    {
     "name": "stdout",
     "output_type": "stream",
     "text": [
      "validation (log loss) : 18.292154094976954\n",
      "validation (accuracy) : 0.4925\n",
      "validation best accuracy :  0.6025\n",
      "end validation! (epoch : 126)\n",
      "==================================================\n",
      "start training! (epoch : 127)\n"
     ]
    },
    {
     "name": "stderr",
     "output_type": "stream",
     "text": [
      "100%|█████████████████████████████████████████████████████████████████████████████████| 5/5 [00:18<00:00,  3.73s/it]\n"
     ]
    },
    {
     "name": "stdout",
     "output_type": "stream",
     "text": [
      "training (log loss) : 16.85040795941227\n",
      "training (accuracy) : 0.5325\n",
      "end training! (epoch : 127)\n",
      "==================================================\n",
      "start validation! (epoch : 127)\n"
     ]
    },
    {
     "name": "stderr",
     "output_type": "stream",
     "text": [
      "100%|█████████████████████████████████████████████████████████████████████████████████| 2/2 [00:02<00:00,  1.22s/it]\n"
     ]
    },
    {
     "name": "stdout",
     "output_type": "stream",
     "text": [
      "validation (log loss) : 15.904262057947939\n",
      "validation (accuracy) : 0.55875\n",
      "validation best accuracy :  0.6025\n",
      "end validation! (epoch : 127)\n",
      "==================================================\n",
      "start training! (epoch : 128)\n"
     ]
    },
    {
     "name": "stderr",
     "output_type": "stream",
     "text": [
      "100%|█████████████████████████████████████████████████████████████████████████████████| 5/5 [00:19<00:00,  3.85s/it]\n"
     ]
    },
    {
     "name": "stdout",
     "output_type": "stream",
     "text": [
      "training (log loss) : 16.580080558993888\n",
      "training (accuracy) : 0.54\n",
      "end training! (epoch : 128)\n",
      "==================================================\n",
      "start validation! (epoch : 128)\n"
     ]
    },
    {
     "name": "stderr",
     "output_type": "stream",
     "text": [
      "100%|█████████████████████████████████████████████████████████████████████████████████| 2/2 [00:02<00:00,  1.22s/it]\n"
     ]
    },
    {
     "name": "stdout",
     "output_type": "stream",
     "text": [
      "validation (log loss) : 15.724043791002355\n",
      "validation (accuracy) : 0.56375\n",
      "validation best accuracy :  0.6025\n",
      "end validation! (epoch : 128)\n",
      "==================================================\n",
      "start training! (epoch : 129)\n"
     ]
    },
    {
     "name": "stderr",
     "output_type": "stream",
     "text": [
      "100%|█████████████████████████████████████████████████████████████████████████████████| 5/5 [00:19<00:00,  3.92s/it]\n"
     ]
    },
    {
     "name": "stdout",
     "output_type": "stream",
     "text": [
      "training (log loss) : 16.47495323660896\n",
      "training (accuracy) : 0.5429166666666667\n",
      "end training! (epoch : 129)\n",
      "==================================================\n",
      "start validation! (epoch : 129)\n"
     ]
    },
    {
     "name": "stderr",
     "output_type": "stream",
     "text": [
      "100%|█████████████████████████████████████████████████████████████████████████████████| 2/2 [00:02<00:00,  1.20s/it]\n"
     ]
    },
    {
     "name": "stdout",
     "output_type": "stream",
     "text": [
      "validation (log loss) : 15.1833889901656\n",
      "validation (accuracy) : 0.57875\n",
      "validation best accuracy :  0.6025\n",
      "end validation! (epoch : 129)\n",
      "==================================================\n",
      "start training! (epoch : 130)\n"
     ]
    },
    {
     "name": "stderr",
     "output_type": "stream",
     "text": [
      "100%|█████████████████████████████████████████████████████████████████████████████████| 5/5 [00:18<00:00,  3.74s/it]\n"
     ]
    },
    {
     "name": "stdout",
     "output_type": "stream",
     "text": [
      "training (log loss) : 16.61011693681815\n",
      "training (accuracy) : 0.5391666666666667\n",
      "end training! (epoch : 130)\n",
      "==================================================\n",
      "start validation! (epoch : 130)\n"
     ]
    },
    {
     "name": "stderr",
     "output_type": "stream",
     "text": [
      "100%|█████████████████████████████████████████████████████████████████████████████████| 2/2 [00:02<00:00,  1.30s/it]\n"
     ]
    },
    {
     "name": "stdout",
     "output_type": "stream",
     "text": [
      "validation (log loss) : 15.048225289956411\n",
      "validation (accuracy) : 0.5825\n",
      "validation best accuracy :  0.6025\n",
      "end validation! (epoch : 130)\n",
      "==================================================\n",
      "start training! (epoch : 131)\n"
     ]
    },
    {
     "name": "stderr",
     "output_type": "stream",
     "text": [
      "100%|█████████████████████████████████████████████████████████████████████████████████| 5/5 [00:21<00:00,  4.28s/it]\n"
     ]
    },
    {
     "name": "stdout",
     "output_type": "stream",
     "text": [
      "training (log loss) : 16.129534891629927\n",
      "training (accuracy) : 0.5525\n",
      "end training! (epoch : 131)\n",
      "==================================================\n",
      "start validation! (epoch : 131)\n"
     ]
    },
    {
     "name": "stderr",
     "output_type": "stream",
     "text": [
      "100%|█████████████████████████████████████████████████████████████████████████████████| 2/2 [00:02<00:00,  1.29s/it]\n"
     ]
    },
    {
     "name": "stdout",
     "output_type": "stream",
     "text": [
      "validation (log loss) : 14.77789788953803\n",
      "validation (accuracy) : 0.59\n",
      "validation best accuracy :  0.6025\n",
      "end validation! (epoch : 131)\n",
      "==================================================\n",
      "start training! (epoch : 132)\n"
     ]
    },
    {
     "name": "stderr",
     "output_type": "stream",
     "text": [
      "100%|█████████████████████████████████████████████████████████████████████████████████| 5/5 [00:19<00:00,  3.97s/it]\n"
     ]
    },
    {
     "name": "stdout",
     "output_type": "stream",
     "text": [
      "training (log loss) : 15.964334813596473\n",
      "training (accuracy) : 0.5570833333333334\n",
      "end training! (epoch : 132)\n",
      "==================================================\n",
      "start validation! (epoch : 132)\n"
     ]
    },
    {
     "name": "stderr",
     "output_type": "stream",
     "text": [
      "100%|█████████████████████████████████████████████████████████████████████████████████| 2/2 [00:02<00:00,  1.22s/it]\n"
     ]
    },
    {
     "name": "stdout",
     "output_type": "stream",
     "text": [
      "validation (log loss) : 13.246042620500553\n",
      "validation (accuracy) : 0.6325\n",
      "validation best accuracy :  0.6325\n",
      "end validation! (epoch : 132)\n",
      "==================================================\n",
      "start training! (epoch : 133)\n"
     ]
    },
    {
     "name": "stderr",
     "output_type": "stream",
     "text": [
      "100%|█████████████████████████████████████████████████████████████████████████████████| 5/5 [00:20<00:00,  4.14s/it]\n"
     ]
    },
    {
     "name": "stdout",
     "output_type": "stream",
     "text": [
      "training (log loss) : 16.414880480960438\n",
      "training (accuracy) : 0.5445833333333333\n",
      "end training! (epoch : 133)\n",
      "==================================================\n",
      "start validation! (epoch : 133)\n"
     ]
    },
    {
     "name": "stderr",
     "output_type": "stream",
     "text": [
      "100%|█████████████████████████████████████████████████████████████████████████████████| 2/2 [00:02<00:00,  1.22s/it]\n"
     ]
    },
    {
     "name": "stdout",
     "output_type": "stream",
     "text": [
      "validation (log loss) : 13.246042620500553\n",
      "validation (accuracy) : 0.6325\n",
      "validation best accuracy :  0.6325\n",
      "end validation! (epoch : 133)\n",
      "==================================================\n",
      "start training! (epoch : 134)\n"
     ]
    },
    {
     "name": "stderr",
     "output_type": "stream",
     "text": [
      "100%|█████████████████████████████████████████████████████████████████████████████████| 5/5 [00:16<00:00,  3.39s/it]\n"
     ]
    },
    {
     "name": "stdout",
     "output_type": "stream",
     "text": [
      "training (log loss) : 16.174589458366324\n",
      "training (accuracy) : 0.55125\n",
      "end training! (epoch : 134)\n",
      "==================================================\n",
      "start validation! (epoch : 134)\n"
     ]
    },
    {
     "name": "stderr",
     "output_type": "stream",
     "text": [
      "100%|█████████████████████████████████████████████████████████████████████████████████| 2/2 [00:02<00:00,  1.20s/it]\n"
     ]
    },
    {
     "name": "stdout",
     "output_type": "stream",
     "text": [
      "validation (log loss) : 14.462515922383256\n",
      "validation (accuracy) : 0.59875\n",
      "validation best accuracy :  0.6325\n",
      "end validation! (epoch : 134)\n",
      "==================================================\n",
      "start training! (epoch : 135)\n"
     ]
    },
    {
     "name": "stderr",
     "output_type": "stream",
     "text": [
      "100%|█████████████████████████████████████████████████████████████████████████████████| 5/5 [00:19<00:00,  3.91s/it]\n"
     ]
    },
    {
     "name": "stdout",
     "output_type": "stream",
     "text": [
      "training (log loss) : 16.670189692466682\n",
      "training (accuracy) : 0.5375\n",
      "end training! (epoch : 135)\n",
      "==================================================\n",
      "start validation! (epoch : 135)\n"
     ]
    },
    {
     "name": "stderr",
     "output_type": "stream",
     "text": [
      "100%|█████████████████████████████████████████████████████████████████████████████████| 2/2 [00:02<00:00,  1.21s/it]\n"
     ]
    },
    {
     "name": "stdout",
     "output_type": "stream",
     "text": [
      "validation (log loss) : 14.41746135564686\n",
      "validation (accuracy) : 0.6\n",
      "validation best accuracy :  0.6325\n",
      "end validation! (epoch : 135)\n",
      "==================================================\n",
      "start training! (epoch : 136)\n"
     ]
    },
    {
     "name": "stderr",
     "output_type": "stream",
     "text": [
      "100%|█████████████████████████████████████████████████████████████████████████████████| 5/5 [00:17<00:00,  3.54s/it]\n"
     ]
    },
    {
     "name": "stdout",
     "output_type": "stream",
     "text": [
      "training (log loss) : 16.59509874790602\n",
      "training (accuracy) : 0.5395833333333333\n",
      "end training! (epoch : 136)\n",
      "==================================================\n",
      "start validation! (epoch : 136)\n"
     ]
    },
    {
     "name": "stderr",
     "output_type": "stream",
     "text": [
      "100%|█████████████████████████████████████████████████████████████████████████████████| 2/2 [00:02<00:00,  1.19s/it]\n"
     ]
    },
    {
     "name": "stdout",
     "output_type": "stream",
     "text": [
      "validation (log loss) : 13.426260887446137\n",
      "validation (accuracy) : 0.6275\n",
      "validation best accuracy :  0.6325\n",
      "end validation! (epoch : 136)\n",
      "==================================================\n",
      "start training! (epoch : 137)\n"
     ]
    },
    {
     "name": "stderr",
     "output_type": "stream",
     "text": [
      "100%|█████████████████████████████████████████████████████████████████████████████████| 5/5 [00:18<00:00,  3.69s/it]\n"
     ]
    },
    {
     "name": "stdout",
     "output_type": "stream",
     "text": [
      "training (log loss) : 15.66397103535383\n",
      "training (accuracy) : 0.5654166666666667\n",
      "end training! (epoch : 137)\n",
      "==================================================\n",
      "start validation! (epoch : 137)\n"
     ]
    },
    {
     "name": "stderr",
     "output_type": "stream",
     "text": [
      "100%|█████████████████████████████████████████████████████████████████████████████████| 2/2 [00:02<00:00,  1.19s/it]\n"
     ]
    },
    {
     "name": "stdout",
     "output_type": "stream",
     "text": [
      "validation (log loss) : 13.15593348702776\n",
      "validation (accuracy) : 0.635\n",
      "validation best accuracy :  0.635\n",
      "end validation! (epoch : 137)\n",
      "==================================================\n",
      "start training! (epoch : 138)\n"
     ]
    },
    {
     "name": "stderr",
     "output_type": "stream",
     "text": [
      "100%|█████████████████████████████████████████████████████████████████████████████████| 5/5 [00:21<00:00,  4.31s/it]\n"
     ]
    },
    {
     "name": "stdout",
     "output_type": "stream",
     "text": [
      "training (log loss) : 15.88924386903581\n",
      "training (accuracy) : 0.5591666666666667\n",
      "end training! (epoch : 138)\n",
      "==================================================\n",
      "start validation! (epoch : 138)\n"
     ]
    },
    {
     "name": "stderr",
     "output_type": "stream",
     "text": [
      "100%|█████████████████████████████████████████████████████████████████████████████████| 2/2 [00:02<00:00,  1.23s/it]\n"
     ]
    },
    {
     "name": "stdout",
     "output_type": "stream",
     "text": [
      "validation (log loss) : 12.840551519872983\n",
      "validation (accuracy) : 0.64375\n",
      "validation best accuracy :  0.64375\n",
      "end validation! (epoch : 138)\n",
      "==================================================\n",
      "start training! (epoch : 139)\n"
     ]
    },
    {
     "name": "stderr",
     "output_type": "stream",
     "text": [
      "100%|█████████████████████████████████████████████████████████████████████████████████| 5/5 [00:18<00:00,  3.69s/it]\n"
     ]
    },
    {
     "name": "stdout",
     "output_type": "stream",
     "text": [
      "training (log loss) : 16.23466221401485\n",
      "training (accuracy) : 0.5495833333333333\n",
      "end training! (epoch : 139)\n",
      "==================================================\n",
      "start validation! (epoch : 139)\n"
     ]
    },
    {
     "name": "stderr",
     "output_type": "stream",
     "text": [
      "100%|█████████████████████████████████████████████████████████████████████████████████| 2/2 [00:02<00:00,  1.24s/it]\n"
     ]
    },
    {
     "name": "stdout",
     "output_type": "stream",
     "text": [
      "validation (log loss) : 11.533969084517489\n",
      "validation (accuracy) : 0.68\n",
      "validation best accuracy :  0.68\n",
      "end validation! (epoch : 139)\n",
      "==================================================\n",
      "start training! (epoch : 140)\n"
     ]
    },
    {
     "name": "stderr",
     "output_type": "stream",
     "text": [
      "100%|█████████████████████████████████████████████████████████████████████████████████| 5/5 [00:19<00:00,  3.89s/it]\n"
     ]
    },
    {
     "name": "stdout",
     "output_type": "stream",
     "text": [
      "training (log loss) : 16.354807725311904\n",
      "training (accuracy) : 0.54625\n",
      "end training! (epoch : 140)\n",
      "==================================================\n",
      "start validation! (epoch : 140)\n"
     ]
    },
    {
     "name": "stderr",
     "output_type": "stream",
     "text": [
      "100%|█████████████████████████████████████████████████████████████████████████████████| 2/2 [00:02<00:00,  1.22s/it]\n"
     ]
    },
    {
     "name": "stdout",
     "output_type": "stream",
     "text": [
      "validation (log loss) : 11.849351051672263\n",
      "validation (accuracy) : 0.67125\n",
      "validation best accuracy :  0.68\n",
      "end validation! (epoch : 140)\n",
      "==================================================\n",
      "start training! (epoch : 141)\n"
     ]
    },
    {
     "name": "stderr",
     "output_type": "stream",
     "text": [
      "100%|█████████████████████████████████████████████████████████████████████████████████| 5/5 [00:20<00:00,  4.00s/it]\n"
     ]
    },
    {
     "name": "stdout",
     "output_type": "stream",
     "text": [
      "training (log loss) : 15.558843712968905\n",
      "training (accuracy) : 0.5683333333333334\n",
      "end training! (epoch : 141)\n",
      "==================================================\n",
      "start validation! (epoch : 141)\n"
     ]
    },
    {
     "name": "stderr",
     "output_type": "stream",
     "text": [
      "100%|█████████████████████████████████████████████████████████████████████████████████| 2/2 [00:02<00:00,  1.23s/it]\n"
     ]
    },
    {
     "name": "stdout",
     "output_type": "stream",
     "text": [
      "validation (log loss) : 11.759241918199473\n",
      "validation (accuracy) : 0.67375\n",
      "validation best accuracy :  0.68\n",
      "end validation! (epoch : 141)\n",
      "==================================================\n",
      "start training! (epoch : 142)\n"
     ]
    },
    {
     "name": "stderr",
     "output_type": "stream",
     "text": [
      "100%|█████████████████████████████████████████████████████████████████████████████████| 5/5 [00:20<00:00,  4.06s/it]\n"
     ]
    },
    {
     "name": "stdout",
     "output_type": "stream",
     "text": [
      "training (log loss) : 15.588880090793166\n",
      "training (accuracy) : 0.5675\n",
      "end training! (epoch : 142)\n",
      "==================================================\n",
      "start validation! (epoch : 142)\n"
     ]
    },
    {
     "name": "stderr",
     "output_type": "stream",
     "text": [
      "100%|█████████████████████████████████████████████████████████████████████████████████| 2/2 [00:02<00:00,  1.29s/it]\n"
     ]
    },
    {
     "name": "stdout",
     "output_type": "stream",
     "text": [
      "validation (log loss) : 12.344951285772625\n",
      "validation (accuracy) : 0.6575\n",
      "validation best accuracy :  0.68\n",
      "end validation! (epoch : 142)\n",
      "==================================================\n",
      "start training! (epoch : 143)\n"
     ]
    },
    {
     "name": "stderr",
     "output_type": "stream",
     "text": [
      "100%|█████████████████████████████████████████████████████████████████████████████████| 5/5 [00:19<00:00,  3.92s/it]\n"
     ]
    },
    {
     "name": "stdout",
     "output_type": "stream",
     "text": [
      "training (log loss) : 15.694007413178094\n",
      "training (accuracy) : 0.5645833333333333\n",
      "end training! (epoch : 143)\n",
      "==================================================\n",
      "start validation! (epoch : 143)\n"
     ]
    },
    {
     "name": "stderr",
     "output_type": "stream",
     "text": [
      "100%|█████████████████████████████████████████████████████████████████████████████████| 2/2 [00:02<00:00,  1.20s/it]\n"
     ]
    },
    {
     "name": "stdout",
     "output_type": "stream",
     "text": [
      "validation (log loss) : 12.660333252927401\n",
      "validation (accuracy) : 0.64875\n",
      "validation best accuracy :  0.68\n",
      "end validation! (epoch : 143)\n",
      "==================================================\n",
      "start training! (epoch : 144)\n"
     ]
    },
    {
     "name": "stderr",
     "output_type": "stream",
     "text": [
      "100%|█████████████████████████████████████████████████████████████████████████████████| 5/5 [00:19<00:00,  3.83s/it]\n"
     ]
    },
    {
     "name": "stdout",
     "output_type": "stream",
     "text": [
      "training (log loss) : 15.348589068199054\n",
      "training (accuracy) : 0.5741666666666667\n",
      "end training! (epoch : 144)\n",
      "==================================================\n",
      "start validation! (epoch : 144)\n"
     ]
    },
    {
     "name": "stderr",
     "output_type": "stream",
     "text": [
      "100%|█████████████████████████████████████████████████████████████████████████████████| 2/2 [00:02<00:00,  1.20s/it]\n"
     ]
    },
    {
     "name": "stdout",
     "output_type": "stream",
     "text": [
      "validation (log loss) : 12.074623885354244\n",
      "validation (accuracy) : 0.665\n",
      "validation best accuracy :  0.68\n",
      "end validation! (epoch : 144)\n",
      "==================================================\n",
      "start training! (epoch : 145)\n"
     ]
    },
    {
     "name": "stderr",
     "output_type": "stream",
     "text": [
      "100%|█████████████████████████████████████████████████████████████████████████████████| 5/5 [00:20<00:00,  4.11s/it]\n"
     ]
    },
    {
     "name": "stdout",
     "output_type": "stream",
     "text": [
      "training (log loss) : 15.663971035353828\n",
      "training (accuracy) : 0.5654166666666667\n",
      "end training! (epoch : 145)\n",
      "==================================================\n",
      "start validation! (epoch : 145)\n"
     ]
    },
    {
     "name": "stderr",
     "output_type": "stream",
     "text": [
      "100%|█████████████████████████████████████████████████████████████████████████████████| 2/2 [00:02<00:00,  1.20s/it]\n"
     ]
    },
    {
     "name": "stdout",
     "output_type": "stream",
     "text": [
      "validation (log loss) : 11.804296484935866\n",
      "validation (accuracy) : 0.6725\n",
      "validation best accuracy :  0.68\n",
      "end validation! (epoch : 145)\n",
      "==================================================\n",
      "start training! (epoch : 146)\n"
     ]
    },
    {
     "name": "stderr",
     "output_type": "stream",
     "text": [
      "100%|█████████████████████████████████████████████████████████████████████████████████| 5/5 [00:18<00:00,  3.63s/it]\n"
     ]
    },
    {
     "name": "stdout",
     "output_type": "stream",
     "text": [
      "training (log loss) : 15.498770957320376\n",
      "training (accuracy) : 0.57\n",
      "end training! (epoch : 146)\n",
      "==================================================\n",
      "start validation! (epoch : 146)\n"
     ]
    },
    {
     "name": "stderr",
     "output_type": "stream",
     "text": [
      "100%|█████████████████████████████████████████████████████████████████████████████████| 2/2 [00:02<00:00,  1.20s/it]\n"
     ]
    },
    {
     "name": "stdout",
     "output_type": "stream",
     "text": [
      "validation (log loss) : 11.759241918199471\n",
      "validation (accuracy) : 0.67375\n",
      "validation best accuracy :  0.68\n",
      "end validation! (epoch : 146)\n",
      "==================================================\n",
      "start training! (epoch : 147)\n"
     ]
    },
    {
     "name": "stderr",
     "output_type": "stream",
     "text": [
      "100%|█████████████████████████████████████████████████████████████████████████████████| 5/5 [00:18<00:00,  3.64s/it]\n"
     ]
    },
    {
     "name": "stdout",
     "output_type": "stream",
     "text": [
      "training (log loss) : 15.784116546650887\n",
      "training (accuracy) : 0.5620833333333334\n",
      "end training! (epoch : 147)\n",
      "==================================================\n",
      "start validation! (epoch : 147)\n"
     ]
    },
    {
     "name": "stderr",
     "output_type": "stream",
     "text": [
      "100%|█████████████████████████████████████████████████████████████████████████████████| 2/2 [00:02<00:00,  1.20s/it]\n"
     ]
    },
    {
     "name": "stdout",
     "output_type": "stream",
     "text": [
      "validation (log loss) : 11.804296484935866\n",
      "validation (accuracy) : 0.6725\n",
      "validation best accuracy :  0.68\n",
      "end validation! (epoch : 147)\n",
      "==================================================\n",
      "start training! (epoch : 148)\n"
     ]
    },
    {
     "name": "stderr",
     "output_type": "stream",
     "text": [
      "100%|█████████████████████████████████████████████████████████████████████████████████| 5/5 [00:19<00:00,  3.91s/it]\n"
     ]
    },
    {
     "name": "stdout",
     "output_type": "stream",
     "text": [
      "training (log loss) : 15.228443556901997\n",
      "training (accuracy) : 0.5775\n",
      "end training! (epoch : 148)\n",
      "==================================================\n",
      "start validation! (epoch : 148)\n"
     ]
    },
    {
     "name": "stderr",
     "output_type": "stream",
     "text": [
      "100%|█████████████████████████████████████████████████████████████████████████████████| 2/2 [00:02<00:00,  1.20s/it]\n"
     ]
    },
    {
     "name": "stdout",
     "output_type": "stream",
     "text": [
      "validation (log loss) : 11.804296484935866\n",
      "validation (accuracy) : 0.6725\n",
      "validation best accuracy :  0.68\n",
      "end validation! (epoch : 148)\n",
      "==================================================\n",
      "start training! (epoch : 149)\n"
     ]
    },
    {
     "name": "stderr",
     "output_type": "stream",
     "text": [
      "100%|█████████████████████████████████████████████████████████████████████████████████| 5/5 [00:18<00:00,  3.63s/it]\n"
     ]
    },
    {
     "name": "stdout",
     "output_type": "stream",
     "text": [
      "training (log loss) : 15.318552690374787\n",
      "training (accuracy) : 0.575\n",
      "end training! (epoch : 149)\n",
      "==================================================\n",
      "start validation! (epoch : 149)\n"
     ]
    },
    {
     "name": "stderr",
     "output_type": "stream",
     "text": [
      "100%|█████████████████████████████████████████████████████████████████████████████████| 2/2 [00:02<00:00,  1.19s/it]\n"
     ]
    },
    {
     "name": "stdout",
     "output_type": "stream",
     "text": [
      "validation (log loss) : 11.804296484935866\n",
      "validation (accuracy) : 0.6725\n",
      "validation best accuracy :  0.68\n",
      "end validation! (epoch : 149)\n",
      "==================================================\n",
      "start training! (epoch : 150)\n"
     ]
    },
    {
     "name": "stderr",
     "output_type": "stream",
     "text": [
      "100%|█████████████████████████████████████████████████████████████████████████████████| 5/5 [00:20<00:00,  4.08s/it]\n"
     ]
    },
    {
     "name": "stdout",
     "output_type": "stream",
     "text": [
      "training (log loss) : 15.904262057947944\n",
      "training (accuracy) : 0.55875\n",
      "end training! (epoch : 150)\n",
      "==================================================\n",
      "start validation! (epoch : 150)\n"
     ]
    },
    {
     "name": "stderr",
     "output_type": "stream",
     "text": [
      "100%|█████████████████████████████████████████████████████████████████████████████████| 2/2 [00:02<00:00,  1.20s/it]\n"
     ]
    },
    {
     "name": "stdout",
     "output_type": "stream",
     "text": [
      "validation (log loss) : 11.849351051672263\n",
      "validation (accuracy) : 0.67125\n",
      "validation best accuracy :  0.68\n",
      "end validation! (epoch : 150)\n",
      "==================================================\n",
      "start training! (epoch : 151)\n"
     ]
    },
    {
     "name": "stderr",
     "output_type": "stream",
     "text": [
      "100%|█████████████████████████████████████████████████████████████████████████████████| 5/5 [00:18<00:00,  3.68s/it]\n"
     ]
    },
    {
     "name": "stdout",
     "output_type": "stream",
     "text": [
      "training (log loss) : 15.318552690374787\n",
      "training (accuracy) : 0.575\n",
      "end training! (epoch : 151)\n",
      "==================================================\n",
      "start validation! (epoch : 151)\n"
     ]
    },
    {
     "name": "stderr",
     "output_type": "stream",
     "text": [
      "100%|█████████████████████████████████████████████████████████████████████████████████| 2/2 [00:02<00:00,  1.17s/it]\n"
     ]
    },
    {
     "name": "stdout",
     "output_type": "stream",
     "text": [
      "validation (log loss) : 11.579023651253886\n",
      "validation (accuracy) : 0.67875\n",
      "validation best accuracy :  0.68\n",
      "end validation! (epoch : 151)\n",
      "==================================================\n",
      "start training! (epoch : 152)\n"
     ]
    },
    {
     "name": "stderr",
     "output_type": "stream",
     "text": [
      "100%|█████████████████████████████████████████████████████████████████████████████████| 5/5 [00:20<00:00,  4.11s/it]\n"
     ]
    },
    {
     "name": "stdout",
     "output_type": "stream",
     "text": [
      "training (log loss) : 14.522588678031786\n",
      "training (accuracy) : 0.5970833333333333\n",
      "end training! (epoch : 152)\n",
      "==================================================\n",
      "start validation! (epoch : 152)\n"
     ]
    },
    {
     "name": "stderr",
     "output_type": "stream",
     "text": [
      "100%|█████████████████████████████████████████████████████████████████████████████████| 2/2 [00:02<00:00,  1.20s/it]\n"
     ]
    },
    {
     "name": "stdout",
     "output_type": "stream",
     "text": [
      "validation (log loss) : 10.182332082425596\n",
      "validation (accuracy) : 0.7175\n",
      "validation best accuracy :  0.7175\n",
      "end validation! (epoch : 152)\n",
      "==================================================\n",
      "start training! (epoch : 153)\n"
     ]
    },
    {
     "name": "stderr",
     "output_type": "stream",
     "text": [
      "100%|█████████████████████████████████████████████████████████████████████████████████| 5/5 [00:19<00:00,  3.92s/it]\n"
     ]
    },
    {
     "name": "stdout",
     "output_type": "stream",
     "text": [
      "training (log loss) : 14.462515922383258\n",
      "training (accuracy) : 0.59875\n",
      "end training! (epoch : 153)\n",
      "==================================================\n",
      "start validation! (epoch : 153)\n"
     ]
    },
    {
     "name": "stderr",
     "output_type": "stream",
     "text": [
      "100%|█████████████████████████████████████████████████████████████████████████████████| 2/2 [00:02<00:00,  1.24s/it]\n"
     ]
    },
    {
     "name": "stdout",
     "output_type": "stream",
     "text": [
      "validation (log loss) : 8.425203979706135\n",
      "validation (accuracy) : 0.76625\n",
      "validation best accuracy :  0.76625\n",
      "end validation! (epoch : 153)\n",
      "==================================================\n",
      "start training! (epoch : 154)\n"
     ]
    },
    {
     "name": "stderr",
     "output_type": "stream",
     "text": [
      "100%|█████████████████████████████████████████████████████████████████████████████████| 5/5 [00:20<00:00,  4.02s/it]\n"
     ]
    },
    {
     "name": "stdout",
     "output_type": "stream",
     "text": [
      "training (log loss) : 13.696588287864518\n",
      "training (accuracy) : 0.62\n",
      "end training! (epoch : 154)\n",
      "==================================================\n",
      "start validation! (epoch : 154)\n"
     ]
    },
    {
     "name": "stderr",
     "output_type": "stream",
     "text": [
      "100%|█████████████████████████████████████████████████████████████████████████████████| 2/2 [00:02<00:00,  1.19s/it]\n"
     ]
    },
    {
     "name": "stdout",
     "output_type": "stream",
     "text": [
      "validation (log loss) : 9.416404447906856\n",
      "validation (accuracy) : 0.73875\n",
      "validation best accuracy :  0.76625\n",
      "end validation! (epoch : 154)\n",
      "==================================================\n",
      "start training! (epoch : 155)\n"
     ]
    },
    {
     "name": "stderr",
     "output_type": "stream",
     "text": [
      "100%|█████████████████████████████████████████████████████████████████████████████████| 5/5 [00:18<00:00,  3.79s/it]\n"
     ]
    },
    {
     "name": "stdout",
     "output_type": "stream",
     "text": [
      "training (log loss) : 13.30611537614908\n",
      "training (accuracy) : 0.6308333333333334\n",
      "end training! (epoch : 155)\n",
      "==================================================\n",
      "start validation! (epoch : 155)\n"
     ]
    },
    {
     "name": "stderr",
     "output_type": "stream",
     "text": [
      "100%|█████████████████████████████████████████████████████████████████████████████████| 2/2 [00:02<00:00,  1.20s/it]\n"
     ]
    },
    {
     "name": "stdout",
     "output_type": "stream",
     "text": [
      "validation (log loss) : 8.8757496470701\n",
      "validation (accuracy) : 0.75375\n",
      "validation best accuracy :  0.76625\n",
      "end validation! (epoch : 155)\n",
      "==================================================\n",
      "start training! (epoch : 156)\n"
     ]
    },
    {
     "name": "stderr",
     "output_type": "stream",
     "text": [
      "100%|█████████████████████████████████████████████████████████████████████████████████| 5/5 [00:20<00:00,  4.01s/it]\n"
     ]
    },
    {
     "name": "stdout",
     "output_type": "stream",
     "text": [
      "training (log loss) : 11.729205540375206\n",
      "training (accuracy) : 0.6745833333333333\n",
      "end training! (epoch : 156)\n",
      "==================================================\n",
      "start validation! (epoch : 156)\n"
     ]
    },
    {
     "name": "stderr",
     "output_type": "stream",
     "text": [
      "100%|█████████████████████████████████████████████████████████████████████████████████| 2/2 [00:02<00:00,  1.22s/it]\n"
     ]
    },
    {
     "name": "stdout",
     "output_type": "stream",
     "text": [
      "validation (log loss) : 7.974658312342169\n",
      "validation (accuracy) : 0.77875\n",
      "validation best accuracy :  0.77875\n",
      "end validation! (epoch : 156)\n",
      "==================================================\n",
      "start training! (epoch : 157)\n"
     ]
    },
    {
     "name": "stderr",
     "output_type": "stream",
     "text": [
      "100%|█████████████████████████████████████████████████████████████████████████████████| 5/5 [00:18<00:00,  3.73s/it]\n"
     ]
    },
    {
     "name": "stdout",
     "output_type": "stream",
     "text": [
      "training (log loss) : 11.879387429496528\n",
      "training (accuracy) : 0.6704166666666667\n",
      "end training! (epoch : 157)\n",
      "==================================================\n",
      "start validation! (epoch : 157)\n"
     ]
    },
    {
     "name": "stderr",
     "output_type": "stream",
     "text": [
      "100%|█████████████████████████████████████████████████████████████████████████████████| 2/2 [00:02<00:00,  1.22s/it]\n"
     ]
    },
    {
     "name": "stdout",
     "output_type": "stream",
     "text": [
      "validation (log loss) : 8.60542224665172\n",
      "validation (accuracy) : 0.76125\n",
      "validation best accuracy :  0.77875\n",
      "end validation! (epoch : 157)\n",
      "==================================================\n",
      "start training! (epoch : 158)\n"
     ]
    },
    {
     "name": "stderr",
     "output_type": "stream",
     "text": [
      "100%|█████████████████████████████████████████████████████████████████████████████████| 5/5 [00:19<00:00,  3.91s/it]\n"
     ]
    },
    {
     "name": "stdout",
     "output_type": "stream",
     "text": [
      "training (log loss) : 11.143496172802053\n",
      "training (accuracy) : 0.6908333333333333\n",
      "end training! (epoch : 158)\n",
      "==================================================\n",
      "start validation! (epoch : 158)\n"
     ]
    },
    {
     "name": "stderr",
     "output_type": "stream",
     "text": [
      "100%|█████████████████████████████████████████████████████████████████████████████████| 2/2 [00:02<00:00,  1.21s/it]\n"
     ]
    },
    {
     "name": "stdout",
     "output_type": "stream",
     "text": [
      "validation (log loss) : 9.596622714852442\n",
      "validation (accuracy) : 0.73375\n",
      "validation best accuracy :  0.77875\n",
      "end validation! (epoch : 158)\n",
      "==================================================\n",
      "start training! (epoch : 159)\n"
     ]
    },
    {
     "name": "stderr",
     "output_type": "stream",
     "text": [
      "100%|█████████████████████████████████████████████████████████████████████████████████| 5/5 [00:19<00:00,  3.99s/it]\n"
     ]
    },
    {
     "name": "stdout",
     "output_type": "stream",
     "text": [
      "training (log loss) : 10.69295050543809\n",
      "training (accuracy) : 0.7033333333333334\n",
      "end training! (epoch : 159)\n",
      "==================================================\n",
      "start validation! (epoch : 159)\n"
     ]
    },
    {
     "name": "stderr",
     "output_type": "stream",
     "text": [
      "100%|█████████████████████████████████████████████████████████████████████████████████| 2/2 [00:02<00:00,  1.21s/it]\n"
     ]
    },
    {
     "name": "stdout",
     "output_type": "stream",
     "text": [
      "validation (log loss) : 10.407604916107578\n",
      "validation (accuracy) : 0.71125\n",
      "validation best accuracy :  0.77875\n",
      "end validation! (epoch : 159)\n",
      "==================================================\n",
      "start training! (epoch : 160)\n"
     ]
    },
    {
     "name": "stderr",
     "output_type": "stream",
     "text": [
      "100%|█████████████████████████████████████████████████████████████████████████████████| 5/5 [00:19<00:00,  3.82s/it]\n"
     ]
    },
    {
     "name": "stdout",
     "output_type": "stream",
     "text": [
      "training (log loss) : 9.055967914015683\n",
      "training (accuracy) : 0.74875\n",
      "end training! (epoch : 160)\n",
      "==================================================\n",
      "start validation! (epoch : 160)\n"
     ]
    },
    {
     "name": "stderr",
     "output_type": "stream",
     "text": [
      "100%|█████████████████████████████████████████████████████████████████████████████████| 2/2 [00:02<00:00,  1.20s/it]\n"
     ]
    },
    {
     "name": "stdout",
     "output_type": "stream",
     "text": [
      "validation (log loss) : 10.858150583471543\n",
      "validation (accuracy) : 0.69875\n",
      "validation best accuracy :  0.77875\n",
      "end validation! (epoch : 160)\n",
      "==================================================\n",
      "start training! (epoch : 161)\n"
     ]
    },
    {
     "name": "stderr",
     "output_type": "stream",
     "text": [
      "100%|█████████████████████████████████████████████████████████████████████████████████| 5/5 [00:20<00:00,  4.03s/it]\n"
     ]
    },
    {
     "name": "stdout",
     "output_type": "stream",
     "text": [
      "training (log loss) : 7.794440045396585\n",
      "training (accuracy) : 0.78375\n",
      "end training! (epoch : 161)\n",
      "==================================================\n",
      "start validation! (epoch : 161)\n"
     ]
    },
    {
     "name": "stderr",
     "output_type": "stream",
     "text": [
      "100%|█████████████████████████████████████████████████████████████████████████████████| 2/2 [00:02<00:00,  1.21s/it]\n"
     ]
    },
    {
     "name": "stdout",
     "output_type": "stream",
     "text": [
      "validation (log loss) : 16.354807725311908\n",
      "validation (accuracy) : 0.54625\n",
      "validation best accuracy :  0.77875\n",
      "end validation! (epoch : 161)\n",
      "==================================================\n",
      "start training! (epoch : 162)\n"
     ]
    },
    {
     "name": "stderr",
     "output_type": "stream",
     "text": [
      "100%|█████████████████████████████████████████████████████████████████████████████████| 5/5 [00:18<00:00,  3.75s/it]\n"
     ]
    },
    {
     "name": "stdout",
     "output_type": "stream",
     "text": [
      "training (log loss) : 6.683094065898805\n",
      "training (accuracy) : 0.8145833333333333\n",
      "end training! (epoch : 162)\n",
      "==================================================\n",
      "start validation! (epoch : 162)\n"
     ]
    },
    {
     "name": "stderr",
     "output_type": "stream",
     "text": [
      "100%|█████████████████████████████████████████████████████████████████████████████████| 2/2 [00:02<00:00,  1.19s/it]\n"
     ]
    },
    {
     "name": "stdout",
     "output_type": "stream",
     "text": [
      "validation (log loss) : 17.30095362677623\n",
      "validation (accuracy) : 0.52\n",
      "validation best accuracy :  0.77875\n",
      "end validation! (epoch : 162)\n",
      "==================================================\n",
      "start training! (epoch : 163)\n"
     ]
    },
    {
     "name": "stderr",
     "output_type": "stream",
     "text": [
      "100%|█████████████████████████████████████████████████████████████████████████████████| 5/5 [00:20<00:00,  4.02s/it]\n"
     ]
    },
    {
     "name": "stdout",
     "output_type": "stream",
     "text": [
      "training (log loss) : 6.893348710668656\n",
      "training (accuracy) : 0.80875\n",
      "end training! (epoch : 163)\n",
      "==================================================\n",
      "start validation! (epoch : 163)\n"
     ]
    },
    {
     "name": "stderr",
     "output_type": "stream",
     "text": [
      "100%|█████████████████████████████████████████████████████████████████████████████████| 2/2 [00:02<00:00,  1.21s/it]\n"
     ]
    },
    {
     "name": "stdout",
     "output_type": "stream",
     "text": [
      "validation (log loss) : 17.61633559393101\n",
      "validation (accuracy) : 0.51125\n",
      "validation best accuracy :  0.77875\n",
      "end validation! (epoch : 163)\n",
      "==================================================\n",
      "start training! (epoch : 164)\n"
     ]
    },
    {
     "name": "stderr",
     "output_type": "stream",
     "text": [
      "100%|█████████████████████████████████████████████████████████████████████████████████| 5/5 [00:18<00:00,  3.73s/it]\n"
     ]
    },
    {
     "name": "stdout",
     "output_type": "stream",
     "text": [
      "training (log loss) : 5.887130053555802\n",
      "training (accuracy) : 0.8366666666666667\n",
      "end training! (epoch : 164)\n",
      "==================================================\n",
      "start validation! (epoch : 164)\n"
     ]
    },
    {
     "name": "stderr",
     "output_type": "stream",
     "text": [
      "100%|█████████████████████████████████████████████████████████████████████████████████| 2/2 [00:02<00:00,  1.25s/it]\n"
     ]
    },
    {
     "name": "stdout",
     "output_type": "stream",
     "text": [
      "validation (log loss) : 17.21084449330344\n",
      "validation (accuracy) : 0.5225\n",
      "validation best accuracy :  0.77875\n",
      "end validation! (epoch : 164)\n",
      "==================================================\n",
      "start training! (epoch : 165)\n"
     ]
    },
    {
     "name": "stderr",
     "output_type": "stream",
     "text": [
      "100%|█████████████████████████████████████████████████████████████████████████████████| 5/5 [00:18<00:00,  3.74s/it]\n"
     ]
    },
    {
     "name": "stdout",
     "output_type": "stream",
     "text": [
      "training (log loss) : 5.586766275313159\n",
      "training (accuracy) : 0.845\n",
      "end training! (epoch : 165)\n",
      "==================================================\n",
      "start validation! (epoch : 165)\n"
     ]
    },
    {
     "name": "stderr",
     "output_type": "stream",
     "text": [
      "100%|█████████████████████████████████████████████████████████████████████████████████| 2/2 [00:02<00:00,  1.21s/it]\n"
     ]
    },
    {
     "name": "stdout",
     "output_type": "stream",
     "text": [
      "validation (log loss) : 16.03942575815713\n",
      "validation (accuracy) : 0.555\n",
      "validation best accuracy :  0.77875\n",
      "end validation! (epoch : 165)\n",
      "==================================================\n",
      "start training! (epoch : 166)\n"
     ]
    },
    {
     "name": "stderr",
     "output_type": "stream",
     "text": [
      "100%|█████████████████████████████████████████████████████████████████████████████████| 5/5 [00:20<00:00,  4.13s/it]\n"
     ]
    },
    {
     "name": "stdout",
     "output_type": "stream",
     "text": [
      "training (log loss) : 5.481638952928234\n",
      "training (accuracy) : 0.8479166666666667\n",
      "end training! (epoch : 166)\n",
      "==================================================\n",
      "start validation! (epoch : 166)\n"
     ]
    },
    {
     "name": "stderr",
     "output_type": "stream",
     "text": [
      "100%|█████████████████████████████████████████████████████████████████████████████████| 2/2 [00:02<00:00,  1.19s/it]\n"
     ]
    },
    {
     "name": "stdout",
     "output_type": "stream",
     "text": [
      "validation (log loss) : 16.08448032489353\n",
      "validation (accuracy) : 0.55375\n",
      "validation best accuracy :  0.77875\n",
      "end validation! (epoch : 166)\n",
      "==================================================\n",
      "start training! (epoch : 167)\n"
     ]
    },
    {
     "name": "stderr",
     "output_type": "stream",
     "text": [
      "100%|█████████████████████████████████████████████████████████████████████████████████| 5/5 [00:18<00:00,  3.71s/it]\n"
     ]
    },
    {
     "name": "stdout",
     "output_type": "stream",
     "text": [
      "training (log loss) : 5.511675330752498\n",
      "training (accuracy) : 0.8470833333333333\n",
      "end training! (epoch : 167)\n",
      "==================================================\n",
      "start validation! (epoch : 167)\n"
     ]
    },
    {
     "name": "stderr",
     "output_type": "stream",
     "text": [
      "100%|█████████████████████████████████████████████████████████████████████████████████| 2/2 [00:02<00:00,  1.22s/it]\n"
     ]
    },
    {
     "name": "stdout",
     "output_type": "stream",
     "text": [
      "validation (log loss) : 3.063710538074958\n",
      "validation (accuracy) : 0.915\n",
      "validation best accuracy :  0.915\n",
      "end validation! (epoch : 167)\n",
      "==================================================\n",
      "start training! (epoch : 168)\n"
     ]
    },
    {
     "name": "stderr",
     "output_type": "stream",
     "text": [
      "100%|█████████████████████████████████████████████████████████████████████████████████| 5/5 [00:17<00:00,  3.43s/it]\n"
     ]
    },
    {
     "name": "stdout",
     "output_type": "stream",
     "text": [
      "training (log loss) : 4.880911396442948\n",
      "training (accuracy) : 0.8645833333333334\n",
      "end training! (epoch : 168)\n",
      "==================================================\n",
      "start validation! (epoch : 168)\n"
     ]
    },
    {
     "name": "stderr",
     "output_type": "stream",
     "text": [
      "100%|█████████████████████████████████████████████████████████████████████████████████| 2/2 [00:02<00:00,  1.22s/it]\n"
     ]
    },
    {
     "name": "stdout",
     "output_type": "stream",
     "text": [
      "validation (log loss) : 6.893348710668656\n",
      "validation (accuracy) : 0.80875\n",
      "validation best accuracy :  0.915\n",
      "end validation! (epoch : 168)\n",
      "==================================================\n",
      "start training! (epoch : 169)\n"
     ]
    },
    {
     "name": "stderr",
     "output_type": "stream",
     "text": [
      "100%|█████████████████████████████████████████████████████████████████████████████████| 5/5 [00:18<00:00,  3.70s/it]\n"
     ]
    },
    {
     "name": "stdout",
     "output_type": "stream",
     "text": [
      "training (log loss) : 4.355274784518323\n",
      "training (accuracy) : 0.8791666666666667\n",
      "end training! (epoch : 169)\n",
      "==================================================\n",
      "start validation! (epoch : 169)\n"
     ]
    },
    {
     "name": "stderr",
     "output_type": "stream",
     "text": [
      "100%|█████████████████████████████████████████████████████████████████████████████████| 2/2 [00:02<00:00,  1.20s/it]\n"
     ]
    },
    {
     "name": "stdout",
     "output_type": "stream",
     "text": [
      "validation (log loss) : 3.063710538074958\n",
      "validation (accuracy) : 0.915\n",
      "validation best accuracy :  0.915\n",
      "end validation! (epoch : 169)\n",
      "==================================================\n",
      "start training! (epoch : 170)\n"
     ]
    },
    {
     "name": "stderr",
     "output_type": "stream",
     "text": [
      "100%|█████████████████████████████████████████████████████████████████████████████████| 5/5 [00:18<00:00,  3.64s/it]\n"
     ]
    },
    {
     "name": "stdout",
     "output_type": "stream",
     "text": [
      "training (log loss) : 4.580547618200304\n",
      "training (accuracy) : 0.8729166666666667\n",
      "end training! (epoch : 170)\n",
      "==================================================\n",
      "start validation! (epoch : 170)\n"
     ]
    },
    {
     "name": "stderr",
     "output_type": "stream",
     "text": [
      "100%|█████████████████████████████████████████████████████████████████████████████████| 2/2 [00:02<00:00,  1.21s/it]\n"
     ]
    },
    {
     "name": "stdout",
     "output_type": "stream",
     "text": [
      "validation (log loss) : 3.739529039120905\n",
      "validation (accuracy) : 0.89625\n",
      "validation best accuracy :  0.915\n",
      "end validation! (epoch : 170)\n",
      "==================================================\n",
      "start training! (epoch : 171)\n"
     ]
    },
    {
     "name": "stderr",
     "output_type": "stream",
     "text": [
      "100%|█████████████████████████████████████████████████████████████████████████████████| 5/5 [00:20<00:00,  4.14s/it]\n"
     ]
    },
    {
     "name": "stdout",
     "output_type": "stream",
     "text": [
      "training (log loss) : 4.535493051463909\n",
      "training (accuracy) : 0.8741666666666666\n",
      "end training! (epoch : 171)\n",
      "==================================================\n",
      "start validation! (epoch : 171)\n"
     ]
    },
    {
     "name": "stderr",
     "output_type": "stream",
     "text": [
      "100%|█████████████████████████████████████████████████████████████████████████████████| 2/2 [00:02<00:00,  1.19s/it]\n"
     ]
    },
    {
     "name": "stdout",
     "output_type": "stream",
     "text": [
      "validation (log loss) : 5.81203910899514\n",
      "validation (accuracy) : 0.83875\n",
      "validation best accuracy :  0.915\n",
      "end validation! (epoch : 171)\n",
      "==================================================\n",
      "start training! (epoch : 172)\n"
     ]
    },
    {
     "name": "stderr",
     "output_type": "stream",
     "text": [
      "100%|█████████████████████████████████████████████████████████████████████████████████| 5/5 [00:21<00:00,  4.31s/it]\n"
     ]
    },
    {
     "name": "stdout",
     "output_type": "stream",
     "text": [
      "training (log loss) : 4.009856439539283\n",
      "training (accuracy) : 0.88875\n",
      "end training! (epoch : 172)\n",
      "==================================================\n",
      "start validation! (epoch : 172)\n"
     ]
    },
    {
     "name": "stderr",
     "output_type": "stream",
     "text": [
      "100%|█████████████████████████████████████████████████████████████████████████████████| 2/2 [00:02<00:00,  1.21s/it]\n"
     ]
    },
    {
     "name": "stdout",
     "output_type": "stream",
     "text": [
      "validation (log loss) : 3.7845836058573012\n",
      "validation (accuracy) : 0.895\n",
      "validation best accuracy :  0.915\n",
      "end validation! (epoch : 172)\n",
      "==================================================\n",
      "start training! (epoch : 173)\n"
     ]
    },
    {
     "name": "stderr",
     "output_type": "stream",
     "text": [
      "100%|█████████████████████████████████████████████████████████████████████████████████| 5/5 [00:18<00:00,  3.67s/it]\n"
     ]
    },
    {
     "name": "stdout",
     "output_type": "stream",
     "text": [
      "training (log loss) : 4.099965573012076\n",
      "training (accuracy) : 0.88625\n",
      "end training! (epoch : 173)\n",
      "==================================================\n",
      "start validation! (epoch : 173)\n"
     ]
    },
    {
     "name": "stderr",
     "output_type": "stream",
     "text": [
      "100%|█████████████████████████████████████████████████████████████████████████████████| 2/2 [00:02<00:00,  1.19s/it]\n"
     ]
    },
    {
     "name": "stdout",
     "output_type": "stream",
     "text": [
      "validation (log loss) : 3.874692739330094\n",
      "validation (accuracy) : 0.8925\n",
      "validation best accuracy :  0.915\n",
      "end validation! (epoch : 173)\n",
      "==================================================\n",
      "start training! (epoch : 174)\n"
     ]
    },
    {
     "name": "stderr",
     "output_type": "stream",
     "text": [
      "100%|█████████████████████████████████████████████████████████████████████████████████| 5/5 [00:17<00:00,  3.57s/it]\n"
     ]
    },
    {
     "name": "stdout",
     "output_type": "stream",
     "text": [
      "training (log loss) : 3.9798200617150195\n",
      "training (accuracy) : 0.8895833333333333\n",
      "end training! (epoch : 174)\n",
      "==================================================\n",
      "start validation! (epoch : 174)\n"
     ]
    },
    {
     "name": "stderr",
     "output_type": "stream",
     "text": [
      "100%|█████████████████████████████████████████████████████████████████████████████████| 2/2 [00:02<00:00,  1.20s/it]\n"
     ]
    },
    {
     "name": "stdout",
     "output_type": "stream",
     "text": [
      "validation (log loss) : 3.2439288050205435\n",
      "validation (accuracy) : 0.91\n",
      "validation best accuracy :  0.915\n",
      "end validation! (epoch : 174)\n",
      "==================================================\n",
      "start training! (epoch : 175)\n"
     ]
    },
    {
     "name": "stderr",
     "output_type": "stream",
     "text": [
      "100%|█████████████████████████████████████████████████████████████████████████████████| 5/5 [00:18<00:00,  3.70s/it]\n"
     ]
    },
    {
     "name": "stdout",
     "output_type": "stream",
     "text": [
      "training (log loss) : 3.5893471499995835\n",
      "training (accuracy) : 0.9004166666666666\n",
      "end training! (epoch : 175)\n",
      "==================================================\n",
      "start validation! (epoch : 175)\n"
     ]
    },
    {
     "name": "stderr",
     "output_type": "stream",
     "text": [
      "100%|█████████████████████████████████████████████████████████████████████████████████| 2/2 [00:02<00:00,  1.29s/it]\n"
     ]
    },
    {
     "name": "stdout",
     "output_type": "stream",
     "text": [
      "validation (log loss) : 2.252728336819822\n",
      "validation (accuracy) : 0.9375\n",
      "validation best accuracy :  0.9375\n",
      "end validation! (epoch : 175)\n",
      "==================================================\n",
      "start training! (epoch : 176)\n"
     ]
    },
    {
     "name": "stderr",
     "output_type": "stream",
     "text": [
      "100%|█████████████████████████████████████████████████████████████████████████████████| 5/5 [00:21<00:00,  4.36s/it]\n"
     ]
    },
    {
     "name": "stdout",
     "output_type": "stream",
     "text": [
      "training (log loss) : 3.6644380945602437\n",
      "training (accuracy) : 0.8983333333333333\n",
      "end training! (epoch : 176)\n",
      "==================================================\n",
      "start validation! (epoch : 176)\n"
     ]
    },
    {
     "name": "stderr",
     "output_type": "stream",
     "text": [
      "100%|█████████████████████████████████████████████████████████████████████████████████| 2/2 [00:02<00:00,  1.25s/it]\n"
     ]
    },
    {
     "name": "stdout",
     "output_type": "stream",
     "text": [
      "validation (log loss) : 2.4329466037654077\n",
      "validation (accuracy) : 0.9325\n",
      "validation best accuracy :  0.9375\n",
      "end validation! (epoch : 176)\n",
      "==================================================\n",
      "start training! (epoch : 177)\n"
     ]
    },
    {
     "name": "stderr",
     "output_type": "stream",
     "text": [
      "100%|█████████████████████████████████████████████████████████████████████████████████| 5/5 [00:18<00:00,  3.61s/it]\n"
     ]
    },
    {
     "name": "stdout",
     "output_type": "stream",
     "text": [
      "training (log loss) : 4.175056517572737\n",
      "training (accuracy) : 0.8841666666666667\n",
      "end training! (epoch : 177)\n",
      "==================================================\n",
      "start validation! (epoch : 177)\n"
     ]
    },
    {
     "name": "stderr",
     "output_type": "stream",
     "text": [
      "100%|█████████████████████████████████████████████████████████████████████████████████| 2/2 [00:02<00:00,  1.24s/it]\n"
     ]
    },
    {
     "name": "stdout",
     "output_type": "stream",
     "text": [
      "validation (log loss) : 4.730729507321626\n",
      "validation (accuracy) : 0.86875\n",
      "validation best accuracy :  0.9375\n",
      "end validation! (epoch : 177)\n",
      "==================================================\n",
      "start training! (epoch : 178)\n"
     ]
    },
    {
     "name": "stderr",
     "output_type": "stream",
     "text": [
      "100%|█████████████████████████████████████████████████████████████████████████████████| 5/5 [00:20<00:00,  4.13s/it]\n"
     ]
    },
    {
     "name": "stdout",
     "output_type": "stream",
     "text": [
      "training (log loss) : 3.8146199836815655\n",
      "training (accuracy) : 0.8941666666666667\n",
      "end training! (epoch : 178)\n",
      "==================================================\n",
      "start validation! (epoch : 178)\n"
     ]
    },
    {
     "name": "stderr",
     "output_type": "stream",
     "text": [
      "100%|█████████████████████████████████████████████████████████████████████████████████| 2/2 [00:02<00:00,  1.21s/it]\n"
     ]
    },
    {
     "name": "stdout",
     "output_type": "stream",
     "text": [
      "validation (log loss) : 2.6582194374473898\n",
      "validation (accuracy) : 0.92625\n",
      "validation best accuracy :  0.9375\n",
      "end validation! (epoch : 178)\n",
      "==================================================\n",
      "start training! (epoch : 179)\n"
     ]
    },
    {
     "name": "stderr",
     "output_type": "stream",
     "text": [
      "100%|█████████████████████████████████████████████████████████████████████████████████| 5/5 [00:19<00:00,  3.87s/it]\n"
     ]
    },
    {
     "name": "stdout",
     "output_type": "stream",
     "text": [
      "training (log loss) : 3.679456283472376\n",
      "training (accuracy) : 0.8979166666666667\n",
      "end training! (epoch : 179)\n",
      "==================================================\n",
      "start validation! (epoch : 179)\n"
     ]
    },
    {
     "name": "stderr",
     "output_type": "stream",
     "text": [
      "100%|█████████████████████████████████████████████████████████████████████████████████| 2/2 [00:02<00:00,  1.20s/it]\n"
     ]
    },
    {
     "name": "stdout",
     "output_type": "stream",
     "text": [
      "validation (log loss) : 2.9285468378657686\n",
      "validation (accuracy) : 0.91875\n",
      "validation best accuracy :  0.9375\n",
      "end validation! (epoch : 179)\n",
      "==================================================\n",
      "start training! (epoch : 180)\n"
     ]
    },
    {
     "name": "stderr",
     "output_type": "stream",
     "text": [
      "100%|█████████████████████████████████████████████████████████████████████████████████| 5/5 [00:18<00:00,  3.63s/it]\n"
     ]
    },
    {
     "name": "stdout",
     "output_type": "stream",
     "text": [
      "training (log loss) : 3.514256205438923\n",
      "training (accuracy) : 0.9025\n",
      "end training! (epoch : 180)\n",
      "==================================================\n",
      "start validation! (epoch : 180)\n"
     ]
    },
    {
     "name": "stderr",
     "output_type": "stream",
     "text": [
      "100%|█████████████████████████████████████████████████████████████████████████████████| 2/2 [00:02<00:00,  1.19s/it]\n"
     ]
    },
    {
     "name": "stdout",
     "output_type": "stream",
     "text": [
      "validation (log loss) : 2.65821943744739\n",
      "validation (accuracy) : 0.92625\n",
      "validation best accuracy :  0.9375\n",
      "end validation! (epoch : 180)\n",
      "==================================================\n",
      "start training! (epoch : 181)\n"
     ]
    },
    {
     "name": "stderr",
     "output_type": "stream",
     "text": [
      "100%|█████████████████████████████████████████████████████████████████████████████████| 5/5 [00:19<00:00,  3.96s/it]\n"
     ]
    },
    {
     "name": "stdout",
     "output_type": "stream",
     "text": [
      "training (log loss) : 3.4091288830539974\n",
      "training (accuracy) : 0.9054166666666666\n",
      "end training! (epoch : 181)\n",
      "==================================================\n",
      "start validation! (epoch : 181)\n"
     ]
    },
    {
     "name": "stderr",
     "output_type": "stream",
     "text": [
      "100%|█████████████████████████████████████████████████████████████████████████████████| 2/2 [00:02<00:00,  1.21s/it]\n"
     ]
    },
    {
     "name": "stdout",
     "output_type": "stream",
     "text": [
      "validation (log loss) : 3.4241470719661296\n",
      "validation (accuracy) : 0.905\n",
      "validation best accuracy :  0.9375\n",
      "end validation! (epoch : 181)\n",
      "==================================================\n",
      "start training! (epoch : 182)\n"
     ]
    },
    {
     "name": "stderr",
     "output_type": "stream",
     "text": [
      "100%|█████████████████████████████████████████████████████████████████████████████████| 5/5 [00:19<00:00,  3.90s/it]\n"
     ]
    },
    {
     "name": "stdout",
     "output_type": "stream",
     "text": [
      "training (log loss) : 3.469201638702526\n",
      "training (accuracy) : 0.90375\n",
      "end training! (epoch : 182)\n",
      "==================================================\n",
      "start validation! (epoch : 182)\n"
     ]
    },
    {
     "name": "stderr",
     "output_type": "stream",
     "text": [
      "100%|█████████████████████████████████████████████████████████████████████████████████| 2/2 [00:02<00:00,  1.21s/it]\n"
     ]
    },
    {
     "name": "stdout",
     "output_type": "stream",
     "text": [
      "validation (log loss) : 2.5681103039745974\n",
      "validation (accuracy) : 0.92875\n",
      "validation best accuracy :  0.9375\n",
      "end validation! (epoch : 182)\n",
      "==================================================\n",
      "start training! (epoch : 183)\n"
     ]
    },
    {
     "name": "stderr",
     "output_type": "stream",
     "text": [
      "100%|█████████████████████████████████████████████████████████████████████████████████| 5/5 [00:19<00:00,  3.98s/it]\n"
     ]
    },
    {
     "name": "stdout",
     "output_type": "stream",
     "text": [
      "training (log loss) : 3.394110694141865\n",
      "training (accuracy) : 0.9058333333333334\n",
      "end training! (epoch : 183)\n",
      "==================================================\n",
      "start validation! (epoch : 183)\n"
     ]
    },
    {
     "name": "stderr",
     "output_type": "stream",
     "text": [
      "100%|█████████████████████████████████████████████████████████████████████████████████| 2/2 [00:02<00:00,  1.22s/it]\n"
     ]
    },
    {
     "name": "stdout",
     "output_type": "stream",
     "text": [
      "validation (log loss) : 2.6131648707109933\n",
      "validation (accuracy) : 0.9275\n",
      "validation best accuracy :  0.9375\n",
      "end validation! (epoch : 183)\n",
      "==================================================\n",
      "start training! (epoch : 184)\n"
     ]
    },
    {
     "name": "stderr",
     "output_type": "stream",
     "text": [
      "100%|█████████████████████████████████████████████████████████████████████████████████| 5/5 [00:21<00:00,  4.29s/it]\n"
     ]
    },
    {
     "name": "stdout",
     "output_type": "stream",
     "text": [
      "training (log loss) : 3.559310772175319\n",
      "training (accuracy) : 0.90125\n",
      "end training! (epoch : 184)\n",
      "==================================================\n",
      "start validation! (epoch : 184)\n"
     ]
    },
    {
     "name": "stderr",
     "output_type": "stream",
     "text": [
      "100%|█████████████████████████████████████████████████████████████████████████████████| 2/2 [00:02<00:00,  1.21s/it]\n"
     ]
    },
    {
     "name": "stdout",
     "output_type": "stream",
     "text": [
      "validation (log loss) : 2.1626192033470293\n",
      "validation (accuracy) : 0.94\n",
      "validation best accuracy :  0.94\n",
      "end validation! (epoch : 184)\n",
      "==================================================\n",
      "start training! (epoch : 185)\n"
     ]
    },
    {
     "name": "stderr",
     "output_type": "stream",
     "text": [
      "100%|█████████████████████████████████████████████████████████████████████████████████| 5/5 [00:22<00:00,  4.47s/it]\n"
     ]
    },
    {
     "name": "stdout",
     "output_type": "stream",
     "text": [
      "training (log loss) : 3.0036377824264293\n",
      "training (accuracy) : 0.9166666666666666\n",
      "end training! (epoch : 185)\n",
      "==================================================\n",
      "start validation! (epoch : 185)\n"
     ]
    },
    {
     "name": "stderr",
     "output_type": "stream",
     "text": [
      "100%|█████████████████████████████████████████████████████████████████████████████████| 2/2 [00:02<00:00,  1.28s/it]\n"
     ]
    },
    {
     "name": "stdout",
     "output_type": "stream",
     "text": [
      "validation (log loss) : 2.9285468378657686\n",
      "validation (accuracy) : 0.91875\n",
      "validation best accuracy :  0.94\n",
      "end validation! (epoch : 185)\n",
      "==================================================\n",
      "start training! (epoch : 186)\n"
     ]
    },
    {
     "name": "stderr",
     "output_type": "stream",
     "text": [
      "100%|█████████████████████████████████████████████████████████████████████████████████| 5/5 [00:19<00:00,  3.85s/it]\n"
     ]
    },
    {
     "name": "stdout",
     "output_type": "stream",
     "text": [
      "training (log loss) : 3.0336741602506936\n",
      "training (accuracy) : 0.9158333333333334\n",
      "end training! (epoch : 186)\n",
      "==================================================\n",
      "start validation! (epoch : 186)\n"
     ]
    },
    {
     "name": "stderr",
     "output_type": "stream",
     "text": [
      "100%|█████████████████████████████████████████████████████████████████████████████████| 2/2 [00:02<00:00,  1.20s/it]\n"
     ]
    },
    {
     "name": "stdout",
     "output_type": "stream",
     "text": [
      "validation (log loss) : 2.072510069874236\n",
      "validation (accuracy) : 0.9425\n",
      "validation best accuracy :  0.9425\n",
      "end validation! (epoch : 186)\n",
      "==================================================\n",
      "start training! (epoch : 187)\n"
     ]
    },
    {
     "name": "stderr",
     "output_type": "stream",
     "text": [
      "100%|█████████████████████████████████████████████████████████████████████████████████| 5/5 [00:17<00:00,  3.53s/it]\n"
     ]
    },
    {
     "name": "stdout",
     "output_type": "stream",
     "text": [
      "training (log loss) : 2.86847408221724\n",
      "training (accuracy) : 0.9204166666666667\n",
      "end training! (epoch : 187)\n",
      "==================================================\n",
      "start validation! (epoch : 187)\n"
     ]
    },
    {
     "name": "stderr",
     "output_type": "stream",
     "text": [
      "100%|█████████████████████████████████████████████████████████████████████████████████| 2/2 [00:02<00:00,  1.19s/it]\n"
     ]
    },
    {
     "name": "stdout",
     "output_type": "stream",
     "text": [
      "validation (log loss) : 2.2977829035562185\n",
      "validation (accuracy) : 0.93625\n",
      "validation best accuracy :  0.9425\n",
      "end validation! (epoch : 187)\n",
      "==================================================\n",
      "start training! (epoch : 188)\n"
     ]
    },
    {
     "name": "stderr",
     "output_type": "stream",
     "text": [
      "100%|█████████████████████████████████████████████████████████████████████████████████| 5/5 [00:19<00:00,  3.83s/it]\n"
     ]
    },
    {
     "name": "stdout",
     "output_type": "stream",
     "text": [
      "training (log loss) : 3.0036377824264293\n",
      "training (accuracy) : 0.9166666666666666\n",
      "end training! (epoch : 188)\n",
      "==================================================\n",
      "start validation! (epoch : 188)\n"
     ]
    },
    {
     "name": "stderr",
     "output_type": "stream",
     "text": [
      "100%|█████████████████████████████████████████████████████████████████████████████████| 2/2 [00:02<00:00,  1.19s/it]\n"
     ]
    },
    {
     "name": "stdout",
     "output_type": "stream",
     "text": [
      "validation (log loss) : 2.2977829035562185\n",
      "validation (accuracy) : 0.93625\n",
      "validation best accuracy :  0.9425\n",
      "end validation! (epoch : 188)\n",
      "==================================================\n",
      "start training! (epoch : 189)\n"
     ]
    },
    {
     "name": "stderr",
     "output_type": "stream",
     "text": [
      "100%|█████████████████████████████████████████████████████████████████████████████████| 5/5 [00:18<00:00,  3.77s/it]\n"
     ]
    },
    {
     "name": "stdout",
     "output_type": "stream",
     "text": [
      "training (log loss) : 3.093746915899222\n",
      "training (accuracy) : 0.9141666666666667\n",
      "end training! (epoch : 189)\n",
      "==================================================\n",
      "start validation! (epoch : 189)\n"
     ]
    },
    {
     "name": "stderr",
     "output_type": "stream",
     "text": [
      "100%|█████████████████████████████████████████████████████████████████████████████████| 2/2 [00:02<00:00,  1.17s/it]\n"
     ]
    },
    {
     "name": "stdout",
     "output_type": "stream",
     "text": [
      "validation (log loss) : 2.6131648707109933\n",
      "validation (accuracy) : 0.9275\n",
      "validation best accuracy :  0.9425\n",
      "end validation! (epoch : 189)\n",
      "==================================================\n",
      "start training! (epoch : 190)\n"
     ]
    },
    {
     "name": "stderr",
     "output_type": "stream",
     "text": [
      "100%|█████████████████████████████████████████████████████████████████████████████████| 5/5 [00:18<00:00,  3.65s/it]\n"
     ]
    },
    {
     "name": "stdout",
     "output_type": "stream",
     "text": [
      "training (log loss) : 3.0186559713385615\n",
      "training (accuracy) : 0.91625\n",
      "end training! (epoch : 190)\n",
      "==================================================\n",
      "start validation! (epoch : 190)\n"
     ]
    },
    {
     "name": "stderr",
     "output_type": "stream",
     "text": [
      "100%|█████████████████████████████████████████████████████████████████████████████████| 2/2 [00:02<00:00,  1.20s/it]\n"
     ]
    },
    {
     "name": "stdout",
     "output_type": "stream",
     "text": [
      "validation (log loss) : 2.748328570920183\n",
      "validation (accuracy) : 0.92375\n",
      "validation best accuracy :  0.9425\n",
      "end validation! (epoch : 190)\n",
      "==================================================\n",
      "start training! (epoch : 191)\n"
     ]
    },
    {
     "name": "stderr",
     "output_type": "stream",
     "text": [
      "100%|█████████████████████████████████████████████████████████████████████████████████| 5/5 [00:19<00:00,  3.86s/it]\n"
     ]
    },
    {
     "name": "stdout",
     "output_type": "stream",
     "text": [
      "training (log loss) : 3.2138924271962797\n",
      "training (accuracy) : 0.9108333333333334\n",
      "end training! (epoch : 191)\n",
      "==================================================\n",
      "start validation! (epoch : 191)\n"
     ]
    },
    {
     "name": "stderr",
     "output_type": "stream",
     "text": [
      "100%|█████████████████████████████████████████████████████████████████████████████████| 2/2 [00:02<00:00,  1.19s/it]\n"
     ]
    },
    {
     "name": "stdout",
     "output_type": "stream",
     "text": [
      "validation (log loss) : 2.7032740041837866\n",
      "validation (accuracy) : 0.925\n",
      "validation best accuracy :  0.9425\n",
      "end validation! (epoch : 191)\n",
      "==================================================\n",
      "start training! (epoch : 192)\n"
     ]
    },
    {
     "name": "stderr",
     "output_type": "stream",
     "text": [
      "100%|█████████████████████████████████████████████████████████████████████████████████| 5/5 [00:20<00:00,  4.00s/it]\n"
     ]
    },
    {
     "name": "stdout",
     "output_type": "stream",
     "text": [
      "training (log loss) : 2.973601404602165\n",
      "training (accuracy) : 0.9175\n",
      "end training! (epoch : 192)\n",
      "==================================================\n",
      "start validation! (epoch : 192)\n"
     ]
    },
    {
     "name": "stderr",
     "output_type": "stream",
     "text": [
      "100%|█████████████████████████████████████████████████████████████████████████████████| 2/2 [00:02<00:00,  1.17s/it]\n"
     ]
    },
    {
     "name": "stdout",
     "output_type": "stream",
     "text": [
      "validation (log loss) : 2.523055737238201\n",
      "validation (accuracy) : 0.93\n",
      "validation best accuracy :  0.9425\n",
      "end validation! (epoch : 192)\n",
      "==================================================\n",
      "start training! (epoch : 193)\n"
     ]
    },
    {
     "name": "stderr",
     "output_type": "stream",
     "text": [
      "100%|█████████████████████████████████████████████████████████████████████████████████| 5/5 [00:17<00:00,  3.48s/it]\n"
     ]
    },
    {
     "name": "stdout",
     "output_type": "stream",
     "text": [
      "training (log loss) : 2.8084013265687116\n",
      "training (accuracy) : 0.9220833333333334\n",
      "end training! (epoch : 193)\n",
      "==================================================\n",
      "start validation! (epoch : 193)\n"
     ]
    },
    {
     "name": "stderr",
     "output_type": "stream",
     "text": [
      "100%|█████████████████████████████████████████████████████████████████████████████████| 2/2 [00:02<00:00,  1.20s/it]\n"
     ]
    },
    {
     "name": "stdout",
     "output_type": "stream",
     "text": [
      "validation (log loss) : 2.5681103039745974\n",
      "validation (accuracy) : 0.92875\n",
      "validation best accuracy :  0.9425\n",
      "end validation! (epoch : 193)\n",
      "==================================================\n",
      "start training! (epoch : 194)\n"
     ]
    },
    {
     "name": "stderr",
     "output_type": "stream",
     "text": [
      "100%|█████████████████████████████████████████████████████████████████████████████████| 5/5 [00:20<00:00,  4.03s/it]\n"
     ]
    },
    {
     "name": "stdout",
     "output_type": "stream",
     "text": [
      "training (log loss) : 2.7333103820080504\n",
      "training (accuracy) : 0.9241666666666667\n",
      "end training! (epoch : 194)\n",
      "==================================================\n",
      "start validation! (epoch : 194)\n"
     ]
    },
    {
     "name": "stderr",
     "output_type": "stream",
     "text": [
      "100%|█████████████████████████████████████████████████████████████████████████████████| 2/2 [00:02<00:00,  1.20s/it]\n"
     ]
    },
    {
     "name": "stdout",
     "output_type": "stream",
     "text": [
      "validation (log loss) : 2.65821943744739\n",
      "validation (accuracy) : 0.92625\n",
      "validation best accuracy :  0.9425\n",
      "end validation! (epoch : 194)\n",
      "==================================================\n",
      "start training! (epoch : 195)\n"
     ]
    },
    {
     "name": "stderr",
     "output_type": "stream",
     "text": [
      "100%|█████████████████████████████████████████████████████████████████████████████████| 5/5 [00:17<00:00,  3.51s/it]\n"
     ]
    },
    {
     "name": "stdout",
     "output_type": "stream",
     "text": [
      "training (log loss) : 2.9135286489536365\n",
      "training (accuracy) : 0.9191666666666667\n",
      "end training! (epoch : 195)\n",
      "==================================================\n",
      "start validation! (epoch : 195)\n"
     ]
    },
    {
     "name": "stderr",
     "output_type": "stream",
     "text": [
      "100%|█████████████████████████████████████████████████████████████████████████████████| 2/2 [00:02<00:00,  1.19s/it]\n"
     ]
    },
    {
     "name": "stdout",
     "output_type": "stream",
     "text": [
      "validation (log loss) : 2.79338313765658\n",
      "validation (accuracy) : 0.9225\n",
      "validation best accuracy :  0.9425\n",
      "end validation! (epoch : 195)\n",
      "==================================================\n",
      "start training! (epoch : 196)\n"
     ]
    },
    {
     "name": "stderr",
     "output_type": "stream",
     "text": [
      "100%|█████████████████████████████████████████████████████████████████████████████████| 5/5 [00:22<00:00,  4.48s/it]\n"
     ]
    },
    {
     "name": "stdout",
     "output_type": "stream",
     "text": [
      "training (log loss) : 2.6732376263595223\n",
      "training (accuracy) : 0.9258333333333333\n",
      "end training! (epoch : 196)\n",
      "==================================================\n",
      "start validation! (epoch : 196)\n"
     ]
    },
    {
     "name": "stderr",
     "output_type": "stream",
     "text": [
      "100%|█████████████████████████████████████████████████████████████████████████████████| 2/2 [00:02<00:00,  1.23s/it]\n"
     ]
    },
    {
     "name": "stdout",
     "output_type": "stream",
     "text": [
      "validation (log loss) : 2.342837470292615\n",
      "validation (accuracy) : 0.935\n",
      "validation best accuracy :  0.9425\n",
      "end validation! (epoch : 196)\n",
      "==================================================\n",
      "start training! (epoch : 197)\n"
     ]
    },
    {
     "name": "stderr",
     "output_type": "stream",
     "text": [
      "100%|█████████████████████████████████████████████████████████████████████████████████| 5/5 [00:19<00:00,  3.90s/it]\n"
     ]
    },
    {
     "name": "stdout",
     "output_type": "stream",
     "text": [
      "training (log loss) : 2.6131648707109933\n",
      "training (accuracy) : 0.9275\n",
      "end training! (epoch : 197)\n",
      "==================================================\n",
      "start validation! (epoch : 197)\n"
     ]
    },
    {
     "name": "stderr",
     "output_type": "stream",
     "text": [
      "100%|█████████████████████████████████████████████████████████████████████████████████| 2/2 [00:02<00:00,  1.19s/it]\n"
     ]
    },
    {
     "name": "stdout",
     "output_type": "stream",
     "text": [
      "validation (log loss) : 2.2076737700834257\n",
      "validation (accuracy) : 0.93875\n",
      "validation best accuracy :  0.9425\n",
      "end validation! (epoch : 197)\n",
      "==================================================\n",
      "start training! (epoch : 198)\n"
     ]
    },
    {
     "name": "stderr",
     "output_type": "stream",
     "text": [
      "100%|█████████████████████████████████████████████████████████████████████████████████| 5/5 [00:18<00:00,  3.68s/it]\n"
     ]
    },
    {
     "name": "stdout",
     "output_type": "stream",
     "text": [
      "training (log loss) : 2.9585832156900334\n",
      "training (accuracy) : 0.9179166666666667\n",
      "end training! (epoch : 198)\n",
      "==================================================\n",
      "start validation! (epoch : 198)\n"
     ]
    },
    {
     "name": "stderr",
     "output_type": "stream",
     "text": [
      "100%|█████████████████████████████████████████████████████████████████████████████████| 2/2 [00:02<00:00,  1.20s/it]\n"
     ]
    },
    {
     "name": "stdout",
     "output_type": "stream",
     "text": [
      "validation (log loss) : 2.2076737700834257\n",
      "validation (accuracy) : 0.93875\n",
      "validation best accuracy :  0.9425\n",
      "end validation! (epoch : 198)\n",
      "==================================================\n",
      "start training! (epoch : 199)\n"
     ]
    },
    {
     "name": "stderr",
     "output_type": "stream",
     "text": [
      "100%|█████████████████████████████████████████████████████████████████████████████████| 5/5 [00:20<00:00,  4.10s/it]\n"
     ]
    },
    {
     "name": "stdout",
     "output_type": "stream",
     "text": [
      "training (log loss) : 2.598146681798861\n",
      "training (accuracy) : 0.9279166666666666\n",
      "end training! (epoch : 199)\n",
      "==================================================\n",
      "start validation! (epoch : 199)\n"
     ]
    },
    {
     "name": "stderr",
     "output_type": "stream",
     "text": [
      "100%|█████████████████████████████████████████████████████████████████████████████████| 2/2 [00:02<00:00,  1.20s/it]\n"
     ]
    },
    {
     "name": "stdout",
     "output_type": "stream",
     "text": [
      "validation (log loss) : 2.1626192033470293\n",
      "validation (accuracy) : 0.94\n",
      "validation best accuracy :  0.9425\n",
      "end validation! (epoch : 199)\n",
      "==================================================\n",
      "start training! (epoch : 200)\n"
     ]
    },
    {
     "name": "stderr",
     "output_type": "stream",
     "text": [
      "100%|█████████████████████████████████████████████████████████████████████████████████| 5/5 [00:17<00:00,  3.50s/it]\n"
     ]
    },
    {
     "name": "stdout",
     "output_type": "stream",
     "text": [
      "training (log loss) : 2.973601404602165\n",
      "training (accuracy) : 0.9175\n",
      "end training! (epoch : 200)\n",
      "==================================================\n",
      "start validation! (epoch : 200)\n"
     ]
    },
    {
     "name": "stderr",
     "output_type": "stream",
     "text": [
      "100%|█████████████████████████████████████████████████████████████████████████████████| 2/2 [00:02<00:00,  1.20s/it]\n"
     ]
    },
    {
     "name": "stdout",
     "output_type": "stream",
     "text": [
      "validation (log loss) : 2.1626192033470293\n",
      "validation (accuracy) : 0.94\n",
      "validation best accuracy :  0.9425\n",
      "end validation! (epoch : 200)\n",
      "==================================================\n",
      "start training! (epoch : 201)\n"
     ]
    },
    {
     "name": "stderr",
     "output_type": "stream",
     "text": [
      "100%|█████████████████████████████████████████████████████████████████████████████████| 5/5 [00:20<00:00,  4.02s/it]\n"
     ]
    },
    {
     "name": "stdout",
     "output_type": "stream",
     "text": [
      "training (log loss) : 3.9798200617150195\n",
      "training (accuracy) : 0.8895833333333333\n",
      "end training! (epoch : 201)\n",
      "==================================================\n",
      "start validation! (epoch : 201)\n"
     ]
    },
    {
     "name": "stderr",
     "output_type": "stream",
     "text": [
      "100%|█████████████████████████████████████████████████████████████████████████████████| 2/2 [00:02<00:00,  1.18s/it]\n"
     ]
    },
    {
     "name": "stdout",
     "output_type": "stream",
     "text": [
      "validation (log loss) : 5.451602575103971\n",
      "validation (accuracy) : 0.84875\n",
      "validation best accuracy :  0.9425\n",
      "end validation! (epoch : 201)\n",
      "==================================================\n",
      "start training! (epoch : 202)\n"
     ]
    },
    {
     "name": "stderr",
     "output_type": "stream",
     "text": [
      "100%|█████████████████████████████████████████████████████████████████████████████████| 5/5 [00:18<00:00,  3.79s/it]\n"
     ]
    },
    {
     "name": "stdout",
     "output_type": "stream",
     "text": [
      "training (log loss) : 3.84465636150583\n",
      "training (accuracy) : 0.8933333333333333\n",
      "end training! (epoch : 202)\n",
      "==================================================\n",
      "start validation! (epoch : 202)\n"
     ]
    },
    {
     "name": "stderr",
     "output_type": "stream",
     "text": [
      "100%|█████████████████████████████████████████████████████████████████████████████████| 2/2 [00:02<00:00,  1.21s/it]\n"
     ]
    },
    {
     "name": "stdout",
     "output_type": "stream",
     "text": [
      "validation (log loss) : 7.073566977614242\n",
      "validation (accuracy) : 0.80375\n",
      "validation best accuracy :  0.9425\n",
      "end validation! (epoch : 202)\n",
      "==================================================\n",
      "start training! (epoch : 203)\n"
     ]
    },
    {
     "name": "stderr",
     "output_type": "stream",
     "text": [
      "100%|█████████████████████████████████████████████████████████████████████████████████| 5/5 [00:18<00:00,  3.65s/it]\n"
     ]
    },
    {
     "name": "stdout",
     "output_type": "stream",
     "text": [
      "training (log loss) : 3.6043653389117147\n",
      "training (accuracy) : 0.9\n",
      "end training! (epoch : 203)\n",
      "==================================================\n",
      "start validation! (epoch : 203)\n"
     ]
    },
    {
     "name": "stderr",
     "output_type": "stream",
     "text": [
      "100%|█████████████████████████████████████████████████████████████████████████████████| 2/2 [00:02<00:00,  1.19s/it]\n"
     ]
    },
    {
     "name": "stdout",
     "output_type": "stream",
     "text": [
      "validation (log loss) : 3.3340379384933363\n",
      "validation (accuracy) : 0.9075\n",
      "validation best accuracy :  0.9425\n",
      "end validation! (epoch : 203)\n",
      "==================================================\n",
      "start training! (epoch : 204)\n"
     ]
    },
    {
     "name": "stderr",
     "output_type": "stream",
     "text": [
      "100%|█████████████████████████████████████████████████████████████████████████████████| 5/5 [00:18<00:00,  3.70s/it]\n"
     ]
    },
    {
     "name": "stdout",
     "output_type": "stream",
     "text": [
      "training (log loss) : 3.3941106941418653\n",
      "training (accuracy) : 0.9058333333333334\n",
      "end training! (epoch : 204)\n",
      "==================================================\n",
      "start validation! (epoch : 204)\n"
     ]
    },
    {
     "name": "stderr",
     "output_type": "stream",
     "text": [
      "100%|█████████████████████████████████████████████████████████████████████████████████| 2/2 [00:02<00:00,  1.22s/it]\n"
     ]
    },
    {
     "name": "stdout",
     "output_type": "stream",
     "text": [
      "validation (log loss) : 3.9648018728028864\n",
      "validation (accuracy) : 0.89\n",
      "validation best accuracy :  0.9425\n",
      "end validation! (epoch : 204)\n",
      "==================================================\n",
      "start training! (epoch : 205)\n"
     ]
    },
    {
     "name": "stderr",
     "output_type": "stream",
     "text": [
      "100%|█████████████████████████████████████████████████████████████████████████████████| 5/5 [00:17<00:00,  3.60s/it]\n"
     ]
    },
    {
     "name": "stdout",
     "output_type": "stream",
     "text": [
      "training (log loss) : 3.544292583263186\n",
      "training (accuracy) : 0.9016666666666666\n",
      "end training! (epoch : 205)\n",
      "==================================================\n",
      "start validation! (epoch : 205)\n"
     ]
    },
    {
     "name": "stderr",
     "output_type": "stream",
     "text": [
      "100%|█████████████████████████████████████████████████████████████████████████████████| 2/2 [00:02<00:00,  1.19s/it]\n"
     ]
    },
    {
     "name": "stdout",
     "output_type": "stream",
     "text": [
      "validation (log loss) : 8.830695080333703\n",
      "validation (accuracy) : 0.755\n",
      "validation best accuracy :  0.9425\n",
      "end validation! (epoch : 205)\n",
      "==================================================\n",
      "start training! (epoch : 206)\n"
     ]
    },
    {
     "name": "stderr",
     "output_type": "stream",
     "text": [
      "100%|█████████████████████████████████████████████████████████████████████████████████| 5/5 [00:18<00:00,  3.66s/it]\n"
     ]
    },
    {
     "name": "stdout",
     "output_type": "stream",
     "text": [
      "training (log loss) : 3.84465636150583\n",
      "training (accuracy) : 0.8933333333333333\n",
      "end training! (epoch : 206)\n",
      "==================================================\n",
      "start validation! (epoch : 206)\n"
     ]
    },
    {
     "name": "stderr",
     "output_type": "stream",
     "text": [
      "100%|█████████████████████████████████████████████████████████████████████████████████| 2/2 [00:02<00:00,  1.22s/it]\n"
     ]
    },
    {
     "name": "stdout",
     "output_type": "stream",
     "text": [
      "validation (log loss) : 5.451602575103969\n",
      "validation (accuracy) : 0.84875\n",
      "validation best accuracy :  0.9425\n",
      "end validation! (epoch : 206)\n",
      "==================================================\n",
      "start training! (epoch : 207)\n"
     ]
    },
    {
     "name": "stderr",
     "output_type": "stream",
     "text": [
      "100%|█████████████████████████████████████████████████████████████████████████████████| 5/5 [00:19<00:00,  3.88s/it]\n"
     ]
    },
    {
     "name": "stdout",
     "output_type": "stream",
     "text": [
      "training (log loss) : 3.3941106941418653\n",
      "training (accuracy) : 0.9058333333333334\n",
      "end training! (epoch : 207)\n",
      "==================================================\n",
      "start validation! (epoch : 207)\n"
     ]
    },
    {
     "name": "stderr",
     "output_type": "stream",
     "text": [
      "100%|█████████████████████████████████████████████████████████████████████████████████| 2/2 [00:02<00:00,  1.20s/it]\n"
     ]
    },
    {
     "name": "stdout",
     "output_type": "stream",
     "text": [
      "validation (log loss) : 4.099965573012076\n",
      "validation (accuracy) : 0.88625\n",
      "validation best accuracy :  0.9425\n",
      "end validation! (epoch : 207)\n",
      "==================================================\n",
      "start training! (epoch : 208)\n"
     ]
    },
    {
     "name": "stderr",
     "output_type": "stream",
     "text": [
      "100%|█████████████████████████████████████████████████████████████████████████████████| 5/5 [00:19<00:00,  3.94s/it]\n"
     ]
    },
    {
     "name": "stdout",
     "output_type": "stream",
     "text": [
      "training (log loss) : 3.0186559713385615\n",
      "training (accuracy) : 0.91625\n",
      "end training! (epoch : 208)\n",
      "==================================================\n",
      "start validation! (epoch : 208)\n"
     ]
    },
    {
     "name": "stderr",
     "output_type": "stream",
     "text": [
      "100%|█████████████████████████████████████████████████████████████████████████████████| 2/2 [00:02<00:00,  1.32s/it]\n"
     ]
    },
    {
     "name": "stdout",
     "output_type": "stream",
     "text": [
      "validation (log loss) : 3.5593107721753188\n",
      "validation (accuracy) : 0.90125\n",
      "validation best accuracy :  0.9425\n",
      "end validation! (epoch : 208)\n",
      "==================================================\n",
      "start training! (epoch : 209)\n"
     ]
    },
    {
     "name": "stderr",
     "output_type": "stream",
     "text": [
      "100%|█████████████████████████████████████████████████████████████████████████████████| 5/5 [00:17<00:00,  3.54s/it]\n"
     ]
    },
    {
     "name": "stdout",
     "output_type": "stream",
     "text": [
      "training (log loss) : 3.0036377824264293\n",
      "training (accuracy) : 0.9166666666666666\n",
      "end training! (epoch : 209)\n",
      "==================================================\n",
      "start validation! (epoch : 209)\n"
     ]
    },
    {
     "name": "stderr",
     "output_type": "stream",
     "text": [
      "100%|█████████████████████████████████████████████████████████████████████████████████| 2/2 [00:02<00:00,  1.20s/it]\n"
     ]
    },
    {
     "name": "stdout",
     "output_type": "stream",
     "text": [
      "validation (log loss) : 3.42414707196613\n",
      "validation (accuracy) : 0.905\n",
      "validation best accuracy :  0.9425\n",
      "end validation! (epoch : 209)\n",
      "==================================================\n",
      "start training! (epoch : 210)\n"
     ]
    },
    {
     "name": "stderr",
     "output_type": "stream",
     "text": [
      "100%|█████████████████████████████████████████████████████████████████████████████████| 5/5 [00:19<00:00,  3.81s/it]\n"
     ]
    },
    {
     "name": "stdout",
     "output_type": "stream",
     "text": [
      "training (log loss) : 2.763346759832315\n",
      "training (accuracy) : 0.9233333333333333\n",
      "end training! (epoch : 210)\n",
      "==================================================\n",
      "start validation! (epoch : 210)\n"
     ]
    },
    {
     "name": "stderr",
     "output_type": "stream",
     "text": [
      "100%|█████████████████████████████████████████████████████████████████████████████████| 2/2 [00:02<00:00,  1.19s/it]\n"
     ]
    },
    {
     "name": "stdout",
     "output_type": "stream",
     "text": [
      "validation (log loss) : 4.054911006275679\n",
      "validation (accuracy) : 0.8875\n",
      "validation best accuracy :  0.9425\n",
      "end validation! (epoch : 210)\n",
      "==================================================\n",
      "start training! (epoch : 211)\n"
     ]
    },
    {
     "name": "stderr",
     "output_type": "stream",
     "text": [
      "100%|█████████████████████████████████████████████████████████████████████████████████| 5/5 [00:17<00:00,  3.53s/it]\n"
     ]
    },
    {
     "name": "stdout",
     "output_type": "stream",
     "text": [
      "training (log loss) : 2.8834922711293722\n",
      "training (accuracy) : 0.92\n",
      "end training! (epoch : 211)\n",
      "==================================================\n",
      "start validation! (epoch : 211)\n"
     ]
    },
    {
     "name": "stderr",
     "output_type": "stream",
     "text": [
      "100%|█████████████████████████████████████████████████████████████████████████████████| 2/2 [00:02<00:00,  1.21s/it]\n"
     ]
    },
    {
     "name": "stdout",
     "output_type": "stream",
     "text": [
      "validation (log loss) : 3.6944744723845075\n",
      "validation (accuracy) : 0.8975\n",
      "validation best accuracy :  0.9425\n",
      "end validation! (epoch : 211)\n",
      "==================================================\n",
      "start training! (epoch : 212)\n"
     ]
    },
    {
     "name": "stderr",
     "output_type": "stream",
     "text": [
      "100%|█████████████████████████████████████████████████████████████████████████████████| 5/5 [00:18<00:00,  3.62s/it]\n"
     ]
    },
    {
     "name": "stdout",
     "output_type": "stream",
     "text": [
      "training (log loss) : 2.44796479267754\n",
      "training (accuracy) : 0.9320833333333334\n",
      "end training! (epoch : 212)\n",
      "==================================================\n",
      "start validation! (epoch : 212)\n"
     ]
    },
    {
     "name": "stderr",
     "output_type": "stream",
     "text": [
      "100%|█████████████████████████████████████████████████████████████████████████████████| 2/2 [00:02<00:00,  1.19s/it]\n"
     ]
    },
    {
     "name": "stdout",
     "output_type": "stream",
     "text": [
      "validation (log loss) : 2.3878920370290113\n",
      "validation (accuracy) : 0.93375\n",
      "validation best accuracy :  0.9425\n",
      "end validation! (epoch : 212)\n",
      "==================================================\n",
      "start training! (epoch : 213)\n"
     ]
    },
    {
     "name": "stderr",
     "output_type": "stream",
     "text": [
      "100%|█████████████████████████████████████████████████████████████████████████████████| 5/5 [00:21<00:00,  4.28s/it]\n"
     ]
    },
    {
     "name": "stdout",
     "output_type": "stream",
     "text": [
      "training (log loss) : 2.7182921930959187\n",
      "training (accuracy) : 0.9245833333333333\n",
      "end training! (epoch : 213)\n",
      "==================================================\n",
      "start validation! (epoch : 213)\n"
     ]
    },
    {
     "name": "stderr",
     "output_type": "stream",
     "text": [
      "100%|█████████████████████████████████████████████████████████████████████████████████| 2/2 [00:02<00:00,  1.22s/it]\n"
     ]
    },
    {
     "name": "stdout",
     "output_type": "stream",
     "text": [
      "validation (log loss) : 2.9285468378657686\n",
      "validation (accuracy) : 0.91875\n",
      "validation best accuracy :  0.9425\n",
      "end validation! (epoch : 213)\n",
      "==================================================\n",
      "start training! (epoch : 214)\n"
     ]
    },
    {
     "name": "stderr",
     "output_type": "stream",
     "text": [
      "100%|█████████████████████████████████████████████████████████████████████████████████| 5/5 [00:18<00:00,  3.79s/it]\n"
     ]
    },
    {
     "name": "stdout",
     "output_type": "stream",
     "text": [
      "training (log loss) : 2.4029102259411435\n",
      "training (accuracy) : 0.9333333333333333\n",
      "end training! (epoch : 214)\n",
      "==================================================\n",
      "start validation! (epoch : 214)\n"
     ]
    },
    {
     "name": "stderr",
     "output_type": "stream",
     "text": [
      "100%|█████████████████████████████████████████████████████████████████████████████████| 2/2 [00:02<00:00,  1.21s/it]\n"
     ]
    },
    {
     "name": "stdout",
     "output_type": "stream",
     "text": [
      "validation (log loss) : 1.8922918029286506\n",
      "validation (accuracy) : 0.9475\n",
      "validation best accuracy :  0.9475\n",
      "end validation! (epoch : 214)\n",
      "==================================================\n",
      "start training! (epoch : 215)\n"
     ]
    },
    {
     "name": "stderr",
     "output_type": "stream",
     "text": [
      "100%|█████████████████████████████████████████████████████████████████████████████████| 5/5 [00:21<00:00,  4.35s/it]\n"
     ]
    },
    {
     "name": "stdout",
     "output_type": "stream",
     "text": [
      "training (log loss) : 2.523055737238201\n",
      "training (accuracy) : 0.93\n",
      "end training! (epoch : 215)\n",
      "==================================================\n",
      "start validation! (epoch : 215)\n"
     ]
    },
    {
     "name": "stderr",
     "output_type": "stream",
     "text": [
      "100%|█████████████████████████████████████████████████████████████████████████████████| 2/2 [00:02<00:00,  1.26s/it]\n"
     ]
    },
    {
     "name": "stdout",
     "output_type": "stream",
     "text": [
      "validation (log loss) : 1.8922918029286506\n",
      "validation (accuracy) : 0.9475\n",
      "validation best accuracy :  0.9475\n",
      "end validation! (epoch : 215)\n",
      "==================================================\n",
      "start training! (epoch : 216)\n"
     ]
    },
    {
     "name": "stderr",
     "output_type": "stream",
     "text": [
      "100%|█████████████████████████████████████████████████████████████████████████████████| 5/5 [00:19<00:00,  3.84s/it]\n"
     ]
    },
    {
     "name": "stdout",
     "output_type": "stream",
     "text": [
      "training (log loss) : 2.252728336819822\n",
      "training (accuracy) : 0.9375\n",
      "end training! (epoch : 216)\n",
      "==================================================\n",
      "start validation! (epoch : 216)\n"
     ]
    },
    {
     "name": "stderr",
     "output_type": "stream",
     "text": [
      "100%|█████████████████████████████████████████████████████████████████████████████████| 2/2 [00:02<00:00,  1.20s/it]\n"
     ]
    },
    {
     "name": "stdout",
     "output_type": "stream",
     "text": [
      "validation (log loss) : 2.0725100698742365\n",
      "validation (accuracy) : 0.9425\n",
      "validation best accuracy :  0.9475\n",
      "end validation! (epoch : 216)\n",
      "==================================================\n",
      "start training! (epoch : 217)\n"
     ]
    },
    {
     "name": "stderr",
     "output_type": "stream",
     "text": [
      "100%|█████████████████████████████████████████████████████████████████████████████████| 5/5 [00:22<00:00,  4.48s/it]\n"
     ]
    },
    {
     "name": "stdout",
     "output_type": "stream",
     "text": [
      "training (log loss) : 2.2677465257319542\n",
      "training (accuracy) : 0.9370833333333334\n",
      "end training! (epoch : 217)\n",
      "==================================================\n",
      "start validation! (epoch : 217)\n"
     ]
    },
    {
     "name": "stderr",
     "output_type": "stream",
     "text": [
      "100%|█████████████████████████████████████████████████████████████████████████████████| 2/2 [00:02<00:00,  1.22s/it]\n"
     ]
    },
    {
     "name": "stdout",
     "output_type": "stream",
     "text": [
      "validation (log loss) : 3.91974730606649\n",
      "validation (accuracy) : 0.89125\n",
      "validation best accuracy :  0.9475\n",
      "end validation! (epoch : 217)\n",
      "==================================================\n",
      "start training! (epoch : 218)\n"
     ]
    },
    {
     "name": "stderr",
     "output_type": "stream",
     "text": [
      "100%|█████████████████████████████████████████████████████████████████████████████████| 5/5 [00:18<00:00,  3.63s/it]\n"
     ]
    },
    {
     "name": "stdout",
     "output_type": "stream",
     "text": [
      "training (log loss) : 2.628183059623126\n",
      "training (accuracy) : 0.9270833333333334\n",
      "end training! (epoch : 218)\n",
      "==================================================\n",
      "start validation! (epoch : 218)\n"
     ]
    },
    {
     "name": "stderr",
     "output_type": "stream",
     "text": [
      "100%|█████████████████████████████████████████████████████████████████████████████████| 2/2 [00:02<00:00,  1.20s/it]\n"
     ]
    },
    {
     "name": "stdout",
     "output_type": "stream",
     "text": [
      "validation (log loss) : 3.5593107721753188\n",
      "validation (accuracy) : 0.90125\n",
      "validation best accuracy :  0.9475\n",
      "end validation! (epoch : 218)\n",
      "==================================================\n",
      "start training! (epoch : 219)\n"
     ]
    },
    {
     "name": "stderr",
     "output_type": "stream",
     "text": [
      "100%|█████████████████████████████████████████████████████████████████████████████████| 5/5 [00:20<00:00,  4.06s/it]\n"
     ]
    },
    {
     "name": "stdout",
     "output_type": "stream",
     "text": [
      "training (log loss) : 2.3278192813804828\n",
      "training (accuracy) : 0.9354166666666667\n",
      "end training! (epoch : 219)\n",
      "==================================================\n",
      "start validation! (epoch : 219)\n"
     ]
    },
    {
     "name": "stderr",
     "output_type": "stream",
     "text": [
      "100%|█████████████████████████████████████████████████████████████████████████████████| 2/2 [00:02<00:00,  1.34s/it]\n"
     ]
    },
    {
     "name": "stdout",
     "output_type": "stream",
     "text": [
      "validation (log loss) : 2.252728336819822\n",
      "validation (accuracy) : 0.9375\n",
      "validation best accuracy :  0.9475\n",
      "end validation! (epoch : 219)\n",
      "==================================================\n",
      "start training! (epoch : 220)\n"
     ]
    },
    {
     "name": "stderr",
     "output_type": "stream",
     "text": [
      "100%|█████████████████████████████████████████████████████████████████████████████████| 5/5 [00:21<00:00,  4.33s/it]\n"
     ]
    },
    {
     "name": "stdout",
     "output_type": "stream",
     "text": [
      "training (log loss) : 2.1626192033470293\n",
      "training (accuracy) : 0.94\n",
      "end training! (epoch : 220)\n",
      "==================================================\n",
      "start validation! (epoch : 220)\n"
     ]
    },
    {
     "name": "stderr",
     "output_type": "stream",
     "text": [
      "100%|█████████████████████████████████████████████████████████████████████████████████| 2/2 [00:02<00:00,  1.20s/it]\n"
     ]
    },
    {
     "name": "stdout",
     "output_type": "stream",
     "text": [
      "validation (log loss) : 3.1087651048113547\n",
      "validation (accuracy) : 0.91375\n",
      "validation best accuracy :  0.9475\n",
      "end validation! (epoch : 220)\n",
      "==================================================\n",
      "start training! (epoch : 221)\n"
     ]
    },
    {
     "name": "stderr",
     "output_type": "stream",
     "text": [
      "100%|█████████████████████████████████████████████████████████████████████████████████| 5/5 [00:20<00:00,  4.02s/it]\n"
     ]
    },
    {
     "name": "stdout",
     "output_type": "stream",
     "text": [
      "training (log loss) : 2.417928414853276\n",
      "training (accuracy) : 0.9329166666666666\n",
      "end training! (epoch : 221)\n",
      "==================================================\n",
      "start validation! (epoch : 221)\n"
     ]
    },
    {
     "name": "stderr",
     "output_type": "stream",
     "text": [
      "100%|█████████████████████████████████████████████████████████████████████████████████| 2/2 [00:02<00:00,  1.21s/it]\n"
     ]
    },
    {
     "name": "stdout",
     "output_type": "stream",
     "text": [
      "validation (log loss) : 2.6582194374473898\n",
      "validation (accuracy) : 0.92625\n",
      "validation best accuracy :  0.9475\n",
      "end validation! (epoch : 221)\n",
      "==================================================\n",
      "start training! (epoch : 222)\n"
     ]
    },
    {
     "name": "stderr",
     "output_type": "stream",
     "text": [
      "100%|█████████████████████████████████████████████████████████████████████████████████| 5/5 [00:18<00:00,  3.69s/it]\n"
     ]
    },
    {
     "name": "stdout",
     "output_type": "stream",
     "text": [
      "training (log loss) : 2.44796479267754\n",
      "training (accuracy) : 0.9320833333333334\n",
      "end training! (epoch : 222)\n",
      "==================================================\n",
      "start validation! (epoch : 222)\n"
     ]
    },
    {
     "name": "stderr",
     "output_type": "stream",
     "text": [
      "100%|█████████████████████████████████████████████████████████████████████████████████| 2/2 [00:02<00:00,  1.19s/it]\n"
     ]
    },
    {
     "name": "stdout",
     "output_type": "stream",
     "text": [
      "validation (log loss) : 7.929603745605773\n",
      "validation (accuracy) : 0.78\n",
      "validation best accuracy :  0.9475\n",
      "end validation! (epoch : 222)\n",
      "==================================================\n",
      "start training! (epoch : 223)\n"
     ]
    },
    {
     "name": "stderr",
     "output_type": "stream",
     "text": [
      "100%|█████████████████████████████████████████████████████████████████████████████████| 5/5 [00:18<00:00,  3.65s/it]\n"
     ]
    },
    {
     "name": "stdout",
     "output_type": "stream",
     "text": [
      "training (log loss) : 2.6131648707109933\n",
      "training (accuracy) : 0.9275\n",
      "end training! (epoch : 223)\n",
      "==================================================\n",
      "start validation! (epoch : 223)\n"
     ]
    },
    {
     "name": "stderr",
     "output_type": "stream",
     "text": [
      "100%|█████████████████████████████████████████████████████████████████████████████████| 2/2 [00:02<00:00,  1.19s/it]\n"
     ]
    },
    {
     "name": "stdout",
     "output_type": "stream",
     "text": [
      "validation (log loss) : 2.432946603765408\n",
      "validation (accuracy) : 0.9325\n",
      "validation best accuracy :  0.9475\n",
      "end validation! (epoch : 223)\n",
      "==================================================\n",
      "start training! (epoch : 224)\n"
     ]
    },
    {
     "name": "stderr",
     "output_type": "stream",
     "text": [
      "100%|█████████████████████████████████████████████████████████████████████████████████| 5/5 [00:19<00:00,  3.80s/it]\n"
     ]
    },
    {
     "name": "stdout",
     "output_type": "stream",
     "text": [
      "training (log loss) : 2.117564636610633\n",
      "training (accuracy) : 0.94125\n",
      "end training! (epoch : 224)\n",
      "==================================================\n",
      "start validation! (epoch : 224)\n"
     ]
    },
    {
     "name": "stderr",
     "output_type": "stream",
     "text": [
      "100%|█████████████████████████████████████████████████████████████████████████████████| 2/2 [00:02<00:00,  1.19s/it]\n"
     ]
    },
    {
     "name": "stdout",
     "output_type": "stream",
     "text": [
      "validation (log loss) : 3.604365338911715\n",
      "validation (accuracy) : 0.9\n",
      "validation best accuracy :  0.9475\n",
      "end validation! (epoch : 224)\n",
      "==================================================\n",
      "start training! (epoch : 225)\n"
     ]
    },
    {
     "name": "stderr",
     "output_type": "stream",
     "text": [
      "100%|█████████████████████████████████████████████████████████████████████████████████| 5/5 [00:18<00:00,  3.63s/it]\n"
     ]
    },
    {
     "name": "stdout",
     "output_type": "stream",
     "text": [
      "training (log loss) : 2.0574918809621043\n",
      "training (accuracy) : 0.9429166666666666\n",
      "end training! (epoch : 225)\n",
      "==================================================\n",
      "start validation! (epoch : 225)\n"
     ]
    },
    {
     "name": "stderr",
     "output_type": "stream",
     "text": [
      "100%|█████████████████████████████████████████████████████████████████████████████████| 2/2 [00:02<00:00,  1.21s/it]\n"
     ]
    },
    {
     "name": "stdout",
     "output_type": "stream",
     "text": [
      "validation (log loss) : 1.8021826694558576\n",
      "validation (accuracy) : 0.95\n",
      "validation best accuracy :  0.95\n",
      "end validation! (epoch : 225)\n",
      "==================================================\n",
      "start training! (epoch : 226)\n"
     ]
    },
    {
     "name": "stderr",
     "output_type": "stream",
     "text": [
      "100%|█████████████████████████████████████████████████████████████████████████████████| 5/5 [00:19<00:00,  3.84s/it]\n"
     ]
    },
    {
     "name": "stdout",
     "output_type": "stream",
     "text": [
      "training (log loss) : 1.8472372361922544\n",
      "training (accuracy) : 0.94875\n",
      "end training! (epoch : 226)\n",
      "==================================================\n",
      "start validation! (epoch : 226)\n"
     ]
    },
    {
     "name": "stderr",
     "output_type": "stream",
     "text": [
      "100%|█████████████████████████████████████████████████████████████████████████████████| 2/2 [00:02<00:00,  1.21s/it]\n"
     ]
    },
    {
     "name": "stdout",
     "output_type": "stream",
     "text": [
      "validation (log loss) : 2.478001170501804\n",
      "validation (accuracy) : 0.93125\n",
      "validation best accuracy :  0.95\n",
      "end validation! (epoch : 226)\n",
      "==================================================\n",
      "start training! (epoch : 227)\n"
     ]
    },
    {
     "name": "stderr",
     "output_type": "stream",
     "text": [
      "100%|█████████████████████████████████████████████████████████████████████████████████| 5/5 [00:18<00:00,  3.73s/it]\n"
     ]
    },
    {
     "name": "stdout",
     "output_type": "stream",
     "text": [
      "training (log loss) : 1.8922918029286506\n",
      "training (accuracy) : 0.9475\n",
      "end training! (epoch : 227)\n",
      "==================================================\n",
      "start validation! (epoch : 227)\n"
     ]
    },
    {
     "name": "stderr",
     "output_type": "stream",
     "text": [
      "100%|█████████████████████████████████████████████████████████████████████████████████| 2/2 [00:02<00:00,  1.22s/it]\n"
     ]
    },
    {
     "name": "stdout",
     "output_type": "stream",
     "text": [
      "validation (log loss) : 2.6131648707109933\n",
      "validation (accuracy) : 0.9275\n",
      "validation best accuracy :  0.95\n",
      "end validation! (epoch : 227)\n",
      "==================================================\n",
      "start training! (epoch : 228)\n"
     ]
    },
    {
     "name": "stderr",
     "output_type": "stream",
     "text": [
      "100%|█████████████████████████████████████████████████████████████████████████████████| 5/5 [00:18<00:00,  3.79s/it]\n"
     ]
    },
    {
     "name": "stdout",
     "output_type": "stream",
     "text": [
      "training (log loss) : 2.1776373922591614\n",
      "training (accuracy) : 0.9395833333333333\n",
      "end training! (epoch : 228)\n",
      "==================================================\n",
      "start validation! (epoch : 228)\n"
     ]
    },
    {
     "name": "stderr",
     "output_type": "stream",
     "text": [
      "100%|█████████████████████████████████████████████████████████████████████████████████| 2/2 [00:02<00:00,  1.20s/it]\n"
     ]
    },
    {
     "name": "stdout",
     "output_type": "stream",
     "text": [
      "validation (log loss) : 2.1626192033470293\n",
      "validation (accuracy) : 0.94\n",
      "validation best accuracy :  0.95\n",
      "end validation! (epoch : 228)\n",
      "==================================================\n",
      "start training! (epoch : 229)\n"
     ]
    },
    {
     "name": "stderr",
     "output_type": "stream",
     "text": [
      "100%|█████████████████████████████████████████████████████████████████████████████████| 5/5 [00:18<00:00,  3.80s/it]\n"
     ]
    },
    {
     "name": "stdout",
     "output_type": "stream",
     "text": [
      "training (log loss) : 1.621964402510272\n",
      "training (accuracy) : 0.955\n",
      "end training! (epoch : 229)\n",
      "==================================================\n",
      "start validation! (epoch : 229)\n"
     ]
    },
    {
     "name": "stderr",
     "output_type": "stream",
     "text": [
      "100%|█████████████████████████████████████████████████████████████████████████████████| 2/2 [00:02<00:00,  1.21s/it]\n"
     ]
    },
    {
     "name": "stdout",
     "output_type": "stream",
     "text": [
      "validation (log loss) : 1.937346369665047\n",
      "validation (accuracy) : 0.94625\n",
      "validation best accuracy :  0.95\n",
      "end validation! (epoch : 229)\n",
      "==================================================\n",
      "start training! (epoch : 230)\n"
     ]
    },
    {
     "name": "stderr",
     "output_type": "stream",
     "text": [
      "100%|█████████████████████████████████████████████████████████████████████████████████| 5/5 [00:19<00:00,  3.82s/it]\n"
     ]
    },
    {
     "name": "stdout",
     "output_type": "stream",
     "text": [
      "training (log loss) : 1.6219644025102717\n",
      "training (accuracy) : 0.955\n",
      "end training! (epoch : 230)\n",
      "==================================================\n",
      "start validation! (epoch : 230)\n"
     ]
    },
    {
     "name": "stderr",
     "output_type": "stream",
     "text": [
      "100%|█████████████████████████████████████████████████████████████████████████████████| 2/2 [00:02<00:00,  1.27s/it]\n"
     ]
    },
    {
     "name": "stdout",
     "output_type": "stream",
     "text": [
      "validation (log loss) : 2.342837470292615\n",
      "validation (accuracy) : 0.935\n",
      "validation best accuracy :  0.95\n",
      "end validation! (epoch : 230)\n",
      "==================================================\n",
      "start training! (epoch : 231)\n"
     ]
    },
    {
     "name": "stderr",
     "output_type": "stream",
     "text": [
      "100%|█████████████████████████████████████████████████████████████████████████████████| 5/5 [00:20<00:00,  4.19s/it]\n"
     ]
    },
    {
     "name": "stdout",
     "output_type": "stream",
     "text": [
      "training (log loss) : 1.6820371581588005\n",
      "training (accuracy) : 0.9533333333333334\n",
      "end training! (epoch : 231)\n",
      "==================================================\n",
      "start validation! (epoch : 231)\n"
     ]
    },
    {
     "name": "stderr",
     "output_type": "stream",
     "text": [
      "100%|█████████████████████████████████████████████████████████████████████████████████| 2/2 [00:02<00:00,  1.22s/it]\n"
     ]
    },
    {
     "name": "stdout",
     "output_type": "stream",
     "text": [
      "validation (log loss) : 1.847237236192254\n",
      "validation (accuracy) : 0.94875\n",
      "validation best accuracy :  0.95\n",
      "end validation! (epoch : 231)\n",
      "==================================================\n",
      "start training! (epoch : 232)\n"
     ]
    },
    {
     "name": "stderr",
     "output_type": "stream",
     "text": [
      "100%|█████████████████████████████████████████████████████████████████████████████████| 5/5 [00:20<00:00,  4.05s/it]\n"
     ]
    },
    {
     "name": "stdout",
     "output_type": "stream",
     "text": [
      "training (log loss) : 1.7120735359830648\n",
      "training (accuracy) : 0.9525\n",
      "end training! (epoch : 232)\n",
      "==================================================\n",
      "start validation! (epoch : 232)\n"
     ]
    },
    {
     "name": "stderr",
     "output_type": "stream",
     "text": [
      "100%|█████████████████████████████████████████████████████████████████████████████████| 2/2 [00:02<00:00,  1.24s/it]\n"
     ]
    },
    {
     "name": "stdout",
     "output_type": "stream",
     "text": [
      "validation (log loss) : 1.8021826694558576\n",
      "validation (accuracy) : 0.95\n",
      "validation best accuracy :  0.95\n",
      "end validation! (epoch : 232)\n",
      "==================================================\n",
      "start training! (epoch : 233)\n"
     ]
    },
    {
     "name": "stderr",
     "output_type": "stream",
     "text": [
      "100%|█████████████████████████████████████████████████████████████████████████████████| 5/5 [00:18<00:00,  3.75s/it]\n"
     ]
    },
    {
     "name": "stdout",
     "output_type": "stream",
     "text": [
      "training (log loss) : 1.6670189692466686\n",
      "training (accuracy) : 0.95375\n",
      "end training! (epoch : 233)\n",
      "==================================================\n",
      "start validation! (epoch : 233)\n"
     ]
    },
    {
     "name": "stderr",
     "output_type": "stream",
     "text": [
      "100%|█████████████████████████████████████████████████████████████████████████████████| 2/2 [00:02<00:00,  1.19s/it]\n"
     ]
    },
    {
     "name": "stdout",
     "output_type": "stream",
     "text": [
      "validation (log loss) : 1.8922918029286506\n",
      "validation (accuracy) : 0.9475\n",
      "validation best accuracy :  0.95\n",
      "end validation! (epoch : 233)\n",
      "==================================================\n",
      "start training! (epoch : 234)\n"
     ]
    },
    {
     "name": "stderr",
     "output_type": "stream",
     "text": [
      "100%|█████████████████████████████████████████████████████████████████████████████████| 5/5 [00:18<00:00,  3.80s/it]\n"
     ]
    },
    {
     "name": "stdout",
     "output_type": "stream",
     "text": [
      "training (log loss) : 1.4567643244768185\n",
      "training (accuracy) : 0.9595833333333333\n",
      "end training! (epoch : 234)\n",
      "==================================================\n",
      "start validation! (epoch : 234)\n"
     ]
    },
    {
     "name": "stderr",
     "output_type": "stream",
     "text": [
      "100%|█████████████████████████████████████████████████████████████████████████████████| 2/2 [00:02<00:00,  1.22s/it]\n"
     ]
    },
    {
     "name": "stdout",
     "output_type": "stream",
     "text": [
      "validation (log loss) : 1.8922918029286506\n",
      "validation (accuracy) : 0.9475\n",
      "validation best accuracy :  0.95\n",
      "end validation! (epoch : 234)\n",
      "==================================================\n",
      "start training! (epoch : 235)\n"
     ]
    },
    {
     "name": "stderr",
     "output_type": "stream",
     "text": [
      "100%|█████████████████████████████████████████████████████████████████████████████████| 5/5 [00:22<00:00,  4.54s/it]\n"
     ]
    },
    {
     "name": "stdout",
     "output_type": "stream",
     "text": [
      "training (log loss) : 1.3666551910040254\n",
      "training (accuracy) : 0.9620833333333333\n",
      "end training! (epoch : 235)\n",
      "==================================================\n",
      "start validation! (epoch : 235)\n"
     ]
    },
    {
     "name": "stderr",
     "output_type": "stream",
     "text": [
      "100%|█████████████████████████████████████████████████████████████████████████████████| 2/2 [00:02<00:00,  1.19s/it]\n"
     ]
    },
    {
     "name": "stdout",
     "output_type": "stream",
     "text": [
      "validation (log loss) : 1.937346369665047\n",
      "validation (accuracy) : 0.94625\n",
      "validation best accuracy :  0.95\n",
      "end validation! (epoch : 235)\n",
      "==================================================\n",
      "start training! (epoch : 236)\n"
     ]
    },
    {
     "name": "stderr",
     "output_type": "stream",
     "text": [
      "100%|█████████████████████████████████████████████████████████████████████████████████| 5/5 [00:21<00:00,  4.22s/it]\n"
     ]
    },
    {
     "name": "stdout",
     "output_type": "stream",
     "text": [
      "training (log loss) : 1.411709757740422\n",
      "training (accuracy) : 0.9608333333333333\n",
      "end training! (epoch : 236)\n",
      "==================================================\n",
      "start validation! (epoch : 236)\n"
     ]
    },
    {
     "name": "stderr",
     "output_type": "stream",
     "text": [
      "100%|█████████████████████████████████████████████████████████████████████████████████| 2/2 [00:02<00:00,  1.20s/it]\n"
     ]
    },
    {
     "name": "stdout",
     "output_type": "stream",
     "text": [
      "validation (log loss) : 2.2977829035562185\n",
      "validation (accuracy) : 0.93625\n",
      "validation best accuracy :  0.95\n",
      "end validation! (epoch : 236)\n",
      "==================================================\n",
      "start training! (epoch : 237)\n"
     ]
    },
    {
     "name": "stderr",
     "output_type": "stream",
     "text": [
      "100%|█████████████████████████████████████████████████████████████████████████████████| 5/5 [00:20<00:00,  4.04s/it]\n"
     ]
    },
    {
     "name": "stdout",
     "output_type": "stream",
     "text": [
      "training (log loss) : 1.2014551129705722\n",
      "training (accuracy) : 0.9666666666666667\n",
      "end training! (epoch : 237)\n",
      "==================================================\n",
      "start validation! (epoch : 237)\n"
     ]
    },
    {
     "name": "stderr",
     "output_type": "stream",
     "text": [
      "100%|█████████████████████████████████████████████████████████████████████████████████| 2/2 [00:02<00:00,  1.22s/it]\n"
     ]
    },
    {
     "name": "stdout",
     "output_type": "stream",
     "text": [
      "validation (log loss) : 1.7120735359830648\n",
      "validation (accuracy) : 0.9525\n",
      "validation best accuracy :  0.9525\n",
      "end validation! (epoch : 237)\n",
      "==================================================\n",
      "start training! (epoch : 238)\n"
     ]
    },
    {
     "name": "stderr",
     "output_type": "stream",
     "text": [
      "100%|█████████████████████████████████████████████████████████████████████████████████| 5/5 [00:18<00:00,  3.69s/it]\n"
     ]
    },
    {
     "name": "stdout",
     "output_type": "stream",
     "text": [
      "training (log loss) : 1.5618916468617434\n",
      "training (accuracy) : 0.9566666666666667\n",
      "end training! (epoch : 238)\n",
      "==================================================\n",
      "start validation! (epoch : 238)\n"
     ]
    },
    {
     "name": "stderr",
     "output_type": "stream",
     "text": [
      "100%|█████████████████████████████████████████████████████████████████████████████████| 2/2 [00:02<00:00,  1.20s/it]\n"
     ]
    },
    {
     "name": "stdout",
     "output_type": "stream",
     "text": [
      "validation (log loss) : 1.8021826694558576\n",
      "validation (accuracy) : 0.95\n",
      "validation best accuracy :  0.9525\n",
      "end validation! (epoch : 238)\n",
      "==================================================\n",
      "start training! (epoch : 239)\n"
     ]
    },
    {
     "name": "stderr",
     "output_type": "stream",
     "text": [
      "100%|█████████████████████████████████████████████████████████████████████████████████| 5/5 [00:17<00:00,  3.51s/it]\n"
     ]
    },
    {
     "name": "stdout",
     "output_type": "stream",
     "text": [
      "training (log loss) : 1.1564005462341755\n",
      "training (accuracy) : 0.9679166666666666\n",
      "end training! (epoch : 239)\n",
      "==================================================\n",
      "start validation! (epoch : 239)\n"
     ]
    },
    {
     "name": "stderr",
     "output_type": "stream",
     "text": [
      "100%|█████████████████████████████████████████████████████████████████████████████████| 2/2 [00:02<00:00,  1.19s/it]\n"
     ]
    },
    {
     "name": "stdout",
     "output_type": "stream",
     "text": [
      "validation (log loss) : 1.9824009364014432\n",
      "validation (accuracy) : 0.945\n",
      "validation best accuracy :  0.9525\n",
      "end validation! (epoch : 239)\n",
      "==================================================\n",
      "start training! (epoch : 240)\n"
     ]
    },
    {
     "name": "stderr",
     "output_type": "stream",
     "text": [
      "100%|█████████████████████████████████████████████████████████████████████████████████| 5/5 [00:19<00:00,  3.86s/it]\n"
     ]
    },
    {
     "name": "stdout",
     "output_type": "stream",
     "text": [
      "training (log loss) : 1.0813096016735149\n",
      "training (accuracy) : 0.97\n",
      "end training! (epoch : 240)\n",
      "==================================================\n",
      "start validation! (epoch : 240)\n"
     ]
    },
    {
     "name": "stderr",
     "output_type": "stream",
     "text": [
      "100%|█████████████████████████████████████████████████████████████████████████████████| 2/2 [00:02<00:00,  1.23s/it]\n"
     ]
    },
    {
     "name": "stdout",
     "output_type": "stream",
     "text": [
      "validation (log loss) : 1.8021826694558576\n",
      "validation (accuracy) : 0.95\n",
      "validation best accuracy :  0.9525\n",
      "end validation! (epoch : 240)\n",
      "==================================================\n",
      "start training! (epoch : 241)\n"
     ]
    },
    {
     "name": "stderr",
     "output_type": "stream",
     "text": [
      "100%|█████████████████████████████████████████████████████████████████████████████████| 5/5 [00:20<00:00,  4.13s/it]\n"
     ]
    },
    {
     "name": "stdout",
     "output_type": "stream",
     "text": [
      "training (log loss) : 1.1413823573220434\n",
      "training (accuracy) : 0.9683333333333334\n",
      "end training! (epoch : 241)\n",
      "==================================================\n",
      "start validation! (epoch : 241)\n"
     ]
    },
    {
     "name": "stderr",
     "output_type": "stream",
     "text": [
      "100%|█████████████████████████████████████████████████████████████████████████████████| 2/2 [00:02<00:00,  1.18s/it]\n"
     ]
    },
    {
     "name": "stdout",
     "output_type": "stream",
     "text": [
      "validation (log loss) : 1.8922918029286506\n",
      "validation (accuracy) : 0.9475\n",
      "validation best accuracy :  0.9525\n",
      "end validation! (epoch : 241)\n",
      "==================================================\n",
      "start training! (epoch : 242)\n"
     ]
    },
    {
     "name": "stderr",
     "output_type": "stream",
     "text": [
      "100%|█████████████████████████████████████████████████████████████████████████████████| 5/5 [00:20<00:00,  4.05s/it]\n"
     ]
    },
    {
     "name": "stdout",
     "output_type": "stream",
     "text": [
      "training (log loss) : 1.2915642464433648\n",
      "training (accuracy) : 0.9641666666666666\n",
      "end training! (epoch : 242)\n",
      "==================================================\n",
      "start validation! (epoch : 242)\n"
     ]
    },
    {
     "name": "stderr",
     "output_type": "stream",
     "text": [
      "100%|█████████████████████████████████████████████████████████████████████████████████| 2/2 [00:02<00:00,  1.19s/it]\n"
     ]
    },
    {
     "name": "stdout",
     "output_type": "stream",
     "text": [
      "validation (log loss) : 1.8021826694558576\n",
      "validation (accuracy) : 0.95\n",
      "validation best accuracy :  0.9525\n",
      "end validation! (epoch : 242)\n",
      "==================================================\n",
      "start training! (epoch : 243)\n"
     ]
    },
    {
     "name": "stderr",
     "output_type": "stream",
     "text": [
      "100%|█████████████████████████████████████████████████████████████████████████████████| 5/5 [00:20<00:00,  4.01s/it]\n"
     ]
    },
    {
     "name": "stdout",
     "output_type": "stream",
     "text": [
      "training (log loss) : 1.2765460575312326\n",
      "training (accuracy) : 0.9645833333333333\n",
      "end training! (epoch : 243)\n",
      "==================================================\n",
      "start validation! (epoch : 243)\n"
     ]
    },
    {
     "name": "stderr",
     "output_type": "stream",
     "text": [
      "100%|█████████████████████████████████████████████████████████████████████████████████| 2/2 [00:02<00:00,  1.21s/it]\n"
     ]
    },
    {
     "name": "stdout",
     "output_type": "stream",
     "text": [
      "validation (log loss) : 1.8472372361922538\n",
      "validation (accuracy) : 0.94875\n",
      "validation best accuracy :  0.9525\n",
      "end validation! (epoch : 243)\n",
      "==================================================\n",
      "start training! (epoch : 244)\n"
     ]
    },
    {
     "name": "stderr",
     "output_type": "stream",
     "text": [
      "100%|█████████████████████████████████████████████████████████████████████████████████| 5/5 [00:18<00:00,  3.63s/it]\n"
     ]
    },
    {
     "name": "stdout",
     "output_type": "stream",
     "text": [
      "training (log loss) : 1.1413823573220434\n",
      "training (accuracy) : 0.9683333333333334\n",
      "end training! (epoch : 244)\n",
      "==================================================\n",
      "start validation! (epoch : 244)\n"
     ]
    },
    {
     "name": "stderr",
     "output_type": "stream",
     "text": [
      "100%|█████████████████████████████████████████████████████████████████████████████████| 2/2 [00:02<00:00,  1.20s/it]\n"
     ]
    },
    {
     "name": "stdout",
     "output_type": "stream",
     "text": [
      "validation (log loss) : 1.8922918029286506\n",
      "validation (accuracy) : 0.9475\n",
      "validation best accuracy :  0.9525\n",
      "end validation! (epoch : 244)\n",
      "==================================================\n",
      "start training! (epoch : 245)\n"
     ]
    },
    {
     "name": "stderr",
     "output_type": "stream",
     "text": [
      "100%|█████████████████████████████████████████████████████████████████████████████████| 5/5 [00:20<00:00,  4.00s/it]\n"
     ]
    },
    {
     "name": "stdout",
     "output_type": "stream",
     "text": [
      "training (log loss) : 1.2014551129705722\n",
      "training (accuracy) : 0.9666666666666667\n",
      "end training! (epoch : 245)\n",
      "==================================================\n",
      "start validation! (epoch : 245)\n"
     ]
    },
    {
     "name": "stderr",
     "output_type": "stream",
     "text": [
      "100%|█████████████████████████████████████████████████████████████████████████████████| 2/2 [00:02<00:00,  1.18s/it]\n"
     ]
    },
    {
     "name": "stdout",
     "output_type": "stream",
     "text": [
      "validation (log loss) : 1.8922918029286506\n",
      "validation (accuracy) : 0.9475\n",
      "validation best accuracy :  0.9525\n",
      "end validation! (epoch : 245)\n",
      "==================================================\n",
      "start training! (epoch : 246)\n"
     ]
    },
    {
     "name": "stderr",
     "output_type": "stream",
     "text": [
      "100%|█████████████████████████████████████████████████████████████████████████████████| 5/5 [00:19<00:00,  3.95s/it]\n"
     ]
    },
    {
     "name": "stdout",
     "output_type": "stream",
     "text": [
      "training (log loss) : 1.0362550349371182\n",
      "training (accuracy) : 0.97125\n",
      "end training! (epoch : 246)\n",
      "==================================================\n",
      "start validation! (epoch : 246)\n"
     ]
    },
    {
     "name": "stderr",
     "output_type": "stream",
     "text": [
      "100%|█████████████████████████████████████████████████████████████████████████████████| 2/2 [00:02<00:00,  1.20s/it]\n"
     ]
    },
    {
     "name": "stdout",
     "output_type": "stream",
     "text": [
      "validation (log loss) : 1.9824009364014434\n",
      "validation (accuracy) : 0.945\n",
      "validation best accuracy :  0.9525\n",
      "end validation! (epoch : 246)\n",
      "==================================================\n",
      "start training! (epoch : 247)\n"
     ]
    },
    {
     "name": "stderr",
     "output_type": "stream",
     "text": [
      "100%|█████████████████████████████████████████████████████████████████████████████████| 5/5 [00:20<00:00,  4.17s/it]\n"
     ]
    },
    {
     "name": "stdout",
     "output_type": "stream",
     "text": [
      "training (log loss) : 1.216473301882704\n",
      "training (accuracy) : 0.96625\n",
      "end training! (epoch : 247)\n",
      "==================================================\n",
      "start validation! (epoch : 247)\n"
     ]
    },
    {
     "name": "stderr",
     "output_type": "stream",
     "text": [
      "100%|█████████████████████████████████████████████████████████████████████████████████| 2/2 [00:02<00:00,  1.20s/it]\n"
     ]
    },
    {
     "name": "stdout",
     "output_type": "stream",
     "text": [
      "validation (log loss) : 1.9824009364014432\n",
      "validation (accuracy) : 0.945\n",
      "validation best accuracy :  0.9525\n",
      "end validation! (epoch : 247)\n",
      "==================================================\n",
      "start training! (epoch : 248)\n"
     ]
    },
    {
     "name": "stderr",
     "output_type": "stream",
     "text": [
      "100%|█████████████████████████████████████████████████████████████████████████████████| 5/5 [00:22<00:00,  4.44s/it]\n"
     ]
    },
    {
     "name": "stdout",
     "output_type": "stream",
     "text": [
      "training (log loss) : 1.0813096016735146\n",
      "training (accuracy) : 0.97\n",
      "end training! (epoch : 248)\n",
      "==================================================\n",
      "start validation! (epoch : 248)\n"
     ]
    },
    {
     "name": "stderr",
     "output_type": "stream",
     "text": [
      "100%|█████████████████████████████████████████████████████████████████████████████████| 2/2 [00:02<00:00,  1.20s/it]\n"
     ]
    },
    {
     "name": "stdout",
     "output_type": "stream",
     "text": [
      "validation (log loss) : 1.937346369665047\n",
      "validation (accuracy) : 0.94625\n",
      "validation best accuracy :  0.9525\n",
      "end validation! (epoch : 248)\n",
      "==================================================\n",
      "start training! (epoch : 249)\n"
     ]
    },
    {
     "name": "stderr",
     "output_type": "stream",
     "text": [
      "100%|█████████████████████████████████████████████████████████████████████████████████| 5/5 [00:18<00:00,  3.60s/it]\n"
     ]
    },
    {
     "name": "stdout",
     "output_type": "stream",
     "text": [
      "training (log loss) : 1.1564005462341753\n",
      "training (accuracy) : 0.9679166666666666\n",
      "end training! (epoch : 249)\n",
      "==================================================\n",
      "start validation! (epoch : 249)\n"
     ]
    },
    {
     "name": "stderr",
     "output_type": "stream",
     "text": [
      "100%|█████████████████████████████████████████████████████████████████████████████████| 2/2 [00:02<00:00,  1.21s/it]\n"
     ]
    },
    {
     "name": "stdout",
     "output_type": "stream",
     "text": [
      "validation (log loss) : 1.847237236192254\n",
      "validation (accuracy) : 0.94875\n",
      "validation best accuracy :  0.9525\n",
      "end validation! (epoch : 249)\n",
      "==================================================\n",
      "start training! (epoch : 250)\n"
     ]
    },
    {
     "name": "stderr",
     "output_type": "stream",
     "text": [
      "100%|█████████████████████████████████████████████████████████████████████████████████| 5/5 [00:22<00:00,  4.43s/it]\n"
     ]
    },
    {
     "name": "stdout",
     "output_type": "stream",
     "text": [
      "training (log loss) : 1.2915642464433648\n",
      "training (accuracy) : 0.9641666666666666\n",
      "end training! (epoch : 250)\n",
      "==================================================\n",
      "start validation! (epoch : 250)\n"
     ]
    },
    {
     "name": "stderr",
     "output_type": "stream",
     "text": [
      "100%|█████████████████████████████████████████████████████████████████████████████████| 2/2 [00:02<00:00,  1.19s/it]\n"
     ]
    },
    {
     "name": "stdout",
     "output_type": "stream",
     "text": [
      "validation (log loss) : 1.847237236192254\n",
      "validation (accuracy) : 0.94875\n",
      "validation best accuracy :  0.9525\n",
      "end validation! (epoch : 250)\n",
      "==================================================\n",
      "start training! (epoch : 251)\n"
     ]
    },
    {
     "name": "stderr",
     "output_type": "stream",
     "text": [
      "100%|█████████████████████████████████████████████████████████████████████████████████| 5/5 [00:17<00:00,  3.47s/it]\n"
     ]
    },
    {
     "name": "stdout",
     "output_type": "stream",
     "text": [
      "training (log loss) : 1.5769098357738756\n",
      "training (accuracy) : 0.95625\n",
      "end training! (epoch : 251)\n",
      "==================================================\n",
      "start validation! (epoch : 251)\n"
     ]
    },
    {
     "name": "stderr",
     "output_type": "stream",
     "text": [
      "100%|█████████████████████████████████████████████████████████████████████████████████| 2/2 [00:02<00:00,  1.21s/it]\n"
     ]
    },
    {
     "name": "stdout",
     "output_type": "stream",
     "text": [
      "validation (log loss) : 2.8834922711293722\n",
      "validation (accuracy) : 0.92\n",
      "validation best accuracy :  0.9525\n",
      "end validation! (epoch : 251)\n",
      "==================================================\n",
      "start training! (epoch : 252)\n"
     ]
    },
    {
     "name": "stderr",
     "output_type": "stream",
     "text": [
      "100%|█████████████████████████████████████████████████████████████████████████████████| 5/5 [00:19<00:00,  3.89s/it]\n"
     ]
    },
    {
     "name": "stdout",
     "output_type": "stream",
     "text": [
      "training (log loss) : 2.072510069874236\n",
      "training (accuracy) : 0.9425\n",
      "end training! (epoch : 252)\n",
      "==================================================\n",
      "start validation! (epoch : 252)\n"
     ]
    },
    {
     "name": "stderr",
     "output_type": "stream",
     "text": [
      "100%|█████████████████████████████████████████████████████████████████████████████████| 2/2 [00:02<00:00,  1.20s/it]\n"
     ]
    },
    {
     "name": "stdout",
     "output_type": "stream",
     "text": [
      "validation (log loss) : 2.65821943744739\n",
      "validation (accuracy) : 0.92625\n",
      "validation best accuracy :  0.9525\n",
      "end validation! (epoch : 252)\n",
      "==================================================\n",
      "start training! (epoch : 253)\n"
     ]
    },
    {
     "name": "stderr",
     "output_type": "stream",
     "text": [
      "100%|█████████████████████████████████████████████████████████████████████████████████| 5/5 [00:19<00:00,  3.83s/it]\n"
     ]
    },
    {
     "name": "stdout",
     "output_type": "stream",
     "text": [
      "training (log loss) : 1.7270917248951974\n",
      "training (accuracy) : 0.9520833333333333\n",
      "end training! (epoch : 253)\n",
      "==================================================\n",
      "start validation! (epoch : 253)\n"
     ]
    },
    {
     "name": "stderr",
     "output_type": "stream",
     "text": [
      "100%|█████████████████████████████████████████████████████████████████████████████████| 2/2 [00:02<00:00,  1.23s/it]\n"
     ]
    },
    {
     "name": "stdout",
     "output_type": "stream",
     "text": [
      "validation (log loss) : 2.5681103039745974\n",
      "validation (accuracy) : 0.92875\n",
      "validation best accuracy :  0.9525\n",
      "end validation! (epoch : 253)\n",
      "==================================================\n",
      "start training! (epoch : 254)\n"
     ]
    },
    {
     "name": "stderr",
     "output_type": "stream",
     "text": [
      "100%|█████████████████████████████████████████████████████████████████████████████████| 5/5 [00:19<00:00,  3.83s/it]\n"
     ]
    },
    {
     "name": "stdout",
     "output_type": "stream",
     "text": [
      "training (log loss) : 1.7721462916315935\n",
      "training (accuracy) : 0.9508333333333333\n",
      "end training! (epoch : 254)\n",
      "==================================================\n",
      "start validation! (epoch : 254)\n"
     ]
    },
    {
     "name": "stderr",
     "output_type": "stream",
     "text": [
      "100%|█████████████████████████████████████████████████████████████████████████████████| 2/2 [00:02<00:00,  1.17s/it]\n"
     ]
    },
    {
     "name": "stdout",
     "output_type": "stream",
     "text": [
      "validation (log loss) : 3.8296381725936977\n",
      "validation (accuracy) : 0.89375\n",
      "validation best accuracy :  0.9525\n",
      "end validation! (epoch : 254)\n",
      "==================================================\n",
      "start training! (epoch : 255)\n"
     ]
    },
    {
     "name": "stderr",
     "output_type": "stream",
     "text": [
      "100%|█████████████████████████████████████████████████████████████████████████████████| 5/5 [00:20<00:00,  4.10s/it]\n"
     ]
    },
    {
     "name": "stdout",
     "output_type": "stream",
     "text": [
      "training (log loss) : 1.967382747489311\n",
      "training (accuracy) : 0.9454166666666667\n",
      "end training! (epoch : 255)\n",
      "==================================================\n",
      "start validation! (epoch : 255)\n"
     ]
    },
    {
     "name": "stderr",
     "output_type": "stream",
     "text": [
      "100%|█████████████████████████████████████████████████████████████████████████████████| 2/2 [00:02<00:00,  1.20s/it]\n"
     ]
    },
    {
     "name": "stdout",
     "output_type": "stream",
     "text": [
      "validation (log loss) : 7.20873067782343\n",
      "validation (accuracy) : 0.8\n",
      "validation best accuracy :  0.9525\n",
      "end validation! (epoch : 255)\n",
      "==================================================\n",
      "start training! (epoch : 256)\n"
     ]
    },
    {
     "name": "stderr",
     "output_type": "stream",
     "text": [
      "100%|█████████████████████████████████████████████████████████████████████████████████| 5/5 [00:20<00:00,  4.20s/it]\n"
     ]
    },
    {
     "name": "stdout",
     "output_type": "stream",
     "text": [
      "training (log loss) : 1.8922918029286506\n",
      "training (accuracy) : 0.9475\n",
      "end training! (epoch : 256)\n",
      "==================================================\n",
      "start validation! (epoch : 256)\n"
     ]
    },
    {
     "name": "stderr",
     "output_type": "stream",
     "text": [
      "100%|█████████████████████████████████████████████████████████████████████████████████| 2/2 [00:02<00:00,  1.21s/it]\n"
     ]
    },
    {
     "name": "stdout",
     "output_type": "stream",
     "text": [
      "validation (log loss) : 2.2977829035562185\n",
      "validation (accuracy) : 0.93625\n",
      "validation best accuracy :  0.9525\n",
      "end validation! (epoch : 256)\n",
      "==================================================\n",
      "start training! (epoch : 257)\n"
     ]
    },
    {
     "name": "stderr",
     "output_type": "stream",
     "text": [
      "100%|█████████████████████████████████████████████████████████████████████████████████| 5/5 [00:17<00:00,  3.55s/it]\n"
     ]
    },
    {
     "name": "stdout",
     "output_type": "stream",
     "text": [
      "training (log loss) : 1.952364558577179\n",
      "training (accuracy) : 0.9458333333333333\n",
      "end training! (epoch : 257)\n",
      "==================================================\n",
      "start validation! (epoch : 257)\n"
     ]
    },
    {
     "name": "stderr",
     "output_type": "stream",
     "text": [
      "100%|█████████████████████████████████████████████████████████████████████████████████| 2/2 [00:02<00:00,  1.29s/it]\n"
     ]
    },
    {
     "name": "stdout",
     "output_type": "stream",
     "text": [
      "validation (log loss) : 2.2977829035562185\n",
      "validation (accuracy) : 0.93625\n",
      "validation best accuracy :  0.9525\n",
      "end validation! (epoch : 257)\n",
      "==================================================\n",
      "start training! (epoch : 258)\n"
     ]
    },
    {
     "name": "stderr",
     "output_type": "stream",
     "text": [
      "100%|█████████████████████████████████████████████████████████████████████████████████| 5/5 [00:18<00:00,  3.75s/it]\n"
     ]
    },
    {
     "name": "stdout",
     "output_type": "stream",
     "text": [
      "training (log loss) : 1.952364558577179\n",
      "training (accuracy) : 0.9458333333333333\n",
      "end training! (epoch : 258)\n",
      "==================================================\n",
      "start validation! (epoch : 258)\n"
     ]
    },
    {
     "name": "stderr",
     "output_type": "stream",
     "text": [
      "100%|█████████████████████████████████████████████████████████████████████████████████| 2/2 [00:02<00:00,  1.18s/it]\n"
     ]
    },
    {
     "name": "stdout",
     "output_type": "stream",
     "text": [
      "validation (log loss) : 1.937346369665047\n",
      "validation (accuracy) : 0.94625\n",
      "validation best accuracy :  0.9525\n",
      "end validation! (epoch : 258)\n",
      "==================================================\n",
      "start training! (epoch : 259)\n"
     ]
    },
    {
     "name": "stderr",
     "output_type": "stream",
     "text": [
      "100%|█████████████████████████████████████████████████████████████████████████████████| 5/5 [00:22<00:00,  4.49s/it]\n"
     ]
    },
    {
     "name": "stdout",
     "output_type": "stream",
     "text": [
      "training (log loss) : 1.6670189692466684\n",
      "training (accuracy) : 0.95375\n",
      "end training! (epoch : 259)\n",
      "==================================================\n",
      "start validation! (epoch : 259)\n"
     ]
    },
    {
     "name": "stderr",
     "output_type": "stream",
     "text": [
      "100%|█████████████████████████████████████████████████████████████████████████████████| 2/2 [00:02<00:00,  1.17s/it]\n"
     ]
    },
    {
     "name": "stdout",
     "output_type": "stream",
     "text": [
      "validation (log loss) : 3.7395290391209044\n",
      "validation (accuracy) : 0.89625\n",
      "validation best accuracy :  0.9525\n",
      "end validation! (epoch : 259)\n",
      "==================================================\n",
      "start training! (epoch : 260)\n"
     ]
    },
    {
     "name": "stderr",
     "output_type": "stream",
     "text": [
      "100%|█████████████████████████████████████████████████████████████████████████████████| 5/5 [00:19<00:00,  3.93s/it]\n"
     ]
    },
    {
     "name": "stdout",
     "output_type": "stream",
     "text": [
      "training (log loss) : 1.8322190472801219\n",
      "training (accuracy) : 0.9491666666666667\n",
      "end training! (epoch : 260)\n",
      "==================================================\n",
      "start validation! (epoch : 260)\n"
     ]
    },
    {
     "name": "stderr",
     "output_type": "stream",
     "text": [
      "100%|█████████████████████████████████████████████████████████████████████████████████| 2/2 [00:02<00:00,  1.20s/it]\n"
     ]
    },
    {
     "name": "stdout",
     "output_type": "stream",
     "text": [
      "validation (log loss) : 4.099965573012076\n",
      "validation (accuracy) : 0.88625\n",
      "validation best accuracy :  0.9525\n",
      "end validation! (epoch : 260)\n",
      "==================================================\n",
      "start training! (epoch : 261)\n"
     ]
    },
    {
     "name": "stderr",
     "output_type": "stream",
     "text": [
      "100%|█████████████████████████████████████████████████████████████████████████████████| 5/5 [00:17<00:00,  3.49s/it]\n"
     ]
    },
    {
     "name": "stdout",
     "output_type": "stream",
     "text": [
      "training (log loss) : 1.9824009364014432\n",
      "training (accuracy) : 0.945\n",
      "end training! (epoch : 261)\n",
      "==================================================\n",
      "start validation! (epoch : 261)\n"
     ]
    },
    {
     "name": "stderr",
     "output_type": "stream",
     "text": [
      "100%|█████████████████████████████████████████████████████████████████████████████████| 2/2 [00:02<00:00,  1.20s/it]\n"
     ]
    },
    {
     "name": "stdout",
     "output_type": "stream",
     "text": [
      "validation (log loss) : 1.937346369665047\n",
      "validation (accuracy) : 0.94625\n",
      "validation best accuracy :  0.9525\n",
      "end validation! (epoch : 261)\n",
      "==================================================\n",
      "start training! (epoch : 262)\n"
     ]
    },
    {
     "name": "stderr",
     "output_type": "stream",
     "text": [
      "100%|█████████████████████████████████████████████████████████████████████████████████| 5/5 [00:21<00:00,  4.25s/it]\n"
     ]
    },
    {
     "name": "stdout",
     "output_type": "stream",
     "text": [
      "training (log loss) : 1.6970553470709326\n",
      "training (accuracy) : 0.9529166666666666\n",
      "end training! (epoch : 262)\n",
      "==================================================\n",
      "start validation! (epoch : 262)\n"
     ]
    },
    {
     "name": "stderr",
     "output_type": "stream",
     "text": [
      "100%|█████████████████████████████████████████████████████████████████████████████████| 2/2 [00:02<00:00,  1.19s/it]\n"
     ]
    },
    {
     "name": "stdout",
     "output_type": "stream",
     "text": [
      "validation (log loss) : 2.703274004183786\n",
      "validation (accuracy) : 0.925\n",
      "validation best accuracy :  0.9525\n",
      "end validation! (epoch : 262)\n",
      "==================================================\n",
      "start training! (epoch : 263)\n"
     ]
    },
    {
     "name": "stderr",
     "output_type": "stream",
     "text": [
      "100%|█████████████████████████████████████████████████████████████████████████████████| 5/5 [00:20<00:00,  4.08s/it]\n"
     ]
    },
    {
     "name": "stdout",
     "output_type": "stream",
     "text": [
      "training (log loss) : 2.012437314225708\n",
      "training (accuracy) : 0.9441666666666667\n",
      "end training! (epoch : 263)\n",
      "==================================================\n",
      "start validation! (epoch : 263)\n"
     ]
    },
    {
     "name": "stderr",
     "output_type": "stream",
     "text": [
      "100%|█████████████████████████████████████████████████████████████████████████████████| 2/2 [00:02<00:00,  1.19s/it]\n"
     ]
    },
    {
     "name": "stdout",
     "output_type": "stream",
     "text": [
      "validation (log loss) : 1.6219644025102717\n",
      "validation (accuracy) : 0.955\n",
      "validation best accuracy :  0.955\n",
      "end validation! (epoch : 263)\n",
      "==================================================\n",
      "start training! (epoch : 264)\n"
     ]
    },
    {
     "name": "stderr",
     "output_type": "stream",
     "text": [
      "100%|█████████████████████████████████████████████████████████████████████████████████| 5/5 [00:21<00:00,  4.32s/it]\n"
     ]
    },
    {
     "name": "stdout",
     "output_type": "stream",
     "text": [
      "training (log loss) : 1.5468734579496113\n",
      "training (accuracy) : 0.9570833333333333\n",
      "end training! (epoch : 264)\n",
      "==================================================\n",
      "start validation! (epoch : 264)\n"
     ]
    },
    {
     "name": "stderr",
     "output_type": "stream",
     "text": [
      "100%|█████████████████████████████████████████████████████████████████████████████████| 2/2 [00:02<00:00,  1.22s/it]\n"
     ]
    },
    {
     "name": "stdout",
     "output_type": "stream",
     "text": [
      "validation (log loss) : 1.7571281027194612\n",
      "validation (accuracy) : 0.95125\n",
      "validation best accuracy :  0.955\n",
      "end validation! (epoch : 264)\n",
      "==================================================\n",
      "start training! (epoch : 265)\n"
     ]
    },
    {
     "name": "stderr",
     "output_type": "stream",
     "text": [
      "100%|█████████████████████████████████████████████████████████████████████████████████| 5/5 [00:19<00:00,  3.88s/it]\n"
     ]
    },
    {
     "name": "stdout",
     "output_type": "stream",
     "text": [
      "training (log loss) : 1.7571281027194614\n",
      "training (accuracy) : 0.95125\n",
      "end training! (epoch : 265)\n",
      "==================================================\n",
      "start validation! (epoch : 265)\n"
     ]
    },
    {
     "name": "stderr",
     "output_type": "stream",
     "text": [
      "100%|█████████████████████████████████████████████████████████████████████████████████| 2/2 [00:02<00:00,  1.20s/it]\n"
     ]
    },
    {
     "name": "stdout",
     "output_type": "stream",
     "text": [
      "validation (log loss) : 1.8922918029286506\n",
      "validation (accuracy) : 0.9475\n",
      "validation best accuracy :  0.955\n",
      "end validation! (epoch : 265)\n",
      "==================================================\n",
      "start training! (epoch : 266)\n"
     ]
    },
    {
     "name": "stderr",
     "output_type": "stream",
     "text": [
      "100%|█████████████████████████████████████████████████████████████████████████████████| 5/5 [00:17<00:00,  3.54s/it]\n"
     ]
    },
    {
     "name": "stdout",
     "output_type": "stream",
     "text": [
      "training (log loss) : 1.5468734579496113\n",
      "training (accuracy) : 0.9570833333333333\n",
      "end training! (epoch : 266)\n",
      "==================================================\n",
      "start validation! (epoch : 266)\n"
     ]
    },
    {
     "name": "stderr",
     "output_type": "stream",
     "text": [
      "100%|█████████████████████████████████████████████████████████████████████████████████| 2/2 [00:02<00:00,  1.19s/it]\n"
     ]
    },
    {
     "name": "stdout",
     "output_type": "stream",
     "text": [
      "validation (log loss) : 2.3878920370290113\n",
      "validation (accuracy) : 0.93375\n",
      "validation best accuracy :  0.955\n",
      "end validation! (epoch : 266)\n",
      "==================================================\n",
      "start training! (epoch : 267)\n"
     ]
    },
    {
     "name": "stderr",
     "output_type": "stream",
     "text": [
      "100%|█████████████████████████████████████████████████████████████████████████████████| 5/5 [00:18<00:00,  3.77s/it]\n"
     ]
    },
    {
     "name": "stdout",
     "output_type": "stream",
     "text": [
      "training (log loss) : 1.411709757740422\n",
      "training (accuracy) : 0.9608333333333333\n",
      "end training! (epoch : 267)\n",
      "==================================================\n",
      "start validation! (epoch : 267)\n"
     ]
    },
    {
     "name": "stderr",
     "output_type": "stream",
     "text": [
      "100%|█████████████████████████████████████████████████████████████████████████████████| 2/2 [00:02<00:00,  1.20s/it]\n"
     ]
    },
    {
     "name": "stdout",
     "output_type": "stream",
     "text": [
      "validation (log loss) : 2.0274555031378396\n",
      "validation (accuracy) : 0.94375\n",
      "validation best accuracy :  0.955\n",
      "end validation! (epoch : 267)\n",
      "==================================================\n",
      "start training! (epoch : 268)\n"
     ]
    },
    {
     "name": "stderr",
     "output_type": "stream",
     "text": [
      "100%|█████████████████████████████████████████████████████████████████████████████████| 5/5 [00:21<00:00,  4.24s/it]\n"
     ]
    },
    {
     "name": "stdout",
     "output_type": "stream",
     "text": [
      "training (log loss) : 1.636982591422404\n",
      "training (accuracy) : 0.9545833333333333\n",
      "end training! (epoch : 268)\n",
      "==================================================\n",
      "start validation! (epoch : 268)\n"
     ]
    },
    {
     "name": "stderr",
     "output_type": "stream",
     "text": [
      "100%|█████████████████████████████████████████████████████████████████████████████████| 2/2 [00:02<00:00,  1.18s/it]\n"
     ]
    },
    {
     "name": "stdout",
     "output_type": "stream",
     "text": [
      "validation (log loss) : 3.5142562054389224\n",
      "validation (accuracy) : 0.9025\n",
      "validation best accuracy :  0.955\n",
      "end validation! (epoch : 268)\n",
      "==================================================\n",
      "start training! (epoch : 269)\n"
     ]
    },
    {
     "name": "stderr",
     "output_type": "stream",
     "text": [
      "100%|█████████████████████████████████████████████████████████████████████████████████| 5/5 [00:17<00:00,  3.59s/it]\n"
     ]
    },
    {
     "name": "stdout",
     "output_type": "stream",
     "text": [
      "training (log loss) : 1.742109913807329\n",
      "training (accuracy) : 0.9516666666666667\n",
      "end training! (epoch : 269)\n",
      "==================================================\n",
      "start validation! (epoch : 269)\n"
     ]
    },
    {
     "name": "stderr",
     "output_type": "stream",
     "text": [
      "100%|█████████████████████████████████████████████████████████████████████████████████| 2/2 [00:02<00:00,  1.21s/it]\n"
     ]
    },
    {
     "name": "stdout",
     "output_type": "stream",
     "text": [
      "validation (log loss) : 1.8922918029286506\n",
      "validation (accuracy) : 0.9475\n",
      "validation best accuracy :  0.955\n",
      "end validation! (epoch : 269)\n",
      "==================================================\n",
      "start training! (epoch : 270)\n"
     ]
    },
    {
     "name": "stderr",
     "output_type": "stream",
     "text": [
      "100%|█████████████████████████████████████████████████████████████████████████████████| 5/5 [00:18<00:00,  3.71s/it]\n"
     ]
    },
    {
     "name": "stdout",
     "output_type": "stream",
     "text": [
      "training (log loss) : 1.6069462135981398\n",
      "training (accuracy) : 0.9554166666666667\n",
      "end training! (epoch : 270)\n",
      "==================================================\n",
      "start validation! (epoch : 270)\n"
     ]
    },
    {
     "name": "stderr",
     "output_type": "stream",
     "text": [
      "100%|█████████████████████████████████████████████████████████████████████████████████| 2/2 [00:02<00:00,  1.21s/it]\n"
     ]
    },
    {
     "name": "stdout",
     "output_type": "stream",
     "text": [
      "validation (log loss) : 2.2977829035562185\n",
      "validation (accuracy) : 0.93625\n",
      "validation best accuracy :  0.955\n",
      "end validation! (epoch : 270)\n",
      "==================================================\n",
      "start training! (epoch : 271)\n"
     ]
    },
    {
     "name": "stderr",
     "output_type": "stream",
     "text": [
      "100%|█████████████████████████████████████████████████████████████████████████████████| 5/5 [00:20<00:00,  4.03s/it]\n"
     ]
    },
    {
     "name": "stdout",
     "output_type": "stream",
     "text": [
      "training (log loss) : 1.4717825133889506\n",
      "training (accuracy) : 0.9591666666666666\n",
      "end training! (epoch : 271)\n",
      "==================================================\n",
      "start validation! (epoch : 271)\n"
     ]
    },
    {
     "name": "stderr",
     "output_type": "stream",
     "text": [
      "100%|█████████████████████████████████████████████████████████████████████████████████| 2/2 [00:02<00:00,  1.17s/it]\n"
     ]
    },
    {
     "name": "stdout",
     "output_type": "stream",
     "text": [
      "validation (log loss) : 3.874692739330094\n",
      "validation (accuracy) : 0.8925\n",
      "validation best accuracy :  0.955\n",
      "end validation! (epoch : 271)\n",
      "==================================================\n",
      "start training! (epoch : 272)\n"
     ]
    },
    {
     "name": "stderr",
     "output_type": "stream",
     "text": [
      "100%|█████████████████████████████████████████████████████████████████████████████████| 5/5 [00:19<00:00,  4.00s/it]\n"
     ]
    },
    {
     "name": "stdout",
     "output_type": "stream",
     "text": [
      "training (log loss) : 1.2765460575312326\n",
      "training (accuracy) : 0.9645833333333333\n",
      "end training! (epoch : 272)\n",
      "==================================================\n",
      "start validation! (epoch : 272)\n"
     ]
    },
    {
     "name": "stderr",
     "output_type": "stream",
     "text": [
      "100%|█████████████████████████████████████████████████████████████████████████████████| 2/2 [00:02<00:00,  1.20s/it]\n"
     ]
    },
    {
     "name": "stdout",
     "output_type": "stream",
     "text": [
      "validation (log loss) : 4.730729507321626\n",
      "validation (accuracy) : 0.86875\n",
      "validation best accuracy :  0.955\n",
      "end validation! (epoch : 272)\n",
      "==================================================\n",
      "start training! (epoch : 273)\n"
     ]
    },
    {
     "name": "stderr",
     "output_type": "stream",
     "text": [
      "100%|█████████████████████████████████████████████████████████████████████████████████| 5/5 [00:20<00:00,  4.05s/it]\n"
     ]
    },
    {
     "name": "stdout",
     "output_type": "stream",
     "text": [
      "training (log loss) : 1.0963277905856468\n",
      "training (accuracy) : 0.9695833333333334\n",
      "end training! (epoch : 273)\n",
      "==================================================\n",
      "start validation! (epoch : 273)\n"
     ]
    },
    {
     "name": "stderr",
     "output_type": "stream",
     "text": [
      "100%|█████████████████████████████████████████████████████████████████████████████████| 2/2 [00:02<00:00,  1.22s/it]\n"
     ]
    },
    {
     "name": "stdout",
     "output_type": "stream",
     "text": [
      "validation (log loss) : 2.6131648707109933\n",
      "validation (accuracy) : 0.9275\n",
      "validation best accuracy :  0.955\n",
      "end validation! (epoch : 273)\n",
      "==================================================\n",
      "start training! (epoch : 274)\n"
     ]
    },
    {
     "name": "stderr",
     "output_type": "stream",
     "text": [
      "100%|█████████████████████████████████████████████████████████████████████████████████| 5/5 [00:19<00:00,  3.88s/it]\n"
     ]
    },
    {
     "name": "stdout",
     "output_type": "stream",
     "text": [
      "training (log loss) : 1.2465096797069684\n",
      "training (accuracy) : 0.9654166666666667\n",
      "end training! (epoch : 274)\n",
      "==================================================\n",
      "start validation! (epoch : 274)\n"
     ]
    },
    {
     "name": "stderr",
     "output_type": "stream",
     "text": [
      "100%|█████████████████████████████████████████████████████████████████████████████████| 2/2 [00:02<00:00,  1.19s/it]\n"
     ]
    },
    {
     "name": "stdout",
     "output_type": "stream",
     "text": [
      "validation (log loss) : 2.0725100698742365\n",
      "validation (accuracy) : 0.9425\n",
      "validation best accuracy :  0.955\n",
      "end validation! (epoch : 274)\n",
      "==================================================\n",
      "start training! (epoch : 275)\n"
     ]
    },
    {
     "name": "stderr",
     "output_type": "stream",
     "text": [
      "100%|█████████████████████████████████████████████████████████████████████████████████| 5/5 [00:18<00:00,  3.75s/it]\n"
     ]
    },
    {
     "name": "stdout",
     "output_type": "stream",
     "text": [
      "training (log loss) : 1.0512732238492504\n",
      "training (accuracy) : 0.9708333333333333\n",
      "end training! (epoch : 275)\n",
      "==================================================\n",
      "start validation! (epoch : 275)\n"
     ]
    },
    {
     "name": "stderr",
     "output_type": "stream",
     "text": [
      "100%|█████████████████████████████████████████████████████████████████████████████████| 2/2 [00:02<00:00,  1.21s/it]\n"
     ]
    },
    {
     "name": "stdout",
     "output_type": "stream",
     "text": [
      "validation (log loss) : 1.8922918029286506\n",
      "validation (accuracy) : 0.9475\n",
      "validation best accuracy :  0.955\n",
      "end validation! (epoch : 275)\n",
      "==================================================\n",
      "start training! (epoch : 276)\n"
     ]
    },
    {
     "name": "stderr",
     "output_type": "stream",
     "text": [
      "100%|█████████████████████████████████████████████████████████████████████████████████| 5/5 [00:18<00:00,  3.72s/it]\n"
     ]
    },
    {
     "name": "stdout",
     "output_type": "stream",
     "text": [
      "training (log loss) : 1.1564005462341755\n",
      "training (accuracy) : 0.9679166666666666\n",
      "end training! (epoch : 276)\n",
      "==================================================\n",
      "start validation! (epoch : 276)\n"
     ]
    },
    {
     "name": "stderr",
     "output_type": "stream",
     "text": [
      "100%|█████████████████████████████████████████████████████████████████████████████████| 2/2 [00:02<00:00,  1.20s/it]\n"
     ]
    },
    {
     "name": "stdout",
     "output_type": "stream",
     "text": [
      "validation (log loss) : 1.712073535983065\n",
      "validation (accuracy) : 0.9525\n",
      "validation best accuracy :  0.955\n",
      "end validation! (epoch : 276)\n",
      "==================================================\n",
      "start training! (epoch : 277)\n"
     ]
    },
    {
     "name": "stderr",
     "output_type": "stream",
     "text": [
      "100%|█████████████████████████████████████████████████████████████████████████████████| 5/5 [00:19<00:00,  3.98s/it]\n"
     ]
    },
    {
     "name": "stdout",
     "output_type": "stream",
     "text": [
      "training (log loss) : 1.1263641684099113\n",
      "training (accuracy) : 0.96875\n",
      "end training! (epoch : 277)\n",
      "==================================================\n",
      "start validation! (epoch : 277)\n"
     ]
    },
    {
     "name": "stderr",
     "output_type": "stream",
     "text": [
      "100%|█████████████████████████████████████████████████████████████████████████████████| 2/2 [00:02<00:00,  1.22s/it]\n"
     ]
    },
    {
     "name": "stdout",
     "output_type": "stream",
     "text": [
      "validation (log loss) : 1.712073535983065\n",
      "validation (accuracy) : 0.9525\n",
      "validation best accuracy :  0.955\n",
      "end validation! (epoch : 277)\n",
      "==================================================\n",
      "start training! (epoch : 278)\n"
     ]
    },
    {
     "name": "stderr",
     "output_type": "stream",
     "text": [
      "100%|█████████████████████████████████████████████████████████████████████████████████| 5/5 [00:19<00:00,  3.95s/it]\n"
     ]
    },
    {
     "name": "stdout",
     "output_type": "stream",
     "text": [
      "training (log loss) : 1.3065824353554967\n",
      "training (accuracy) : 0.96375\n",
      "end training! (epoch : 278)\n",
      "==================================================\n",
      "start validation! (epoch : 278)\n"
     ]
    },
    {
     "name": "stderr",
     "output_type": "stream",
     "text": [
      "100%|█████████████████████████████████████████████████████████████████████████████████| 2/2 [00:02<00:00,  1.21s/it]\n"
     ]
    },
    {
     "name": "stdout",
     "output_type": "stream",
     "text": [
      "validation (log loss) : 1.712073535983065\n",
      "validation (accuracy) : 0.9525\n",
      "validation best accuracy :  0.955\n",
      "end validation! (epoch : 278)\n",
      "==================================================\n",
      "start training! (epoch : 279)\n"
     ]
    },
    {
     "name": "stderr",
     "output_type": "stream",
     "text": [
      "100%|█████████████████████████████████████████████████████████████████████████████████| 5/5 [00:21<00:00,  4.30s/it]\n"
     ]
    },
    {
     "name": "stdout",
     "output_type": "stream",
     "text": [
      "training (log loss) : 0.901091334727929\n",
      "training (accuracy) : 0.975\n",
      "end training! (epoch : 279)\n",
      "==================================================\n",
      "start validation! (epoch : 279)\n"
     ]
    },
    {
     "name": "stderr",
     "output_type": "stream",
     "text": [
      "100%|█████████████████████████████████████████████████████████████████████████████████| 2/2 [00:02<00:00,  1.20s/it]\n"
     ]
    },
    {
     "name": "stdout",
     "output_type": "stream",
     "text": [
      "validation (log loss) : 1.6219644025102717\n",
      "validation (accuracy) : 0.955\n",
      "validation best accuracy :  0.955\n",
      "end validation! (epoch : 279)\n",
      "==================================================\n",
      "start training! (epoch : 280)\n"
     ]
    },
    {
     "name": "stderr",
     "output_type": "stream",
     "text": [
      "100%|█████████████████████████████████████████████████████████████████████████████████| 5/5 [00:18<00:00,  3.62s/it]\n"
     ]
    },
    {
     "name": "stdout",
     "output_type": "stream",
     "text": [
      "training (log loss) : 0.9912004682007218\n",
      "training (accuracy) : 0.9725\n",
      "end training! (epoch : 280)\n",
      "==================================================\n",
      "start validation! (epoch : 280)\n"
     ]
    },
    {
     "name": "stderr",
     "output_type": "stream",
     "text": [
      "100%|█████████████████████████████████████████████████████████████████████████████████| 2/2 [00:02<00:00,  1.21s/it]\n"
     ]
    },
    {
     "name": "stdout",
     "output_type": "stream",
     "text": [
      "validation (log loss) : 2.117564636610633\n",
      "validation (accuracy) : 0.94125\n",
      "validation best accuracy :  0.955\n",
      "end validation! (epoch : 280)\n",
      "==================================================\n",
      "start training! (epoch : 281)\n"
     ]
    },
    {
     "name": "stderr",
     "output_type": "stream",
     "text": [
      "100%|█████████████████████████████████████████████████████████████████████████████████| 5/5 [00:18<00:00,  3.74s/it]\n"
     ]
    },
    {
     "name": "stdout",
     "output_type": "stream",
     "text": [
      "training (log loss) : 0.901091334727929\n",
      "training (accuracy) : 0.975\n",
      "end training! (epoch : 281)\n",
      "==================================================\n",
      "start validation! (epoch : 281)\n"
     ]
    },
    {
     "name": "stderr",
     "output_type": "stream",
     "text": [
      "100%|█████████████████████████████████████████████████████████████████████████████████| 2/2 [00:02<00:00,  1.20s/it]\n"
     ]
    },
    {
     "name": "stdout",
     "output_type": "stream",
     "text": [
      "validation (log loss) : 1.8021826694558576\n",
      "validation (accuracy) : 0.95\n",
      "validation best accuracy :  0.955\n",
      "end validation! (epoch : 281)\n",
      "==================================================\n",
      "start training! (epoch : 282)\n"
     ]
    },
    {
     "name": "stderr",
     "output_type": "stream",
     "text": [
      "100%|█████████████████████████████████████████████████████████████████████████████████| 5/5 [00:20<00:00,  4.17s/it]\n"
     ]
    },
    {
     "name": "stdout",
     "output_type": "stream",
     "text": [
      "training (log loss) : 0.9611640903764577\n",
      "training (accuracy) : 0.9733333333333334\n",
      "end training! (epoch : 282)\n",
      "==================================================\n",
      "start validation! (epoch : 282)\n"
     ]
    },
    {
     "name": "stderr",
     "output_type": "stream",
     "text": [
      "100%|█████████████████████████████████████████████████████████████████████████████████| 2/2 [00:02<00:00,  1.21s/it]\n"
     ]
    },
    {
     "name": "stdout",
     "output_type": "stream",
     "text": [
      "validation (log loss) : 2.0274555031378396\n",
      "validation (accuracy) : 0.94375\n",
      "validation best accuracy :  0.955\n",
      "end validation! (epoch : 282)\n",
      "==================================================\n",
      "start training! (epoch : 283)\n"
     ]
    },
    {
     "name": "stderr",
     "output_type": "stream",
     "text": [
      "100%|█████████████████████████████████████████████████████████████████████████████████| 5/5 [00:20<00:00,  4.14s/it]\n"
     ]
    },
    {
     "name": "stdout",
     "output_type": "stream",
     "text": [
      "training (log loss) : 0.8560367679915327\n",
      "training (accuracy) : 0.97625\n",
      "end training! (epoch : 283)\n",
      "==================================================\n",
      "start validation! (epoch : 283)\n"
     ]
    },
    {
     "name": "stderr",
     "output_type": "stream",
     "text": [
      "100%|█████████████████████████████████████████████████████████████████████████████████| 2/2 [00:02<00:00,  1.22s/it]\n"
     ]
    },
    {
     "name": "stdout",
     "output_type": "stream",
     "text": [
      "validation (log loss) : 1.937346369665047\n",
      "validation (accuracy) : 0.94625\n",
      "validation best accuracy :  0.955\n",
      "end validation! (epoch : 283)\n",
      "==================================================\n",
      "start training! (epoch : 284)\n"
     ]
    },
    {
     "name": "stderr",
     "output_type": "stream",
     "text": [
      "100%|█████████████████████████████████████████████████████████████████████████████████| 5/5 [00:19<00:00,  3.87s/it]\n"
     ]
    },
    {
     "name": "stdout",
     "output_type": "stream",
     "text": [
      "training (log loss) : 1.021236846024986\n",
      "training (accuracy) : 0.9716666666666667\n",
      "end training! (epoch : 284)\n",
      "==================================================\n",
      "start validation! (epoch : 284)\n"
     ]
    },
    {
     "name": "stderr",
     "output_type": "stream",
     "text": [
      "100%|█████████████████████████████████████████████████████████████████████████████████| 2/2 [00:02<00:00,  1.22s/it]\n"
     ]
    },
    {
     "name": "stdout",
     "output_type": "stream",
     "text": [
      "validation (log loss) : 1.39669156882829\n",
      "validation (accuracy) : 0.96125\n",
      "validation best accuracy :  0.96125\n",
      "end validation! (epoch : 284)\n",
      "==================================================\n",
      "start training! (epoch : 285)\n"
     ]
    },
    {
     "name": "stderr",
     "output_type": "stream",
     "text": [
      "100%|█████████████████████████████████████████████████████████████████████████████████| 5/5 [00:20<00:00,  4.03s/it]\n"
     ]
    },
    {
     "name": "stdout",
     "output_type": "stream",
     "text": [
      "training (log loss) : 0.7509094456066076\n",
      "training (accuracy) : 0.9791666666666666\n",
      "end training! (epoch : 285)\n",
      "==================================================\n",
      "start validation! (epoch : 285)\n"
     ]
    },
    {
     "name": "stderr",
     "output_type": "stream",
     "text": [
      "100%|█████████████████████████████████████████████████████████████████████████████████| 2/2 [00:02<00:00,  1.20s/it]\n"
     ]
    },
    {
     "name": "stdout",
     "output_type": "stream",
     "text": [
      "validation (log loss) : 1.6219644025102717\n",
      "validation (accuracy) : 0.955\n",
      "validation best accuracy :  0.96125\n",
      "end validation! (epoch : 285)\n",
      "==================================================\n",
      "start training! (epoch : 286)\n"
     ]
    },
    {
     "name": "stderr",
     "output_type": "stream",
     "text": [
      "100%|█████████████████████████████████████████████████████████████████████████████████| 5/5 [00:20<00:00,  4.15s/it]\n"
     ]
    },
    {
     "name": "stdout",
     "output_type": "stream",
     "text": [
      "training (log loss) : 0.7959640123430041\n",
      "training (accuracy) : 0.9779166666666667\n",
      "end training! (epoch : 286)\n",
      "==================================================\n",
      "start validation! (epoch : 286)\n"
     ]
    },
    {
     "name": "stderr",
     "output_type": "stream",
     "text": [
      "100%|█████████████████████████████████████████████████████████████████████████████████| 2/2 [00:02<00:00,  1.23s/it]\n"
     ]
    },
    {
     "name": "stdout",
     "output_type": "stream",
     "text": [
      "validation (log loss) : 1.6219644025102717\n",
      "validation (accuracy) : 0.955\n",
      "validation best accuracy :  0.96125\n",
      "end validation! (epoch : 286)\n",
      "==================================================\n",
      "start training! (epoch : 287)\n"
     ]
    },
    {
     "name": "stderr",
     "output_type": "stream",
     "text": [
      "100%|█████████████████████████████████████████████████████████████████████████████████| 5/5 [00:21<00:00,  4.33s/it]\n"
     ]
    },
    {
     "name": "stdout",
     "output_type": "stream",
     "text": [
      "training (log loss) : 0.9761822792885899\n",
      "training (accuracy) : 0.9729166666666667\n",
      "end training! (epoch : 287)\n",
      "==================================================\n",
      "start validation! (epoch : 287)\n"
     ]
    },
    {
     "name": "stderr",
     "output_type": "stream",
     "text": [
      "100%|█████████████████████████████████████████████████████████████████████████████████| 2/2 [00:02<00:00,  1.20s/it]\n"
     ]
    },
    {
     "name": "stdout",
     "output_type": "stream",
     "text": [
      "validation (log loss) : 1.712073535983065\n",
      "validation (accuracy) : 0.9525\n",
      "validation best accuracy :  0.96125\n",
      "end validation! (epoch : 287)\n",
      "==================================================\n",
      "start training! (epoch : 288)\n"
     ]
    },
    {
     "name": "stderr",
     "output_type": "stream",
     "text": [
      "100%|█████████████████████████████████████████████████████████████████████████████████| 5/5 [00:17<00:00,  3.47s/it]\n"
     ]
    },
    {
     "name": "stdout",
     "output_type": "stream",
     "text": [
      "training (log loss) : 0.901091334727929\n",
      "training (accuracy) : 0.975\n",
      "end training! (epoch : 288)\n",
      "==================================================\n",
      "start validation! (epoch : 288)\n"
     ]
    },
    {
     "name": "stderr",
     "output_type": "stream",
     "text": [
      "100%|█████████████████████████████████████████████████████████████████████████████████| 2/2 [00:02<00:00,  1.21s/it]\n"
     ]
    },
    {
     "name": "stdout",
     "output_type": "stream",
     "text": [
      "validation (log loss) : 1.8922918029286506\n",
      "validation (accuracy) : 0.9475\n",
      "validation best accuracy :  0.96125\n",
      "end validation! (epoch : 288)\n",
      "==================================================\n",
      "start training! (epoch : 289)\n"
     ]
    },
    {
     "name": "stderr",
     "output_type": "stream",
     "text": [
      "100%|█████████████████████████████████████████████████████████████████████████████████| 5/5 [00:18<00:00,  3.64s/it]\n"
     ]
    },
    {
     "name": "stdout",
     "output_type": "stream",
     "text": [
      "training (log loss) : 0.6758185010459468\n",
      "training (accuracy) : 0.98125\n",
      "end training! (epoch : 289)\n",
      "==================================================\n",
      "start validation! (epoch : 289)\n"
     ]
    },
    {
     "name": "stderr",
     "output_type": "stream",
     "text": [
      "100%|█████████████████████████████████████████████████████████████████████████████████| 2/2 [00:02<00:00,  1.21s/it]\n"
     ]
    },
    {
     "name": "stdout",
     "output_type": "stream",
     "text": [
      "validation (log loss) : 1.3065824353554967\n",
      "validation (accuracy) : 0.96375\n",
      "validation best accuracy :  0.96375\n",
      "end validation! (epoch : 289)\n",
      "==================================================\n",
      "start training! (epoch : 290)\n"
     ]
    },
    {
     "name": "stderr",
     "output_type": "stream",
     "text": [
      "100%|█████████████████████████████████████████████████████████████████████████████████| 5/5 [00:19<00:00,  3.83s/it]\n"
     ]
    },
    {
     "name": "stdout",
     "output_type": "stream",
     "text": [
      "training (log loss) : 0.8710549569036646\n",
      "training (accuracy) : 0.9758333333333333\n",
      "end training! (epoch : 290)\n",
      "==================================================\n",
      "start validation! (epoch : 290)\n"
     ]
    },
    {
     "name": "stderr",
     "output_type": "stream",
     "text": [
      "100%|█████████████████████████████████████████████████████████████████████████████████| 2/2 [00:02<00:00,  1.22s/it]\n"
     ]
    },
    {
     "name": "stdout",
     "output_type": "stream",
     "text": [
      "validation (log loss) : 1.847237236192254\n",
      "validation (accuracy) : 0.94875\n",
      "validation best accuracy :  0.96375\n",
      "end validation! (epoch : 290)\n",
      "==================================================\n",
      "start training! (epoch : 291)\n"
     ]
    },
    {
     "name": "stderr",
     "output_type": "stream",
     "text": [
      "100%|█████████████████████████████████████████████████████████████████████████████████| 5/5 [00:20<00:00,  4.16s/it]\n"
     ]
    },
    {
     "name": "stdout",
     "output_type": "stream",
     "text": [
      "training (log loss) : 0.6758185010459468\n",
      "training (accuracy) : 0.98125\n",
      "end training! (epoch : 291)\n",
      "==================================================\n",
      "start validation! (epoch : 291)\n"
     ]
    },
    {
     "name": "stderr",
     "output_type": "stream",
     "text": [
      "100%|█████████████████████████████████████████████████████████████████████████████████| 2/2 [00:02<00:00,  1.20s/it]\n"
     ]
    },
    {
     "name": "stdout",
     "output_type": "stream",
     "text": [
      "validation (log loss) : 1.8922918029286506\n",
      "validation (accuracy) : 0.9475\n",
      "validation best accuracy :  0.96375\n",
      "end validation! (epoch : 291)\n",
      "==================================================\n",
      "start training! (epoch : 292)\n"
     ]
    },
    {
     "name": "stderr",
     "output_type": "stream",
     "text": [
      "100%|█████████████████████████████████████████████████████████████████████████████████| 5/5 [00:18<00:00,  3.68s/it]\n"
     ]
    },
    {
     "name": "stdout",
     "output_type": "stream",
     "text": [
      "training (log loss) : 0.7058548788702111\n",
      "training (accuracy) : 0.9804166666666667\n",
      "end training! (epoch : 292)\n",
      "==================================================\n",
      "start validation! (epoch : 292)\n"
     ]
    },
    {
     "name": "stderr",
     "output_type": "stream",
     "text": [
      "100%|█████████████████████████████████████████████████████████████████████████████████| 2/2 [00:02<00:00,  1.20s/it]\n"
     ]
    },
    {
     "name": "stdout",
     "output_type": "stream",
     "text": [
      "validation (log loss) : 1.4417461355646861\n",
      "validation (accuracy) : 0.96\n",
      "validation best accuracy :  0.96375\n",
      "end validation! (epoch : 292)\n",
      "==================================================\n",
      "start training! (epoch : 293)\n"
     ]
    },
    {
     "name": "stderr",
     "output_type": "stream",
     "text": [
      "100%|█████████████████████████████████████████████████████████████████████████████████| 5/5 [00:19<00:00,  3.80s/it]\n"
     ]
    },
    {
     "name": "stdout",
     "output_type": "stream",
     "text": [
      "training (log loss) : 0.7058548788702111\n",
      "training (accuracy) : 0.9804166666666667\n",
      "end training! (epoch : 293)\n",
      "==================================================\n",
      "start validation! (epoch : 293)\n"
     ]
    },
    {
     "name": "stderr",
     "output_type": "stream",
     "text": [
      "100%|█████████████████████████████████████████████████████████████████████████████████| 2/2 [00:02<00:00,  1.23s/it]\n"
     ]
    },
    {
     "name": "stdout",
     "output_type": "stream",
     "text": [
      "validation (log loss) : 1.4417461355646861\n",
      "validation (accuracy) : 0.96\n",
      "validation best accuracy :  0.96375\n",
      "end validation! (epoch : 293)\n",
      "==================================================\n",
      "start training! (epoch : 294)\n"
     ]
    },
    {
     "name": "stderr",
     "output_type": "stream",
     "text": [
      "100%|█████████████████████████████████████████████████████████████████████████████████| 5/5 [00:19<00:00,  3.83s/it]\n"
     ]
    },
    {
     "name": "stdout",
     "output_type": "stream",
     "text": [
      "training (log loss) : 0.7058548788702111\n",
      "training (accuracy) : 0.9804166666666667\n",
      "end training! (epoch : 294)\n",
      "==================================================\n",
      "start validation! (epoch : 294)\n"
     ]
    },
    {
     "name": "stderr",
     "output_type": "stream",
     "text": [
      "100%|█████████████████████████████████████████████████████████████████████████████████| 2/2 [00:02<00:00,  1.26s/it]\n"
     ]
    },
    {
     "name": "stdout",
     "output_type": "stream",
     "text": [
      "validation (log loss) : 1.6219644025102717\n",
      "validation (accuracy) : 0.955\n",
      "validation best accuracy :  0.96375\n",
      "end validation! (epoch : 294)\n",
      "==================================================\n",
      "start training! (epoch : 295)\n"
     ]
    },
    {
     "name": "stderr",
     "output_type": "stream",
     "text": [
      "100%|█████████████████████████████████████████████████████████████████████████████████| 5/5 [00:20<00:00,  4.03s/it]\n"
     ]
    },
    {
     "name": "stdout",
     "output_type": "stream",
     "text": [
      "training (log loss) : 0.690836689958079\n",
      "training (accuracy) : 0.9808333333333333\n",
      "end training! (epoch : 295)\n",
      "==================================================\n",
      "start validation! (epoch : 295)\n"
     ]
    },
    {
     "name": "stderr",
     "output_type": "stream",
     "text": [
      "100%|█████████████████████████████████████████████████████████████████████████████████| 2/2 [00:02<00:00,  1.34s/it]\n"
     ]
    },
    {
     "name": "stdout",
     "output_type": "stream",
     "text": [
      "validation (log loss) : 1.6670189692466684\n",
      "validation (accuracy) : 0.95375\n",
      "validation best accuracy :  0.96375\n",
      "end validation! (epoch : 295)\n",
      "==================================================\n",
      "start training! (epoch : 296)\n"
     ]
    },
    {
     "name": "stderr",
     "output_type": "stream",
     "text": [
      "100%|█████████████████████████████████████████████████████████████████████████████████| 5/5 [00:19<00:00,  3.96s/it]\n"
     ]
    },
    {
     "name": "stdout",
     "output_type": "stream",
     "text": [
      "training (log loss) : 0.7358912566944754\n",
      "training (accuracy) : 0.9795833333333334\n",
      "end training! (epoch : 296)\n",
      "==================================================\n",
      "start validation! (epoch : 296)\n"
     ]
    },
    {
     "name": "stderr",
     "output_type": "stream",
     "text": [
      "100%|█████████████████████████████████████████████████████████████████████████████████| 2/2 [00:02<00:00,  1.24s/it]\n"
     ]
    },
    {
     "name": "stdout",
     "output_type": "stream",
     "text": [
      "validation (log loss) : 1.6670189692466684\n",
      "validation (accuracy) : 0.95375\n",
      "validation best accuracy :  0.96375\n",
      "end validation! (epoch : 296)\n",
      "==================================================\n",
      "start training! (epoch : 297)\n"
     ]
    },
    {
     "name": "stderr",
     "output_type": "stream",
     "text": [
      "100%|█████████████████████████████████████████████████████████████████████████████████| 5/5 [00:17<00:00,  3.56s/it]\n"
     ]
    },
    {
     "name": "stdout",
     "output_type": "stream",
     "text": [
      "training (log loss) : 0.8410185790794004\n",
      "training (accuracy) : 0.9766666666666667\n",
      "end training! (epoch : 297)\n",
      "==================================================\n",
      "start validation! (epoch : 297)\n"
     ]
    },
    {
     "name": "stderr",
     "output_type": "stream",
     "text": [
      "100%|█████████████████████████████████████████████████████████████████████████████████| 2/2 [00:02<00:00,  1.21s/it]\n"
     ]
    },
    {
     "name": "stdout",
     "output_type": "stream",
     "text": [
      "validation (log loss) : 1.6219644025102717\n",
      "validation (accuracy) : 0.955\n",
      "validation best accuracy :  0.96375\n",
      "end validation! (epoch : 297)\n",
      "==================================================\n",
      "start training! (epoch : 298)\n"
     ]
    },
    {
     "name": "stderr",
     "output_type": "stream",
     "text": [
      "100%|█████████████████████████████████████████████████████████████████████████████████| 5/5 [00:20<00:00,  4.08s/it]\n"
     ]
    },
    {
     "name": "stdout",
     "output_type": "stream",
     "text": [
      "training (log loss) : 0.690836689958079\n",
      "training (accuracy) : 0.9808333333333333\n",
      "end training! (epoch : 298)\n",
      "==================================================\n",
      "start validation! (epoch : 298)\n"
     ]
    },
    {
     "name": "stderr",
     "output_type": "stream",
     "text": [
      "100%|█████████████████████████████████████████████████████████████████████████████████| 2/2 [00:02<00:00,  1.22s/it]\n"
     ]
    },
    {
     "name": "stdout",
     "output_type": "stream",
     "text": [
      "validation (log loss) : 1.6219644025102717\n",
      "validation (accuracy) : 0.955\n",
      "validation best accuracy :  0.96375\n",
      "end validation! (epoch : 298)\n",
      "==================================================\n",
      "start training! (epoch : 299)\n"
     ]
    },
    {
     "name": "stderr",
     "output_type": "stream",
     "text": [
      "100%|█████████████████████████████████████████████████████████████████████████████████| 5/5 [00:20<00:00,  4.10s/it]\n"
     ]
    },
    {
     "name": "stdout",
     "output_type": "stream",
     "text": [
      "training (log loss) : 0.6608003121338147\n",
      "training (accuracy) : 0.9816666666666667\n",
      "end training! (epoch : 299)\n",
      "==================================================\n",
      "start validation! (epoch : 299)\n"
     ]
    },
    {
     "name": "stderr",
     "output_type": "stream",
     "text": [
      "100%|█████████████████████████████████████████████████████████████████████████████████| 2/2 [00:02<00:00,  1.21s/it]\n"
     ]
    },
    {
     "name": "stdout",
     "output_type": "stream",
     "text": [
      "validation (log loss) : 1.6219644025102717\n",
      "validation (accuracy) : 0.955\n",
      "validation best accuracy :  0.96375\n",
      "end validation! (epoch : 299)\n",
      "==================================================\n",
      "start training! (epoch : 300)\n"
     ]
    },
    {
     "name": "stderr",
     "output_type": "stream",
     "text": [
      "100%|█████████████████████████████████████████████████████████████████████████████████| 5/5 [00:17<00:00,  3.59s/it]\n"
     ]
    },
    {
     "name": "stdout",
     "output_type": "stream",
     "text": [
      "training (log loss) : 0.7959640123430041\n",
      "training (accuracy) : 0.9779166666666667\n",
      "end training! (epoch : 300)\n",
      "==================================================\n",
      "start validation! (epoch : 300)\n"
     ]
    },
    {
     "name": "stderr",
     "output_type": "stream",
     "text": [
      "100%|█████████████████████████████████████████████████████████████████████████████████| 2/2 [00:02<00:00,  1.20s/it]\n"
     ]
    },
    {
     "name": "stdout",
     "output_type": "stream",
     "text": [
      "validation (log loss) : 1.6219644025102717\n",
      "validation (accuracy) : 0.955\n",
      "validation best accuracy :  0.96375\n",
      "end validation! (epoch : 300)\n",
      "==================================================\n",
      "start training! (epoch : 301)\n"
     ]
    },
    {
     "name": "stderr",
     "output_type": "stream",
     "text": [
      "100%|█████████████████████████████████████████████████████████████████████████████████| 5/5 [00:19<00:00,  3.88s/it]\n"
     ]
    },
    {
     "name": "stdout",
     "output_type": "stream",
     "text": [
      "training (log loss) : 0.7959640123430041\n",
      "training (accuracy) : 0.9779166666666667\n",
      "end training! (epoch : 301)\n",
      "==================================================\n",
      "start validation! (epoch : 301)\n"
     ]
    },
    {
     "name": "stderr",
     "output_type": "stream",
     "text": [
      "100%|█████████████████████████████████████████████████████████████████████████████████| 2/2 [00:02<00:00,  1.23s/it]\n"
     ]
    },
    {
     "name": "stdout",
     "output_type": "stream",
     "text": [
      "validation (log loss) : 1.6670189692466684\n",
      "validation (accuracy) : 0.95375\n",
      "validation best accuracy :  0.96375\n",
      "end validation! (epoch : 301)\n",
      "==================================================\n",
      "start training! (epoch : 302)\n"
     ]
    },
    {
     "name": "stderr",
     "output_type": "stream",
     "text": [
      "100%|█████████████████████████████████████████████████████████████████████████████████| 5/5 [00:18<00:00,  3.77s/it]\n"
     ]
    },
    {
     "name": "stdout",
     "output_type": "stream",
     "text": [
      "training (log loss) : 0.8410185790794005\n",
      "training (accuracy) : 0.9766666666666667\n",
      "end training! (epoch : 302)\n",
      "==================================================\n",
      "start validation! (epoch : 302)\n"
     ]
    },
    {
     "name": "stderr",
     "output_type": "stream",
     "text": [
      "100%|█████████████████████████████████████████████████████████████████████████████████| 2/2 [00:02<00:00,  1.19s/it]\n"
     ]
    },
    {
     "name": "stdout",
     "output_type": "stream",
     "text": [
      "validation (log loss) : 2.1175646366106324\n",
      "validation (accuracy) : 0.94125\n",
      "validation best accuracy :  0.96375\n",
      "end validation! (epoch : 302)\n",
      "==================================================\n",
      "start training! (epoch : 303)\n"
     ]
    },
    {
     "name": "stderr",
     "output_type": "stream",
     "text": [
      "100%|█████████████████████████████████████████████████████████████████████████████████| 5/5 [00:18<00:00,  3.73s/it]\n"
     ]
    },
    {
     "name": "stdout",
     "output_type": "stream",
     "text": [
      "training (log loss) : 1.0813096016735149\n",
      "training (accuracy) : 0.97\n",
      "end training! (epoch : 303)\n",
      "==================================================\n",
      "start validation! (epoch : 303)\n"
     ]
    },
    {
     "name": "stderr",
     "output_type": "stream",
     "text": [
      "100%|█████████████████████████████████████████████████████████████████████████████████| 2/2 [00:02<00:00,  1.21s/it]\n"
     ]
    },
    {
     "name": "stdout",
     "output_type": "stream",
     "text": [
      "validation (log loss) : 1.712073535983065\n",
      "validation (accuracy) : 0.9525\n",
      "validation best accuracy :  0.96375\n",
      "end validation! (epoch : 303)\n",
      "==================================================\n",
      "start training! (epoch : 304)\n"
     ]
    },
    {
     "name": "stderr",
     "output_type": "stream",
     "text": [
      "100%|█████████████████████████████████████████████████████████████████████████████████| 5/5 [00:22<00:00,  4.45s/it]\n"
     ]
    },
    {
     "name": "stdout",
     "output_type": "stream",
     "text": [
      "training (log loss) : 1.4868007023010827\n",
      "training (accuracy) : 0.95875\n",
      "end training! (epoch : 304)\n",
      "==================================================\n",
      "start validation! (epoch : 304)\n"
     ]
    },
    {
     "name": "stderr",
     "output_type": "stream",
     "text": [
      "100%|█████████████████████████████████████████████████████████████████████████████████| 2/2 [00:02<00:00,  1.19s/it]\n"
     ]
    },
    {
     "name": "stdout",
     "output_type": "stream",
     "text": [
      "validation (log loss) : 1.6670189692466684\n",
      "validation (accuracy) : 0.95375\n",
      "validation best accuracy :  0.96375\n",
      "end validation! (epoch : 304)\n",
      "==================================================\n",
      "start training! (epoch : 305)\n"
     ]
    },
    {
     "name": "stderr",
     "output_type": "stream",
     "text": [
      "100%|█████████████████████████████████████████████████████████████████████████████████| 5/5 [00:20<00:00,  4.12s/it]\n"
     ]
    },
    {
     "name": "stdout",
     "output_type": "stream",
     "text": [
      "training (log loss) : 1.4567643244768185\n",
      "training (accuracy) : 0.9595833333333333\n",
      "end training! (epoch : 305)\n",
      "==================================================\n",
      "start validation! (epoch : 305)\n"
     ]
    },
    {
     "name": "stderr",
     "output_type": "stream",
     "text": [
      "100%|█████████████████████████████████████████████████████████████████████████████████| 2/2 [00:02<00:00,  1.23s/it]\n"
     ]
    },
    {
     "name": "stdout",
     "output_type": "stream",
     "text": [
      "validation (log loss) : 4.8208386407944195\n",
      "validation (accuracy) : 0.86625\n",
      "validation best accuracy :  0.96375\n",
      "end validation! (epoch : 305)\n",
      "==================================================\n",
      "start training! (epoch : 306)\n"
     ]
    },
    {
     "name": "stderr",
     "output_type": "stream",
     "text": [
      "100%|█████████████████████████████████████████████████████████████████████████████████| 5/5 [00:20<00:00,  4.01s/it]\n"
     ]
    },
    {
     "name": "stdout",
     "output_type": "stream",
     "text": [
      "training (log loss) : 1.3516370020918933\n",
      "training (accuracy) : 0.9625\n",
      "end training! (epoch : 306)\n",
      "==================================================\n",
      "start validation! (epoch : 306)\n"
     ]
    },
    {
     "name": "stderr",
     "output_type": "stream",
     "text": [
      "100%|█████████████████████████████████████████████████████████████████████████████████| 2/2 [00:02<00:00,  1.22s/it]\n"
     ]
    },
    {
     "name": "stdout",
     "output_type": "stream",
     "text": [
      "validation (log loss) : 1.8922918029286506\n",
      "validation (accuracy) : 0.9475\n",
      "validation best accuracy :  0.96375\n",
      "end validation! (epoch : 306)\n",
      "==================================================\n",
      "start training! (epoch : 307)\n"
     ]
    },
    {
     "name": "stderr",
     "output_type": "stream",
     "text": [
      "100%|█████████████████████████████████████████████████████████████████████████████████| 5/5 [00:18<00:00,  3.66s/it]\n"
     ]
    },
    {
     "name": "stdout",
     "output_type": "stream",
     "text": [
      "training (log loss) : 1.4417461355646863\n",
      "training (accuracy) : 0.96\n",
      "end training! (epoch : 307)\n",
      "==================================================\n",
      "start validation! (epoch : 307)\n"
     ]
    },
    {
     "name": "stderr",
     "output_type": "stream",
     "text": [
      "100%|█████████████████████████████████████████████████████████████████████████████████| 2/2 [00:02<00:00,  1.19s/it]\n"
     ]
    },
    {
     "name": "stdout",
     "output_type": "stream",
     "text": [
      "validation (log loss) : 3.9648018728028864\n",
      "validation (accuracy) : 0.89\n",
      "validation best accuracy :  0.96375\n",
      "end validation! (epoch : 307)\n",
      "==================================================\n",
      "start training! (epoch : 308)\n"
     ]
    },
    {
     "name": "stderr",
     "output_type": "stream",
     "text": [
      "100%|█████████████████████████████████████████████████████████████████████████████████| 5/5 [00:16<00:00,  3.31s/it]\n"
     ]
    },
    {
     "name": "stdout",
     "output_type": "stream",
     "text": [
      "training (log loss) : 1.321600624267629\n",
      "training (accuracy) : 0.9633333333333334\n",
      "end training! (epoch : 308)\n",
      "==================================================\n",
      "start validation! (epoch : 308)\n"
     ]
    },
    {
     "name": "stderr",
     "output_type": "stream",
     "text": [
      "100%|█████████████████████████████████████████████████████████████████████████████████| 2/2 [00:02<00:00,  1.21s/it]\n"
     ]
    },
    {
     "name": "stdout",
     "output_type": "stream",
     "text": [
      "validation (log loss) : 4.325238406694058\n",
      "validation (accuracy) : 0.88\n",
      "validation best accuracy :  0.96375\n",
      "end validation! (epoch : 308)\n",
      "==================================================\n",
      "start training! (epoch : 309)\n"
     ]
    },
    {
     "name": "stderr",
     "output_type": "stream",
     "text": [
      "100%|█████████████████████████████████████████████████████████████████████████████████| 5/5 [00:19<00:00,  3.80s/it]\n"
     ]
    },
    {
     "name": "stdout",
     "output_type": "stream",
     "text": [
      "training (log loss) : 1.306582435355497\n",
      "training (accuracy) : 0.96375\n",
      "end training! (epoch : 309)\n",
      "==================================================\n",
      "start validation! (epoch : 309)\n"
     ]
    },
    {
     "name": "stderr",
     "output_type": "stream",
     "text": [
      "100%|█████████████████████████████████████████████████████████████████████████████████| 2/2 [00:02<00:00,  1.23s/it]\n"
     ]
    },
    {
     "name": "stdout",
     "output_type": "stream",
     "text": [
      "validation (log loss) : 2.3428374702926145\n",
      "validation (accuracy) : 0.935\n",
      "validation best accuracy :  0.96375\n",
      "end validation! (epoch : 309)\n",
      "==================================================\n",
      "start training! (epoch : 310)\n"
     ]
    },
    {
     "name": "stderr",
     "output_type": "stream",
     "text": [
      "100%|█████████████████████████████████████████████████████████████████████████████████| 5/5 [00:18<00:00,  3.77s/it]\n"
     ]
    },
    {
     "name": "stdout",
     "output_type": "stream",
     "text": [
      "training (log loss) : 1.0662914127613827\n",
      "training (accuracy) : 0.9704166666666667\n",
      "end training! (epoch : 310)\n",
      "==================================================\n",
      "start validation! (epoch : 310)\n"
     ]
    },
    {
     "name": "stderr",
     "output_type": "stream",
     "text": [
      "100%|█████████████████████████████████████████████████████████████████████████████████| 2/2 [00:02<00:00,  1.21s/it]\n"
     ]
    },
    {
     "name": "stdout",
     "output_type": "stream",
     "text": [
      "validation (log loss) : 1.712073535983065\n",
      "validation (accuracy) : 0.9525\n",
      "validation best accuracy :  0.96375\n",
      "end validation! (epoch : 310)\n",
      "==================================================\n",
      "start training! (epoch : 311)\n"
     ]
    },
    {
     "name": "stderr",
     "output_type": "stream",
     "text": [
      "100%|█████████████████████████████████████████████████████████████████████████████████| 5/5 [00:18<00:00,  3.78s/it]\n"
     ]
    },
    {
     "name": "stdout",
     "output_type": "stream",
     "text": [
      "training (log loss) : 1.1263641684099113\n",
      "training (accuracy) : 0.96875\n",
      "end training! (epoch : 311)\n",
      "==================================================\n",
      "start validation! (epoch : 311)\n"
     ]
    },
    {
     "name": "stderr",
     "output_type": "stream",
     "text": [
      "100%|█████████████████████████████████████████████████████████████████████████████████| 2/2 [00:02<00:00,  1.21s/it]\n"
     ]
    },
    {
     "name": "stdout",
     "output_type": "stream",
     "text": [
      "validation (log loss) : 1.5769098357738756\n",
      "validation (accuracy) : 0.95625\n",
      "validation best accuracy :  0.96375\n",
      "end validation! (epoch : 311)\n",
      "==================================================\n",
      "start training! (epoch : 312)\n"
     ]
    },
    {
     "name": "stderr",
     "output_type": "stream",
     "text": [
      "100%|█████████████████████████████████████████████████████████████████████████████████| 5/5 [00:19<00:00,  3.83s/it]\n"
     ]
    },
    {
     "name": "stdout",
     "output_type": "stream",
     "text": [
      "training (log loss) : 1.0662914127613827\n",
      "training (accuracy) : 0.9704166666666667\n",
      "end training! (epoch : 312)\n",
      "==================================================\n",
      "start validation! (epoch : 312)\n"
     ]
    },
    {
     "name": "stderr",
     "output_type": "stream",
     "text": [
      "100%|█████████████████████████████████████████████████████████████████████████████████| 2/2 [00:02<00:00,  1.19s/it]\n"
     ]
    },
    {
     "name": "stdout",
     "output_type": "stream",
     "text": [
      "validation (log loss) : 1.8021826694558578\n",
      "validation (accuracy) : 0.95\n",
      "validation best accuracy :  0.96375\n",
      "end validation! (epoch : 312)\n",
      "==================================================\n",
      "start training! (epoch : 313)\n"
     ]
    },
    {
     "name": "stderr",
     "output_type": "stream",
     "text": [
      "100%|█████████████████████████████████████████████████████████████████████████████████| 5/5 [00:18<00:00,  3.67s/it]\n"
     ]
    },
    {
     "name": "stdout",
     "output_type": "stream",
     "text": [
      "training (log loss) : 1.3366188131797614\n",
      "training (accuracy) : 0.9629166666666666\n",
      "end training! (epoch : 313)\n",
      "==================================================\n",
      "start validation! (epoch : 313)\n"
     ]
    },
    {
     "name": "stderr",
     "output_type": "stream",
     "text": [
      "100%|█████████████████████████████████████████████████████████████████████████████████| 2/2 [00:02<00:00,  1.21s/it]\n"
     ]
    },
    {
     "name": "stdout",
     "output_type": "stream",
     "text": [
      "validation (log loss) : 1.847237236192254\n",
      "validation (accuracy) : 0.94875\n",
      "validation best accuracy :  0.96375\n",
      "end validation! (epoch : 313)\n",
      "==================================================\n",
      "start training! (epoch : 314)\n"
     ]
    },
    {
     "name": "stderr",
     "output_type": "stream",
     "text": [
      "100%|█████████████████████████████████████████████████████████████████████████████████| 5/5 [00:19<00:00,  3.86s/it]\n"
     ]
    },
    {
     "name": "stdout",
     "output_type": "stream",
     "text": [
      "training (log loss) : 0.9761822792885897\n",
      "training (accuracy) : 0.9729166666666667\n",
      "end training! (epoch : 314)\n",
      "==================================================\n",
      "start validation! (epoch : 314)\n"
     ]
    },
    {
     "name": "stderr",
     "output_type": "stream",
     "text": [
      "100%|█████████████████████████████████████████████████████████████████████████████████| 2/2 [00:02<00:00,  1.22s/it]\n"
     ]
    },
    {
     "name": "stdout",
     "output_type": "stream",
     "text": [
      "validation (log loss) : 1.7571281027194612\n",
      "validation (accuracy) : 0.95125\n",
      "validation best accuracy :  0.96375\n",
      "end validation! (epoch : 314)\n",
      "==================================================\n",
      "start training! (epoch : 315)\n"
     ]
    },
    {
     "name": "stderr",
     "output_type": "stream",
     "text": [
      "100%|█████████████████████████████████████████████████████████████████████████████████| 5/5 [00:18<00:00,  3.64s/it]\n"
     ]
    },
    {
     "name": "stdout",
     "output_type": "stream",
     "text": [
      "training (log loss) : 1.2915642464433648\n",
      "training (accuracy) : 0.9641666666666666\n",
      "end training! (epoch : 315)\n",
      "==================================================\n",
      "start validation! (epoch : 315)\n"
     ]
    },
    {
     "name": "stderr",
     "output_type": "stream",
     "text": [
      "100%|█████████████████████████████████████████████████████████████████████████████████| 2/2 [00:02<00:00,  1.22s/it]\n"
     ]
    },
    {
     "name": "stdout",
     "output_type": "stream",
     "text": [
      "validation (log loss) : 1.937346369665047\n",
      "validation (accuracy) : 0.94625\n",
      "validation best accuracy :  0.96375\n",
      "end validation! (epoch : 315)\n",
      "==================================================\n",
      "start training! (epoch : 316)\n"
     ]
    },
    {
     "name": "stderr",
     "output_type": "stream",
     "text": [
      "100%|█████████████████████████████████████████████████████████████████████████████████| 5/5 [00:19<00:00,  3.92s/it]\n"
     ]
    },
    {
     "name": "stdout",
     "output_type": "stream",
     "text": [
      "training (log loss) : 1.1564005462341753\n",
      "training (accuracy) : 0.9679166666666666\n",
      "end training! (epoch : 316)\n",
      "==================================================\n",
      "start validation! (epoch : 316)\n"
     ]
    },
    {
     "name": "stderr",
     "output_type": "stream",
     "text": [
      "100%|█████████████████████████████████████████████████████████████████████████████████| 2/2 [00:02<00:00,  1.20s/it]\n"
     ]
    },
    {
     "name": "stdout",
     "output_type": "stream",
     "text": [
      "validation (log loss) : 2.2977829035562185\n",
      "validation (accuracy) : 0.93625\n",
      "validation best accuracy :  0.96375\n",
      "end validation! (epoch : 316)\n",
      "==================================================\n",
      "start training! (epoch : 317)\n"
     ]
    },
    {
     "name": "stderr",
     "output_type": "stream",
     "text": [
      "100%|█████████████████████████████████████████████████████████████████████████████████| 5/5 [00:21<00:00,  4.23s/it]\n"
     ]
    },
    {
     "name": "stdout",
     "output_type": "stream",
     "text": [
      "training (log loss) : 1.096327790585647\n",
      "training (accuracy) : 0.9695833333333334\n",
      "end training! (epoch : 317)\n",
      "==================================================\n",
      "start validation! (epoch : 317)\n"
     ]
    },
    {
     "name": "stderr",
     "output_type": "stream",
     "text": [
      "100%|█████████████████████████████████████████████████████████████████████████████████| 2/2 [00:02<00:00,  1.21s/it]\n"
     ]
    },
    {
     "name": "stdout",
     "output_type": "stream",
     "text": [
      "validation (log loss) : 1.8021826694558576\n",
      "validation (accuracy) : 0.95\n",
      "validation best accuracy :  0.96375\n",
      "end validation! (epoch : 317)\n",
      "==================================================\n",
      "start training! (epoch : 318)\n"
     ]
    },
    {
     "name": "stderr",
     "output_type": "stream",
     "text": [
      "100%|█████████████████████████████████████████████████████████████████████████████████| 5/5 [00:19<00:00,  3.84s/it]\n"
     ]
    },
    {
     "name": "stdout",
     "output_type": "stream",
     "text": [
      "training (log loss) : 0.9161095236400612\n",
      "training (accuracy) : 0.9745833333333334\n",
      "end training! (epoch : 318)\n",
      "==================================================\n",
      "start validation! (epoch : 318)\n"
     ]
    },
    {
     "name": "stderr",
     "output_type": "stream",
     "text": [
      "100%|█████████████████████████████████████████████████████████████████████████████████| 2/2 [00:02<00:00,  1.22s/it]\n"
     ]
    },
    {
     "name": "stdout",
     "output_type": "stream",
     "text": [
      "validation (log loss) : 1.8472372361922538\n",
      "validation (accuracy) : 0.94875\n",
      "validation best accuracy :  0.96375\n",
      "end validation! (epoch : 318)\n",
      "==================================================\n",
      "start training! (epoch : 319)\n"
     ]
    },
    {
     "name": "stderr",
     "output_type": "stream",
     "text": [
      "100%|█████████████████████████████████████████████████████████████████████████████████| 5/5 [00:17<00:00,  3.50s/it]\n"
     ]
    },
    {
     "name": "stdout",
     "output_type": "stream",
     "text": [
      "training (log loss) : 0.8560367679915326\n",
      "training (accuracy) : 0.97625\n",
      "end training! (epoch : 319)\n",
      "==================================================\n",
      "start validation! (epoch : 319)\n"
     ]
    },
    {
     "name": "stderr",
     "output_type": "stream",
     "text": [
      "100%|█████████████████████████████████████████████████████████████████████████████████| 2/2 [00:02<00:00,  1.21s/it]\n"
     ]
    },
    {
     "name": "stdout",
     "output_type": "stream",
     "text": [
      "validation (log loss) : 1.9824009364014434\n",
      "validation (accuracy) : 0.945\n",
      "validation best accuracy :  0.96375\n",
      "end validation! (epoch : 319)\n",
      "==================================================\n",
      "start training! (epoch : 320)\n"
     ]
    },
    {
     "name": "stderr",
     "output_type": "stream",
     "text": [
      "100%|█████████████████████████████████████████████████████████████████████████████████| 5/5 [00:22<00:00,  4.43s/it]\n"
     ]
    },
    {
     "name": "stdout",
     "output_type": "stream",
     "text": [
      "training (log loss) : 0.7809458234308719\n",
      "training (accuracy) : 0.9783333333333334\n",
      "end training! (epoch : 320)\n",
      "==================================================\n",
      "start validation! (epoch : 320)\n"
     ]
    },
    {
     "name": "stderr",
     "output_type": "stream",
     "text": [
      "100%|█████████████████████████████████████████████████████████████████████████████████| 2/2 [00:02<00:00,  1.17s/it]\n"
     ]
    },
    {
     "name": "stdout",
     "output_type": "stream",
     "text": [
      "validation (log loss) : 3.649419905648111\n",
      "validation (accuracy) : 0.89875\n",
      "validation best accuracy :  0.96375\n",
      "end validation! (epoch : 320)\n",
      "==================================================\n",
      "start training! (epoch : 321)\n"
     ]
    },
    {
     "name": "stderr",
     "output_type": "stream",
     "text": [
      "100%|█████████████████████████████████████████████████████████████████████████████████| 5/5 [00:19<00:00,  3.81s/it]\n"
     ]
    },
    {
     "name": "stdout",
     "output_type": "stream",
     "text": [
      "training (log loss) : 0.8710549569036646\n",
      "training (accuracy) : 0.9758333333333333\n",
      "end training! (epoch : 321)\n",
      "==================================================\n",
      "start validation! (epoch : 321)\n"
     ]
    },
    {
     "name": "stderr",
     "output_type": "stream",
     "text": [
      "100%|█████████████████████████████████████████████████████████████████████████████████| 2/2 [00:02<00:00,  1.21s/it]\n"
     ]
    },
    {
     "name": "stdout",
     "output_type": "stream",
     "text": [
      "validation (log loss) : 1.712073535983065\n",
      "validation (accuracy) : 0.9525\n",
      "validation best accuracy :  0.96375\n",
      "end validation! (epoch : 321)\n",
      "==================================================\n",
      "start training! (epoch : 322)\n"
     ]
    },
    {
     "name": "stderr",
     "output_type": "stream",
     "text": [
      "100%|█████████████████████████████████████████████████████████████████████████████████| 5/5 [00:19<00:00,  3.82s/it]\n"
     ]
    },
    {
     "name": "stdout",
     "output_type": "stream",
     "text": [
      "training (log loss) : 1.0362550349371182\n",
      "training (accuracy) : 0.97125\n",
      "end training! (epoch : 322)\n",
      "==================================================\n",
      "start validation! (epoch : 322)\n"
     ]
    },
    {
     "name": "stderr",
     "output_type": "stream",
     "text": [
      "100%|█████████████████████████████████████████████████████████████████████████████████| 2/2 [00:02<00:00,  1.21s/it]\n"
     ]
    },
    {
     "name": "stdout",
     "output_type": "stream",
     "text": [
      "validation (log loss) : 2.0725100698742365\n",
      "validation (accuracy) : 0.9425\n",
      "validation best accuracy :  0.96375\n",
      "end validation! (epoch : 322)\n",
      "==================================================\n",
      "start training! (epoch : 323)\n"
     ]
    },
    {
     "name": "stderr",
     "output_type": "stream",
     "text": [
      "100%|█████████████████████████████████████████████████████████████████████████████████| 5/5 [00:20<00:00,  4.14s/it]\n"
     ]
    },
    {
     "name": "stdout",
     "output_type": "stream",
     "text": [
      "training (log loss) : 0.9461459014643255\n",
      "training (accuracy) : 0.97375\n",
      "end training! (epoch : 323)\n",
      "==================================================\n",
      "start validation! (epoch : 323)\n"
     ]
    },
    {
     "name": "stderr",
     "output_type": "stream",
     "text": [
      "100%|█████████████████████████████████████████████████████████████████████████████████| 2/2 [00:02<00:00,  1.19s/it]\n"
     ]
    },
    {
     "name": "stdout",
     "output_type": "stream",
     "text": [
      "validation (log loss) : 2.4329466037654077\n",
      "validation (accuracy) : 0.9325\n",
      "validation best accuracy :  0.96375\n",
      "end validation! (epoch : 323)\n",
      "==================================================\n",
      "start training! (epoch : 324)\n"
     ]
    },
    {
     "name": "stderr",
     "output_type": "stream",
     "text": [
      "100%|█████████████████████████████████████████████████████████████████████████████████| 5/5 [00:20<00:00,  4.12s/it]\n"
     ]
    },
    {
     "name": "stdout",
     "output_type": "stream",
     "text": [
      "training (log loss) : 0.6007275564852861\n",
      "training (accuracy) : 0.9833333333333333\n",
      "end training! (epoch : 324)\n",
      "==================================================\n",
      "start validation! (epoch : 324)\n"
     ]
    },
    {
     "name": "stderr",
     "output_type": "stream",
     "text": [
      "100%|█████████████████████████████████████████████████████████████████████████████████| 2/2 [00:02<00:00,  1.19s/it]\n"
     ]
    },
    {
     "name": "stdout",
     "output_type": "stream",
     "text": [
      "validation (log loss) : 1.8922918029286506\n",
      "validation (accuracy) : 0.9475\n",
      "validation best accuracy :  0.96375\n",
      "end validation! (epoch : 324)\n",
      "==================================================\n",
      "start training! (epoch : 325)\n"
     ]
    },
    {
     "name": "stderr",
     "output_type": "stream",
     "text": [
      "100%|█████████████████████████████████████████████████████████████████████████████████| 5/5 [00:17<00:00,  3.50s/it]\n"
     ]
    },
    {
     "name": "stdout",
     "output_type": "stream",
     "text": [
      "training (log loss) : 0.6758185010459468\n",
      "training (accuracy) : 0.98125\n",
      "end training! (epoch : 325)\n",
      "==================================================\n",
      "start validation! (epoch : 325)\n"
     ]
    },
    {
     "name": "stderr",
     "output_type": "stream",
     "text": [
      "100%|█████████████████████████████████████████████████████████████████████████████████| 2/2 [00:02<00:00,  1.18s/it]\n"
     ]
    },
    {
     "name": "stdout",
     "output_type": "stream",
     "text": [
      "validation (log loss) : 1.8922918029286506\n",
      "validation (accuracy) : 0.9475\n",
      "validation best accuracy :  0.96375\n",
      "end validation! (epoch : 325)\n",
      "==================================================\n",
      "start training! (epoch : 326)\n"
     ]
    },
    {
     "name": "stderr",
     "output_type": "stream",
     "text": [
      "100%|█████████████████████████████████████████████████████████████████████████████████| 5/5 [00:19<00:00,  3.99s/it]\n"
     ]
    },
    {
     "name": "stdout",
     "output_type": "stream",
     "text": [
      "training (log loss) : 0.7809458234308719\n",
      "training (accuracy) : 0.9783333333333334\n",
      "end training! (epoch : 326)\n",
      "==================================================\n",
      "start validation! (epoch : 326)\n"
     ]
    },
    {
     "name": "stderr",
     "output_type": "stream",
     "text": [
      "100%|█████████████████████████████████████████████████████████████████████████████████| 2/2 [00:02<00:00,  1.19s/it]\n"
     ]
    },
    {
     "name": "stdout",
     "output_type": "stream",
     "text": [
      "validation (log loss) : 1.531855269037479\n",
      "validation (accuracy) : 0.9575\n",
      "validation best accuracy :  0.96375\n",
      "end validation! (epoch : 326)\n",
      "==================================================\n",
      "start training! (epoch : 327)\n"
     ]
    },
    {
     "name": "stderr",
     "output_type": "stream",
     "text": [
      "100%|█████████████████████████████████████████████████████████████████████████████████| 5/5 [00:17<00:00,  3.60s/it]\n"
     ]
    },
    {
     "name": "stdout",
     "output_type": "stream",
     "text": [
      "training (log loss) : 0.7509094456066076\n",
      "training (accuracy) : 0.9791666666666666\n",
      "end training! (epoch : 327)\n",
      "==================================================\n",
      "start validation! (epoch : 327)\n"
     ]
    },
    {
     "name": "stderr",
     "output_type": "stream",
     "text": [
      "100%|█████████████████████████████████████████████████████████████████████████████████| 2/2 [00:02<00:00,  1.21s/it]\n"
     ]
    },
    {
     "name": "stdout",
     "output_type": "stream",
     "text": [
      "validation (log loss) : 1.7120735359830648\n",
      "validation (accuracy) : 0.9525\n",
      "validation best accuracy :  0.96375\n",
      "end validation! (epoch : 327)\n",
      "==================================================\n",
      "start training! (epoch : 328)\n"
     ]
    },
    {
     "name": "stderr",
     "output_type": "stream",
     "text": [
      "100%|█████████████████████████████████████████████████████████████████████████████████| 5/5 [00:22<00:00,  4.56s/it]\n"
     ]
    },
    {
     "name": "stdout",
     "output_type": "stream",
     "text": [
      "training (log loss) : 0.690836689958079\n",
      "training (accuracy) : 0.9808333333333333\n",
      "end training! (epoch : 328)\n",
      "==================================================\n",
      "start validation! (epoch : 328)\n"
     ]
    },
    {
     "name": "stderr",
     "output_type": "stream",
     "text": [
      "100%|█████████████████████████████████████████████████████████████████████████████████| 2/2 [00:02<00:00,  1.27s/it]\n"
     ]
    },
    {
     "name": "stdout",
     "output_type": "stream",
     "text": [
      "validation (log loss) : 1.847237236192254\n",
      "validation (accuracy) : 0.94875\n",
      "validation best accuracy :  0.96375\n",
      "end validation! (epoch : 328)\n",
      "==================================================\n",
      "start training! (epoch : 329)\n"
     ]
    },
    {
     "name": "stderr",
     "output_type": "stream",
     "text": [
      "100%|█████████████████████████████████████████████████████████████████████████████████| 5/5 [00:22<00:00,  4.44s/it]\n"
     ]
    },
    {
     "name": "stdout",
     "output_type": "stream",
     "text": [
      "training (log loss) : 0.42050928953970035\n",
      "training (accuracy) : 0.9883333333333333\n",
      "end training! (epoch : 329)\n",
      "==================================================\n",
      "start validation! (epoch : 329)\n"
     ]
    },
    {
     "name": "stderr",
     "output_type": "stream",
     "text": [
      "100%|█████████████████████████████████████████████████████████████████████████████████| 2/2 [00:02<00:00,  1.22s/it]\n"
     ]
    },
    {
     "name": "stdout",
     "output_type": "stream",
     "text": [
      "validation (log loss) : 1.9824009364014434\n",
      "validation (accuracy) : 0.945\n",
      "validation best accuracy :  0.96375\n",
      "end validation! (epoch : 329)\n",
      "==================================================\n",
      "start training! (epoch : 330)\n"
     ]
    },
    {
     "name": "stderr",
     "output_type": "stream",
     "text": [
      "100%|█████████████████████████████████████████████████████████████████████████████████| 5/5 [00:19<00:00,  3.90s/it]\n"
     ]
    },
    {
     "name": "stdout",
     "output_type": "stream",
     "text": [
      "training (log loss) : 0.6307639343095504\n",
      "training (accuracy) : 0.9825\n",
      "end training! (epoch : 330)\n",
      "==================================================\n",
      "start validation! (epoch : 330)\n"
     ]
    },
    {
     "name": "stderr",
     "output_type": "stream",
     "text": [
      "100%|█████████████████████████████████████████████████████████████████████████████████| 2/2 [00:02<00:00,  1.21s/it]\n"
     ]
    },
    {
     "name": "stdout",
     "output_type": "stream",
     "text": [
      "validation (log loss) : 2.0725100698742365\n",
      "validation (accuracy) : 0.9425\n",
      "validation best accuracy :  0.96375\n",
      "end validation! (epoch : 330)\n",
      "==================================================\n",
      "start training! (epoch : 331)\n"
     ]
    },
    {
     "name": "stderr",
     "output_type": "stream",
     "text": [
      "100%|█████████████████████████████████████████████████████████████████████████████████| 5/5 [00:18<00:00,  3.79s/it]\n"
     ]
    },
    {
     "name": "stdout",
     "output_type": "stream",
     "text": [
      "training (log loss) : 0.5106184230124932\n",
      "training (accuracy) : 0.9858333333333333\n",
      "end training! (epoch : 331)\n",
      "==================================================\n",
      "start validation! (epoch : 331)\n"
     ]
    },
    {
     "name": "stderr",
     "output_type": "stream",
     "text": [
      "100%|█████████████████████████████████████████████████████████████████████████████████| 2/2 [00:02<00:00,  1.18s/it]\n"
     ]
    },
    {
     "name": "stdout",
     "output_type": "stream",
     "text": [
      "validation (log loss) : 1.6670189692466684\n",
      "validation (accuracy) : 0.95375\n",
      "validation best accuracy :  0.96375\n",
      "end validation! (epoch : 331)\n",
      "==================================================\n",
      "start training! (epoch : 332)\n"
     ]
    },
    {
     "name": "stderr",
     "output_type": "stream",
     "text": [
      "100%|█████████████████████████████████████████████████████████████████████████████████| 5/5 [00:19<00:00,  3.84s/it]\n"
     ]
    },
    {
     "name": "stdout",
     "output_type": "stream",
     "text": [
      "training (log loss) : 0.43552747845183243\n",
      "training (accuracy) : 0.9879166666666667\n",
      "end training! (epoch : 332)\n",
      "==================================================\n",
      "start validation! (epoch : 332)\n"
     ]
    },
    {
     "name": "stderr",
     "output_type": "stream",
     "text": [
      "100%|█████████████████████████████████████████████████████████████████████████████████| 2/2 [00:02<00:00,  1.21s/it]\n"
     ]
    },
    {
     "name": "stdout",
     "output_type": "stream",
     "text": [
      "validation (log loss) : 2.0274555031378396\n",
      "validation (accuracy) : 0.94375\n",
      "validation best accuracy :  0.96375\n",
      "end validation! (epoch : 332)\n",
      "==================================================\n",
      "start training! (epoch : 333)\n"
     ]
    },
    {
     "name": "stderr",
     "output_type": "stream",
     "text": [
      "100%|█████████████████████████████████████████████████████████████████████████████████| 5/5 [00:20<00:00,  4.03s/it]\n"
     ]
    },
    {
     "name": "stdout",
     "output_type": "stream",
     "text": [
      "training (log loss) : 0.6608003121338147\n",
      "training (accuracy) : 0.9816666666666667\n",
      "end training! (epoch : 333)\n",
      "==================================================\n",
      "start validation! (epoch : 333)\n"
     ]
    },
    {
     "name": "stderr",
     "output_type": "stream",
     "text": [
      "100%|█████████████████████████████████████████████████████████████████████████████████| 2/2 [00:02<00:00,  1.18s/it]\n"
     ]
    },
    {
     "name": "stdout",
     "output_type": "stream",
     "text": [
      "validation (log loss) : 1.8021826694558576\n",
      "validation (accuracy) : 0.95\n",
      "validation best accuracy :  0.96375\n",
      "end validation! (epoch : 333)\n",
      "==================================================\n",
      "start training! (epoch : 334)\n"
     ]
    },
    {
     "name": "stderr",
     "output_type": "stream",
     "text": [
      "100%|█████████████████████████████████████████████████████████████████████████████████| 5/5 [00:22<00:00,  4.43s/it]\n"
     ]
    },
    {
     "name": "stdout",
     "output_type": "stream",
     "text": [
      "training (log loss) : 0.5256366119246254\n",
      "training (accuracy) : 0.9854166666666667\n",
      "end training! (epoch : 334)\n",
      "==================================================\n",
      "start validation! (epoch : 334)\n"
     ]
    },
    {
     "name": "stderr",
     "output_type": "stream",
     "text": [
      "100%|█████████████████████████████████████████████████████████████████████████████████| 2/2 [00:02<00:00,  1.19s/it]\n"
     ]
    },
    {
     "name": "stdout",
     "output_type": "stream",
     "text": [
      "validation (log loss) : 1.4868007023010825\n",
      "validation (accuracy) : 0.95875\n",
      "validation best accuracy :  0.96375\n",
      "end validation! (epoch : 334)\n",
      "==================================================\n",
      "start training! (epoch : 335)\n"
     ]
    },
    {
     "name": "stderr",
     "output_type": "stream",
     "text": [
      "100%|█████████████████████████████████████████████████████████████████████████████████| 5/5 [00:17<00:00,  3.52s/it]\n"
     ]
    },
    {
     "name": "stdout",
     "output_type": "stream",
     "text": [
      "training (log loss) : 0.585709367573154\n",
      "training (accuracy) : 0.98375\n",
      "end training! (epoch : 335)\n",
      "==================================================\n",
      "start validation! (epoch : 335)\n"
     ]
    },
    {
     "name": "stderr",
     "output_type": "stream",
     "text": [
      "100%|█████████████████████████████████████████████████████████████████████████████████| 2/2 [00:02<00:00,  1.20s/it]\n"
     ]
    },
    {
     "name": "stdout",
     "output_type": "stream",
     "text": [
      "validation (log loss) : 2.1175646366106324\n",
      "validation (accuracy) : 0.94125\n",
      "validation best accuracy :  0.96375\n",
      "end validation! (epoch : 335)\n",
      "==================================================\n",
      "start training! (epoch : 336)\n"
     ]
    },
    {
     "name": "stderr",
     "output_type": "stream",
     "text": [
      "100%|█████████████████████████████████████████████████████████████████████████████████| 5/5 [00:16<00:00,  3.34s/it]\n"
     ]
    },
    {
     "name": "stdout",
     "output_type": "stream",
     "text": [
      "training (log loss) : 0.585709367573154\n",
      "training (accuracy) : 0.98375\n",
      "end training! (epoch : 336)\n",
      "==================================================\n",
      "start validation! (epoch : 336)\n"
     ]
    },
    {
     "name": "stderr",
     "output_type": "stream",
     "text": [
      "100%|█████████████████████████████████████████████████████████████████████████████████| 2/2 [00:02<00:00,  1.19s/it]\n"
     ]
    },
    {
     "name": "stdout",
     "output_type": "stream",
     "text": [
      "validation (log loss) : 1.39669156882829\n",
      "validation (accuracy) : 0.96125\n",
      "validation best accuracy :  0.96375\n",
      "end validation! (epoch : 336)\n",
      "==================================================\n",
      "start training! (epoch : 337)\n"
     ]
    },
    {
     "name": "stderr",
     "output_type": "stream",
     "text": [
      "100%|█████████████████████████████████████████████████████████████████████████████████| 5/5 [00:17<00:00,  3.59s/it]\n"
     ]
    },
    {
     "name": "stdout",
     "output_type": "stream",
     "text": [
      "training (log loss) : 0.585709367573154\n",
      "training (accuracy) : 0.98375\n",
      "end training! (epoch : 337)\n",
      "==================================================\n",
      "start validation! (epoch : 337)\n"
     ]
    },
    {
     "name": "stderr",
     "output_type": "stream",
     "text": [
      "100%|█████████████████████████████████████████████████████████████████████████████████| 2/2 [00:02<00:00,  1.20s/it]\n"
     ]
    },
    {
     "name": "stdout",
     "output_type": "stream",
     "text": [
      "validation (log loss) : 1.4868007023010825\n",
      "validation (accuracy) : 0.95875\n",
      "validation best accuracy :  0.96375\n",
      "end validation! (epoch : 337)\n",
      "==================================================\n",
      "start training! (epoch : 338)\n"
     ]
    },
    {
     "name": "stderr",
     "output_type": "stream",
     "text": [
      "100%|█████████████████████████████████████████████████████████████████████████████████| 5/5 [00:17<00:00,  3.57s/it]\n"
     ]
    },
    {
     "name": "stdout",
     "output_type": "stream",
     "text": [
      "training (log loss) : 0.43552747845183243\n",
      "training (accuracy) : 0.9879166666666667\n",
      "end training! (epoch : 338)\n",
      "==================================================\n",
      "start validation! (epoch : 338)\n"
     ]
    },
    {
     "name": "stderr",
     "output_type": "stream",
     "text": [
      "100%|█████████████████████████████████████████████████████████████████████████████████| 2/2 [00:02<00:00,  1.21s/it]\n"
     ]
    },
    {
     "name": "stdout",
     "output_type": "stream",
     "text": [
      "validation (log loss) : 1.4868007023010827\n",
      "validation (accuracy) : 0.95875\n",
      "validation best accuracy :  0.96375\n",
      "end validation! (epoch : 338)\n",
      "==================================================\n",
      "start training! (epoch : 339)\n"
     ]
    },
    {
     "name": "stderr",
     "output_type": "stream",
     "text": [
      "100%|█████████████████████████████████████████████████████████████████████████████████| 5/5 [00:21<00:00,  4.23s/it]\n"
     ]
    },
    {
     "name": "stdout",
     "output_type": "stream",
     "text": [
      "training (log loss) : 0.49560023410036097\n",
      "training (accuracy) : 0.98625\n",
      "end training! (epoch : 339)\n",
      "==================================================\n",
      "start validation! (epoch : 339)\n"
     ]
    },
    {
     "name": "stderr",
     "output_type": "stream",
     "text": [
      "100%|█████████████████████████████████████████████████████████████████████████████████| 2/2 [00:02<00:00,  1.26s/it]\n"
     ]
    },
    {
     "name": "stdout",
     "output_type": "stream",
     "text": [
      "validation (log loss) : 1.39669156882829\n",
      "validation (accuracy) : 0.96125\n",
      "validation best accuracy :  0.96375\n",
      "end validation! (epoch : 339)\n",
      "==================================================\n",
      "start training! (epoch : 340)\n"
     ]
    },
    {
     "name": "stderr",
     "output_type": "stream",
     "text": [
      "100%|█████████████████████████████████████████████████████████████████████████████████| 5/5 [00:19<00:00,  3.84s/it]\n"
     ]
    },
    {
     "name": "stdout",
     "output_type": "stream",
     "text": [
      "training (log loss) : 0.6007275564852861\n",
      "training (accuracy) : 0.9833333333333333\n",
      "end training! (epoch : 340)\n",
      "==================================================\n",
      "start validation! (epoch : 340)\n"
     ]
    },
    {
     "name": "stderr",
     "output_type": "stream",
     "text": [
      "100%|█████████████████████████████████████████████████████████████████████████████████| 2/2 [00:02<00:00,  1.22s/it]\n"
     ]
    },
    {
     "name": "stdout",
     "output_type": "stream",
     "text": [
      "validation (log loss) : 1.39669156882829\n",
      "validation (accuracy) : 0.96125\n",
      "validation best accuracy :  0.96375\n",
      "end validation! (epoch : 340)\n",
      "==================================================\n",
      "start training! (epoch : 341)\n"
     ]
    },
    {
     "name": "stderr",
     "output_type": "stream",
     "text": [
      "100%|█████████████████████████████████████████████████████████████████████████████████| 5/5 [00:18<00:00,  3.67s/it]\n"
     ]
    },
    {
     "name": "stdout",
     "output_type": "stream",
     "text": [
      "training (log loss) : 0.43552747845183243\n",
      "training (accuracy) : 0.9879166666666667\n",
      "end training! (epoch : 341)\n",
      "==================================================\n",
      "start validation! (epoch : 341)\n"
     ]
    },
    {
     "name": "stderr",
     "output_type": "stream",
     "text": [
      "100%|█████████████████████████████████████████████████████████████████████████████████| 2/2 [00:02<00:00,  1.18s/it]\n"
     ]
    },
    {
     "name": "stdout",
     "output_type": "stream",
     "text": [
      "validation (log loss) : 1.5769098357738756\n",
      "validation (accuracy) : 0.95625\n",
      "validation best accuracy :  0.96375\n",
      "end validation! (epoch : 341)\n",
      "==================================================\n",
      "start training! (epoch : 342)\n"
     ]
    },
    {
     "name": "stderr",
     "output_type": "stream",
     "text": [
      "100%|█████████████████████████████████████████████████████████████████████████████████| 5/5 [00:20<00:00,  4.12s/it]\n"
     ]
    },
    {
     "name": "stdout",
     "output_type": "stream",
     "text": [
      "training (log loss) : 0.40549110062756816\n",
      "training (accuracy) : 0.98875\n",
      "end training! (epoch : 342)\n",
      "==================================================\n",
      "start validation! (epoch : 342)\n"
     ]
    },
    {
     "name": "stderr",
     "output_type": "stream",
     "text": [
      "100%|█████████████████████████████████████████████████████████████████████████████████| 2/2 [00:02<00:00,  1.30s/it]\n"
     ]
    },
    {
     "name": "stdout",
     "output_type": "stream",
     "text": [
      "validation (log loss) : 1.6670189692466681\n",
      "validation (accuracy) : 0.95375\n",
      "validation best accuracy :  0.96375\n",
      "end validation! (epoch : 342)\n",
      "==================================================\n",
      "start training! (epoch : 343)\n"
     ]
    },
    {
     "name": "stderr",
     "output_type": "stream",
     "text": [
      "100%|█████████████████████████████████████████████████████████████████████████████████| 5/5 [00:18<00:00,  3.71s/it]\n"
     ]
    },
    {
     "name": "stdout",
     "output_type": "stream",
     "text": [
      "training (log loss) : 0.5406548008367574\n",
      "training (accuracy) : 0.985\n",
      "end training! (epoch : 343)\n",
      "==================================================\n",
      "start validation! (epoch : 343)\n"
     ]
    },
    {
     "name": "stderr",
     "output_type": "stream",
     "text": [
      "100%|█████████████████████████████████████████████████████████████████████████████████| 2/2 [00:02<00:00,  1.21s/it]\n"
     ]
    },
    {
     "name": "stdout",
     "output_type": "stream",
     "text": [
      "validation (log loss) : 1.531855269037479\n",
      "validation (accuracy) : 0.9575\n",
      "validation best accuracy :  0.96375\n",
      "end validation! (epoch : 343)\n",
      "==================================================\n",
      "start training! (epoch : 344)\n"
     ]
    },
    {
     "name": "stderr",
     "output_type": "stream",
     "text": [
      "100%|█████████████████████████████████████████████████████████████████████████████████| 5/5 [00:19<00:00,  3.82s/it]\n"
     ]
    },
    {
     "name": "stdout",
     "output_type": "stream",
     "text": [
      "training (log loss) : 0.43552747845183243\n",
      "training (accuracy) : 0.9879166666666667\n",
      "end training! (epoch : 344)\n",
      "==================================================\n",
      "start validation! (epoch : 344)\n"
     ]
    },
    {
     "name": "stderr",
     "output_type": "stream",
     "text": [
      "100%|█████████████████████████████████████████████████████████████████████████████████| 2/2 [00:02<00:00,  1.20s/it]\n"
     ]
    },
    {
     "name": "stdout",
     "output_type": "stream",
     "text": [
      "validation (log loss) : 1.3065824353554967\n",
      "validation (accuracy) : 0.96375\n",
      "validation best accuracy :  0.96375\n",
      "end validation! (epoch : 344)\n",
      "==================================================\n",
      "start training! (epoch : 345)\n"
     ]
    },
    {
     "name": "stderr",
     "output_type": "stream",
     "text": [
      "100%|█████████████████████████████████████████████████████████████████████████████████| 5/5 [00:19<00:00,  3.93s/it]\n"
     ]
    },
    {
     "name": "stdout",
     "output_type": "stream",
     "text": [
      "training (log loss) : 0.5406548008367574\n",
      "training (accuracy) : 0.985\n",
      "end training! (epoch : 345)\n",
      "==================================================\n",
      "start validation! (epoch : 345)\n"
     ]
    },
    {
     "name": "stderr",
     "output_type": "stream",
     "text": [
      "100%|█████████████████████████████████████████████████████████████████████████████████| 2/2 [00:02<00:00,  1.22s/it]\n"
     ]
    },
    {
     "name": "stdout",
     "output_type": "stream",
     "text": [
      "validation (log loss) : 1.3516370020918933\n",
      "validation (accuracy) : 0.9625\n",
      "validation best accuracy :  0.96375\n",
      "end validation! (epoch : 345)\n",
      "==================================================\n",
      "start training! (epoch : 346)\n"
     ]
    },
    {
     "name": "stderr",
     "output_type": "stream",
     "text": [
      "100%|█████████████████████████████████████████████████████████████████████████████████| 5/5 [00:18<00:00,  3.79s/it]\n"
     ]
    },
    {
     "name": "stdout",
     "output_type": "stream",
     "text": [
      "training (log loss) : 0.3754547228033039\n",
      "training (accuracy) : 0.9895833333333334\n",
      "end training! (epoch : 346)\n",
      "==================================================\n",
      "start validation! (epoch : 346)\n"
     ]
    },
    {
     "name": "stderr",
     "output_type": "stream",
     "text": [
      "100%|█████████████████████████████████████████████████████████████████████████████████| 2/2 [00:02<00:00,  1.18s/it]\n"
     ]
    },
    {
     "name": "stdout",
     "output_type": "stream",
     "text": [
      "validation (log loss) : 1.3065824353554967\n",
      "validation (accuracy) : 0.96375\n",
      "validation best accuracy :  0.96375\n",
      "end validation! (epoch : 346)\n",
      "==================================================\n",
      "start training! (epoch : 347)\n"
     ]
    },
    {
     "name": "stderr",
     "output_type": "stream",
     "text": [
      "100%|█████████████████████████████████████████████████████████████████████████████████| 5/5 [00:17<00:00,  3.52s/it]\n"
     ]
    },
    {
     "name": "stdout",
     "output_type": "stream",
     "text": [
      "training (log loss) : 0.42050928953970035\n",
      "training (accuracy) : 0.9883333333333333\n",
      "end training! (epoch : 347)\n",
      "==================================================\n",
      "start validation! (epoch : 347)\n"
     ]
    },
    {
     "name": "stderr",
     "output_type": "stream",
     "text": [
      "100%|█████████████████████████████████████████████████████████████████████████████████| 2/2 [00:02<00:00,  1.23s/it]\n"
     ]
    },
    {
     "name": "stdout",
     "output_type": "stream",
     "text": [
      "validation (log loss) : 1.2615278686191005\n",
      "validation (accuracy) : 0.965\n",
      "validation best accuracy :  0.965\n",
      "end validation! (epoch : 347)\n",
      "==================================================\n",
      "start training! (epoch : 348)\n"
     ]
    },
    {
     "name": "stderr",
     "output_type": "stream",
     "text": [
      "100%|█████████████████████████████████████████████████████████████████████████████████| 5/5 [00:19<00:00,  3.90s/it]\n"
     ]
    },
    {
     "name": "stdout",
     "output_type": "stream",
     "text": [
      "training (log loss) : 0.5556729897488896\n",
      "training (accuracy) : 0.9845833333333334\n",
      "end training! (epoch : 348)\n",
      "==================================================\n",
      "start validation! (epoch : 348)\n"
     ]
    },
    {
     "name": "stderr",
     "output_type": "stream",
     "text": [
      "100%|█████████████████████████████████████████████████████████████████████████████████| 2/2 [00:02<00:00,  1.21s/it]\n"
     ]
    },
    {
     "name": "stdout",
     "output_type": "stream",
     "text": [
      "validation (log loss) : 1.3065824353554971\n",
      "validation (accuracy) : 0.96375\n",
      "validation best accuracy :  0.965\n",
      "end validation! (epoch : 348)\n",
      "==================================================\n",
      "start training! (epoch : 349)\n"
     ]
    },
    {
     "name": "stderr",
     "output_type": "stream",
     "text": [
      "100%|█████████████████████████████████████████████████████████████████████████████████| 5/5 [00:17<00:00,  3.59s/it]\n"
     ]
    },
    {
     "name": "stdout",
     "output_type": "stream",
     "text": [
      "training (log loss) : 0.49560023410036097\n",
      "training (accuracy) : 0.98625\n",
      "end training! (epoch : 349)\n",
      "==================================================\n",
      "start validation! (epoch : 349)\n"
     ]
    },
    {
     "name": "stderr",
     "output_type": "stream",
     "text": [
      "100%|█████████████████████████████████████████████████████████████████████████████████| 2/2 [00:02<00:00,  1.21s/it]\n"
     ]
    },
    {
     "name": "stdout",
     "output_type": "stream",
     "text": [
      "validation (log loss) : 1.3065824353554967\n",
      "validation (accuracy) : 0.96375\n",
      "validation best accuracy :  0.965\n",
      "end validation! (epoch : 349)\n",
      "==================================================\n",
      "start training! (epoch : 350)\n"
     ]
    },
    {
     "name": "stderr",
     "output_type": "stream",
     "text": [
      "100%|█████████████████████████████████████████████████████████████████████████████████| 5/5 [00:17<00:00,  3.45s/it]\n"
     ]
    },
    {
     "name": "stdout",
     "output_type": "stream",
     "text": [
      "training (log loss) : 0.40549110062756816\n",
      "training (accuracy) : 0.98875\n",
      "end training! (epoch : 350)\n",
      "==================================================\n",
      "start validation! (epoch : 350)\n"
     ]
    },
    {
     "name": "stderr",
     "output_type": "stream",
     "text": [
      "100%|█████████████████████████████████████████████████████████████████████████████████| 2/2 [00:02<00:00,  1.21s/it]\n"
     ]
    },
    {
     "name": "stdout",
     "output_type": "stream",
     "text": [
      "validation (log loss) : 1.3065824353554967\n",
      "validation (accuracy) : 0.96375\n",
      "validation best accuracy :  0.965\n",
      "end validation! (epoch : 350)\n",
      "==================================================\n",
      "start training! (epoch : 351)\n"
     ]
    },
    {
     "name": "stderr",
     "output_type": "stream",
     "text": [
      "100%|█████████████████████████████████████████████████████████████████████████████████| 5/5 [00:19<00:00,  3.91s/it]\n"
     ]
    },
    {
     "name": "stdout",
     "output_type": "stream",
     "text": [
      "training (log loss) : 0.705854878870211\n",
      "training (accuracy) : 0.9804166666666667\n",
      "end training! (epoch : 351)\n",
      "==================================================\n",
      "start validation! (epoch : 351)\n"
     ]
    },
    {
     "name": "stderr",
     "output_type": "stream",
     "text": [
      "100%|█████████████████████████████████████████████████████████████████████████████████| 2/2 [00:02<00:00,  1.20s/it]\n"
     ]
    },
    {
     "name": "stdout",
     "output_type": "stream",
     "text": [
      "validation (log loss) : 1.3065824353554967\n",
      "validation (accuracy) : 0.96375\n",
      "validation best accuracy :  0.965\n",
      "end validation! (epoch : 351)\n",
      "==================================================\n",
      "start training! (epoch : 352)\n"
     ]
    },
    {
     "name": "stderr",
     "output_type": "stream",
     "text": [
      "100%|█████████████████████████████████████████████████████████████████████████████████| 5/5 [00:18<00:00,  3.61s/it]\n"
     ]
    },
    {
     "name": "stdout",
     "output_type": "stream",
     "text": [
      "training (log loss) : 0.6758185010459468\n",
      "training (accuracy) : 0.98125\n",
      "end training! (epoch : 352)\n",
      "==================================================\n",
      "start validation! (epoch : 352)\n"
     ]
    },
    {
     "name": "stderr",
     "output_type": "stream",
     "text": [
      "100%|█████████████████████████████████████████████████████████████████████████████████| 2/2 [00:02<00:00,  1.21s/it]\n"
     ]
    },
    {
     "name": "stdout",
     "output_type": "stream",
     "text": [
      "validation (log loss) : 3.7845836058573012\n",
      "validation (accuracy) : 0.895\n",
      "validation best accuracy :  0.965\n",
      "end validation! (epoch : 352)\n",
      "==================================================\n",
      "start training! (epoch : 353)\n"
     ]
    },
    {
     "name": "stderr",
     "output_type": "stream",
     "text": [
      "100%|█████████████████████████████████████████████████████████████████████████████████| 5/5 [00:18<00:00,  3.67s/it]\n"
     ]
    },
    {
     "name": "stdout",
     "output_type": "stream",
     "text": [
      "training (log loss) : 0.6758185010459468\n",
      "training (accuracy) : 0.98125\n",
      "end training! (epoch : 353)\n",
      "==================================================\n",
      "start validation! (epoch : 353)\n"
     ]
    },
    {
     "name": "stderr",
     "output_type": "stream",
     "text": [
      "100%|█████████████████████████████████████████████████████████████████████████████████| 2/2 [00:02<00:00,  1.22s/it]\n"
     ]
    },
    {
     "name": "stdout",
     "output_type": "stream",
     "text": [
      "validation (log loss) : 1.9824009364014432\n",
      "validation (accuracy) : 0.945\n",
      "validation best accuracy :  0.965\n",
      "end validation! (epoch : 353)\n",
      "==================================================\n",
      "start training! (epoch : 354)\n"
     ]
    },
    {
     "name": "stderr",
     "output_type": "stream",
     "text": [
      "100%|█████████████████████████████████████████████████████████████████████████████████| 5/5 [00:20<00:00,  4.11s/it]\n"
     ]
    },
    {
     "name": "stdout",
     "output_type": "stream",
     "text": [
      "training (log loss) : 0.8109822012551361\n",
      "training (accuracy) : 0.9775\n",
      "end training! (epoch : 354)\n",
      "==================================================\n",
      "start validation! (epoch : 354)\n"
     ]
    },
    {
     "name": "stderr",
     "output_type": "stream",
     "text": [
      "100%|█████████████████████████████████████████████████████████████████████████████████| 2/2 [00:02<00:00,  1.22s/it]\n"
     ]
    },
    {
     "name": "stdout",
     "output_type": "stream",
     "text": [
      "validation (log loss) : 2.6131648707109933\n",
      "validation (accuracy) : 0.9275\n",
      "validation best accuracy :  0.965\n",
      "end validation! (epoch : 354)\n",
      "==================================================\n",
      "start training! (epoch : 355)\n"
     ]
    },
    {
     "name": "stderr",
     "output_type": "stream",
     "text": [
      "100%|█████████████████████████████████████████████████████████████████████████████████| 5/5 [00:19<00:00,  3.80s/it]\n"
     ]
    },
    {
     "name": "stdout",
     "output_type": "stream",
     "text": [
      "training (log loss) : 1.1413823573220434\n",
      "training (accuracy) : 0.9683333333333334\n",
      "end training! (epoch : 355)\n",
      "==================================================\n",
      "start validation! (epoch : 355)\n"
     ]
    },
    {
     "name": "stderr",
     "output_type": "stream",
     "text": [
      "100%|█████████████████████████████████████████████████████████████████████████████████| 2/2 [00:02<00:00,  1.21s/it]\n"
     ]
    },
    {
     "name": "stdout",
     "output_type": "stream",
     "text": [
      "validation (log loss) : 1.937346369665047\n",
      "validation (accuracy) : 0.94625\n",
      "validation best accuracy :  0.965\n",
      "end validation! (epoch : 355)\n",
      "==================================================\n",
      "start training! (epoch : 356)\n"
     ]
    },
    {
     "name": "stderr",
     "output_type": "stream",
     "text": [
      "100%|█████████████████████████████████████████████████████████████████████████████████| 5/5 [00:19<00:00,  3.97s/it]\n"
     ]
    },
    {
     "name": "stdout",
     "output_type": "stream",
     "text": [
      "training (log loss) : 0.901091334727929\n",
      "training (accuracy) : 0.975\n",
      "end training! (epoch : 356)\n",
      "==================================================\n",
      "start validation! (epoch : 356)\n"
     ]
    },
    {
     "name": "stderr",
     "output_type": "stream",
     "text": [
      "100%|█████████████████████████████████████████████████████████████████████████████████| 2/2 [00:02<00:00,  1.21s/it]\n"
     ]
    },
    {
     "name": "stdout",
     "output_type": "stream",
     "text": [
      "validation (log loss) : 1.6670189692466681\n",
      "validation (accuracy) : 0.95375\n",
      "validation best accuracy :  0.965\n",
      "end validation! (epoch : 356)\n",
      "==================================================\n",
      "start training! (epoch : 357)\n"
     ]
    },
    {
     "name": "stderr",
     "output_type": "stream",
     "text": [
      "100%|█████████████████████████████████████████████████████████████████████████████████| 5/5 [00:20<00:00,  4.14s/it]\n"
     ]
    },
    {
     "name": "stdout",
     "output_type": "stream",
     "text": [
      "training (log loss) : 1.096327790585647\n",
      "training (accuracy) : 0.9695833333333334\n",
      "end training! (epoch : 357)\n",
      "==================================================\n",
      "start validation! (epoch : 357)\n"
     ]
    },
    {
     "name": "stderr",
     "output_type": "stream",
     "text": [
      "100%|█████████████████████████████████████████████████████████████████████████████████| 2/2 [00:02<00:00,  1.24s/it]\n"
     ]
    },
    {
     "name": "stdout",
     "output_type": "stream",
     "text": [
      "validation (log loss) : 2.2977829035562185\n",
      "validation (accuracy) : 0.93625\n",
      "validation best accuracy :  0.965\n",
      "end validation! (epoch : 357)\n",
      "==================================================\n",
      "start training! (epoch : 358)\n"
     ]
    },
    {
     "name": "stderr",
     "output_type": "stream",
     "text": [
      "100%|█████████████████████████████████████████████████████████████████████████████████| 5/5 [00:17<00:00,  3.46s/it]\n"
     ]
    },
    {
     "name": "stdout",
     "output_type": "stream",
     "text": [
      "training (log loss) : 0.7659276345187397\n",
      "training (accuracy) : 0.97875\n",
      "end training! (epoch : 358)\n",
      "==================================================\n",
      "start validation! (epoch : 358)\n"
     ]
    },
    {
     "name": "stderr",
     "output_type": "stream",
     "text": [
      "100%|█████████████████████████████████████████████████████████████████████████████████| 2/2 [00:02<00:00,  1.27s/it]\n"
     ]
    },
    {
     "name": "stdout",
     "output_type": "stream",
     "text": [
      "validation (log loss) : 2.2977829035562185\n",
      "validation (accuracy) : 0.93625\n",
      "validation best accuracy :  0.965\n",
      "end validation! (epoch : 358)\n",
      "==================================================\n",
      "start training! (epoch : 359)\n"
     ]
    },
    {
     "name": "stderr",
     "output_type": "stream",
     "text": [
      "100%|█████████████████████████████████████████████████████████████████████████████████| 5/5 [00:20<00:00,  4.03s/it]\n"
     ]
    },
    {
     "name": "stdout",
     "output_type": "stream",
     "text": [
      "training (log loss) : 1.0813096016735146\n",
      "training (accuracy) : 0.97\n",
      "end training! (epoch : 359)\n",
      "==================================================\n",
      "start validation! (epoch : 359)\n"
     ]
    },
    {
     "name": "stderr",
     "output_type": "stream",
     "text": [
      "100%|█████████████████████████████████████████████████████████████████████████████████| 2/2 [00:02<00:00,  1.22s/it]\n"
     ]
    },
    {
     "name": "stdout",
     "output_type": "stream",
     "text": [
      "validation (log loss) : 2.02745550313784\n",
      "validation (accuracy) : 0.94375\n",
      "validation best accuracy :  0.965\n",
      "end validation! (epoch : 359)\n",
      "==================================================\n",
      "start training! (epoch : 360)\n"
     ]
    },
    {
     "name": "stderr",
     "output_type": "stream",
     "text": [
      "100%|█████████████████████████████████████████████████████████████████████████████████| 5/5 [00:18<00:00,  3.68s/it]\n"
     ]
    },
    {
     "name": "stdout",
     "output_type": "stream",
     "text": [
      "training (log loss) : 0.6608003121338147\n",
      "training (accuracy) : 0.9816666666666667\n",
      "end training! (epoch : 360)\n",
      "==================================================\n",
      "start validation! (epoch : 360)\n"
     ]
    },
    {
     "name": "stderr",
     "output_type": "stream",
     "text": [
      "100%|█████████████████████████████████████████████████████████████████████████████████| 2/2 [00:02<00:00,  1.21s/it]\n"
     ]
    },
    {
     "name": "stdout",
     "output_type": "stream",
     "text": [
      "validation (log loss) : 2.432946603765408\n",
      "validation (accuracy) : 0.9325\n",
      "validation best accuracy :  0.965\n",
      "end validation! (epoch : 360)\n",
      "==================================================\n",
      "start training! (epoch : 361)\n"
     ]
    },
    {
     "name": "stderr",
     "output_type": "stream",
     "text": [
      "100%|█████████████████████████████████████████████████████████████████████████████████| 5/5 [00:18<00:00,  3.65s/it]\n"
     ]
    },
    {
     "name": "stdout",
     "output_type": "stream",
     "text": [
      "training (log loss) : 0.901091334727929\n",
      "training (accuracy) : 0.975\n",
      "end training! (epoch : 361)\n",
      "==================================================\n",
      "start validation! (epoch : 361)\n"
     ]
    },
    {
     "name": "stderr",
     "output_type": "stream",
     "text": [
      "100%|█████████████████████████████████████████████████████████████████████████████████| 2/2 [00:02<00:00,  1.24s/it]\n"
     ]
    },
    {
     "name": "stdout",
     "output_type": "stream",
     "text": [
      "validation (log loss) : 2.523055737238201\n",
      "validation (accuracy) : 0.93\n",
      "validation best accuracy :  0.965\n",
      "end validation! (epoch : 361)\n",
      "==================================================\n",
      "start training! (epoch : 362)\n"
     ]
    },
    {
     "name": "stderr",
     "output_type": "stream",
     "text": [
      "100%|█████████████████████████████████████████████████████████████████████████████████| 5/5 [00:20<00:00,  4.19s/it]\n"
     ]
    },
    {
     "name": "stdout",
     "output_type": "stream",
     "text": [
      "training (log loss) : 0.9161095236400612\n",
      "training (accuracy) : 0.9745833333333334\n",
      "end training! (epoch : 362)\n",
      "==================================================\n",
      "start validation! (epoch : 362)\n"
     ]
    },
    {
     "name": "stderr",
     "output_type": "stream",
     "text": [
      "100%|█████████████████████████████████████████████████████████████████████████████████| 2/2 [00:02<00:00,  1.20s/it]\n"
     ]
    },
    {
     "name": "stdout",
     "output_type": "stream",
     "text": [
      "validation (log loss) : 2.2527283368198225\n",
      "validation (accuracy) : 0.9375\n",
      "validation best accuracy :  0.965\n",
      "end validation! (epoch : 362)\n",
      "==================================================\n",
      "start training! (epoch : 363)\n"
     ]
    },
    {
     "name": "stderr",
     "output_type": "stream",
     "text": [
      "100%|█████████████████████████████████████████████████████████████████████████████████| 5/5 [00:21<00:00,  4.29s/it]\n"
     ]
    },
    {
     "name": "stdout",
     "output_type": "stream",
     "text": [
      "training (log loss) : 0.8410185790794004\n",
      "training (accuracy) : 0.9766666666666667\n",
      "end training! (epoch : 363)\n",
      "==================================================\n",
      "start validation! (epoch : 363)\n"
     ]
    },
    {
     "name": "stderr",
     "output_type": "stream",
     "text": [
      "100%|█████████████████████████████████████████████████████████████████████████████████| 2/2 [00:02<00:00,  1.21s/it]\n"
     ]
    },
    {
     "name": "stdout",
     "output_type": "stream",
     "text": [
      "validation (log loss) : 1.3065824353554967\n",
      "validation (accuracy) : 0.96375\n",
      "validation best accuracy :  0.965\n",
      "end validation! (epoch : 363)\n",
      "==================================================\n",
      "start training! (epoch : 364)\n"
     ]
    },
    {
     "name": "stderr",
     "output_type": "stream",
     "text": [
      "100%|█████████████████████████████████████████████████████████████████████████████████| 5/5 [00:19<00:00,  3.98s/it]\n"
     ]
    },
    {
     "name": "stdout",
     "output_type": "stream",
     "text": [
      "training (log loss) : 0.6608003121338147\n",
      "training (accuracy) : 0.9816666666666667\n",
      "end training! (epoch : 364)\n",
      "==================================================\n",
      "start validation! (epoch : 364)\n"
     ]
    },
    {
     "name": "stderr",
     "output_type": "stream",
     "text": [
      "100%|█████████████████████████████████████████████████████████████████████████████████| 2/2 [00:02<00:00,  1.20s/it]\n"
     ]
    },
    {
     "name": "stdout",
     "output_type": "stream",
     "text": [
      "validation (log loss) : 1.8922918029286506\n",
      "validation (accuracy) : 0.9475\n",
      "validation best accuracy :  0.965\n",
      "end validation! (epoch : 364)\n",
      "==================================================\n",
      "start training! (epoch : 365)\n"
     ]
    },
    {
     "name": "stderr",
     "output_type": "stream",
     "text": [
      "100%|█████████████████████████████████████████████████████████████████████████████████| 5/5 [00:19<00:00,  3.81s/it]\n"
     ]
    },
    {
     "name": "stdout",
     "output_type": "stream",
     "text": [
      "training (log loss) : 0.9761822792885899\n",
      "training (accuracy) : 0.9729166666666667\n",
      "end training! (epoch : 365)\n",
      "==================================================\n",
      "start validation! (epoch : 365)\n"
     ]
    },
    {
     "name": "stderr",
     "output_type": "stream",
     "text": [
      "100%|█████████████████████████████████████████████████████████████████████████████████| 2/2 [00:02<00:00,  1.20s/it]\n"
     ]
    },
    {
     "name": "stdout",
     "output_type": "stream",
     "text": [
      "validation (log loss) : 1.5769098357738756\n",
      "validation (accuracy) : 0.95625\n",
      "validation best accuracy :  0.965\n",
      "end validation! (epoch : 365)\n",
      "==================================================\n",
      "start training! (epoch : 366)\n"
     ]
    },
    {
     "name": "stderr",
     "output_type": "stream",
     "text": [
      "100%|█████████████████████████████████████████████████████████████████████████████████| 5/5 [00:20<00:00,  4.14s/it]\n"
     ]
    },
    {
     "name": "stdout",
     "output_type": "stream",
     "text": [
      "training (log loss) : 0.705854878870211\n",
      "training (accuracy) : 0.9804166666666667\n",
      "end training! (epoch : 366)\n",
      "==================================================\n",
      "start validation! (epoch : 366)\n"
     ]
    },
    {
     "name": "stderr",
     "output_type": "stream",
     "text": [
      "100%|█████████████████████████████████████████████████████████████████████████████████| 2/2 [00:02<00:00,  1.23s/it]\n"
     ]
    },
    {
     "name": "stdout",
     "output_type": "stream",
     "text": [
      "validation (log loss) : 4.956002341003608\n",
      "validation (accuracy) : 0.8625\n",
      "validation best accuracy :  0.965\n",
      "end validation! (epoch : 366)\n",
      "==================================================\n",
      "start training! (epoch : 367)\n"
     ]
    },
    {
     "name": "stderr",
     "output_type": "stream",
     "text": [
      "100%|█████████████████████████████████████████████████████████████████████████████████| 5/5 [00:18<00:00,  3.79s/it]\n"
     ]
    },
    {
     "name": "stdout",
     "output_type": "stream",
     "text": [
      "training (log loss) : 0.7809458234308718\n",
      "training (accuracy) : 0.9783333333333334\n",
      "end training! (epoch : 367)\n",
      "==================================================\n",
      "start validation! (epoch : 367)\n"
     ]
    },
    {
     "name": "stderr",
     "output_type": "stream",
     "text": [
      "100%|█████████████████████████████████████████████████████████████████████████████████| 2/2 [00:02<00:00,  1.25s/it]\n"
     ]
    },
    {
     "name": "stdout",
     "output_type": "stream",
     "text": [
      "validation (log loss) : 2.2076737700834257\n",
      "validation (accuracy) : 0.93875\n",
      "validation best accuracy :  0.965\n",
      "end validation! (epoch : 367)\n",
      "==================================================\n",
      "start training! (epoch : 368)\n"
     ]
    },
    {
     "name": "stderr",
     "output_type": "stream",
     "text": [
      "100%|█████████████████████████████████████████████████████████████████████████████████| 5/5 [00:18<00:00,  3.75s/it]\n"
     ]
    },
    {
     "name": "stdout",
     "output_type": "stream",
     "text": [
      "training (log loss) : 0.5706911786610218\n",
      "training (accuracy) : 0.9841666666666666\n",
      "end training! (epoch : 368)\n",
      "==================================================\n",
      "start validation! (epoch : 368)\n"
     ]
    },
    {
     "name": "stderr",
     "output_type": "stream",
     "text": [
      "100%|█████████████████████████████████████████████████████████████████████████████████| 2/2 [00:02<00:00,  1.21s/it]\n"
     ]
    },
    {
     "name": "stdout",
     "output_type": "stream",
     "text": [
      "validation (log loss) : 2.0725100698742365\n",
      "validation (accuracy) : 0.9425\n",
      "validation best accuracy :  0.965\n",
      "end validation! (epoch : 368)\n",
      "==================================================\n",
      "start training! (epoch : 369)\n"
     ]
    },
    {
     "name": "stderr",
     "output_type": "stream",
     "text": [
      "100%|█████████████████████████████████████████████████████████████████████████████████| 5/5 [00:21<00:00,  4.36s/it]\n"
     ]
    },
    {
     "name": "stdout",
     "output_type": "stream",
     "text": [
      "training (log loss) : 0.7659276345187397\n",
      "training (accuracy) : 0.97875\n",
      "end training! (epoch : 369)\n",
      "==================================================\n",
      "start validation! (epoch : 369)\n"
     ]
    },
    {
     "name": "stderr",
     "output_type": "stream",
     "text": [
      "100%|█████████████████████████████████████████████████████████████████████████████████| 2/2 [00:02<00:00,  1.23s/it]\n"
     ]
    },
    {
     "name": "stdout",
     "output_type": "stream",
     "text": [
      "validation (log loss) : 1.3516370020918935\n",
      "validation (accuracy) : 0.9625\n",
      "validation best accuracy :  0.965\n",
      "end validation! (epoch : 369)\n",
      "==================================================\n",
      "start training! (epoch : 370)\n"
     ]
    },
    {
     "name": "stderr",
     "output_type": "stream",
     "text": [
      "100%|█████████████████████████████████████████████████████████████████████████████████| 5/5 [00:18<00:00,  3.69s/it]\n"
     ]
    },
    {
     "name": "stdout",
     "output_type": "stream",
     "text": [
      "training (log loss) : 0.5706911786610218\n",
      "training (accuracy) : 0.9841666666666666\n",
      "end training! (epoch : 370)\n",
      "==================================================\n",
      "start validation! (epoch : 370)\n"
     ]
    },
    {
     "name": "stderr",
     "output_type": "stream",
     "text": [
      "100%|█████████████████████████████████████████████████████████████████████████████████| 2/2 [00:02<00:00,  1.21s/it]\n"
     ]
    },
    {
     "name": "stdout",
     "output_type": "stream",
     "text": [
      "validation (log loss) : 1.4417461355646861\n",
      "validation (accuracy) : 0.96\n",
      "validation best accuracy :  0.965\n",
      "end validation! (epoch : 370)\n",
      "==================================================\n",
      "start training! (epoch : 371)\n"
     ]
    },
    {
     "name": "stderr",
     "output_type": "stream",
     "text": [
      "100%|█████████████████████████████████████████████████████████████████████████████████| 5/5 [00:18<00:00,  3.62s/it]\n"
     ]
    },
    {
     "name": "stdout",
     "output_type": "stream",
     "text": [
      "training (log loss) : 0.6758185010459469\n",
      "training (accuracy) : 0.98125\n",
      "end training! (epoch : 371)\n",
      "==================================================\n",
      "start validation! (epoch : 371)\n"
     ]
    },
    {
     "name": "stderr",
     "output_type": "stream",
     "text": [
      "100%|█████████████████████████████████████████████████████████████████████████████████| 2/2 [00:02<00:00,  1.20s/it]\n"
     ]
    },
    {
     "name": "stdout",
     "output_type": "stream",
     "text": [
      "validation (log loss) : 1.8922918029286506\n",
      "validation (accuracy) : 0.9475\n",
      "validation best accuracy :  0.965\n",
      "end validation! (epoch : 371)\n",
      "==================================================\n",
      "start training! (epoch : 372)\n"
     ]
    },
    {
     "name": "stderr",
     "output_type": "stream",
     "text": [
      "100%|█████████████████████████████████████████████████████████████████████████████████| 5/5 [00:18<00:00,  3.79s/it]\n"
     ]
    },
    {
     "name": "stdout",
     "output_type": "stream",
     "text": [
      "training (log loss) : 0.8410185790794005\n",
      "training (accuracy) : 0.9766666666666667\n",
      "end training! (epoch : 372)\n",
      "==================================================\n",
      "start validation! (epoch : 372)\n"
     ]
    },
    {
     "name": "stderr",
     "output_type": "stream",
     "text": [
      "100%|█████████████████████████████████████████████████████████████████████████████████| 2/2 [00:02<00:00,  1.23s/it]\n"
     ]
    },
    {
     "name": "stdout",
     "output_type": "stream",
     "text": [
      "validation (log loss) : 1.4417461355646861\n",
      "validation (accuracy) : 0.96\n",
      "validation best accuracy :  0.965\n",
      "end validation! (epoch : 372)\n",
      "==================================================\n",
      "start training! (epoch : 373)\n"
     ]
    },
    {
     "name": "stderr",
     "output_type": "stream",
     "text": [
      "100%|█████████████████████████████████████████████████████████████████████████████████| 5/5 [00:20<00:00,  4.17s/it]\n"
     ]
    },
    {
     "name": "stdout",
     "output_type": "stream",
     "text": [
      "training (log loss) : 0.5556729897488896\n",
      "training (accuracy) : 0.9845833333333334\n",
      "end training! (epoch : 373)\n",
      "==================================================\n",
      "start validation! (epoch : 373)\n"
     ]
    },
    {
     "name": "stderr",
     "output_type": "stream",
     "text": [
      "100%|█████████████████████████████████████████████████████████████████████████████████| 2/2 [00:02<00:00,  1.23s/it]\n"
     ]
    },
    {
     "name": "stdout",
     "output_type": "stream",
     "text": [
      "validation (log loss) : 1.6670189692466684\n",
      "validation (accuracy) : 0.95375\n",
      "validation best accuracy :  0.965\n",
      "end validation! (epoch : 373)\n",
      "==================================================\n",
      "start training! (epoch : 374)\n"
     ]
    },
    {
     "name": "stderr",
     "output_type": "stream",
     "text": [
      "100%|█████████████████████████████████████████████████████████████████████████████████| 5/5 [00:18<00:00,  3.78s/it]\n"
     ]
    },
    {
     "name": "stdout",
     "output_type": "stream",
     "text": [
      "training (log loss) : 0.7208730677823434\n",
      "training (accuracy) : 0.98\n",
      "end training! (epoch : 374)\n",
      "==================================================\n",
      "start validation! (epoch : 374)\n"
     ]
    },
    {
     "name": "stderr",
     "output_type": "stream",
     "text": [
      "100%|█████████████████████████████████████████████████████████████████████████████████| 2/2 [00:02<00:00,  1.23s/it]\n"
     ]
    },
    {
     "name": "stdout",
     "output_type": "stream",
     "text": [
      "validation (log loss) : 2.2076737700834257\n",
      "validation (accuracy) : 0.93875\n",
      "validation best accuracy :  0.965\n",
      "end validation! (epoch : 374)\n",
      "==================================================\n",
      "start training! (epoch : 375)\n"
     ]
    },
    {
     "name": "stderr",
     "output_type": "stream",
     "text": [
      "100%|█████████████████████████████████████████████████████████████████████████████████| 5/5 [00:19<00:00,  3.99s/it]\n"
     ]
    },
    {
     "name": "stdout",
     "output_type": "stream",
     "text": [
      "training (log loss) : 0.6758185010459469\n",
      "training (accuracy) : 0.98125\n",
      "end training! (epoch : 375)\n",
      "==================================================\n",
      "start validation! (epoch : 375)\n"
     ]
    },
    {
     "name": "stderr",
     "output_type": "stream",
     "text": [
      "100%|█████████████████████████████████████████████████████████████████████████████████| 2/2 [00:02<00:00,  1.23s/it]\n"
     ]
    },
    {
     "name": "stdout",
     "output_type": "stream",
     "text": [
      "validation (log loss) : 1.5318552690374794\n",
      "validation (accuracy) : 0.9575\n",
      "validation best accuracy :  0.965\n",
      "end validation! (epoch : 375)\n",
      "==================================================\n",
      "start training! (epoch : 376)\n"
     ]
    },
    {
     "name": "stderr",
     "output_type": "stream",
     "text": [
      "100%|█████████████████████████████████████████████████████████████████████████████████| 5/5 [00:19<00:00,  3.83s/it]\n"
     ]
    },
    {
     "name": "stdout",
     "output_type": "stream",
     "text": [
      "training (log loss) : 0.5406548008367574\n",
      "training (accuracy) : 0.985\n",
      "end training! (epoch : 376)\n",
      "==================================================\n",
      "start validation! (epoch : 376)\n"
     ]
    },
    {
     "name": "stderr",
     "output_type": "stream",
     "text": [
      "100%|█████████████████████████████████████████████████████████████████████████████████| 2/2 [00:02<00:00,  1.21s/it]\n"
     ]
    },
    {
     "name": "stdout",
     "output_type": "stream",
     "text": [
      "validation (log loss) : 1.6219644025102717\n",
      "validation (accuracy) : 0.955\n",
      "validation best accuracy :  0.965\n",
      "end validation! (epoch : 376)\n",
      "==================================================\n",
      "start training! (epoch : 377)\n"
     ]
    },
    {
     "name": "stderr",
     "output_type": "stream",
     "text": [
      "100%|█████████████████████████████████████████████████████████████████████████████████| 5/5 [00:19<00:00,  3.95s/it]\n"
     ]
    },
    {
     "name": "stdout",
     "output_type": "stream",
     "text": [
      "training (log loss) : 0.5406548008367574\n",
      "training (accuracy) : 0.985\n",
      "end training! (epoch : 377)\n",
      "==================================================\n",
      "start validation! (epoch : 377)\n"
     ]
    },
    {
     "name": "stderr",
     "output_type": "stream",
     "text": [
      "100%|█████████████████████████████████████████████████████████████████████████████████| 2/2 [00:02<00:00,  1.22s/it]\n"
     ]
    },
    {
     "name": "stdout",
     "output_type": "stream",
     "text": [
      "validation (log loss) : 1.6670189692466681\n",
      "validation (accuracy) : 0.95375\n",
      "validation best accuracy :  0.965\n",
      "end validation! (epoch : 377)\n",
      "==================================================\n",
      "start training! (epoch : 378)\n"
     ]
    },
    {
     "name": "stderr",
     "output_type": "stream",
     "text": [
      "100%|█████████████████████████████████████████████████████████████████████████████████| 5/5 [00:19<00:00,  3.91s/it]\n"
     ]
    },
    {
     "name": "stdout",
     "output_type": "stream",
     "text": [
      "training (log loss) : 0.6307639343095505\n",
      "training (accuracy) : 0.9825\n",
      "end training! (epoch : 378)\n",
      "==================================================\n",
      "start validation! (epoch : 378)\n"
     ]
    },
    {
     "name": "stderr",
     "output_type": "stream",
     "text": [
      "100%|█████████████████████████████████████████████████████████████████████████████████| 2/2 [00:02<00:00,  1.22s/it]\n"
     ]
    },
    {
     "name": "stdout",
     "output_type": "stream",
     "text": [
      "validation (log loss) : 1.4868007023010825\n",
      "validation (accuracy) : 0.95875\n",
      "validation best accuracy :  0.965\n",
      "end validation! (epoch : 378)\n",
      "==================================================\n",
      "start training! (epoch : 379)\n"
     ]
    },
    {
     "name": "stderr",
     "output_type": "stream",
     "text": [
      "100%|█████████████████████████████████████████████████████████████████████████████████| 5/5 [00:18<00:00,  3.69s/it]\n"
     ]
    },
    {
     "name": "stdout",
     "output_type": "stream",
     "text": [
      "training (log loss) : 0.3754547228033039\n",
      "training (accuracy) : 0.9895833333333334\n",
      "end training! (epoch : 379)\n",
      "==================================================\n",
      "start validation! (epoch : 379)\n"
     ]
    },
    {
     "name": "stderr",
     "output_type": "stream",
     "text": [
      "100%|█████████████████████████████████████████████████████████████████████████████████| 2/2 [00:02<00:00,  1.21s/it]\n"
     ]
    },
    {
     "name": "stdout",
     "output_type": "stream",
     "text": [
      "validation (log loss) : 1.5769098357738756\n",
      "validation (accuracy) : 0.95625\n",
      "validation best accuracy :  0.965\n",
      "end validation! (epoch : 379)\n",
      "==================================================\n",
      "start training! (epoch : 380)\n"
     ]
    },
    {
     "name": "stderr",
     "output_type": "stream",
     "text": [
      "100%|█████████████████████████████████████████████████████████████████████████████████| 5/5 [00:20<00:00,  4.06s/it]\n"
     ]
    },
    {
     "name": "stdout",
     "output_type": "stream",
     "text": [
      "training (log loss) : 0.4505456673639646\n",
      "training (accuracy) : 0.9875\n",
      "end training! (epoch : 380)\n",
      "==================================================\n",
      "start validation! (epoch : 380)\n"
     ]
    },
    {
     "name": "stderr",
     "output_type": "stream",
     "text": [
      "100%|█████████████████████████████████████████████████████████████████████████████████| 2/2 [00:02<00:00,  1.19s/it]\n"
     ]
    },
    {
     "name": "stdout",
     "output_type": "stream",
     "text": [
      "validation (log loss) : 2.02745550313784\n",
      "validation (accuracy) : 0.94375\n",
      "validation best accuracy :  0.965\n",
      "end validation! (epoch : 380)\n",
      "==================================================\n",
      "start training! (epoch : 381)\n"
     ]
    },
    {
     "name": "stderr",
     "output_type": "stream",
     "text": [
      "100%|█████████████████████████████████████████████████████████████████████████████████| 5/5 [00:22<00:00,  4.41s/it]\n"
     ]
    },
    {
     "name": "stdout",
     "output_type": "stream",
     "text": [
      "training (log loss) : 0.5106184230124932\n",
      "training (accuracy) : 0.9858333333333333\n",
      "end training! (epoch : 381)\n",
      "==================================================\n",
      "start validation! (epoch : 381)\n"
     ]
    },
    {
     "name": "stderr",
     "output_type": "stream",
     "text": [
      "100%|█████████████████████████████████████████████████████████████████████████████████| 2/2 [00:02<00:00,  1.21s/it]\n"
     ]
    },
    {
     "name": "stdout",
     "output_type": "stream",
     "text": [
      "validation (log loss) : 1.712073535983065\n",
      "validation (accuracy) : 0.9525\n",
      "validation best accuracy :  0.965\n",
      "end validation! (epoch : 381)\n",
      "==================================================\n",
      "start training! (epoch : 382)\n"
     ]
    },
    {
     "name": "stderr",
     "output_type": "stream",
     "text": [
      "100%|█████████████████████████████████████████████████████████████████████████████████| 5/5 [00:21<00:00,  4.20s/it]\n"
     ]
    },
    {
     "name": "stdout",
     "output_type": "stream",
     "text": [
      "training (log loss) : 0.34541834497903956\n",
      "training (accuracy) : 0.9904166666666666\n",
      "end training! (epoch : 382)\n",
      "==================================================\n",
      "start validation! (epoch : 382)\n"
     ]
    },
    {
     "name": "stderr",
     "output_type": "stream",
     "text": [
      "100%|█████████████████████████████████████████████████████████████████████████████████| 2/2 [00:02<00:00,  1.26s/it]\n"
     ]
    },
    {
     "name": "stdout",
     "output_type": "stream",
     "text": [
      "validation (log loss) : 1.712073535983065\n",
      "validation (accuracy) : 0.9525\n",
      "validation best accuracy :  0.965\n",
      "end validation! (epoch : 382)\n",
      "==================================================\n",
      "start training! (epoch : 383)\n"
     ]
    },
    {
     "name": "stderr",
     "output_type": "stream",
     "text": [
      "100%|█████████████████████████████████████████████████████████████████████████████████| 5/5 [00:21<00:00,  4.37s/it]\n"
     ]
    },
    {
     "name": "stdout",
     "output_type": "stream",
     "text": [
      "training (log loss) : 0.390472911715436\n",
      "training (accuracy) : 0.9891666666666666\n",
      "end training! (epoch : 383)\n",
      "==================================================\n",
      "start validation! (epoch : 383)\n"
     ]
    },
    {
     "name": "stderr",
     "output_type": "stream",
     "text": [
      "100%|█████████████████████████████████████████████████████████████████████████████████| 2/2 [00:02<00:00,  1.24s/it]\n"
     ]
    },
    {
     "name": "stdout",
     "output_type": "stream",
     "text": [
      "validation (log loss) : 1.5769098357738756\n",
      "validation (accuracy) : 0.95625\n",
      "validation best accuracy :  0.965\n",
      "end validation! (epoch : 383)\n",
      "==================================================\n",
      "start training! (epoch : 384)\n"
     ]
    },
    {
     "name": "stderr",
     "output_type": "stream",
     "text": [
      "100%|█████████████████████████████████████████████████████████████████████████████████| 5/5 [00:18<00:00,  3.78s/it]\n"
     ]
    },
    {
     "name": "stdout",
     "output_type": "stream",
     "text": [
      "training (log loss) : 0.4805820451882289\n",
      "training (accuracy) : 0.9866666666666667\n",
      "end training! (epoch : 384)\n",
      "==================================================\n",
      "start validation! (epoch : 384)\n"
     ]
    },
    {
     "name": "stderr",
     "output_type": "stream",
     "text": [
      "100%|█████████████████████████████████████████████████████████████████████████████████| 2/2 [00:02<00:00,  1.22s/it]\n"
     ]
    },
    {
     "name": "stdout",
     "output_type": "stream",
     "text": [
      "validation (log loss) : 1.5769098357738756\n",
      "validation (accuracy) : 0.95625\n",
      "validation best accuracy :  0.965\n",
      "end validation! (epoch : 384)\n",
      "==================================================\n",
      "start training! (epoch : 385)\n"
     ]
    },
    {
     "name": "stderr",
     "output_type": "stream",
     "text": [
      "100%|█████████████████████████████████████████████████████████████████████████████████| 5/5 [00:17<00:00,  3.44s/it]\n"
     ]
    },
    {
     "name": "stdout",
     "output_type": "stream",
     "text": [
      "training (log loss) : 0.2703274004183788\n",
      "training (accuracy) : 0.9925\n",
      "end training! (epoch : 385)\n",
      "==================================================\n",
      "start validation! (epoch : 385)\n"
     ]
    },
    {
     "name": "stderr",
     "output_type": "stream",
     "text": [
      "100%|█████████████████████████████████████████████████████████████████████████████████| 2/2 [00:02<00:00,  1.20s/it]\n"
     ]
    },
    {
     "name": "stdout",
     "output_type": "stream",
     "text": [
      "validation (log loss) : 1.4868007023010827\n",
      "validation (accuracy) : 0.95875\n",
      "validation best accuracy :  0.965\n",
      "end validation! (epoch : 385)\n",
      "==================================================\n",
      "start training! (epoch : 386)\n"
     ]
    },
    {
     "name": "stderr",
     "output_type": "stream",
     "text": [
      "100%|█████████████████████████████████████████████████████████████████████████████████| 5/5 [00:18<00:00,  3.68s/it]\n"
     ]
    },
    {
     "name": "stdout",
     "output_type": "stream",
     "text": [
      "training (log loss) : 0.42050928953970035\n",
      "training (accuracy) : 0.9883333333333333\n",
      "end training! (epoch : 386)\n",
      "==================================================\n",
      "start validation! (epoch : 386)\n"
     ]
    },
    {
     "name": "stderr",
     "output_type": "stream",
     "text": [
      "100%|█████████████████████████████████████████████████████████████████████████████████| 2/2 [00:02<00:00,  1.23s/it]\n"
     ]
    },
    {
     "name": "stdout",
     "output_type": "stream",
     "text": [
      "validation (log loss) : 1.531855269037479\n",
      "validation (accuracy) : 0.9575\n",
      "validation best accuracy :  0.965\n",
      "end validation! (epoch : 386)\n",
      "==================================================\n",
      "start training! (epoch : 387)\n"
     ]
    },
    {
     "name": "stderr",
     "output_type": "stream",
     "text": [
      "100%|█████████████████████████████████████████████████████████████████████████████████| 5/5 [00:19<00:00,  3.90s/it]\n"
     ]
    },
    {
     "name": "stdout",
     "output_type": "stream",
     "text": [
      "training (log loss) : 0.4805820451882289\n",
      "training (accuracy) : 0.9866666666666667\n",
      "end training! (epoch : 387)\n",
      "==================================================\n",
      "start validation! (epoch : 387)\n"
     ]
    },
    {
     "name": "stderr",
     "output_type": "stream",
     "text": [
      "100%|█████████████████████████████████████████████████████████████████████████████████| 2/2 [00:02<00:00,  1.23s/it]\n"
     ]
    },
    {
     "name": "stdout",
     "output_type": "stream",
     "text": [
      "validation (log loss) : 1.6219644025102717\n",
      "validation (accuracy) : 0.955\n",
      "validation best accuracy :  0.965\n",
      "end validation! (epoch : 387)\n",
      "==================================================\n",
      "start training! (epoch : 388)\n"
     ]
    },
    {
     "name": "stderr",
     "output_type": "stream",
     "text": [
      "100%|█████████████████████████████████████████████████████████████████████████████████| 5/5 [00:18<00:00,  3.74s/it]\n"
     ]
    },
    {
     "name": "stdout",
     "output_type": "stream",
     "text": [
      "training (log loss) : 0.36043653389117175\n",
      "training (accuracy) : 0.99\n",
      "end training! (epoch : 388)\n",
      "==================================================\n",
      "start validation! (epoch : 388)\n"
     ]
    },
    {
     "name": "stderr",
     "output_type": "stream",
     "text": [
      "100%|█████████████████████████████████████████████████████████████████████████████████| 2/2 [00:02<00:00,  1.22s/it]\n"
     ]
    },
    {
     "name": "stdout",
     "output_type": "stream",
     "text": [
      "validation (log loss) : 1.5769098357738756\n",
      "validation (accuracy) : 0.95625\n",
      "validation best accuracy :  0.965\n",
      "end validation! (epoch : 388)\n",
      "==================================================\n",
      "start training! (epoch : 389)\n"
     ]
    },
    {
     "name": "stderr",
     "output_type": "stream",
     "text": [
      "100%|█████████████████████████████████████████████████████████████████████████████████| 5/5 [00:20<00:00,  4.08s/it]\n"
     ]
    },
    {
     "name": "stdout",
     "output_type": "stream",
     "text": [
      "training (log loss) : 0.2703274004183788\n",
      "training (accuracy) : 0.9925\n",
      "end training! (epoch : 389)\n",
      "==================================================\n",
      "start validation! (epoch : 389)\n"
     ]
    },
    {
     "name": "stderr",
     "output_type": "stream",
     "text": [
      "100%|█████████████████████████████████████████████████████████████████████████████████| 2/2 [00:02<00:00,  1.21s/it]\n"
     ]
    },
    {
     "name": "stdout",
     "output_type": "stream",
     "text": [
      "validation (log loss) : 1.5318552690374794\n",
      "validation (accuracy) : 0.9575\n",
      "validation best accuracy :  0.965\n",
      "end validation! (epoch : 389)\n",
      "==================================================\n",
      "start training! (epoch : 390)\n"
     ]
    },
    {
     "name": "stderr",
     "output_type": "stream",
     "text": [
      "100%|█████████████████████████████████████████████████████████████████████████████████| 5/5 [00:17<00:00,  3.49s/it]\n"
     ]
    },
    {
     "name": "stdout",
     "output_type": "stream",
     "text": [
      "training (log loss) : 0.4205092895397003\n",
      "training (accuracy) : 0.9883333333333333\n",
      "end training! (epoch : 390)\n",
      "==================================================\n",
      "start validation! (epoch : 390)\n"
     ]
    },
    {
     "name": "stderr",
     "output_type": "stream",
     "text": [
      "100%|█████████████████████████████████████████████████████████████████████████████████| 2/2 [00:02<00:00,  1.21s/it]\n"
     ]
    },
    {
     "name": "stdout",
     "output_type": "stream",
     "text": [
      "validation (log loss) : 1.4417461355646861\n",
      "validation (accuracy) : 0.96\n",
      "validation best accuracy :  0.965\n",
      "end validation! (epoch : 390)\n",
      "==================================================\n",
      "start training! (epoch : 391)\n"
     ]
    },
    {
     "name": "stderr",
     "output_type": "stream",
     "text": [
      "100%|█████████████████████████████████████████████████████████████████████████████████| 5/5 [00:20<00:00,  4.04s/it]\n"
     ]
    },
    {
     "name": "stdout",
     "output_type": "stream",
     "text": [
      "training (log loss) : 0.4205092895397003\n",
      "training (accuracy) : 0.9883333333333333\n",
      "end training! (epoch : 391)\n",
      "==================================================\n",
      "start validation! (epoch : 391)\n"
     ]
    },
    {
     "name": "stderr",
     "output_type": "stream",
     "text": [
      "100%|█████████████████████████████████████████████████████████████████████████████████| 2/2 [00:02<00:00,  1.21s/it]\n"
     ]
    },
    {
     "name": "stdout",
     "output_type": "stream",
     "text": [
      "validation (log loss) : 1.4417461355646861\n",
      "validation (accuracy) : 0.96\n",
      "validation best accuracy :  0.965\n",
      "end validation! (epoch : 391)\n",
      "==================================================\n",
      "start training! (epoch : 392)\n"
     ]
    },
    {
     "name": "stderr",
     "output_type": "stream",
     "text": [
      "100%|█████████████████████████████████████████████████████████████████████████████████| 5/5 [00:19<00:00,  3.81s/it]\n"
     ]
    },
    {
     "name": "stdout",
     "output_type": "stream",
     "text": [
      "training (log loss) : 0.28534558933051096\n",
      "training (accuracy) : 0.9920833333333333\n",
      "end training! (epoch : 392)\n",
      "==================================================\n",
      "start validation! (epoch : 392)\n"
     ]
    },
    {
     "name": "stderr",
     "output_type": "stream",
     "text": [
      "100%|█████████████████████████████████████████████████████████████████████████████████| 2/2 [00:02<00:00,  1.22s/it]\n"
     ]
    },
    {
     "name": "stdout",
     "output_type": "stream",
     "text": [
      "validation (log loss) : 1.4417461355646861\n",
      "validation (accuracy) : 0.96\n",
      "validation best accuracy :  0.965\n",
      "end validation! (epoch : 392)\n",
      "==================================================\n",
      "start training! (epoch : 393)\n"
     ]
    },
    {
     "name": "stderr",
     "output_type": "stream",
     "text": [
      "100%|█████████████████████████████████████████████████████████████████████████████████| 5/5 [00:19<00:00,  3.86s/it]\n"
     ]
    },
    {
     "name": "stdout",
     "output_type": "stream",
     "text": [
      "training (log loss) : 0.28534558933051096\n",
      "training (accuracy) : 0.9920833333333333\n",
      "end training! (epoch : 393)\n",
      "==================================================\n",
      "start validation! (epoch : 393)\n"
     ]
    },
    {
     "name": "stderr",
     "output_type": "stream",
     "text": [
      "100%|█████████████████████████████████████████████████████████████████████████████████| 2/2 [00:02<00:00,  1.20s/it]\n"
     ]
    },
    {
     "name": "stdout",
     "output_type": "stream",
     "text": [
      "validation (log loss) : 1.3516370020918933\n",
      "validation (accuracy) : 0.9625\n",
      "validation best accuracy :  0.965\n",
      "end validation! (epoch : 393)\n",
      "==================================================\n",
      "start training! (epoch : 394)\n"
     ]
    },
    {
     "name": "stderr",
     "output_type": "stream",
     "text": [
      "100%|█████████████████████████████████████████████████████████████████████████████████| 5/5 [00:17<00:00,  3.52s/it]\n"
     ]
    },
    {
     "name": "stdout",
     "output_type": "stream",
     "text": [
      "training (log loss) : 0.40549110062756816\n",
      "training (accuracy) : 0.98875\n",
      "end training! (epoch : 394)\n",
      "==================================================\n",
      "start validation! (epoch : 394)\n"
     ]
    },
    {
     "name": "stderr",
     "output_type": "stream",
     "text": [
      "100%|█████████████████████████████████████████████████████████████████████████████████| 2/2 [00:02<00:00,  1.32s/it]\n"
     ]
    },
    {
     "name": "stdout",
     "output_type": "stream",
     "text": [
      "validation (log loss) : 1.4417461355646861\n",
      "validation (accuracy) : 0.96\n",
      "validation best accuracy :  0.965\n",
      "end validation! (epoch : 394)\n",
      "==================================================\n",
      "start training! (epoch : 395)\n"
     ]
    },
    {
     "name": "stderr",
     "output_type": "stream",
     "text": [
      "100%|█████████████████████████████████████████████████████████████████████████████████| 5/5 [00:19<00:00,  3.82s/it]\n"
     ]
    },
    {
     "name": "stdout",
     "output_type": "stream",
     "text": [
      "training (log loss) : 0.43552747845183243\n",
      "training (accuracy) : 0.9879166666666667\n",
      "end training! (epoch : 395)\n",
      "==================================================\n",
      "start validation! (epoch : 395)\n"
     ]
    },
    {
     "name": "stderr",
     "output_type": "stream",
     "text": [
      "100%|█████████████████████████████████████████████████████████████████████████████████| 2/2 [00:02<00:00,  1.20s/it]\n"
     ]
    },
    {
     "name": "stdout",
     "output_type": "stream",
     "text": [
      "validation (log loss) : 1.4417461355646861\n",
      "validation (accuracy) : 0.96\n",
      "validation best accuracy :  0.965\n",
      "end validation! (epoch : 395)\n",
      "==================================================\n",
      "start training! (epoch : 396)\n"
     ]
    },
    {
     "name": "stderr",
     "output_type": "stream",
     "text": [
      "100%|█████████████████████████████████████████████████████████████████████████████████| 5/5 [00:20<00:00,  4.06s/it]\n"
     ]
    },
    {
     "name": "stdout",
     "output_type": "stream",
     "text": [
      "training (log loss) : 0.34541834497903956\n",
      "training (accuracy) : 0.9904166666666666\n",
      "end training! (epoch : 396)\n",
      "==================================================\n",
      "start validation! (epoch : 396)\n"
     ]
    },
    {
     "name": "stderr",
     "output_type": "stream",
     "text": [
      "100%|█████████████████████████████████████████████████████████████████████████████████| 2/2 [00:02<00:00,  1.23s/it]\n"
     ]
    },
    {
     "name": "stdout",
     "output_type": "stream",
     "text": [
      "validation (log loss) : 1.4417461355646861\n",
      "validation (accuracy) : 0.96\n",
      "validation best accuracy :  0.965\n",
      "end validation! (epoch : 396)\n",
      "==================================================\n",
      "start training! (epoch : 397)\n"
     ]
    },
    {
     "name": "stderr",
     "output_type": "stream",
     "text": [
      "100%|█████████████████████████████████████████████████████████████████████████████████| 5/5 [00:21<00:00,  4.34s/it]\n"
     ]
    },
    {
     "name": "stdout",
     "output_type": "stream",
     "text": [
      "training (log loss) : 0.3003637782426431\n",
      "training (accuracy) : 0.9916666666666667\n",
      "end training! (epoch : 397)\n",
      "==================================================\n",
      "start validation! (epoch : 397)\n"
     ]
    },
    {
     "name": "stderr",
     "output_type": "stream",
     "text": [
      "100%|█████████████████████████████████████████████████████████████████████████████████| 2/2 [00:02<00:00,  1.22s/it]\n"
     ]
    },
    {
     "name": "stdout",
     "output_type": "stream",
     "text": [
      "validation (log loss) : 1.4417461355646861\n",
      "validation (accuracy) : 0.96\n",
      "validation best accuracy :  0.965\n",
      "end validation! (epoch : 397)\n",
      "==================================================\n",
      "start training! (epoch : 398)\n"
     ]
    },
    {
     "name": "stderr",
     "output_type": "stream",
     "text": [
      "100%|█████████████████████████████████████████████████████████████████████████████████| 5/5 [00:19<00:00,  3.83s/it]\n"
     ]
    },
    {
     "name": "stdout",
     "output_type": "stream",
     "text": [
      "training (log loss) : 0.390472911715436\n",
      "training (accuracy) : 0.9891666666666666\n",
      "end training! (epoch : 398)\n",
      "==================================================\n",
      "start validation! (epoch : 398)\n"
     ]
    },
    {
     "name": "stderr",
     "output_type": "stream",
     "text": [
      "100%|█████████████████████████████████████████████████████████████████████████████████| 2/2 [00:02<00:00,  1.22s/it]\n"
     ]
    },
    {
     "name": "stdout",
     "output_type": "stream",
     "text": [
      "validation (log loss) : 1.4417461355646861\n",
      "validation (accuracy) : 0.96\n",
      "validation best accuracy :  0.965\n",
      "end validation! (epoch : 398)\n",
      "==================================================\n",
      "start training! (epoch : 399)\n"
     ]
    },
    {
     "name": "stderr",
     "output_type": "stream",
     "text": [
      "100%|█████████████████████████████████████████████████████████████████████████████████| 5/5 [00:18<00:00,  3.79s/it]\n"
     ]
    },
    {
     "name": "stdout",
     "output_type": "stream",
     "text": [
      "training (log loss) : 0.33040015606690737\n",
      "training (accuracy) : 0.9908333333333333\n",
      "end training! (epoch : 399)\n",
      "==================================================\n",
      "start validation! (epoch : 399)\n"
     ]
    },
    {
     "name": "stderr",
     "output_type": "stream",
     "text": [
      "100%|█████████████████████████████████████████████████████████████████████████████████| 2/2 [00:02<00:00,  1.21s/it]\n"
     ]
    },
    {
     "name": "stdout",
     "output_type": "stream",
     "text": [
      "validation (log loss) : 1.39669156882829\n",
      "validation (accuracy) : 0.96125\n",
      "validation best accuracy :  0.965\n",
      "end validation! (epoch : 399)\n",
      "==================================================\n",
      "start training! (epoch : 400)\n"
     ]
    },
    {
     "name": "stderr",
     "output_type": "stream",
     "text": [
      "100%|█████████████████████████████████████████████████████████████████████████████████| 5/5 [00:21<00:00,  4.25s/it]\n"
     ]
    },
    {
     "name": "stdout",
     "output_type": "stream",
     "text": [
      "training (log loss) : 0.3754547228033039\n",
      "training (accuracy) : 0.9895833333333334\n",
      "end training! (epoch : 400)\n",
      "==================================================\n",
      "start validation! (epoch : 400)\n"
     ]
    },
    {
     "name": "stderr",
     "output_type": "stream",
     "text": [
      "100%|█████████████████████████████████████████████████████████████████████████████████| 2/2 [00:02<00:00,  1.21s/it]\n"
     ]
    },
    {
     "name": "stdout",
     "output_type": "stream",
     "text": [
      "validation (log loss) : 1.4417461355646861\n",
      "validation (accuracy) : 0.96\n",
      "validation best accuracy :  0.965\n",
      "end validation! (epoch : 400)\n",
      "==================================================\n",
      "start training! (epoch : 401)\n"
     ]
    },
    {
     "name": "stderr",
     "output_type": "stream",
     "text": [
      "100%|█████████████████████████████████████████████████████████████████████████████████| 5/5 [00:18<00:00,  3.77s/it]\n"
     ]
    },
    {
     "name": "stdout",
     "output_type": "stream",
     "text": [
      "training (log loss) : 0.4655638562760968\n",
      "training (accuracy) : 0.9870833333333333\n",
      "end training! (epoch : 401)\n",
      "==================================================\n",
      "start validation! (epoch : 401)\n"
     ]
    },
    {
     "name": "stderr",
     "output_type": "stream",
     "text": [
      "100%|█████████████████████████████████████████████████████████████████████████████████| 2/2 [00:02<00:00,  1.22s/it]\n"
     ]
    },
    {
     "name": "stdout",
     "output_type": "stream",
     "text": [
      "validation (log loss) : 2.2977829035562185\n",
      "validation (accuracy) : 0.93625\n",
      "validation best accuracy :  0.965\n",
      "end validation! (epoch : 401)\n",
      "==================================================\n",
      "start training! (epoch : 402)\n"
     ]
    },
    {
     "name": "stderr",
     "output_type": "stream",
     "text": [
      "100%|█████████████████████████████████████████████████████████████████████████████████| 5/5 [00:18<00:00,  3.69s/it]\n"
     ]
    },
    {
     "name": "stdout",
     "output_type": "stream",
     "text": [
      "training (log loss) : 0.42050928953970035\n",
      "training (accuracy) : 0.9883333333333333\n",
      "end training! (epoch : 402)\n",
      "==================================================\n",
      "start validation! (epoch : 402)\n"
     ]
    },
    {
     "name": "stderr",
     "output_type": "stream",
     "text": [
      "100%|█████████████████████████████████████████████████████████████████████████████████| 2/2 [00:02<00:00,  1.21s/it]\n"
     ]
    },
    {
     "name": "stdout",
     "output_type": "stream",
     "text": [
      "validation (log loss) : 1.4868007023010825\n",
      "validation (accuracy) : 0.95875\n",
      "validation best accuracy :  0.965\n",
      "end validation! (epoch : 402)\n",
      "==================================================\n",
      "start training! (epoch : 403)\n"
     ]
    },
    {
     "name": "stderr",
     "output_type": "stream",
     "text": [
      "100%|█████████████████████████████████████████████████████████████████████████████████| 5/5 [00:19<00:00,  3.87s/it]\n"
     ]
    },
    {
     "name": "stdout",
     "output_type": "stream",
     "text": [
      "training (log loss) : 0.6157457453974182\n",
      "training (accuracy) : 0.9829166666666667\n",
      "end training! (epoch : 403)\n",
      "==================================================\n",
      "start validation! (epoch : 403)\n"
     ]
    },
    {
     "name": "stderr",
     "output_type": "stream",
     "text": [
      "100%|█████████████████████████████████████████████████████████████████████████████████| 2/2 [00:02<00:00,  1.21s/it]\n"
     ]
    },
    {
     "name": "stdout",
     "output_type": "stream",
     "text": [
      "validation (log loss) : 1.3065824353554967\n",
      "validation (accuracy) : 0.96375\n",
      "validation best accuracy :  0.965\n",
      "end validation! (epoch : 403)\n",
      "==================================================\n",
      "start training! (epoch : 404)\n"
     ]
    },
    {
     "name": "stderr",
     "output_type": "stream",
     "text": [
      "100%|█████████████████████████████████████████████████████████████████████████████████| 5/5 [00:18<00:00,  3.74s/it]\n"
     ]
    },
    {
     "name": "stdout",
     "output_type": "stream",
     "text": [
      "training (log loss) : 0.5106184230124933\n",
      "training (accuracy) : 0.9858333333333333\n",
      "end training! (epoch : 404)\n",
      "==================================================\n",
      "start validation! (epoch : 404)\n"
     ]
    },
    {
     "name": "stderr",
     "output_type": "stream",
     "text": [
      "100%|█████████████████████████████████████████████████████████████████████████████████| 2/2 [00:02<00:00,  1.21s/it]\n"
     ]
    },
    {
     "name": "stdout",
     "output_type": "stream",
     "text": [
      "validation (log loss) : 1.6219644025102717\n",
      "validation (accuracy) : 0.955\n",
      "validation best accuracy :  0.965\n",
      "end validation! (epoch : 404)\n",
      "==================================================\n",
      "start training! (epoch : 405)\n"
     ]
    },
    {
     "name": "stderr",
     "output_type": "stream",
     "text": [
      "100%|█████████████████████████████████████████████████████████████████████████████████| 5/5 [00:19<00:00,  3.82s/it]\n"
     ]
    },
    {
     "name": "stdout",
     "output_type": "stream",
     "text": [
      "training (log loss) : 0.5706911786610217\n",
      "training (accuracy) : 0.9841666666666666\n",
      "end training! (epoch : 405)\n",
      "==================================================\n",
      "start validation! (epoch : 405)\n"
     ]
    },
    {
     "name": "stderr",
     "output_type": "stream",
     "text": [
      "100%|█████████████████████████████████████████████████████████████████████████████████| 2/2 [00:02<00:00,  1.26s/it]\n"
     ]
    },
    {
     "name": "stdout",
     "output_type": "stream",
     "text": [
      "validation (log loss) : 1.6670189692466681\n",
      "validation (accuracy) : 0.95375\n",
      "validation best accuracy :  0.965\n",
      "end validation! (epoch : 405)\n",
      "==================================================\n",
      "start training! (epoch : 406)\n"
     ]
    },
    {
     "name": "stderr",
     "output_type": "stream",
     "text": [
      "100%|█████████████████████████████████████████████████████████████████████████████████| 5/5 [00:20<00:00,  4.04s/it]\n"
     ]
    },
    {
     "name": "stdout",
     "output_type": "stream",
     "text": [
      "training (log loss) : 0.7659276345187397\n",
      "training (accuracy) : 0.97875\n",
      "end training! (epoch : 406)\n",
      "==================================================\n",
      "start validation! (epoch : 406)\n"
     ]
    },
    {
     "name": "stderr",
     "output_type": "stream",
     "text": [
      "100%|█████████████████████████████████████████████████████████████████████████████████| 2/2 [00:02<00:00,  1.20s/it]\n"
     ]
    },
    {
     "name": "stdout",
     "output_type": "stream",
     "text": [
      "validation (log loss) : 2.3428374702926145\n",
      "validation (accuracy) : 0.935\n",
      "validation best accuracy :  0.965\n",
      "end validation! (epoch : 406)\n",
      "==================================================\n",
      "start training! (epoch : 407)\n"
     ]
    },
    {
     "name": "stderr",
     "output_type": "stream",
     "text": [
      "100%|█████████████████████████████████████████████████████████████████████████████████| 5/5 [00:17<00:00,  3.48s/it]\n"
     ]
    },
    {
     "name": "stdout",
     "output_type": "stream",
     "text": [
      "training (log loss) : 1.021236846024986\n",
      "training (accuracy) : 0.9716666666666667\n",
      "end training! (epoch : 407)\n",
      "==================================================\n",
      "start validation! (epoch : 407)\n"
     ]
    },
    {
     "name": "stderr",
     "output_type": "stream",
     "text": [
      "100%|█████████████████████████████████████████████████████████████████████████████████| 2/2 [00:02<00:00,  1.22s/it]\n"
     ]
    },
    {
     "name": "stdout",
     "output_type": "stream",
     "text": [
      "validation (log loss) : 1.7571281027194612\n",
      "validation (accuracy) : 0.95125\n",
      "validation best accuracy :  0.965\n",
      "end validation! (epoch : 407)\n",
      "==================================================\n",
      "start training! (epoch : 408)\n"
     ]
    },
    {
     "name": "stderr",
     "output_type": "stream",
     "text": [
      "100%|█████████████████████████████████████████████████████████████████████████████████| 5/5 [00:18<00:00,  3.69s/it]\n"
     ]
    },
    {
     "name": "stdout",
     "output_type": "stream",
     "text": [
      "training (log loss) : 0.7809458234308719\n",
      "training (accuracy) : 0.9783333333333334\n",
      "end training! (epoch : 408)\n",
      "==================================================\n",
      "start validation! (epoch : 408)\n"
     ]
    },
    {
     "name": "stderr",
     "output_type": "stream",
     "text": [
      "100%|█████████████████████████████████████████████████████████████████████████████████| 2/2 [00:02<00:00,  1.21s/it]\n"
     ]
    },
    {
     "name": "stdout",
     "output_type": "stream",
     "text": [
      "validation (log loss) : 1.8922918029286504\n",
      "validation (accuracy) : 0.9475\n",
      "validation best accuracy :  0.965\n",
      "end validation! (epoch : 408)\n",
      "==================================================\n",
      "start training! (epoch : 409)\n"
     ]
    },
    {
     "name": "stderr",
     "output_type": "stream",
     "text": [
      "100%|█████████████████████████████████████████████████████████████████████████████████| 5/5 [00:21<00:00,  4.35s/it]\n"
     ]
    },
    {
     "name": "stdout",
     "output_type": "stream",
     "text": [
      "training (log loss) : 0.9761822792885899\n",
      "training (accuracy) : 0.9729166666666667\n",
      "end training! (epoch : 409)\n",
      "==================================================\n",
      "start validation! (epoch : 409)\n"
     ]
    },
    {
     "name": "stderr",
     "output_type": "stream",
     "text": [
      "100%|█████████████████████████████████████████████████████████████████████████████████| 2/2 [00:02<00:00,  1.19s/it]\n"
     ]
    },
    {
     "name": "stdout",
     "output_type": "stream",
     "text": [
      "validation (log loss) : 2.4329466037654077\n",
      "validation (accuracy) : 0.9325\n",
      "validation best accuracy :  0.965\n",
      "end validation! (epoch : 409)\n",
      "==================================================\n",
      "start training! (epoch : 410)\n"
     ]
    },
    {
     "name": "stderr",
     "output_type": "stream",
     "text": [
      "100%|█████████████████████████████████████████████████████████████████████████████████| 5/5 [00:17<00:00,  3.59s/it]\n"
     ]
    },
    {
     "name": "stdout",
     "output_type": "stream",
     "text": [
      "training (log loss) : 0.7809458234308718\n",
      "training (accuracy) : 0.9783333333333334\n",
      "end training! (epoch : 410)\n",
      "==================================================\n",
      "start validation! (epoch : 410)\n"
     ]
    },
    {
     "name": "stderr",
     "output_type": "stream",
     "text": [
      "100%|█████████████████████████████████████████████████████████████████████████████████| 2/2 [00:02<00:00,  1.21s/it]\n"
     ]
    },
    {
     "name": "stdout",
     "output_type": "stream",
     "text": [
      "validation (log loss) : 3.018655971338561\n",
      "validation (accuracy) : 0.91625\n",
      "validation best accuracy :  0.965\n",
      "end validation! (epoch : 410)\n",
      "==================================================\n",
      "start training! (epoch : 411)\n"
     ]
    },
    {
     "name": "stderr",
     "output_type": "stream",
     "text": [
      "100%|█████████████████████████████████████████████████████████████████████████████████| 5/5 [00:19<00:00,  3.92s/it]\n"
     ]
    },
    {
     "name": "stdout",
     "output_type": "stream",
     "text": [
      "training (log loss) : 0.9161095236400612\n",
      "training (accuracy) : 0.9745833333333334\n",
      "end training! (epoch : 411)\n",
      "==================================================\n",
      "start validation! (epoch : 411)\n"
     ]
    },
    {
     "name": "stderr",
     "output_type": "stream",
     "text": [
      "100%|█████████████████████████████████████████████████████████████████████████████████| 2/2 [00:02<00:00,  1.22s/it]\n"
     ]
    },
    {
     "name": "stdout",
     "output_type": "stream",
     "text": [
      "validation (log loss) : 1.5318552690374794\n",
      "validation (accuracy) : 0.9575\n",
      "validation best accuracy :  0.965\n",
      "end validation! (epoch : 411)\n",
      "==================================================\n",
      "start training! (epoch : 412)\n"
     ]
    },
    {
     "name": "stderr",
     "output_type": "stream",
     "text": [
      "100%|█████████████████████████████████████████████████████████████████████████████████| 5/5 [00:19<00:00,  3.91s/it]\n"
     ]
    },
    {
     "name": "stdout",
     "output_type": "stream",
     "text": [
      "training (log loss) : 0.8710549569036649\n",
      "training (accuracy) : 0.9758333333333333\n",
      "end training! (epoch : 412)\n",
      "==================================================\n",
      "start validation! (epoch : 412)\n"
     ]
    },
    {
     "name": "stderr",
     "output_type": "stream",
     "text": [
      "100%|█████████████████████████████████████████████████████████████████████████████████| 2/2 [00:02<00:00,  1.21s/it]\n"
     ]
    },
    {
     "name": "stdout",
     "output_type": "stream",
     "text": [
      "validation (log loss) : 1.6670189692466681\n",
      "validation (accuracy) : 0.95375\n",
      "validation best accuracy :  0.965\n",
      "end validation! (epoch : 412)\n",
      "==================================================\n",
      "start training! (epoch : 413)\n"
     ]
    },
    {
     "name": "stderr",
     "output_type": "stream",
     "text": [
      "100%|█████████████████████████████████████████████████████████████████████████████████| 5/5 [00:18<00:00,  3.70s/it]\n"
     ]
    },
    {
     "name": "stdout",
     "output_type": "stream",
     "text": [
      "training (log loss) : 0.8560367679915326\n",
      "training (accuracy) : 0.97625\n",
      "end training! (epoch : 413)\n",
      "==================================================\n",
      "start validation! (epoch : 413)\n"
     ]
    },
    {
     "name": "stderr",
     "output_type": "stream",
     "text": [
      "100%|█████████████████████████████████████████████████████████████████████████████████| 2/2 [00:02<00:00,  1.21s/it]\n"
     ]
    },
    {
     "name": "stdout",
     "output_type": "stream",
     "text": [
      "validation (log loss) : 1.8922918029286506\n",
      "validation (accuracy) : 0.9475\n",
      "validation best accuracy :  0.965\n",
      "end validation! (epoch : 413)\n",
      "==================================================\n",
      "start training! (epoch : 414)\n"
     ]
    },
    {
     "name": "stderr",
     "output_type": "stream",
     "text": [
      "100%|█████████████████████████████████████████████████████████████████████████████████| 5/5 [00:21<00:00,  4.25s/it]\n"
     ]
    },
    {
     "name": "stdout",
     "output_type": "stream",
     "text": [
      "training (log loss) : 0.7358912566944754\n",
      "training (accuracy) : 0.9795833333333334\n",
      "end training! (epoch : 414)\n",
      "==================================================\n",
      "start validation! (epoch : 414)\n"
     ]
    },
    {
     "name": "stderr",
     "output_type": "stream",
     "text": [
      "100%|█████████████████████████████████████████████████████████████████████████████████| 2/2 [00:02<00:00,  1.23s/it]\n"
     ]
    },
    {
     "name": "stdout",
     "output_type": "stream",
     "text": [
      "validation (log loss) : 3.063710538074958\n",
      "validation (accuracy) : 0.915\n",
      "validation best accuracy :  0.965\n",
      "end validation! (epoch : 414)\n",
      "==================================================\n",
      "start training! (epoch : 415)\n"
     ]
    },
    {
     "name": "stderr",
     "output_type": "stream",
     "text": [
      "100%|█████████████████████████████████████████████████████████████████████████████████| 5/5 [00:18<00:00,  3.61s/it]\n"
     ]
    },
    {
     "name": "stdout",
     "output_type": "stream",
     "text": [
      "training (log loss) : 0.8260003901672682\n",
      "training (accuracy) : 0.9770833333333333\n",
      "end training! (epoch : 415)\n",
      "==================================================\n",
      "start validation! (epoch : 415)\n"
     ]
    },
    {
     "name": "stderr",
     "output_type": "stream",
     "text": [
      "100%|█████████████████████████████████████████████████████████████████████████████████| 2/2 [00:02<00:00,  1.21s/it]\n"
     ]
    },
    {
     "name": "stdout",
     "output_type": "stream",
     "text": [
      "validation (log loss) : 1.8021826694558576\n",
      "validation (accuracy) : 0.95\n",
      "validation best accuracy :  0.965\n",
      "end validation! (epoch : 415)\n",
      "==================================================\n",
      "start training! (epoch : 416)\n"
     ]
    },
    {
     "name": "stderr",
     "output_type": "stream",
     "text": [
      "100%|█████████████████████████████████████████████████████████████████████████████████| 5/5 [00:21<00:00,  4.27s/it]\n"
     ]
    },
    {
     "name": "stdout",
     "output_type": "stream",
     "text": [
      "training (log loss) : 0.8109822012551361\n",
      "training (accuracy) : 0.9775\n",
      "end training! (epoch : 416)\n",
      "==================================================\n",
      "start validation! (epoch : 416)\n"
     ]
    },
    {
     "name": "stderr",
     "output_type": "stream",
     "text": [
      "100%|█████████████████████████████████████████████████████████████████████████████████| 2/2 [00:02<00:00,  1.21s/it]\n"
     ]
    },
    {
     "name": "stdout",
     "output_type": "stream",
     "text": [
      "validation (log loss) : 1.6219644025102717\n",
      "validation (accuracy) : 0.955\n",
      "validation best accuracy :  0.965\n",
      "end validation! (epoch : 416)\n",
      "==================================================\n",
      "start training! (epoch : 417)\n"
     ]
    },
    {
     "name": "stderr",
     "output_type": "stream",
     "text": [
      "100%|█████████████████████████████████████████████████████████████████████████████████| 5/5 [00:22<00:00,  4.46s/it]\n"
     ]
    },
    {
     "name": "stdout",
     "output_type": "stream",
     "text": [
      "training (log loss) : 0.5556729897488896\n",
      "training (accuracy) : 0.9845833333333334\n",
      "end training! (epoch : 417)\n",
      "==================================================\n",
      "start validation! (epoch : 417)\n"
     ]
    },
    {
     "name": "stderr",
     "output_type": "stream",
     "text": [
      "100%|█████████████████████████████████████████████████████████████████████████████████| 2/2 [00:02<00:00,  1.22s/it]\n"
     ]
    },
    {
     "name": "stdout",
     "output_type": "stream",
     "text": [
      "validation (log loss) : 1.7571281027194612\n",
      "validation (accuracy) : 0.95125\n",
      "validation best accuracy :  0.965\n",
      "end validation! (epoch : 417)\n",
      "==================================================\n",
      "start training! (epoch : 418)\n"
     ]
    },
    {
     "name": "stderr",
     "output_type": "stream",
     "text": [
      "100%|█████████████████████████████████████████████████████████████████████████████████| 5/5 [00:19<00:00,  3.97s/it]\n"
     ]
    },
    {
     "name": "stdout",
     "output_type": "stream",
     "text": [
      "training (log loss) : 0.705854878870211\n",
      "training (accuracy) : 0.9804166666666667\n",
      "end training! (epoch : 418)\n",
      "==================================================\n",
      "start validation! (epoch : 418)\n"
     ]
    },
    {
     "name": "stderr",
     "output_type": "stream",
     "text": [
      "100%|█████████████████████████████████████████████████████████████████████████████████| 2/2 [00:02<00:00,  1.20s/it]\n"
     ]
    },
    {
     "name": "stdout",
     "output_type": "stream",
     "text": [
      "validation (log loss) : 1.4868007023010825\n",
      "validation (accuracy) : 0.95875\n",
      "validation best accuracy :  0.965\n",
      "end validation! (epoch : 418)\n",
      "==================================================\n",
      "start training! (epoch : 419)\n"
     ]
    },
    {
     "name": "stderr",
     "output_type": "stream",
     "text": [
      "100%|█████████████████████████████████████████████████████████████████████████████████| 5/5 [00:19<00:00,  3.87s/it]\n"
     ]
    },
    {
     "name": "stdout",
     "output_type": "stream",
     "text": [
      "training (log loss) : 0.690836689958079\n",
      "training (accuracy) : 0.9808333333333333\n",
      "end training! (epoch : 419)\n",
      "==================================================\n",
      "start validation! (epoch : 419)\n"
     ]
    },
    {
     "name": "stderr",
     "output_type": "stream",
     "text": [
      "100%|█████████████████████████████████████████████████████████████████████████████████| 2/2 [00:02<00:00,  1.23s/it]\n"
     ]
    },
    {
     "name": "stdout",
     "output_type": "stream",
     "text": [
      "validation (log loss) : 1.6219644025102717\n",
      "validation (accuracy) : 0.955\n",
      "validation best accuracy :  0.965\n",
      "end validation! (epoch : 419)\n",
      "==================================================\n",
      "start training! (epoch : 420)\n"
     ]
    },
    {
     "name": "stderr",
     "output_type": "stream",
     "text": [
      "100%|█████████████████████████████████████████████████████████████████████████████████| 5/5 [00:19<00:00,  3.95s/it]\n"
     ]
    },
    {
     "name": "stdout",
     "output_type": "stream",
     "text": [
      "training (log loss) : 0.7208730677823432\n",
      "training (accuracy) : 0.98\n",
      "end training! (epoch : 420)\n",
      "==================================================\n",
      "start validation! (epoch : 420)\n"
     ]
    },
    {
     "name": "stderr",
     "output_type": "stream",
     "text": [
      "100%|█████████████████████████████████████████████████████████████████████████████████| 2/2 [00:02<00:00,  1.22s/it]\n"
     ]
    },
    {
     "name": "stdout",
     "output_type": "stream",
     "text": [
      "validation (log loss) : 3.874692739330094\n",
      "validation (accuracy) : 0.8925\n",
      "validation best accuracy :  0.965\n",
      "end validation! (epoch : 420)\n",
      "==================================================\n",
      "start training! (epoch : 421)\n"
     ]
    },
    {
     "name": "stderr",
     "output_type": "stream",
     "text": [
      "100%|█████████████████████████████████████████████████████████████████████████████████| 5/5 [00:19<00:00,  3.92s/it]\n"
     ]
    },
    {
     "name": "stdout",
     "output_type": "stream",
     "text": [
      "training (log loss) : 0.705854878870211\n",
      "training (accuracy) : 0.9804166666666667\n",
      "end training! (epoch : 421)\n",
      "==================================================\n",
      "start validation! (epoch : 421)\n"
     ]
    },
    {
     "name": "stderr",
     "output_type": "stream",
     "text": [
      "100%|█████████████████████████████████████████████████████████████████████████████████| 2/2 [00:02<00:00,  1.23s/it]\n"
     ]
    },
    {
     "name": "stdout",
     "output_type": "stream",
     "text": [
      "validation (log loss) : 3.694474472384508\n",
      "validation (accuracy) : 0.8975\n",
      "validation best accuracy :  0.965\n",
      "end validation! (epoch : 421)\n",
      "==================================================\n",
      "start training! (epoch : 422)\n"
     ]
    },
    {
     "name": "stderr",
     "output_type": "stream",
     "text": [
      "100%|█████████████████████████████████████████████████████████████████████████████████| 5/5 [00:21<00:00,  4.21s/it]\n"
     ]
    },
    {
     "name": "stdout",
     "output_type": "stream",
     "text": [
      "training (log loss) : 0.5106184230124933\n",
      "training (accuracy) : 0.9858333333333333\n",
      "end training! (epoch : 422)\n",
      "==================================================\n",
      "start validation! (epoch : 422)\n"
     ]
    },
    {
     "name": "stderr",
     "output_type": "stream",
     "text": [
      "100%|█████████████████████████████████████████████████████████████████████████████████| 2/2 [00:02<00:00,  1.22s/it]\n"
     ]
    },
    {
     "name": "stdout",
     "output_type": "stream",
     "text": [
      "validation (log loss) : 2.4329466037654077\n",
      "validation (accuracy) : 0.9325\n",
      "validation best accuracy :  0.965\n",
      "end validation! (epoch : 422)\n",
      "==================================================\n",
      "start training! (epoch : 423)\n"
     ]
    },
    {
     "name": "stderr",
     "output_type": "stream",
     "text": [
      "100%|█████████████████████████████████████████████████████████████████████████████████| 5/5 [00:18<00:00,  3.73s/it]\n"
     ]
    },
    {
     "name": "stdout",
     "output_type": "stream",
     "text": [
      "training (log loss) : 0.49560023410036097\n",
      "training (accuracy) : 0.98625\n",
      "end training! (epoch : 423)\n",
      "==================================================\n",
      "start validation! (epoch : 423)\n"
     ]
    },
    {
     "name": "stderr",
     "output_type": "stream",
     "text": [
      "100%|█████████████████████████████████████████████████████████████████████████████████| 2/2 [00:02<00:00,  1.22s/it]\n"
     ]
    },
    {
     "name": "stdout",
     "output_type": "stream",
     "text": [
      "validation (log loss) : 1.39669156882829\n",
      "validation (accuracy) : 0.96125\n",
      "validation best accuracy :  0.965\n",
      "end validation! (epoch : 423)\n",
      "==================================================\n",
      "start training! (epoch : 424)\n"
     ]
    },
    {
     "name": "stderr",
     "output_type": "stream",
     "text": [
      "100%|█████████████████████████████████████████████████████████████████████████████████| 5/5 [00:18<00:00,  3.66s/it]\n"
     ]
    },
    {
     "name": "stdout",
     "output_type": "stream",
     "text": [
      "training (log loss) : 0.6608003121338146\n",
      "training (accuracy) : 0.9816666666666667\n",
      "end training! (epoch : 424)\n",
      "==================================================\n",
      "start validation! (epoch : 424)\n"
     ]
    },
    {
     "name": "stderr",
     "output_type": "stream",
     "text": [
      "100%|█████████████████████████████████████████████████████████████████████████████████| 2/2 [00:02<00:00,  1.19s/it]\n"
     ]
    },
    {
     "name": "stdout",
     "output_type": "stream",
     "text": [
      "validation (log loss) : 1.2615278686191005\n",
      "validation (accuracy) : 0.965\n",
      "validation best accuracy :  0.965\n",
      "end validation! (epoch : 424)\n",
      "==================================================\n",
      "start training! (epoch : 425)\n"
     ]
    },
    {
     "name": "stderr",
     "output_type": "stream",
     "text": [
      "100%|█████████████████████████████████████████████████████████████████████████████████| 5/5 [00:18<00:00,  3.79s/it]\n"
     ]
    },
    {
     "name": "stdout",
     "output_type": "stream",
     "text": [
      "training (log loss) : 0.8410185790794005\n",
      "training (accuracy) : 0.9766666666666667\n",
      "end training! (epoch : 425)\n",
      "==================================================\n",
      "start validation! (epoch : 425)\n"
     ]
    },
    {
     "name": "stderr",
     "output_type": "stream",
     "text": [
      "100%|█████████████████████████████████████████████████████████████████████████████████| 2/2 [00:02<00:00,  1.21s/it]\n"
     ]
    },
    {
     "name": "stdout",
     "output_type": "stream",
     "text": [
      "validation (log loss) : 1.6219644025102717\n",
      "validation (accuracy) : 0.955\n",
      "validation best accuracy :  0.965\n",
      "end validation! (epoch : 425)\n",
      "==================================================\n",
      "start training! (epoch : 426)\n"
     ]
    },
    {
     "name": "stderr",
     "output_type": "stream",
     "text": [
      "100%|█████████████████████████████████████████████████████████████████████████████████| 5/5 [00:18<00:00,  3.71s/it]\n"
     ]
    },
    {
     "name": "stdout",
     "output_type": "stream",
     "text": [
      "training (log loss) : 0.6157457453974182\n",
      "training (accuracy) : 0.9829166666666667\n",
      "end training! (epoch : 426)\n",
      "==================================================\n",
      "start validation! (epoch : 426)\n"
     ]
    },
    {
     "name": "stderr",
     "output_type": "stream",
     "text": [
      "100%|█████████████████████████████████████████████████████████████████████████████████| 2/2 [00:02<00:00,  1.22s/it]\n"
     ]
    },
    {
     "name": "stdout",
     "output_type": "stream",
     "text": [
      "validation (log loss) : 2.02745550313784\n",
      "validation (accuracy) : 0.94375\n",
      "validation best accuracy :  0.965\n",
      "end validation! (epoch : 426)\n",
      "==================================================\n",
      "start training! (epoch : 427)\n"
     ]
    },
    {
     "name": "stderr",
     "output_type": "stream",
     "text": [
      "100%|█████████████████████████████████████████████████████████████████████████████████| 5/5 [00:19<00:00,  3.99s/it]\n"
     ]
    },
    {
     "name": "stdout",
     "output_type": "stream",
     "text": [
      "training (log loss) : 0.6007275564852861\n",
      "training (accuracy) : 0.9833333333333333\n",
      "end training! (epoch : 427)\n",
      "==================================================\n",
      "start validation! (epoch : 427)\n"
     ]
    },
    {
     "name": "stderr",
     "output_type": "stream",
     "text": [
      "100%|█████████████████████████████████████████████████████████████████████████████████| 2/2 [00:02<00:00,  1.22s/it]\n"
     ]
    },
    {
     "name": "stdout",
     "output_type": "stream",
     "text": [
      "validation (log loss) : 1.1714187351463077\n",
      "validation (accuracy) : 0.9675\n",
      "validation best accuracy :  0.9675\n",
      "end validation! (epoch : 427)\n",
      "==================================================\n",
      "start training! (epoch : 428)\n"
     ]
    },
    {
     "name": "stderr",
     "output_type": "stream",
     "text": [
      "100%|█████████████████████████████████████████████████████████████████████████████████| 5/5 [00:18<00:00,  3.74s/it]\n"
     ]
    },
    {
     "name": "stdout",
     "output_type": "stream",
     "text": [
      "training (log loss) : 0.43552747845183243\n",
      "training (accuracy) : 0.9879166666666667\n",
      "end training! (epoch : 428)\n",
      "==================================================\n",
      "start validation! (epoch : 428)\n"
     ]
    },
    {
     "name": "stderr",
     "output_type": "stream",
     "text": [
      "100%|█████████████████████████████████████████████████████████████████████████████████| 2/2 [00:02<00:00,  1.23s/it]\n"
     ]
    },
    {
     "name": "stdout",
     "output_type": "stream",
     "text": [
      "validation (log loss) : 1.39669156882829\n",
      "validation (accuracy) : 0.96125\n",
      "validation best accuracy :  0.9675\n",
      "end validation! (epoch : 428)\n",
      "==================================================\n",
      "start training! (epoch : 429)\n"
     ]
    },
    {
     "name": "stderr",
     "output_type": "stream",
     "text": [
      "100%|█████████████████████████████████████████████████████████████████████████████████| 5/5 [00:18<00:00,  3.77s/it]\n"
     ]
    },
    {
     "name": "stdout",
     "output_type": "stream",
     "text": [
      "training (log loss) : 0.33040015606690737\n",
      "training (accuracy) : 0.9908333333333333\n",
      "end training! (epoch : 429)\n",
      "==================================================\n",
      "start validation! (epoch : 429)\n"
     ]
    },
    {
     "name": "stderr",
     "output_type": "stream",
     "text": [
      "100%|█████████████████████████████████████████████████████████████████████████████████| 2/2 [00:02<00:00,  1.21s/it]\n"
     ]
    },
    {
     "name": "stdout",
     "output_type": "stream",
     "text": [
      "validation (log loss) : 1.39669156882829\n",
      "validation (accuracy) : 0.96125\n",
      "validation best accuracy :  0.9675\n",
      "end validation! (epoch : 429)\n",
      "==================================================\n",
      "start training! (epoch : 430)\n"
     ]
    },
    {
     "name": "stderr",
     "output_type": "stream",
     "text": [
      "100%|█████████████████████████████████████████████████████████████████████████████████| 5/5 [00:19<00:00,  3.95s/it]\n"
     ]
    },
    {
     "name": "stdout",
     "output_type": "stream",
     "text": [
      "training (log loss) : 0.36043653389117175\n",
      "training (accuracy) : 0.99\n",
      "end training! (epoch : 430)\n",
      "==================================================\n",
      "start validation! (epoch : 430)\n"
     ]
    },
    {
     "name": "stderr",
     "output_type": "stream",
     "text": [
      "100%|█████████████████████████████████████████████████████████████████████████████████| 2/2 [00:02<00:00,  1.20s/it]\n"
     ]
    },
    {
     "name": "stdout",
     "output_type": "stream",
     "text": [
      "validation (log loss) : 2.342837470292615\n",
      "validation (accuracy) : 0.935\n",
      "validation best accuracy :  0.9675\n",
      "end validation! (epoch : 430)\n",
      "==================================================\n",
      "start training! (epoch : 431)\n"
     ]
    },
    {
     "name": "stderr",
     "output_type": "stream",
     "text": [
      "100%|█████████████████████████████████████████████████████████████████████████████████| 5/5 [00:20<00:00,  4.04s/it]\n"
     ]
    },
    {
     "name": "stdout",
     "output_type": "stream",
     "text": [
      "training (log loss) : 0.3904729117154361\n",
      "training (accuracy) : 0.9891666666666666\n",
      "end training! (epoch : 431)\n",
      "==================================================\n",
      "start validation! (epoch : 431)\n"
     ]
    },
    {
     "name": "stderr",
     "output_type": "stream",
     "text": [
      "100%|█████████████████████████████████████████████████████████████████████████████████| 2/2 [00:02<00:00,  1.23s/it]\n"
     ]
    },
    {
     "name": "stdout",
     "output_type": "stream",
     "text": [
      "validation (log loss) : 2.2076737700834257\n",
      "validation (accuracy) : 0.93875\n",
      "validation best accuracy :  0.9675\n",
      "end validation! (epoch : 431)\n",
      "==================================================\n",
      "start training! (epoch : 432)\n"
     ]
    },
    {
     "name": "stderr",
     "output_type": "stream",
     "text": [
      "100%|█████████████████████████████████████████████████████████████████████████████████| 5/5 [00:19<00:00,  3.93s/it]\n"
     ]
    },
    {
     "name": "stdout",
     "output_type": "stream",
     "text": [
      "training (log loss) : 0.5256366119246254\n",
      "training (accuracy) : 0.9854166666666667\n",
      "end training! (epoch : 432)\n",
      "==================================================\n",
      "start validation! (epoch : 432)\n"
     ]
    },
    {
     "name": "stderr",
     "output_type": "stream",
     "text": [
      "100%|█████████████████████████████████████████████████████████████████████████████████| 2/2 [00:02<00:00,  1.23s/it]\n"
     ]
    },
    {
     "name": "stdout",
     "output_type": "stream",
     "text": [
      "validation (log loss) : 1.6219644025102717\n",
      "validation (accuracy) : 0.955\n",
      "validation best accuracy :  0.9675\n",
      "end validation! (epoch : 432)\n",
      "==================================================\n",
      "start training! (epoch : 433)\n"
     ]
    },
    {
     "name": "stderr",
     "output_type": "stream",
     "text": [
      "100%|█████████████████████████████████████████████████████████████████████████████████| 5/5 [00:18<00:00,  3.80s/it]\n"
     ]
    },
    {
     "name": "stdout",
     "output_type": "stream",
     "text": [
      "training (log loss) : 0.43552747845183243\n",
      "training (accuracy) : 0.9879166666666667\n",
      "end training! (epoch : 433)\n",
      "==================================================\n",
      "start validation! (epoch : 433)\n"
     ]
    },
    {
     "name": "stderr",
     "output_type": "stream",
     "text": [
      "100%|█████████████████████████████████████████████████████████████████████████████████| 2/2 [00:02<00:00,  1.22s/it]\n"
     ]
    },
    {
     "name": "stdout",
     "output_type": "stream",
     "text": [
      "validation (log loss) : 1.4417461355646861\n",
      "validation (accuracy) : 0.96\n",
      "validation best accuracy :  0.9675\n",
      "end validation! (epoch : 433)\n",
      "==================================================\n",
      "start training! (epoch : 434)\n"
     ]
    },
    {
     "name": "stderr",
     "output_type": "stream",
     "text": [
      "100%|█████████████████████████████████████████████████████████████████████████████████| 5/5 [00:20<00:00,  4.17s/it]\n"
     ]
    },
    {
     "name": "stdout",
     "output_type": "stream",
     "text": [
      "training (log loss) : 0.3153819671547753\n",
      "training (accuracy) : 0.99125\n",
      "end training! (epoch : 434)\n",
      "==================================================\n",
      "start validation! (epoch : 434)\n"
     ]
    },
    {
     "name": "stderr",
     "output_type": "stream",
     "text": [
      "100%|█████████████████████████████████████████████████████████████████████████████████| 2/2 [00:02<00:00,  1.22s/it]\n"
     ]
    },
    {
     "name": "stdout",
     "output_type": "stream",
     "text": [
      "validation (log loss) : 1.3516370020918933\n",
      "validation (accuracy) : 0.9625\n",
      "validation best accuracy :  0.9675\n",
      "end validation! (epoch : 434)\n",
      "==================================================\n",
      "start training! (epoch : 435)\n"
     ]
    },
    {
     "name": "stderr",
     "output_type": "stream",
     "text": [
      "100%|█████████████████████████████████████████████████████████████████████████████████| 5/5 [00:19<00:00,  3.85s/it]\n"
     ]
    },
    {
     "name": "stdout",
     "output_type": "stream",
     "text": [
      "training (log loss) : 0.4505456673639646\n",
      "training (accuracy) : 0.9875\n",
      "end training! (epoch : 435)\n",
      "==================================================\n",
      "start validation! (epoch : 435)\n"
     ]
    },
    {
     "name": "stderr",
     "output_type": "stream",
     "text": [
      "100%|█████████████████████████████████████████████████████████████████████████████████| 2/2 [00:02<00:00,  1.20s/it]\n"
     ]
    },
    {
     "name": "stdout",
     "output_type": "stream",
     "text": [
      "validation (log loss) : 1.4417461355646861\n",
      "validation (accuracy) : 0.96\n",
      "validation best accuracy :  0.9675\n",
      "end validation! (epoch : 435)\n",
      "==================================================\n",
      "start training! (epoch : 436)\n"
     ]
    },
    {
     "name": "stderr",
     "output_type": "stream",
     "text": [
      "100%|█████████████████████████████████████████████████████████████████████████████████| 5/5 [00:18<00:00,  3.63s/it]\n"
     ]
    },
    {
     "name": "stdout",
     "output_type": "stream",
     "text": [
      "training (log loss) : 0.2703274004183788\n",
      "training (accuracy) : 0.9925\n",
      "end training! (epoch : 436)\n",
      "==================================================\n",
      "start validation! (epoch : 436)\n"
     ]
    },
    {
     "name": "stderr",
     "output_type": "stream",
     "text": [
      "100%|█████████████████████████████████████████████████████████████████████████████████| 2/2 [00:02<00:00,  1.21s/it]\n"
     ]
    },
    {
     "name": "stdout",
     "output_type": "stream",
     "text": [
      "validation (log loss) : 1.3516370020918933\n",
      "validation (accuracy) : 0.9625\n",
      "validation best accuracy :  0.9675\n",
      "end validation! (epoch : 436)\n",
      "==================================================\n",
      "start training! (epoch : 437)\n"
     ]
    },
    {
     "name": "stderr",
     "output_type": "stream",
     "text": [
      "100%|█████████████████████████████████████████████████████████████████████████████████| 5/5 [00:20<00:00,  4.03s/it]\n"
     ]
    },
    {
     "name": "stdout",
     "output_type": "stream",
     "text": [
      "training (log loss) : 0.3003637782426431\n",
      "training (accuracy) : 0.9916666666666667\n",
      "end training! (epoch : 437)\n",
      "==================================================\n",
      "start validation! (epoch : 437)\n"
     ]
    },
    {
     "name": "stderr",
     "output_type": "stream",
     "text": [
      "100%|█████████████████████████████████████████████████████████████████████████████████| 2/2 [00:02<00:00,  1.23s/it]\n"
     ]
    },
    {
     "name": "stdout",
     "output_type": "stream",
     "text": [
      "validation (log loss) : 1.3065824353554971\n",
      "validation (accuracy) : 0.96375\n",
      "validation best accuracy :  0.9675\n",
      "end validation! (epoch : 437)\n",
      "==================================================\n",
      "start training! (epoch : 438)\n"
     ]
    },
    {
     "name": "stderr",
     "output_type": "stream",
     "text": [
      "100%|█████████████████████████████████████████████████████████████████████████████████| 5/5 [00:20<00:00,  4.04s/it]\n"
     ]
    },
    {
     "name": "stdout",
     "output_type": "stream",
     "text": [
      "training (log loss) : 0.285345589330511\n",
      "training (accuracy) : 0.9920833333333333\n",
      "end training! (epoch : 438)\n",
      "==================================================\n",
      "start validation! (epoch : 438)\n"
     ]
    },
    {
     "name": "stderr",
     "output_type": "stream",
     "text": [
      "100%|█████████████████████████████████████████████████████████████████████████████████| 2/2 [00:02<00:00,  1.21s/it]\n"
     ]
    },
    {
     "name": "stdout",
     "output_type": "stream",
     "text": [
      "validation (log loss) : 1.2615278686191005\n",
      "validation (accuracy) : 0.965\n",
      "validation best accuracy :  0.9675\n",
      "end validation! (epoch : 438)\n",
      "==================================================\n",
      "start training! (epoch : 439)\n"
     ]
    },
    {
     "name": "stderr",
     "output_type": "stream",
     "text": [
      "100%|█████████████████████████████████████████████████████████████████████████████████| 5/5 [00:17<00:00,  3.59s/it]\n"
     ]
    },
    {
     "name": "stdout",
     "output_type": "stream",
     "text": [
      "training (log loss) : 0.2252728336819824\n",
      "training (accuracy) : 0.99375\n",
      "end training! (epoch : 439)\n",
      "==================================================\n",
      "start validation! (epoch : 439)\n"
     ]
    },
    {
     "name": "stderr",
     "output_type": "stream",
     "text": [
      "100%|█████████████████████████████████████████████████████████████████████████████████| 2/2 [00:02<00:00,  1.22s/it]\n"
     ]
    },
    {
     "name": "stdout",
     "output_type": "stream",
     "text": [
      "validation (log loss) : 1.2615278686191005\n",
      "validation (accuracy) : 0.965\n",
      "validation best accuracy :  0.9675\n",
      "end validation! (epoch : 439)\n",
      "==================================================\n",
      "start training! (epoch : 440)\n"
     ]
    },
    {
     "name": "stderr",
     "output_type": "stream",
     "text": [
      "100%|█████████████████████████████████████████████████████████████████████████████████| 5/5 [00:20<00:00,  4.17s/it]\n"
     ]
    },
    {
     "name": "stdout",
     "output_type": "stream",
     "text": [
      "training (log loss) : 0.34541834497903956\n",
      "training (accuracy) : 0.9904166666666666\n",
      "end training! (epoch : 440)\n",
      "==================================================\n",
      "start validation! (epoch : 440)\n"
     ]
    },
    {
     "name": "stderr",
     "output_type": "stream",
     "text": [
      "100%|█████████████████████████████████████████████████████████████████████████████████| 2/2 [00:02<00:00,  1.21s/it]\n"
     ]
    },
    {
     "name": "stdout",
     "output_type": "stream",
     "text": [
      "validation (log loss) : 1.3065824353554967\n",
      "validation (accuracy) : 0.96375\n",
      "validation best accuracy :  0.9675\n",
      "end validation! (epoch : 440)\n",
      "==================================================\n",
      "start training! (epoch : 441)\n"
     ]
    },
    {
     "name": "stderr",
     "output_type": "stream",
     "text": [
      "100%|█████████████████████████████████████████████████████████████████████████████████| 5/5 [00:18<00:00,  3.60s/it]\n"
     ]
    },
    {
     "name": "stdout",
     "output_type": "stream",
     "text": [
      "training (log loss) : 0.3153819671547753\n",
      "training (accuracy) : 0.99125\n",
      "end training! (epoch : 441)\n",
      "==================================================\n",
      "start validation! (epoch : 441)\n"
     ]
    },
    {
     "name": "stderr",
     "output_type": "stream",
     "text": [
      "100%|█████████████████████████████████████████████████████████████████████████████████| 2/2 [00:02<00:00,  1.19s/it]\n"
     ]
    },
    {
     "name": "stdout",
     "output_type": "stream",
     "text": [
      "validation (log loss) : 1.3516370020918933\n",
      "validation (accuracy) : 0.9625\n",
      "validation best accuracy :  0.9675\n",
      "end validation! (epoch : 441)\n",
      "==================================================\n",
      "start training! (epoch : 442)\n"
     ]
    },
    {
     "name": "stderr",
     "output_type": "stream",
     "text": [
      "100%|█████████████████████████████████████████████████████████████████████████████████| 5/5 [00:18<00:00,  3.79s/it]\n"
     ]
    },
    {
     "name": "stdout",
     "output_type": "stream",
     "text": [
      "training (log loss) : 0.4505456673639646\n",
      "training (accuracy) : 0.9875\n",
      "end training! (epoch : 442)\n",
      "==================================================\n",
      "start validation! (epoch : 442)\n"
     ]
    },
    {
     "name": "stderr",
     "output_type": "stream",
     "text": [
      "100%|█████████████████████████████████████████████████████████████████████████████████| 2/2 [00:02<00:00,  1.23s/it]\n"
     ]
    },
    {
     "name": "stdout",
     "output_type": "stream",
     "text": [
      "validation (log loss) : 1.216473301882704\n",
      "validation (accuracy) : 0.96625\n",
      "validation best accuracy :  0.9675\n",
      "end validation! (epoch : 442)\n",
      "==================================================\n",
      "start training! (epoch : 443)\n"
     ]
    },
    {
     "name": "stderr",
     "output_type": "stream",
     "text": [
      "100%|█████████████████████████████████████████████████████████████████████████████████| 5/5 [00:19<00:00,  3.83s/it]\n"
     ]
    },
    {
     "name": "stdout",
     "output_type": "stream",
     "text": [
      "training (log loss) : 0.1952364558577181\n",
      "training (accuracy) : 0.9945833333333334\n",
      "end training! (epoch : 443)\n",
      "==================================================\n",
      "start validation! (epoch : 443)\n"
     ]
    },
    {
     "name": "stderr",
     "output_type": "stream",
     "text": [
      "100%|█████████████████████████████████████████████████████████████████████████████████| 2/2 [00:02<00:00,  1.20s/it]\n"
     ]
    },
    {
     "name": "stdout",
     "output_type": "stream",
     "text": [
      "validation (log loss) : 1.1714187351463077\n",
      "validation (accuracy) : 0.9675\n",
      "validation best accuracy :  0.9675\n",
      "end validation! (epoch : 443)\n",
      "==================================================\n",
      "start training! (epoch : 444)\n"
     ]
    },
    {
     "name": "stderr",
     "output_type": "stream",
     "text": [
      "100%|█████████████████████████████████████████████████████████████████████████████████| 5/5 [00:19<00:00,  3.81s/it]\n"
     ]
    },
    {
     "name": "stdout",
     "output_type": "stream",
     "text": [
      "training (log loss) : 0.2252728336819824\n",
      "training (accuracy) : 0.99375\n",
      "end training! (epoch : 444)\n",
      "==================================================\n",
      "start validation! (epoch : 444)\n"
     ]
    },
    {
     "name": "stderr",
     "output_type": "stream",
     "text": [
      "100%|█████████████████████████████████████████████████████████████████████████████████| 2/2 [00:02<00:00,  1.21s/it]\n"
     ]
    },
    {
     "name": "stdout",
     "output_type": "stream",
     "text": [
      "validation (log loss) : 1.1714187351463077\n",
      "validation (accuracy) : 0.9675\n",
      "validation best accuracy :  0.9675\n",
      "end validation! (epoch : 444)\n",
      "==================================================\n",
      "start training! (epoch : 445)\n"
     ]
    },
    {
     "name": "stderr",
     "output_type": "stream",
     "text": [
      "100%|█████████████████████████████████████████████████████████████████████████████████| 5/5 [00:19<00:00,  3.81s/it]\n"
     ]
    },
    {
     "name": "stdout",
     "output_type": "stream",
     "text": [
      "training (log loss) : 0.21025464476985026\n",
      "training (accuracy) : 0.9941666666666666\n",
      "end training! (epoch : 445)\n",
      "==================================================\n",
      "start validation! (epoch : 445)\n"
     ]
    },
    {
     "name": "stderr",
     "output_type": "stream",
     "text": [
      "100%|█████████████████████████████████████████████████████████████████████████████████| 2/2 [00:02<00:00,  1.20s/it]\n"
     ]
    },
    {
     "name": "stdout",
     "output_type": "stream",
     "text": [
      "validation (log loss) : 1.216473301882704\n",
      "validation (accuracy) : 0.96625\n",
      "validation best accuracy :  0.9675\n",
      "end validation! (epoch : 445)\n",
      "==================================================\n",
      "start training! (epoch : 446)\n"
     ]
    },
    {
     "name": "stderr",
     "output_type": "stream",
     "text": [
      "100%|█████████████████████████████████████████████████████████████████████████████████| 5/5 [00:19<00:00,  3.89s/it]\n"
     ]
    },
    {
     "name": "stdout",
     "output_type": "stream",
     "text": [
      "training (log loss) : 0.19523645585771812\n",
      "training (accuracy) : 0.9945833333333334\n",
      "end training! (epoch : 446)\n",
      "==================================================\n",
      "start validation! (epoch : 446)\n"
     ]
    },
    {
     "name": "stderr",
     "output_type": "stream",
     "text": [
      "100%|█████████████████████████████████████████████████████████████████████████████████| 2/2 [00:02<00:00,  1.23s/it]\n"
     ]
    },
    {
     "name": "stdout",
     "output_type": "stream",
     "text": [
      "validation (log loss) : 1.3065824353554967\n",
      "validation (accuracy) : 0.96375\n",
      "validation best accuracy :  0.9675\n",
      "end validation! (epoch : 446)\n",
      "==================================================\n",
      "start training! (epoch : 447)\n"
     ]
    },
    {
     "name": "stderr",
     "output_type": "stream",
     "text": [
      "100%|█████████████████████████████████████████████████████████████████████████████████| 5/5 [00:19<00:00,  3.81s/it]\n"
     ]
    },
    {
     "name": "stdout",
     "output_type": "stream",
     "text": [
      "training (log loss) : 0.2703274004183788\n",
      "training (accuracy) : 0.9925\n",
      "end training! (epoch : 447)\n",
      "==================================================\n",
      "start validation! (epoch : 447)\n"
     ]
    },
    {
     "name": "stderr",
     "output_type": "stream",
     "text": [
      "100%|█████████████████████████████████████████████████████████████████████████████████| 2/2 [00:02<00:00,  1.21s/it]\n"
     ]
    },
    {
     "name": "stdout",
     "output_type": "stream",
     "text": [
      "validation (log loss) : 1.2615278686191005\n",
      "validation (accuracy) : 0.965\n",
      "validation best accuracy :  0.9675\n",
      "end validation! (epoch : 447)\n",
      "==================================================\n",
      "start training! (epoch : 448)\n"
     ]
    },
    {
     "name": "stderr",
     "output_type": "stream",
     "text": [
      "100%|█████████████████████████████████████████████████████████████████████████████████| 5/5 [00:17<00:00,  3.54s/it]\n"
     ]
    },
    {
     "name": "stdout",
     "output_type": "stream",
     "text": [
      "training (log loss) : 0.21025464476985026\n",
      "training (accuracy) : 0.9941666666666666\n",
      "end training! (epoch : 448)\n",
      "==================================================\n",
      "start validation! (epoch : 448)\n"
     ]
    },
    {
     "name": "stderr",
     "output_type": "stream",
     "text": [
      "100%|█████████████████████████████████████████████████████████████████████████████████| 2/2 [00:02<00:00,  1.21s/it]\n"
     ]
    },
    {
     "name": "stdout",
     "output_type": "stream",
     "text": [
      "validation (log loss) : 1.2615278686191005\n",
      "validation (accuracy) : 0.965\n",
      "validation best accuracy :  0.9675\n",
      "end validation! (epoch : 448)\n",
      "==================================================\n",
      "start training! (epoch : 449)\n"
     ]
    },
    {
     "name": "stderr",
     "output_type": "stream",
     "text": [
      "100%|█████████████████████████████████████████████████████████████████████████████████| 5/5 [00:18<00:00,  3.78s/it]\n"
     ]
    },
    {
     "name": "stdout",
     "output_type": "stream",
     "text": [
      "training (log loss) : 0.2252728336819824\n",
      "training (accuracy) : 0.99375\n",
      "end training! (epoch : 449)\n",
      "==================================================\n",
      "start validation! (epoch : 449)\n"
     ]
    },
    {
     "name": "stderr",
     "output_type": "stream",
     "text": [
      "100%|█████████████████████████████████████████████████████████████████████████████████| 2/2 [00:02<00:00,  1.22s/it]\n"
     ]
    },
    {
     "name": "stdout",
     "output_type": "stream",
     "text": [
      "validation (log loss) : 1.216473301882704\n",
      "validation (accuracy) : 0.96625\n",
      "validation best accuracy :  0.9675\n",
      "end validation! (epoch : 449)\n",
      "==================================================\n",
      "start training! (epoch : 450)\n"
     ]
    },
    {
     "name": "stderr",
     "output_type": "stream",
     "text": [
      "100%|█████████████████████████████████████████████████████████████████████████████████| 5/5 [00:18<00:00,  3.65s/it]\n"
     ]
    },
    {
     "name": "stdout",
     "output_type": "stream",
     "text": [
      "training (log loss) : 0.2703274004183788\n",
      "training (accuracy) : 0.9925\n",
      "end training! (epoch : 450)\n",
      "==================================================\n",
      "start validation! (epoch : 450)\n"
     ]
    },
    {
     "name": "stderr",
     "output_type": "stream",
     "text": [
      "100%|█████████████████████████████████████████████████████████████████████████████████| 2/2 [00:02<00:00,  1.21s/it]\n"
     ]
    },
    {
     "name": "stdout",
     "output_type": "stream",
     "text": [
      "validation (log loss) : 1.2615278686191005\n",
      "validation (accuracy) : 0.965\n",
      "validation best accuracy :  0.9675\n",
      "end validation! (epoch : 450)\n",
      "==================================================\n",
      "start training! (epoch : 451)\n"
     ]
    },
    {
     "name": "stderr",
     "output_type": "stream",
     "text": [
      "100%|█████████████████████████████████████████████████████████████████████████████████| 5/5 [00:18<00:00,  3.73s/it]\n"
     ]
    },
    {
     "name": "stdout",
     "output_type": "stream",
     "text": [
      "training (log loss) : 0.42050928953970035\n",
      "training (accuracy) : 0.9883333333333333\n",
      "end training! (epoch : 451)\n",
      "==================================================\n",
      "start validation! (epoch : 451)\n"
     ]
    },
    {
     "name": "stderr",
     "output_type": "stream",
     "text": [
      "100%|█████████████████████████████████████████████████████████████████████████████████| 2/2 [00:02<00:00,  1.22s/it]\n"
     ]
    },
    {
     "name": "stdout",
     "output_type": "stream",
     "text": [
      "validation (log loss) : 1.3065824353554967\n",
      "validation (accuracy) : 0.96375\n",
      "validation best accuracy :  0.9675\n",
      "end validation! (epoch : 451)\n",
      "==================================================\n",
      "start training! (epoch : 452)\n"
     ]
    },
    {
     "name": "stderr",
     "output_type": "stream",
     "text": [
      "100%|█████████████████████████████████████████████████████████████████████████████████| 5/5 [00:18<00:00,  3.69s/it]\n"
     ]
    },
    {
     "name": "stdout",
     "output_type": "stream",
     "text": [
      "training (log loss) : 0.43552747845183243\n",
      "training (accuracy) : 0.9879166666666667\n",
      "end training! (epoch : 452)\n",
      "==================================================\n",
      "start validation! (epoch : 452)\n"
     ]
    },
    {
     "name": "stderr",
     "output_type": "stream",
     "text": [
      "100%|█████████████████████████████████████████████████████████████████████████████████| 2/2 [00:02<00:00,  1.25s/it]\n"
     ]
    },
    {
     "name": "stdout",
     "output_type": "stream",
     "text": [
      "validation (log loss) : 1.4417461355646861\n",
      "validation (accuracy) : 0.96\n",
      "validation best accuracy :  0.9675\n",
      "end validation! (epoch : 452)\n",
      "==================================================\n",
      "start training! (epoch : 453)\n"
     ]
    },
    {
     "name": "stderr",
     "output_type": "stream",
     "text": [
      "100%|█████████████████████████████████████████████████████████████████████████████████| 5/5 [00:21<00:00,  4.33s/it]\n"
     ]
    },
    {
     "name": "stdout",
     "output_type": "stream",
     "text": [
      "training (log loss) : 0.5256366119246254\n",
      "training (accuracy) : 0.9854166666666667\n",
      "end training! (epoch : 453)\n",
      "==================================================\n",
      "start validation! (epoch : 453)\n"
     ]
    },
    {
     "name": "stderr",
     "output_type": "stream",
     "text": [
      "100%|█████████████████████████████████████████████████████████████████████████████████| 2/2 [00:02<00:00,  1.20s/it]\n"
     ]
    },
    {
     "name": "stdout",
     "output_type": "stream",
     "text": [
      "validation (log loss) : 1.531855269037479\n",
      "validation (accuracy) : 0.9575\n",
      "validation best accuracy :  0.9675\n",
      "end validation! (epoch : 453)\n",
      "==================================================\n",
      "start training! (epoch : 454)\n"
     ]
    },
    {
     "name": "stderr",
     "output_type": "stream",
     "text": [
      "100%|█████████████████████████████████████████████████████████████████████████████████| 5/5 [00:17<00:00,  3.44s/it]\n"
     ]
    },
    {
     "name": "stdout",
     "output_type": "stream",
     "text": [
      "training (log loss) : 0.5406548008367574\n",
      "training (accuracy) : 0.985\n",
      "end training! (epoch : 454)\n",
      "==================================================\n",
      "start validation! (epoch : 454)\n"
     ]
    },
    {
     "name": "stderr",
     "output_type": "stream",
     "text": [
      "100%|█████████████████████████████████████████████████████████████████████████████████| 2/2 [00:02<00:00,  1.22s/it]\n"
     ]
    },
    {
     "name": "stdout",
     "output_type": "stream",
     "text": [
      "validation (log loss) : 1.7120735359830648\n",
      "validation (accuracy) : 0.9525\n",
      "validation best accuracy :  0.9675\n",
      "end validation! (epoch : 454)\n",
      "==================================================\n",
      "start training! (epoch : 455)\n"
     ]
    },
    {
     "name": "stderr",
     "output_type": "stream",
     "text": [
      "100%|█████████████████████████████████████████████████████████████████████████████████| 5/5 [00:19<00:00,  3.86s/it]\n"
     ]
    },
    {
     "name": "stdout",
     "output_type": "stream",
     "text": [
      "training (log loss) : 0.4505456673639646\n",
      "training (accuracy) : 0.9875\n",
      "end training! (epoch : 455)\n",
      "==================================================\n",
      "start validation! (epoch : 455)\n"
     ]
    },
    {
     "name": "stderr",
     "output_type": "stream",
     "text": [
      "100%|█████████████████████████████████████████████████████████████████████████████████| 2/2 [00:02<00:00,  1.20s/it]\n"
     ]
    },
    {
     "name": "stdout",
     "output_type": "stream",
     "text": [
      "validation (log loss) : 1.7571281027194612\n",
      "validation (accuracy) : 0.95125\n",
      "validation best accuracy :  0.9675\n",
      "end validation! (epoch : 455)\n",
      "==================================================\n",
      "start training! (epoch : 456)\n"
     ]
    },
    {
     "name": "stderr",
     "output_type": "stream",
     "text": [
      "100%|█████████████████████████████████████████████████████████████████████████████████| 5/5 [00:22<00:00,  4.46s/it]\n"
     ]
    },
    {
     "name": "stdout",
     "output_type": "stream",
     "text": [
      "training (log loss) : 0.7509094456066076\n",
      "training (accuracy) : 0.9791666666666666\n",
      "end training! (epoch : 456)\n",
      "==================================================\n",
      "start validation! (epoch : 456)\n"
     ]
    },
    {
     "name": "stderr",
     "output_type": "stream",
     "text": [
      "100%|█████████████████████████████████████████████████████████████████████████████████| 2/2 [00:02<00:00,  1.21s/it]\n"
     ]
    },
    {
     "name": "stdout",
     "output_type": "stream",
     "text": [
      "validation (log loss) : 1.712073535983065\n",
      "validation (accuracy) : 0.9525\n",
      "validation best accuracy :  0.9675\n",
      "end validation! (epoch : 456)\n",
      "==================================================\n",
      "start training! (epoch : 457)\n"
     ]
    },
    {
     "name": "stderr",
     "output_type": "stream",
     "text": [
      "100%|█████████████████████████████████████████████████████████████████████████████████| 5/5 [00:16<00:00,  3.40s/it]\n"
     ]
    },
    {
     "name": "stdout",
     "output_type": "stream",
     "text": [
      "training (log loss) : 0.8109822012551361\n",
      "training (accuracy) : 0.9775\n",
      "end training! (epoch : 457)\n",
      "==================================================\n",
      "start validation! (epoch : 457)\n"
     ]
    },
    {
     "name": "stderr",
     "output_type": "stream",
     "text": [
      "100%|█████████████████████████████████████████████████████████████████████████████████| 2/2 [00:02<00:00,  1.21s/it]\n"
     ]
    },
    {
     "name": "stdout",
     "output_type": "stream",
     "text": [
      "validation (log loss) : 3.3340379384933363\n",
      "validation (accuracy) : 0.9075\n",
      "validation best accuracy :  0.9675\n",
      "end validation! (epoch : 457)\n",
      "==================================================\n",
      "start training! (epoch : 458)\n"
     ]
    },
    {
     "name": "stderr",
     "output_type": "stream",
     "text": [
      "100%|█████████████████████████████████████████████████████████████████████████████████| 5/5 [00:19<00:00,  3.87s/it]\n"
     ]
    },
    {
     "name": "stdout",
     "output_type": "stream",
     "text": [
      "training (log loss) : 0.585709367573154\n",
      "training (accuracy) : 0.98375\n",
      "end training! (epoch : 458)\n",
      "==================================================\n",
      "start validation! (epoch : 458)\n"
     ]
    },
    {
     "name": "stderr",
     "output_type": "stream",
     "text": [
      "100%|█████████████████████████████████████████████████████████████████████████████████| 2/2 [00:02<00:00,  1.22s/it]\n"
     ]
    },
    {
     "name": "stdout",
     "output_type": "stream",
     "text": [
      "validation (log loss) : 2.0725100698742365\n",
      "validation (accuracy) : 0.9425\n",
      "validation best accuracy :  0.9675\n",
      "end validation! (epoch : 458)\n",
      "==================================================\n",
      "start training! (epoch : 459)\n"
     ]
    },
    {
     "name": "stderr",
     "output_type": "stream",
     "text": [
      "100%|█████████████████████████████████████████████████████████████████████████████████| 5/5 [00:19<00:00,  3.88s/it]\n"
     ]
    },
    {
     "name": "stdout",
     "output_type": "stream",
     "text": [
      "training (log loss) : 0.690836689958079\n",
      "training (accuracy) : 0.9808333333333333\n",
      "end training! (epoch : 459)\n",
      "==================================================\n",
      "start validation! (epoch : 459)\n"
     ]
    },
    {
     "name": "stderr",
     "output_type": "stream",
     "text": [
      "100%|█████████████████████████████████████████████████████████████████████████████████| 2/2 [00:02<00:00,  1.26s/it]\n"
     ]
    },
    {
     "name": "stdout",
     "output_type": "stream",
     "text": [
      "validation (log loss) : 2.1175646366106324\n",
      "validation (accuracy) : 0.94125\n",
      "validation best accuracy :  0.9675\n",
      "end validation! (epoch : 459)\n",
      "==================================================\n",
      "start training! (epoch : 460)\n"
     ]
    },
    {
     "name": "stderr",
     "output_type": "stream",
     "text": [
      "100%|█████████████████████████████████████████████████████████████████████████████████| 5/5 [00:20<00:00,  4.18s/it]\n"
     ]
    },
    {
     "name": "stdout",
     "output_type": "stream",
     "text": [
      "training (log loss) : 0.49560023410036097\n",
      "training (accuracy) : 0.98625\n",
      "end training! (epoch : 460)\n",
      "==================================================\n",
      "start validation! (epoch : 460)\n"
     ]
    },
    {
     "name": "stderr",
     "output_type": "stream",
     "text": [
      "100%|█████████████████████████████████████████████████████████████████████████████████| 2/2 [00:02<00:00,  1.27s/it]\n"
     ]
    },
    {
     "name": "stdout",
     "output_type": "stream",
     "text": [
      "validation (log loss) : 2.0725100698742365\n",
      "validation (accuracy) : 0.9425\n",
      "validation best accuracy :  0.9675\n",
      "end validation! (epoch : 460)\n",
      "==================================================\n",
      "start training! (epoch : 461)\n"
     ]
    },
    {
     "name": "stderr",
     "output_type": "stream",
     "text": [
      "100%|█████████████████████████████████████████████████████████████████████████████████| 5/5 [00:21<00:00,  4.29s/it]\n"
     ]
    },
    {
     "name": "stdout",
     "output_type": "stream",
     "text": [
      "training (log loss) : 0.5256366119246254\n",
      "training (accuracy) : 0.9854166666666667\n",
      "end training! (epoch : 461)\n",
      "==================================================\n",
      "start validation! (epoch : 461)\n"
     ]
    },
    {
     "name": "stderr",
     "output_type": "stream",
     "text": [
      "100%|█████████████████████████████████████████████████████████████████████████████████| 2/2 [00:02<00:00,  1.22s/it]\n"
     ]
    },
    {
     "name": "stdout",
     "output_type": "stream",
     "text": [
      "validation (log loss) : 2.117564636610633\n",
      "validation (accuracy) : 0.94125\n",
      "validation best accuracy :  0.9675\n",
      "end validation! (epoch : 461)\n",
      "==================================================\n",
      "start training! (epoch : 462)\n"
     ]
    },
    {
     "name": "stderr",
     "output_type": "stream",
     "text": [
      "100%|█████████████████████████████████████████████████████████████████████████████████| 5/5 [00:17<00:00,  3.58s/it]\n"
     ]
    },
    {
     "name": "stdout",
     "output_type": "stream",
     "text": [
      "training (log loss) : 0.5106184230124933\n",
      "training (accuracy) : 0.9858333333333333\n",
      "end training! (epoch : 462)\n",
      "==================================================\n",
      "start validation! (epoch : 462)\n"
     ]
    },
    {
     "name": "stderr",
     "output_type": "stream",
     "text": [
      "100%|█████████████████████████████████████████████████████████████████████████████████| 2/2 [00:02<00:00,  1.24s/it]\n"
     ]
    },
    {
     "name": "stdout",
     "output_type": "stream",
     "text": [
      "validation (log loss) : 2.4329466037654077\n",
      "validation (accuracy) : 0.9325\n",
      "validation best accuracy :  0.9675\n",
      "end validation! (epoch : 462)\n",
      "==================================================\n",
      "start training! (epoch : 463)\n"
     ]
    },
    {
     "name": "stderr",
     "output_type": "stream",
     "text": [
      "100%|█████████████████████████████████████████████████████████████████████████████████| 5/5 [00:19<00:00,  3.82s/it]\n"
     ]
    },
    {
     "name": "stdout",
     "output_type": "stream",
     "text": [
      "training (log loss) : 0.6007275564852861\n",
      "training (accuracy) : 0.9833333333333333\n",
      "end training! (epoch : 463)\n",
      "==================================================\n",
      "start validation! (epoch : 463)\n"
     ]
    },
    {
     "name": "stderr",
     "output_type": "stream",
     "text": [
      "100%|█████████████████████████████████████████████████████████████████████████████████| 2/2 [00:02<00:00,  1.23s/it]\n"
     ]
    },
    {
     "name": "stdout",
     "output_type": "stream",
     "text": [
      "validation (log loss) : 1.4868007023010825\n",
      "validation (accuracy) : 0.95875\n",
      "validation best accuracy :  0.9675\n",
      "end validation! (epoch : 463)\n",
      "==================================================\n",
      "start training! (epoch : 464)\n"
     ]
    },
    {
     "name": "stderr",
     "output_type": "stream",
     "text": [
      "100%|█████████████████████████████████████████████████████████████████████████████████| 5/5 [00:19<00:00,  3.94s/it]\n"
     ]
    },
    {
     "name": "stdout",
     "output_type": "stream",
     "text": [
      "training (log loss) : 0.4956002341003611\n",
      "training (accuracy) : 0.98625\n",
      "end training! (epoch : 464)\n",
      "==================================================\n",
      "start validation! (epoch : 464)\n"
     ]
    },
    {
     "name": "stderr",
     "output_type": "stream",
     "text": [
      "100%|█████████████████████████████████████████████████████████████████████████████████| 2/2 [00:02<00:00,  1.22s/it]\n"
     ]
    },
    {
     "name": "stdout",
     "output_type": "stream",
     "text": [
      "validation (log loss) : 1.6219644025102717\n",
      "validation (accuracy) : 0.955\n",
      "validation best accuracy :  0.9675\n",
      "end validation! (epoch : 464)\n",
      "==================================================\n",
      "start training! (epoch : 465)\n"
     ]
    },
    {
     "name": "stderr",
     "output_type": "stream",
     "text": [
      "100%|█████████████████████████████████████████████████████████████████████████████████| 5/5 [00:21<00:00,  4.25s/it]\n"
     ]
    },
    {
     "name": "stdout",
     "output_type": "stream",
     "text": [
      "training (log loss) : 0.5256366119246254\n",
      "training (accuracy) : 0.9854166666666667\n",
      "end training! (epoch : 465)\n",
      "==================================================\n",
      "start validation! (epoch : 465)\n"
     ]
    },
    {
     "name": "stderr",
     "output_type": "stream",
     "text": [
      "100%|█████████████████████████████████████████████████████████████████████████████████| 2/2 [00:02<00:00,  1.20s/it]\n"
     ]
    },
    {
     "name": "stdout",
     "output_type": "stream",
     "text": [
      "validation (log loss) : 2.1626192033470293\n",
      "validation (accuracy) : 0.94\n",
      "validation best accuracy :  0.9675\n",
      "end validation! (epoch : 465)\n",
      "==================================================\n",
      "start training! (epoch : 466)\n"
     ]
    },
    {
     "name": "stderr",
     "output_type": "stream",
     "text": [
      "100%|█████████████████████████████████████████████████████████████████████████████████| 5/5 [00:21<00:00,  4.24s/it]\n"
     ]
    },
    {
     "name": "stdout",
     "output_type": "stream",
     "text": [
      "training (log loss) : 0.43552747845183243\n",
      "training (accuracy) : 0.9879166666666667\n",
      "end training! (epoch : 466)\n",
      "==================================================\n",
      "start validation! (epoch : 466)\n"
     ]
    },
    {
     "name": "stderr",
     "output_type": "stream",
     "text": [
      "100%|█████████████████████████████████████████████████████████████████████████████████| 2/2 [00:02<00:00,  1.20s/it]\n"
     ]
    },
    {
     "name": "stdout",
     "output_type": "stream",
     "text": [
      "validation (log loss) : 1.39669156882829\n",
      "validation (accuracy) : 0.96125\n",
      "validation best accuracy :  0.9675\n",
      "end validation! (epoch : 466)\n",
      "==================================================\n",
      "start training! (epoch : 467)\n"
     ]
    },
    {
     "name": "stderr",
     "output_type": "stream",
     "text": [
      "100%|█████████████████████████████████████████████████████████████████████████████████| 5/5 [00:20<00:00,  4.02s/it]\n"
     ]
    },
    {
     "name": "stdout",
     "output_type": "stream",
     "text": [
      "training (log loss) : 0.7208730677823434\n",
      "training (accuracy) : 0.98\n",
      "end training! (epoch : 467)\n",
      "==================================================\n",
      "start validation! (epoch : 467)\n"
     ]
    },
    {
     "name": "stderr",
     "output_type": "stream",
     "text": [
      "100%|█████████████████████████████████████████████████████████████████████████████████| 2/2 [00:02<00:00,  1.21s/it]\n"
     ]
    },
    {
     "name": "stdout",
     "output_type": "stream",
     "text": [
      "validation (log loss) : 2.162619203347029\n",
      "validation (accuracy) : 0.94\n",
      "validation best accuracy :  0.9675\n",
      "end validation! (epoch : 467)\n",
      "==================================================\n",
      "start training! (epoch : 468)\n"
     ]
    },
    {
     "name": "stderr",
     "output_type": "stream",
     "text": [
      "100%|█████████████████████████████████████████████████████████████████████████████████| 5/5 [00:20<00:00,  4.09s/it]\n"
     ]
    },
    {
     "name": "stdout",
     "output_type": "stream",
     "text": [
      "training (log loss) : 0.585709367573154\n",
      "training (accuracy) : 0.98375\n",
      "end training! (epoch : 468)\n",
      "==================================================\n",
      "start validation! (epoch : 468)\n"
     ]
    },
    {
     "name": "stderr",
     "output_type": "stream",
     "text": [
      "100%|█████████████████████████████████████████████████████████████████████████████████| 2/2 [00:02<00:00,  1.22s/it]\n"
     ]
    },
    {
     "name": "stdout",
     "output_type": "stream",
     "text": [
      "validation (log loss) : 3.1538196715477507\n",
      "validation (accuracy) : 0.9125\n",
      "validation best accuracy :  0.9675\n",
      "end validation! (epoch : 468)\n",
      "==================================================\n",
      "start training! (epoch : 469)\n"
     ]
    },
    {
     "name": "stderr",
     "output_type": "stream",
     "text": [
      "100%|█████████████████████████████████████████████████████████████████████████████████| 5/5 [00:19<00:00,  3.81s/it]\n"
     ]
    },
    {
     "name": "stdout",
     "output_type": "stream",
     "text": [
      "training (log loss) : 0.43552747845183243\n",
      "training (accuracy) : 0.9879166666666667\n",
      "end training! (epoch : 469)\n",
      "==================================================\n",
      "start validation! (epoch : 469)\n"
     ]
    },
    {
     "name": "stderr",
     "output_type": "stream",
     "text": [
      "100%|█████████████████████████████████████████████████████████████████████████████████| 2/2 [00:02<00:00,  1.19s/it]\n"
     ]
    },
    {
     "name": "stdout",
     "output_type": "stream",
     "text": [
      "validation (log loss) : 1.8922918029286506\n",
      "validation (accuracy) : 0.9475\n",
      "validation best accuracy :  0.9675\n",
      "end validation! (epoch : 469)\n",
      "==================================================\n",
      "start training! (epoch : 470)\n"
     ]
    },
    {
     "name": "stderr",
     "output_type": "stream",
     "text": [
      "100%|█████████████████████████████████████████████████████████████████████████████████| 5/5 [00:20<00:00,  4.06s/it]\n"
     ]
    },
    {
     "name": "stdout",
     "output_type": "stream",
     "text": [
      "training (log loss) : 0.5556729897488897\n",
      "training (accuracy) : 0.9845833333333334\n",
      "end training! (epoch : 470)\n",
      "==================================================\n",
      "start validation! (epoch : 470)\n"
     ]
    },
    {
     "name": "stderr",
     "output_type": "stream",
     "text": [
      "100%|█████████████████████████████████████████████████████████████████████████████████| 2/2 [00:02<00:00,  1.19s/it]\n"
     ]
    },
    {
     "name": "stdout",
     "output_type": "stream",
     "text": [
      "validation (log loss) : 1.5769098357738756\n",
      "validation (accuracy) : 0.95625\n",
      "validation best accuracy :  0.9675\n",
      "end validation! (epoch : 470)\n",
      "==================================================\n",
      "start training! (epoch : 471)\n"
     ]
    },
    {
     "name": "stderr",
     "output_type": "stream",
     "text": [
      "100%|█████████████████████████████████████████████████████████████████████████████████| 5/5 [00:18<00:00,  3.67s/it]\n"
     ]
    },
    {
     "name": "stdout",
     "output_type": "stream",
     "text": [
      "training (log loss) : 0.5256366119246254\n",
      "training (accuracy) : 0.9854166666666667\n",
      "end training! (epoch : 471)\n",
      "==================================================\n",
      "start validation! (epoch : 471)\n"
     ]
    },
    {
     "name": "stderr",
     "output_type": "stream",
     "text": [
      "100%|█████████████████████████████████████████████████████████████████████████████████| 2/2 [00:02<00:00,  1.21s/it]\n"
     ]
    },
    {
     "name": "stdout",
     "output_type": "stream",
     "text": [
      "validation (log loss) : 1.7571281027194612\n",
      "validation (accuracy) : 0.95125\n",
      "validation best accuracy :  0.9675\n",
      "end validation! (epoch : 471)\n",
      "==================================================\n",
      "start training! (epoch : 472)\n"
     ]
    },
    {
     "name": "stderr",
     "output_type": "stream",
     "text": [
      "100%|█████████████████████████████████████████████████████████████████████████████████| 5/5 [00:18<00:00,  3.79s/it]\n"
     ]
    },
    {
     "name": "stdout",
     "output_type": "stream",
     "text": [
      "training (log loss) : 0.5106184230124933\n",
      "training (accuracy) : 0.9858333333333333\n",
      "end training! (epoch : 472)\n",
      "==================================================\n",
      "start validation! (epoch : 472)\n"
     ]
    },
    {
     "name": "stderr",
     "output_type": "stream",
     "text": [
      "100%|█████████████████████████████████████████████████████████████████████████████████| 2/2 [00:02<00:00,  1.25s/it]\n"
     ]
    },
    {
     "name": "stdout",
     "output_type": "stream",
     "text": [
      "validation (log loss) : 1.5769098357738756\n",
      "validation (accuracy) : 0.95625\n",
      "validation best accuracy :  0.9675\n",
      "end validation! (epoch : 472)\n",
      "==================================================\n",
      "start training! (epoch : 473)\n"
     ]
    },
    {
     "name": "stderr",
     "output_type": "stream",
     "text": [
      "100%|█████████████████████████████████████████████████████████████████████████████████| 5/5 [00:17<00:00,  3.56s/it]\n"
     ]
    },
    {
     "name": "stdout",
     "output_type": "stream",
     "text": [
      "training (log loss) : 0.3153819671547753\n",
      "training (accuracy) : 0.99125\n",
      "end training! (epoch : 473)\n",
      "==================================================\n",
      "start validation! (epoch : 473)\n"
     ]
    },
    {
     "name": "stderr",
     "output_type": "stream",
     "text": [
      "100%|█████████████████████████████████████████████████████████████████████████████████| 2/2 [00:02<00:00,  1.22s/it]\n"
     ]
    },
    {
     "name": "stdout",
     "output_type": "stream",
     "text": [
      "validation (log loss) : 1.4868007023010827\n",
      "validation (accuracy) : 0.95875\n",
      "validation best accuracy :  0.9675\n",
      "end validation! (epoch : 473)\n",
      "==================================================\n",
      "start training! (epoch : 474)\n"
     ]
    },
    {
     "name": "stderr",
     "output_type": "stream",
     "text": [
      "100%|█████████████████████████████████████████████████████████████████████████████████| 5/5 [00:19<00:00,  3.85s/it]\n"
     ]
    },
    {
     "name": "stdout",
     "output_type": "stream",
     "text": [
      "training (log loss) : 0.4054911006275682\n",
      "training (accuracy) : 0.98875\n",
      "end training! (epoch : 474)\n",
      "==================================================\n",
      "start validation! (epoch : 474)\n"
     ]
    },
    {
     "name": "stderr",
     "output_type": "stream",
     "text": [
      "100%|█████████████████████████████████████████████████████████████████████████████████| 2/2 [00:02<00:00,  1.21s/it]\n"
     ]
    },
    {
     "name": "stdout",
     "output_type": "stream",
     "text": [
      "validation (log loss) : 1.5318552690374794\n",
      "validation (accuracy) : 0.9575\n",
      "validation best accuracy :  0.9675\n",
      "end validation! (epoch : 474)\n",
      "==================================================\n",
      "start training! (epoch : 475)\n"
     ]
    },
    {
     "name": "stderr",
     "output_type": "stream",
     "text": [
      "100%|█████████████████████████████████████████████████████████████████████████████████| 5/5 [00:18<00:00,  3.77s/it]\n"
     ]
    },
    {
     "name": "stdout",
     "output_type": "stream",
     "text": [
      "training (log loss) : 0.3754547228033039\n",
      "training (accuracy) : 0.9895833333333334\n",
      "end training! (epoch : 475)\n",
      "==================================================\n",
      "start validation! (epoch : 475)\n"
     ]
    },
    {
     "name": "stderr",
     "output_type": "stream",
     "text": [
      "100%|█████████████████████████████████████████████████████████████████████████████████| 2/2 [00:02<00:00,  1.20s/it]\n"
     ]
    },
    {
     "name": "stdout",
     "output_type": "stream",
     "text": [
      "validation (log loss) : 1.4868007023010827\n",
      "validation (accuracy) : 0.95875\n",
      "validation best accuracy :  0.9675\n",
      "end validation! (epoch : 475)\n",
      "==================================================\n",
      "start training! (epoch : 476)\n"
     ]
    },
    {
     "name": "stderr",
     "output_type": "stream",
     "text": [
      "100%|█████████████████████████████████████████████████████████████████████████████████| 5/5 [00:17<00:00,  3.50s/it]\n"
     ]
    },
    {
     "name": "stdout",
     "output_type": "stream",
     "text": [
      "training (log loss) : 0.42050928953970035\n",
      "training (accuracy) : 0.9883333333333333\n",
      "end training! (epoch : 476)\n",
      "==================================================\n",
      "start validation! (epoch : 476)\n"
     ]
    },
    {
     "name": "stderr",
     "output_type": "stream",
     "text": [
      "100%|█████████████████████████████████████████████████████████████████████████████████| 2/2 [00:02<00:00,  1.21s/it]\n"
     ]
    },
    {
     "name": "stdout",
     "output_type": "stream",
     "text": [
      "validation (log loss) : 1.5769098357738756\n",
      "validation (accuracy) : 0.95625\n",
      "validation best accuracy :  0.9675\n",
      "end validation! (epoch : 476)\n",
      "==================================================\n",
      "start training! (epoch : 477)\n"
     ]
    },
    {
     "name": "stderr",
     "output_type": "stream",
     "text": [
      "100%|█████████████████████████████████████████████████████████████████████████████████| 5/5 [00:18<00:00,  3.77s/it]\n"
     ]
    },
    {
     "name": "stdout",
     "output_type": "stream",
     "text": [
      "training (log loss) : 0.43552747845183243\n",
      "training (accuracy) : 0.9879166666666667\n",
      "end training! (epoch : 477)\n",
      "==================================================\n",
      "start validation! (epoch : 477)\n"
     ]
    },
    {
     "name": "stderr",
     "output_type": "stream",
     "text": [
      "100%|█████████████████████████████████████████████████████████████████████████████████| 2/2 [00:02<00:00,  1.23s/it]\n"
     ]
    },
    {
     "name": "stdout",
     "output_type": "stream",
     "text": [
      "validation (log loss) : 1.6219644025102717\n",
      "validation (accuracy) : 0.955\n",
      "validation best accuracy :  0.9675\n",
      "end validation! (epoch : 477)\n",
      "==================================================\n",
      "start training! (epoch : 478)\n"
     ]
    },
    {
     "name": "stderr",
     "output_type": "stream",
     "text": [
      "100%|█████████████████████████████████████████████████████████████████████████████████| 5/5 [00:19<00:00,  3.94s/it]\n"
     ]
    },
    {
     "name": "stdout",
     "output_type": "stream",
     "text": [
      "training (log loss) : 0.36043653389117175\n",
      "training (accuracy) : 0.99\n",
      "end training! (epoch : 478)\n",
      "==================================================\n",
      "start validation! (epoch : 478)\n"
     ]
    },
    {
     "name": "stderr",
     "output_type": "stream",
     "text": [
      "100%|█████████████████████████████████████████████████████████████████████████████████| 2/2 [00:02<00:00,  1.22s/it]\n"
     ]
    },
    {
     "name": "stdout",
     "output_type": "stream",
     "text": [
      "validation (log loss) : 2.1175646366106324\n",
      "validation (accuracy) : 0.94125\n",
      "validation best accuracy :  0.9675\n",
      "end validation! (epoch : 478)\n",
      "==================================================\n",
      "start training! (epoch : 479)\n"
     ]
    },
    {
     "name": "stderr",
     "output_type": "stream",
     "text": [
      "100%|█████████████████████████████████████████████████████████████████████████████████| 5/5 [00:18<00:00,  3.79s/it]\n"
     ]
    },
    {
     "name": "stdout",
     "output_type": "stream",
     "text": [
      "training (log loss) : 0.43552747845183243\n",
      "training (accuracy) : 0.9879166666666667\n",
      "end training! (epoch : 479)\n",
      "==================================================\n",
      "start validation! (epoch : 479)\n"
     ]
    },
    {
     "name": "stderr",
     "output_type": "stream",
     "text": [
      "100%|█████████████████████████████████████████████████████████████████████████████████| 2/2 [00:02<00:00,  1.20s/it]\n"
     ]
    },
    {
     "name": "stdout",
     "output_type": "stream",
     "text": [
      "validation (log loss) : 1.8021826694558576\n",
      "validation (accuracy) : 0.95\n",
      "validation best accuracy :  0.9675\n",
      "end validation! (epoch : 479)\n",
      "==================================================\n",
      "start training! (epoch : 480)\n"
     ]
    },
    {
     "name": "stderr",
     "output_type": "stream",
     "text": [
      "100%|█████████████████████████████████████████████████████████████████████████████████| 5/5 [00:21<00:00,  4.32s/it]\n"
     ]
    },
    {
     "name": "stdout",
     "output_type": "stream",
     "text": [
      "training (log loss) : 0.4655638562760968\n",
      "training (accuracy) : 0.9870833333333333\n",
      "end training! (epoch : 480)\n",
      "==================================================\n",
      "start validation! (epoch : 480)\n"
     ]
    },
    {
     "name": "stderr",
     "output_type": "stream",
     "text": [
      "100%|█████████████████████████████████████████████████████████████████████████████████| 2/2 [00:02<00:00,  1.19s/it]\n"
     ]
    },
    {
     "name": "stdout",
     "output_type": "stream",
     "text": [
      "validation (log loss) : 1.5769098357738756\n",
      "validation (accuracy) : 0.95625\n",
      "validation best accuracy :  0.9675\n",
      "end validation! (epoch : 480)\n",
      "==================================================\n",
      "start training! (epoch : 481)\n"
     ]
    },
    {
     "name": "stderr",
     "output_type": "stream",
     "text": [
      "100%|█████████████████████████████████████████████████████████████████████████████████| 5/5 [00:19<00:00,  3.91s/it]\n"
     ]
    },
    {
     "name": "stdout",
     "output_type": "stream",
     "text": [
      "training (log loss) : 0.3904729117154361\n",
      "training (accuracy) : 0.9891666666666666\n",
      "end training! (epoch : 481)\n",
      "==================================================\n",
      "start validation! (epoch : 481)\n"
     ]
    },
    {
     "name": "stderr",
     "output_type": "stream",
     "text": [
      "100%|█████████████████████████████████████████████████████████████████████████████████| 2/2 [00:02<00:00,  1.23s/it]\n"
     ]
    },
    {
     "name": "stdout",
     "output_type": "stream",
     "text": [
      "validation (log loss) : 1.6219644025102717\n",
      "validation (accuracy) : 0.955\n",
      "validation best accuracy :  0.9675\n",
      "end validation! (epoch : 481)\n",
      "==================================================\n",
      "start training! (epoch : 482)\n"
     ]
    },
    {
     "name": "stderr",
     "output_type": "stream",
     "text": [
      "100%|█████████████████████████████████████████████████████████████████████████████████| 5/5 [00:19<00:00,  3.93s/it]\n"
     ]
    },
    {
     "name": "stdout",
     "output_type": "stream",
     "text": [
      "training (log loss) : 0.2252728336819824\n",
      "training (accuracy) : 0.99375\n",
      "end training! (epoch : 482)\n",
      "==================================================\n",
      "start validation! (epoch : 482)\n"
     ]
    },
    {
     "name": "stderr",
     "output_type": "stream",
     "text": [
      "100%|█████████████████████████████████████████████████████████████████████████████████| 2/2 [00:02<00:00,  1.28s/it]\n"
     ]
    },
    {
     "name": "stdout",
     "output_type": "stream",
     "text": [
      "validation (log loss) : 1.4417461355646861\n",
      "validation (accuracy) : 0.96\n",
      "validation best accuracy :  0.9675\n",
      "end validation! (epoch : 482)\n",
      "==================================================\n",
      "start training! (epoch : 483)\n"
     ]
    },
    {
     "name": "stderr",
     "output_type": "stream",
     "text": [
      "100%|█████████████████████████████████████████████████████████████████████████████████| 5/5 [00:21<00:00,  4.37s/it]\n"
     ]
    },
    {
     "name": "stdout",
     "output_type": "stream",
     "text": [
      "training (log loss) : 0.24029102259411456\n",
      "training (accuracy) : 0.9933333333333333\n",
      "end training! (epoch : 483)\n",
      "==================================================\n",
      "start validation! (epoch : 483)\n"
     ]
    },
    {
     "name": "stderr",
     "output_type": "stream",
     "text": [
      "100%|█████████████████████████████████████████████████████████████████████████████████| 2/2 [00:02<00:00,  1.20s/it]\n"
     ]
    },
    {
     "name": "stdout",
     "output_type": "stream",
     "text": [
      "validation (log loss) : 1.4417461355646861\n",
      "validation (accuracy) : 0.96\n",
      "validation best accuracy :  0.9675\n",
      "end validation! (epoch : 483)\n",
      "==================================================\n",
      "start training! (epoch : 484)\n"
     ]
    },
    {
     "name": "stderr",
     "output_type": "stream",
     "text": [
      "100%|█████████████████████████████████████████████████████████████████████████████████| 5/5 [00:20<00:00,  4.07s/it]\n"
     ]
    },
    {
     "name": "stdout",
     "output_type": "stream",
     "text": [
      "training (log loss) : 0.1501818891213217\n",
      "training (accuracy) : 0.9958333333333333\n",
      "end training! (epoch : 484)\n",
      "==================================================\n",
      "start validation! (epoch : 484)\n"
     ]
    },
    {
     "name": "stderr",
     "output_type": "stream",
     "text": [
      "100%|█████████████████████████████████████████████████████████████████████████████████| 2/2 [00:02<00:00,  1.22s/it]\n"
     ]
    },
    {
     "name": "stdout",
     "output_type": "stream",
     "text": [
      "validation (log loss) : 1.3516370020918933\n",
      "validation (accuracy) : 0.9625\n",
      "validation best accuracy :  0.9675\n",
      "end validation! (epoch : 484)\n",
      "==================================================\n",
      "start training! (epoch : 485)\n"
     ]
    },
    {
     "name": "stderr",
     "output_type": "stream",
     "text": [
      "100%|█████████████████████████████████████████████████████████████████████████████████| 5/5 [00:18<00:00,  3.70s/it]\n"
     ]
    },
    {
     "name": "stdout",
     "output_type": "stream",
     "text": [
      "training (log loss) : 0.34541834497903956\n",
      "training (accuracy) : 0.9904166666666666\n",
      "end training! (epoch : 485)\n",
      "==================================================\n",
      "start validation! (epoch : 485)\n"
     ]
    },
    {
     "name": "stderr",
     "output_type": "stream",
     "text": [
      "100%|█████████████████████████████████████████████████████████████████████████████████| 2/2 [00:02<00:00,  1.23s/it]\n"
     ]
    },
    {
     "name": "stdout",
     "output_type": "stream",
     "text": [
      "validation (log loss) : 1.3516370020918935\n",
      "validation (accuracy) : 0.9625\n",
      "validation best accuracy :  0.9675\n",
      "end validation! (epoch : 485)\n",
      "==================================================\n",
      "start training! (epoch : 486)\n"
     ]
    },
    {
     "name": "stderr",
     "output_type": "stream",
     "text": [
      "100%|█████████████████████████████████████████████████████████████████████████████████| 5/5 [00:19<00:00,  3.81s/it]\n"
     ]
    },
    {
     "name": "stdout",
     "output_type": "stream",
     "text": [
      "training (log loss) : 0.34541834497903956\n",
      "training (accuracy) : 0.9904166666666666\n",
      "end training! (epoch : 486)\n",
      "==================================================\n",
      "start validation! (epoch : 486)\n"
     ]
    },
    {
     "name": "stderr",
     "output_type": "stream",
     "text": [
      "100%|█████████████████████████████████████████████████████████████████████████████████| 2/2 [00:02<00:00,  1.25s/it]\n"
     ]
    },
    {
     "name": "stdout",
     "output_type": "stream",
     "text": [
      "validation (log loss) : 1.3516370020918933\n",
      "validation (accuracy) : 0.9625\n",
      "validation best accuracy :  0.9675\n",
      "end validation! (epoch : 486)\n",
      "==================================================\n",
      "start training! (epoch : 487)\n"
     ]
    },
    {
     "name": "stderr",
     "output_type": "stream",
     "text": [
      "100%|█████████████████████████████████████████████████████████████████████████████████| 5/5 [00:18<00:00,  3.78s/it]\n"
     ]
    },
    {
     "name": "stdout",
     "output_type": "stream",
     "text": [
      "training (log loss) : 0.24029102259411458\n",
      "training (accuracy) : 0.9933333333333333\n",
      "end training! (epoch : 487)\n",
      "==================================================\n",
      "start validation! (epoch : 487)\n"
     ]
    },
    {
     "name": "stderr",
     "output_type": "stream",
     "text": [
      "100%|█████████████████████████████████████████████████████████████████████████████████| 2/2 [00:02<00:00,  1.39s/it]\n"
     ]
    },
    {
     "name": "stdout",
     "output_type": "stream",
     "text": [
      "validation (log loss) : 1.3516370020918933\n",
      "validation (accuracy) : 0.9625\n",
      "validation best accuracy :  0.9675\n",
      "end validation! (epoch : 487)\n",
      "==================================================\n",
      "start training! (epoch : 488)\n"
     ]
    },
    {
     "name": "stderr",
     "output_type": "stream",
     "text": [
      "100%|█████████████████████████████████████████████████████████████████████████████████| 5/5 [00:18<00:00,  3.74s/it]\n"
     ]
    },
    {
     "name": "stdout",
     "output_type": "stream",
     "text": [
      "training (log loss) : 0.2252728336819824\n",
      "training (accuracy) : 0.99375\n",
      "end training! (epoch : 488)\n",
      "==================================================\n",
      "start validation! (epoch : 488)\n"
     ]
    },
    {
     "name": "stderr",
     "output_type": "stream",
     "text": [
      "100%|█████████████████████████████████████████████████████████████████████████████████| 2/2 [00:02<00:00,  1.22s/it]\n"
     ]
    },
    {
     "name": "stdout",
     "output_type": "stream",
     "text": [
      "validation (log loss) : 1.4868007023010825\n",
      "validation (accuracy) : 0.95875\n",
      "validation best accuracy :  0.9675\n",
      "end validation! (epoch : 488)\n",
      "==================================================\n",
      "start training! (epoch : 489)\n"
     ]
    },
    {
     "name": "stderr",
     "output_type": "stream",
     "text": [
      "100%|█████████████████████████████████████████████████████████████████████████████████| 5/5 [00:18<00:00,  3.73s/it]\n"
     ]
    },
    {
     "name": "stdout",
     "output_type": "stream",
     "text": [
      "training (log loss) : 0.2703274004183788\n",
      "training (accuracy) : 0.9925\n",
      "end training! (epoch : 489)\n",
      "==================================================\n",
      "start validation! (epoch : 489)\n"
     ]
    },
    {
     "name": "stderr",
     "output_type": "stream",
     "text": [
      "100%|█████████████████████████████████████████████████████████████████████████████████| 2/2 [00:02<00:00,  1.21s/it]\n"
     ]
    },
    {
     "name": "stdout",
     "output_type": "stream",
     "text": [
      "validation (log loss) : 1.531855269037479\n",
      "validation (accuracy) : 0.9575\n",
      "validation best accuracy :  0.9675\n",
      "end validation! (epoch : 489)\n",
      "==================================================\n",
      "start training! (epoch : 490)\n"
     ]
    },
    {
     "name": "stderr",
     "output_type": "stream",
     "text": [
      "100%|█████████████████████████████████████████████████████████████████████████████████| 5/5 [00:20<00:00,  4.05s/it]\n"
     ]
    },
    {
     "name": "stdout",
     "output_type": "stream",
     "text": [
      "training (log loss) : 0.16520007803345385\n",
      "training (accuracy) : 0.9954166666666666\n",
      "end training! (epoch : 490)\n",
      "==================================================\n",
      "start validation! (epoch : 490)\n"
     ]
    },
    {
     "name": "stderr",
     "output_type": "stream",
     "text": [
      "100%|█████████████████████████████████████████████████████████████████████████████████| 2/2 [00:02<00:00,  1.21s/it]\n"
     ]
    },
    {
     "name": "stdout",
     "output_type": "stream",
     "text": [
      "validation (log loss) : 1.4868007023010825\n",
      "validation (accuracy) : 0.95875\n",
      "validation best accuracy :  0.9675\n",
      "end validation! (epoch : 490)\n",
      "==================================================\n",
      "start training! (epoch : 491)\n"
     ]
    },
    {
     "name": "stderr",
     "output_type": "stream",
     "text": [
      "100%|█████████████████████████████████████████████████████████████████████████████████| 5/5 [00:20<00:00,  4.14s/it]\n"
     ]
    },
    {
     "name": "stdout",
     "output_type": "stream",
     "text": [
      "training (log loss) : 0.28534558933051096\n",
      "training (accuracy) : 0.9920833333333333\n",
      "end training! (epoch : 491)\n",
      "==================================================\n",
      "start validation! (epoch : 491)\n"
     ]
    },
    {
     "name": "stderr",
     "output_type": "stream",
     "text": [
      "100%|█████████████████████████████████████████████████████████████████████████████████| 2/2 [00:02<00:00,  1.24s/it]\n"
     ]
    },
    {
     "name": "stdout",
     "output_type": "stream",
     "text": [
      "validation (log loss) : 1.4868007023010827\n",
      "validation (accuracy) : 0.95875\n",
      "validation best accuracy :  0.9675\n",
      "end validation! (epoch : 491)\n",
      "==================================================\n",
      "start training! (epoch : 492)\n"
     ]
    },
    {
     "name": "stderr",
     "output_type": "stream",
     "text": [
      "100%|█████████████████████████████████████████████████████████████████████████████████| 5/5 [00:20<00:00,  4.08s/it]\n"
     ]
    },
    {
     "name": "stdout",
     "output_type": "stream",
     "text": [
      "training (log loss) : 0.180218266945586\n",
      "training (accuracy) : 0.995\n",
      "end training! (epoch : 492)\n",
      "==================================================\n",
      "start validation! (epoch : 492)\n"
     ]
    },
    {
     "name": "stderr",
     "output_type": "stream",
     "text": [
      "100%|█████████████████████████████████████████████████████████████████████████████████| 2/2 [00:02<00:00,  1.23s/it]\n"
     ]
    },
    {
     "name": "stdout",
     "output_type": "stream",
     "text": [
      "validation (log loss) : 1.4868007023010825\n",
      "validation (accuracy) : 0.95875\n",
      "validation best accuracy :  0.9675\n",
      "end validation! (epoch : 492)\n",
      "==================================================\n",
      "start training! (epoch : 493)\n"
     ]
    },
    {
     "name": "stderr",
     "output_type": "stream",
     "text": [
      "100%|█████████████████████████████████████████████████████████████████████████████████| 5/5 [00:17<00:00,  3.56s/it]\n"
     ]
    },
    {
     "name": "stdout",
     "output_type": "stream",
     "text": [
      "training (log loss) : 0.24029102259411456\n",
      "training (accuracy) : 0.9933333333333333\n",
      "end training! (epoch : 493)\n",
      "==================================================\n",
      "start validation! (epoch : 493)\n"
     ]
    },
    {
     "name": "stderr",
     "output_type": "stream",
     "text": [
      "100%|█████████████████████████████████████████████████████████████████████████████████| 2/2 [00:02<00:00,  1.22s/it]\n"
     ]
    },
    {
     "name": "stdout",
     "output_type": "stream",
     "text": [
      "validation (log loss) : 1.4417461355646861\n",
      "validation (accuracy) : 0.96\n",
      "validation best accuracy :  0.9675\n",
      "end validation! (epoch : 493)\n",
      "==================================================\n",
      "start training! (epoch : 494)\n"
     ]
    },
    {
     "name": "stderr",
     "output_type": "stream",
     "text": [
      "100%|█████████████████████████████████████████████████████████████████████████████████| 5/5 [00:18<00:00,  3.69s/it]\n"
     ]
    },
    {
     "name": "stdout",
     "output_type": "stream",
     "text": [
      "training (log loss) : 0.2252728336819824\n",
      "training (accuracy) : 0.99375\n",
      "end training! (epoch : 494)\n",
      "==================================================\n",
      "start validation! (epoch : 494)\n"
     ]
    },
    {
     "name": "stderr",
     "output_type": "stream",
     "text": [
      "100%|█████████████████████████████████████████████████████████████████████████████████| 2/2 [00:02<00:00,  1.21s/it]\n"
     ]
    },
    {
     "name": "stdout",
     "output_type": "stream",
     "text": [
      "validation (log loss) : 1.4868007023010827\n",
      "validation (accuracy) : 0.95875\n",
      "validation best accuracy :  0.9675\n",
      "end validation! (epoch : 494)\n",
      "==================================================\n",
      "start training! (epoch : 495)\n"
     ]
    },
    {
     "name": "stderr",
     "output_type": "stream",
     "text": [
      "100%|█████████████████████████████████████████████████████████████████████████████████| 5/5 [00:20<00:00,  4.11s/it]\n"
     ]
    },
    {
     "name": "stdout",
     "output_type": "stream",
     "text": [
      "training (log loss) : 0.1952364558577181\n",
      "training (accuracy) : 0.9945833333333334\n",
      "end training! (epoch : 495)\n",
      "==================================================\n",
      "start validation! (epoch : 495)\n"
     ]
    },
    {
     "name": "stderr",
     "output_type": "stream",
     "text": [
      "100%|█████████████████████████████████████████████████████████████████████████████████| 2/2 [00:02<00:00,  1.20s/it]\n"
     ]
    },
    {
     "name": "stdout",
     "output_type": "stream",
     "text": [
      "validation (log loss) : 1.531855269037479\n",
      "validation (accuracy) : 0.9575\n",
      "validation best accuracy :  0.9675\n",
      "end validation! (epoch : 495)\n",
      "==================================================\n",
      "start training! (epoch : 496)\n"
     ]
    },
    {
     "name": "stderr",
     "output_type": "stream",
     "text": [
      "100%|█████████████████████████████████████████████████████████████████████████████████| 5/5 [00:21<00:00,  4.21s/it]\n"
     ]
    },
    {
     "name": "stdout",
     "output_type": "stream",
     "text": [
      "training (log loss) : 0.2703274004183788\n",
      "training (accuracy) : 0.9925\n",
      "end training! (epoch : 496)\n",
      "==================================================\n",
      "start validation! (epoch : 496)\n"
     ]
    },
    {
     "name": "stderr",
     "output_type": "stream",
     "text": [
      "100%|█████████████████████████████████████████████████████████████████████████████████| 2/2 [00:02<00:00,  1.21s/it]\n"
     ]
    },
    {
     "name": "stdout",
     "output_type": "stream",
     "text": [
      "validation (log loss) : 1.39669156882829\n",
      "validation (accuracy) : 0.96125\n",
      "validation best accuracy :  0.9675\n",
      "end validation! (epoch : 496)\n",
      "==================================================\n",
      "start training! (epoch : 497)\n"
     ]
    },
    {
     "name": "stderr",
     "output_type": "stream",
     "text": [
      "100%|█████████████████████████████████████████████████████████████████████████████████| 5/5 [00:18<00:00,  3.80s/it]\n"
     ]
    },
    {
     "name": "stdout",
     "output_type": "stream",
     "text": [
      "training (log loss) : 0.13516370020918952\n",
      "training (accuracy) : 0.99625\n",
      "end training! (epoch : 497)\n",
      "==================================================\n",
      "start validation! (epoch : 497)\n"
     ]
    },
    {
     "name": "stderr",
     "output_type": "stream",
     "text": [
      "100%|█████████████████████████████████████████████████████████████████████████████████| 2/2 [00:02<00:00,  1.21s/it]\n"
     ]
    },
    {
     "name": "stdout",
     "output_type": "stream",
     "text": [
      "validation (log loss) : 1.39669156882829\n",
      "validation (accuracy) : 0.96125\n",
      "validation best accuracy :  0.9675\n",
      "end validation! (epoch : 497)\n",
      "==================================================\n",
      "start training! (epoch : 498)\n"
     ]
    },
    {
     "name": "stderr",
     "output_type": "stream",
     "text": [
      "100%|█████████████████████████████████████████████████████████████████████████████████| 5/5 [00:21<00:00,  4.32s/it]\n"
     ]
    },
    {
     "name": "stdout",
     "output_type": "stream",
     "text": [
      "training (log loss) : 0.12014551129705736\n",
      "training (accuracy) : 0.9966666666666667\n",
      "end training! (epoch : 498)\n",
      "==================================================\n",
      "start validation! (epoch : 498)\n"
     ]
    },
    {
     "name": "stderr",
     "output_type": "stream",
     "text": [
      "100%|█████████████████████████████████████████████████████████████████████████████████| 2/2 [00:02<00:00,  1.20s/it]\n"
     ]
    },
    {
     "name": "stdout",
     "output_type": "stream",
     "text": [
      "validation (log loss) : 1.39669156882829\n",
      "validation (accuracy) : 0.96125\n",
      "validation best accuracy :  0.9675\n",
      "end validation! (epoch : 498)\n",
      "==================================================\n",
      "start training! (epoch : 499)\n"
     ]
    },
    {
     "name": "stderr",
     "output_type": "stream",
     "text": [
      "100%|█████████████████████████████████████████████████████████████████████████████████| 5/5 [00:19<00:00,  3.97s/it]\n"
     ]
    },
    {
     "name": "stdout",
     "output_type": "stream",
     "text": [
      "training (log loss) : 0.24029102259411456\n",
      "training (accuracy) : 0.9933333333333333\n",
      "end training! (epoch : 499)\n",
      "==================================================\n",
      "start validation! (epoch : 499)\n"
     ]
    },
    {
     "name": "stderr",
     "output_type": "stream",
     "text": [
      "100%|█████████████████████████████████████████████████████████████████████████████████| 2/2 [00:02<00:00,  1.20s/it]\n"
     ]
    },
    {
     "name": "stdout",
     "output_type": "stream",
     "text": [
      "validation (log loss) : 1.3516370020918933\n",
      "validation (accuracy) : 0.9625\n",
      "validation best accuracy :  0.9675\n",
      "end validation! (epoch : 499)\n",
      "==================================================\n",
      "start training! (epoch : 500)\n"
     ]
    },
    {
     "name": "stderr",
     "output_type": "stream",
     "text": [
      "100%|█████████████████████████████████████████████████████████████████████████████████| 5/5 [00:19<00:00,  3.98s/it]\n"
     ]
    },
    {
     "name": "stdout",
     "output_type": "stream",
     "text": [
      "training (log loss) : 0.21025464476985026\n",
      "training (accuracy) : 0.9941666666666666\n",
      "end training! (epoch : 500)\n",
      "==================================================\n",
      "start validation! (epoch : 500)\n"
     ]
    },
    {
     "name": "stderr",
     "output_type": "stream",
     "text": [
      "100%|█████████████████████████████████████████████████████████████████████████████████| 2/2 [00:02<00:00,  1.20s/it]\n"
     ]
    },
    {
     "name": "stdout",
     "output_type": "stream",
     "text": [
      "validation (log loss) : 1.39669156882829\n",
      "validation (accuracy) : 0.96125\n",
      "validation best accuracy :  0.9675\n",
      "end validation! (epoch : 500)\n"
     ]
    }
   ],
   "source": [
    "from tqdm import tqdm\n",
    "from sklearn.metrics import log_loss, accuracy_score\n",
    "\n",
    "epochs = 500\n",
    "model = Convolution_Neural_Network_Model()\n",
    "loss_function = nn.CrossEntropyLoss()\n",
    "optimizer = torch.optim.Adam(model.parameters(), lr=0.1)\n",
    "scheduler = torch.optim.lr_scheduler.CosineAnnealingWarmRestarts(optimizer, T_0=50, T_mult=1, eta_min=0.0001, last_epoch=-1)\n",
    "\n",
    "train_global_log_loss = []\n",
    "validation_global_log_loss = []\n",
    "train_global_accuracy = []\n",
    "validation_global_accuracy = []\n",
    "\n",
    "# model selection\n",
    "validation_best_accuracy_score = 0\n",
    "\n",
    "model.cuda()\n",
    "for epoch in range(1,epochs+1):\n",
    "    train_one_epoch_prediction = []\n",
    "    train_one_epoch_target = []\n",
    "    model.train()\n",
    "    print(\"=\"*50)\n",
    "    print(\"start training! (epoch : \"+str(epoch)+\")\")\n",
    "    for x,y in tqdm(train_dataloader):\n",
    "        x,y = x.cuda(), y.cuda()\n",
    "        prediction = model(x)\n",
    "        \n",
    "        prediction_probability = prediction\n",
    "        prediction_label = torch.argmax(prediction_probability, dim=1)\n",
    "        \n",
    "        train_one_epoch_prediction += prediction_label.cpu().detach().numpy().tolist()\n",
    "        train_one_epoch_target += y.cpu().detach().numpy().tolist()\n",
    "        \n",
    "        loss = loss_function(prediction_probability,y)\n",
    "        \n",
    "        optimizer.zero_grad()\n",
    "        loss.backward()\n",
    "        optimizer.step()\n",
    "        \n",
    "    scheduler.step()\n",
    "    train_log_loss = log_loss(train_one_epoch_target, train_one_epoch_prediction)\n",
    "    train_global_log_loss.append(train_log_loss)\n",
    "    \n",
    "    train_accuracy_score = accuracy_score(train_one_epoch_target, train_one_epoch_prediction)\n",
    "    train_global_accuracy.append(train_accuracy_score)\n",
    "    \n",
    "    print(\"training (log loss) :\", train_log_loss)\n",
    "    print(\"training (accuracy) :\", train_accuracy_score)\n",
    "    print(\"end training! (epoch : \"+str(epoch)+\")\")\n",
    "    \n",
    "    validation_one_epoch_prediction = []\n",
    "    validation_one_epoch_target = []\n",
    "    model.eval()\n",
    "    print(\"=\"*50)\n",
    "    print(\"start validation! (epoch : \"+str(epoch)+\")\")\n",
    "    for x,y in tqdm(validation_dataloader):\n",
    "        x,y = x.cuda(), y.cuda()\n",
    "        prediction = model(x)\n",
    "        \n",
    "        prediction_probability = prediction\n",
    "        prediction_label = torch.argmax(prediction_probability, dim=1)\n",
    "        \n",
    "        validation_one_epoch_prediction += prediction_label.cpu().detach().numpy().tolist()\n",
    "        validation_one_epoch_target += y.cpu().detach().numpy().tolist()\n",
    "    \n",
    "    \n",
    "    validation_log_loss = log_loss(validation_one_epoch_target, validation_one_epoch_prediction)\n",
    "    validation_global_log_loss.append(validation_log_loss)\n",
    "    validation_accuracy_score = accuracy_score(validation_one_epoch_target, validation_one_epoch_prediction)\n",
    "    validation_global_accuracy.append(validation_accuracy_score)\n",
    "    if validation_best_accuracy_score < validation_accuracy_score:\n",
    "        validation_best_accuracy_score = validation_accuracy_score\n",
    "        save_dict = {}\n",
    "        save_dict[\"epoch\"] = epoch\n",
    "        save_dict[\"model\"] = model\n",
    "        torch.save(save_dict, \"./model.pt\")\n",
    "    \n",
    "    print(\"validation (log loss) :\", validation_log_loss)\n",
    "    print(\"validation (accuracy) :\", validation_accuracy_score)\n",
    "    print(\"validation best accuracy : \", validation_best_accuracy_score)\n",
    "    print(\"end validation! (epoch : \"+str(epoch)+\")\")\n",
    "    \n",
    "save_dcit = {}\n",
    "save_dict[\"train_global_log_loss\"] = train_global_log_loss\n",
    "save_dict[\"validation_global_log_loss\"] = validation_global_log_loss\n",
    "save_dict[\"train_global_accuracy\"] = train_global_accuracy\n",
    "save_dict[\"validation_global_accuracy\"] = validation_global_accuracy\n",
    "torch.save(save_dict, \"./logging.pt\")"
   ]
  },
  {
   "cell_type": "markdown",
   "id": "30337f4b",
   "metadata": {},
   "source": [
    "### results plot\n",
    "- training & validation log loss & accuracy score를 그려봄.\n",
    "- x축에서 수직선은 그 epoch에서의 model 선택."
   ]
  },
  {
   "cell_type": "code",
   "execution_count": 7,
   "id": "4f6a68d7",
   "metadata": {},
   "outputs": [
    {
     "data": {
      "image/png": "[encoded data removed]",
      "text/plain": [
       "<Figure size 1500x400 with 2 Axes>"
      ]
     },
     "metadata": {},
     "output_type": "display_data"
    }
   ],
   "source": [
    "import matplotlib.pyplot as plt\n",
    "epochs = range(1, len(train_global_log_loss) + 1)\n",
    "\n",
    "save_dict = torch.load(\"./model.pt\")\n",
    "best_epoch = save_dict[\"epoch\"]\n",
    "\n",
    "plt.figure(figsize=(15,4))\n",
    "\n",
    "plt.subplot(1,2,1)\n",
    "plt.plot(epochs, train_global_log_loss, label='Train loss')\n",
    "plt.plot(epochs, validation_global_log_loss, label='Validation loss')\n",
    "plt.axvline(x=best_epoch)\n",
    "\n",
    "plt.title('Train & Validation Loss')\n",
    "plt.xlabel('epochs')\n",
    "plt.ylabel('loss')\n",
    "plt.legend()\n",
    "\n",
    "plt.subplot(1,2,2)\n",
    "plt.plot(epochs, train_global_accuracy, label='Train accuracy score')\n",
    "plt.plot(epochs, validation_global_accuracy, label='Validation accuracy score')\n",
    "plt.axvline(x=best_epoch)\n",
    "\n",
    "plt.title('Train & Validation accuracy score')\n",
    "plt.xlabel('epochs')\n",
    "plt.ylabel('accuracy score')\n",
    "plt.legend()\n",
    "\n",
    "plt.show()"
   ]
  },
  {
   "cell_type": "markdown",
   "id": "ebdf2858",
   "metadata": {},
   "source": [
    "---"
   ]
  },
  {
   "cell_type": "markdown",
   "id": "09e56b6f",
   "metadata": {},
   "source": [
    "## Performance"
   ]
  },
  {
   "cell_type": "code",
   "execution_count": 8,
   "id": "89898608",
   "metadata": {},
   "outputs": [
    {
     "name": "stdout",
     "output_type": "stream",
     "text": [
      "start test!\n"
     ]
    },
    {
     "name": "stderr",
     "output_type": "stream",
     "text": [
      "100%|█████████████████████████████████████████████████████████████████████████████████| 2/2 [00:07<00:00,  3.90s/it]"
     ]
    },
    {
     "name": "stdout",
     "output_type": "stream",
     "text": [
      "test_accuracy_score : 0.96125\n"
     ]
    },
    {
     "name": "stderr",
     "output_type": "stream",
     "text": [
      "\n"
     ]
    }
   ],
   "source": [
    "load_dict = torch.load(\"./model.pt\")\n",
    "model = load_dict[\"model\"].cpu()\n",
    "\n",
    "with torch.no_grad():\n",
    "    test_one_epoch_prediction = []\n",
    "    test_one_epoch_target = []\n",
    "    model.eval()\n",
    "    print(\"start test!\")\n",
    "    for x,y in tqdm(test_dataloader):\n",
    "        prediction_probability = model(x)\n",
    "        prediction_label = torch.argmax(prediction_probability, dim=1)\n",
    "        \n",
    "        test_one_epoch_prediction += prediction_label.detach().numpy().tolist()\n",
    "        test_one_epoch_target += y.detach().numpy().tolist()\n",
    "        \n",
    "    test_accuracy_score = accuracy_score(test_one_epoch_target, test_one_epoch_prediction)\n",
    "    \n",
    "    print(\"test_accuracy_score :\", test_accuracy_score)"
   ]
  },
  {
   "cell_type": "markdown",
   "id": "335afb72",
   "metadata": {},
   "source": [
    "## what can we learn from the project? Does it meaningful?\n",
    "- 수업시간에 배운 local minimum에 빠져서 최적의 함수를 못 찾는 것은 아닐까? 라는 생각을 해봄.\n",
    "- 검색을 하던 중 scheduler 라는 것을 발견하고 실험을 진행.\n",
    "- scheduler를 사용하여 learning rate를 한번 크게 줌으로써 local minimum에서 탈출을 시도.\n",
    "- scheduler를 사용하지 않고 학습을 진행한 결과 - 94% 인 test accuracy score가 96%로 성능 향상\n",
    "- 이러한 결과가 scheduler의 영향인지 아니면 random initialization에 의한 성능향상인지는 의문이 듬."
   ]
  },
  {
   "cell_type": "code",
   "execution_count": 10,
   "id": "f16529dd",
   "metadata": {},
   "outputs": [
    {
     "data": {
      "text/plain": [
       "Text(0, 0.5, 'learning rate')"
      ]
     },
     "execution_count": 10,
     "metadata": {},
     "output_type": "execute_result"
    },
    {
     "data": {
      "image/png": "[encoded data removed]",
      "text/plain": [
       "<Figure size 640x480 with 1 Axes>"
      ]
     },
     "metadata": {},
     "output_type": "display_data"
    }
   ],
   "source": [
    "model = Convolution_Neural_Network_Model()\n",
    "optimizer = torch.optim.Adam(model.parameters(), lr=0.1)\n",
    "scheduler = torch.optim.lr_scheduler.CosineAnnealingWarmRestarts(optimizer, T_0=50, T_mult=1, eta_min=0.0001, last_epoch=-1)\n",
    "lrs = []\n",
    "\n",
    "for i in range(500):\n",
    "    scheduler.step()\n",
    "    lrs.append(optimizer.param_groups[0][\"lr\"])\n",
    "\n",
    "plt.plot(lrs)\n",
    "plt.axhline(y=0.1,color=\"r\")\n",
    "plt.axhline(y=0.0001,color=\"r\")\n",
    "\n",
    "plt.title(\"learning rate with scheduler\")\n",
    "plt.xlabel(\"epoches\")\n",
    "plt.ylabel('learning rate')"
   ]
  }
 ],
 "metadata": {
  "kernelspec": {
   "display_name": "Python 3 (ipykernel)",
   "language": "python",
   "name": "python3"
  },
  "language_info": {
   "codemirror_mode": {
    "name": "ipython",
    "version": 3
   },
   "file_extension": ".py",
   "mimetype": "text/x-python",
   "name": "python",
   "nbconvert_exporter": "python",
   "pygments_lexer": "ipython3",
   "version": "3.8.16"
  }
 },
 "nbformat": 4,
 "nbformat_minor": 5
}
